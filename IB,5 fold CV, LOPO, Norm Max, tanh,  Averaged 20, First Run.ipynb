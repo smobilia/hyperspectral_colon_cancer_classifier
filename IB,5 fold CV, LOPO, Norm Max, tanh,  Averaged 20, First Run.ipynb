{
 "cells": [
  {
   "cell_type": "code",
   "execution_count": 1,
   "metadata": {},
   "outputs": [],
   "source": [
    "import os\n",
    "os.environ['TF_MIN_GPU_MULTIPROCESSOR_COUNT'] = str(1)"
   ]
  },
  {
   "cell_type": "code",
   "execution_count": 2,
   "metadata": {},
   "outputs": [],
   "source": [
    "import tensorflow as tf\n",
    "config = tf.ConfigProto()\n",
    "config.gpu_options.allow_growth = True\n",
    "config.gpu_options.per_process_gpu_memory_fraction = 0.95\n",
    "sess = tf.Session(config=config)"
   ]
  },
  {
   "cell_type": "code",
   "execution_count": 3,
   "metadata": {},
   "outputs": [],
   "source": [
    "# To support both python 2 and python 3# \n",
    "from __future__ import division, print_function, unicode_literals\n",
    "\n",
    "# Common imports\n",
    "import numpy as np\n",
    "import pandas as pd\n",
    "import imageio\n",
    "import h5py\n",
    "import datetime\n",
    "import random\n",
    "from functools import partial\n",
    "\n",
    "\n",
    "%matplotlib inline\n",
    "import matplotlib\n",
    "import matplotlib.pyplot as plt\n",
    "import matplotlib.image as mpimg\n",
    "\n",
    "from collections import defaultdict\n",
    "from random import sample\n"
   ]
  },
  {
   "cell_type": "code",
   "execution_count": 4,
   "metadata": {},
   "outputs": [],
   "source": [
    "import sklearn\n",
    "from sklearn.metrics import accuracy_score, precision_score, recall_score, f1_score, confusion_matrix"
   ]
  },
  {
   "cell_type": "code",
   "execution_count": 5,
   "metadata": {},
   "outputs": [],
   "source": [
    "# to make this notebook's output stable across runs\n",
    "def reset_graph(seed):\n",
    "    tf.reset_default_graph()\n",
    "    tf.set_random_seed(seed)\n",
    "    np.random.seed(seed)\n",
    "    random.seed(seed)"
   ]
  },
  {
   "cell_type": "code",
   "execution_count": 6,
   "metadata": {},
   "outputs": [],
   "source": [
    "def prepare_batch(X_in, y_in, batch_size):\n",
    "    sampled_i = sample(range(len(X_in)), batch_size)\n",
    "    images = [X_in[i] for i in sampled_i]\n",
    "    X_batch = np.stack(images)\n",
    "    y_batch = np.array([y_in[i] for i in sampled_i], dtype=np.int16)\n",
    "    return X_batch, y_batch"
   ]
  },
  {
   "cell_type": "code",
   "execution_count": 7,
   "metadata": {},
   "outputs": [],
   "source": [
    "def normalize_max_inputs(X_in, y_in):\n",
    "    images = [X_in[i] for i in range(len(X_in))]\n",
    "    X_batch = np.stack(images)\n",
    "    y_batch = np.array([y_in[i] for i in range(len(X_in))], dtype=np.int16)\n",
    "    return X_batch, y_batch"
   ]
  },
  {
   "cell_type": "code",
   "execution_count": 8,
   "metadata": {},
   "outputs": [],
   "source": [
    "def normalize_max_train(X_in):\n",
    "    image = [X_in]\n",
    "    X_train = np.stack(image)\n",
    "    return X_train"
   ]
  },
  {
   "cell_type": "code",
   "execution_count": 9,
   "metadata": {},
   "outputs": [],
   "source": [
    "def group_hypercube(predicted_bands, threshold, actual_key, total_bands):\n",
    "    num_hypercube = len(actual_key)\n",
    "    y_cube_pred = np.array([],dtype=np.int16)\n",
    "    for n in range(1,num_hypercube+1):\n",
    "        band_pred_tot = 0\n",
    "        for band_pred in predicted_bands[(n-1)*total_bands:n*total_bands]:\n",
    "            band_pred_tot = band_pred_tot+band_pred\n",
    "        if  band_pred_tot>total_bands*threshold:\n",
    "            cube_pred = 1\n",
    "            y_cube_pred = np.append(y_cube_pred, cube_pred)\n",
    "        elif band_pred_tot<total_bands*threshold:\n",
    "            cube_pred = 0\n",
    "            y_cube_pred = np.append(y_cube_pred, cube_pred)\n",
    "        else:\n",
    "            cube_pred = np.random.randint(0,1)\n",
    "            y_cube_pred = np.append(y_cube_pred, cube_pred)\n",
    "    return y_cube_pred"
   ]
  },
  {
   "cell_type": "code",
   "execution_count": 10,
   "metadata": {},
   "outputs": [],
   "source": [
    "def average_runs(runs, y_mat, y_act):\n",
    "    start_avg = epoch-runs\n",
    "    acc_mat = np.array([],dtype=np.int16)\n",
    "    prec_mat = np.array([],dtype=np.int16)\n",
    "    recall_mat = np.array([],dtype=np.int16)\n",
    "    f1_mat = np.array([],dtype=np.int16)\n",
    "    confuse_mat = []\n",
    "    for index in range(start_avg,epoch):\n",
    "        pred_y = y_mat[index]\n",
    "        index_acc = accuracy_score(y_act, pred_y)\n",
    "        acc_mat = np.append(acc_mat, index_acc)\n",
    "        index_prec = precision_score(y_act, pred_y)\n",
    "        prec_mat = np.append(prec_mat, index_prec)        \n",
    "        index_recall = recall_score(y_act, pred_y)\n",
    "        recall_mat = np.append(recall_mat, index_recall)        \n",
    "        index_f1 = f1_score(y_act, pred_y)\n",
    "        f1_mat = np.append(f1_mat, index_f1)\n",
    "        cm_label = np.unique(y_act)\n",
    "        index_cm = confusion_matrix(y_act, pred_y, labels=cm_label)\n",
    "        pd_cm = pd.DataFrame(index_cm, index=['true:Leasional', 'true:Nonleasional'], \n",
    "                             columns=['pred:Leasional', 'pred:Nonleasional'])\n",
    "        confuse_mat.append(pd_cm)\n",
    "    avg_acc = np.mean(acc_mat)\n",
    "    avg_prec = np.mean(prec_mat)\n",
    "    avg_recall = np.mean(recall_mat)\n",
    "    avg_f1 = np.mean(f1_mat)\n",
    "    avg_cm = pd.concat(confuse_mat)\n",
    "    return avg_acc, avg_prec, avg_recall, avg_f1, avg_cm"
   ]
  },
  {
   "cell_type": "code",
   "execution_count": 11,
   "metadata": {},
   "outputs": [],
   "source": [
    "def average_group_runs(runs, actual_cube_label, predicted_bands, threshold, actual_key, total_bands):\n",
    "    start_avg = epoch-runs\n",
    "    acc_mat = np.array([],dtype=np.int16)\n",
    "    prec_mat = np.array([],dtype=np.int16)\n",
    "    recall_mat = np.array([],dtype=np.int16)\n",
    "    f1_mat = np.array([],dtype=np.int16)\n",
    "    confuse_mat = []\n",
    "    for index in range(start_avg,epoch):\n",
    "        pred_y = predicted_bands[index]\n",
    "        y_cube_pred = group_hypercube(pred_y, threshold, actual_key, total_bands)\n",
    "        index_acc = accuracy_score(actual_cube_label, y_cube_pred)\n",
    "        acc_mat = np.append(acc_mat, index_acc)\n",
    "        index_prec = precision_score(actual_cube_label, y_cube_pred)\n",
    "        prec_mat = np.append(prec_mat, index_prec)        \n",
    "        index_recall = recall_score(actual_cube_label, y_cube_pred)\n",
    "        recall_mat = np.append(recall_mat, index_recall)        \n",
    "        index_f1 = f1_score(actual_cube_label, y_cube_pred)\n",
    "        f1_mat = np.append(f1_mat, index_f1)\n",
    "        cm_label = np.unique(actual_cube_label)\n",
    "        index_cm = confusion_matrix(actual_cube_label, y_cube_pred, labels=cm_label)\n",
    "        pd_cm = pd.DataFrame(index_cm, index=['true:Leasional', 'true:Nonleasional'], \n",
    "                             columns=['pred:Leasional', 'pred:Nonleasional'])\n",
    "        confuse_mat.append(pd_cm)\n",
    "    avg_acc = np.mean(acc_mat)\n",
    "    avg_prec = np.mean(prec_mat)\n",
    "    avg_recall = np.mean(recall_mat)\n",
    "    avg_f1 = np.mean(f1_mat)\n",
    "    avg_cm = pd.concat(confuse_mat)\n",
    "    return avg_acc, avg_prec, avg_recall, avg_f1, avg_cm"
   ]
  },
  {
   "cell_type": "code",
   "execution_count": 12,
   "metadata": {},
   "outputs": [],
   "source": [
    "# Common Variables for this set\n",
    "\n",
    "total_bands = 38\n",
    "cube_threshold = 0.5\n",
    "averaged_runs = 20\n",
    "n_epochs = 30\n",
    "batch_size = 100"
   ]
  },
  {
   "cell_type": "code",
   "execution_count": 13,
   "metadata": {},
   "outputs": [],
   "source": [
    "# Setup and First Fold of Cross-Validation\n",
    "graph_seed = 42\n",
    "reset_graph(graph_seed)"
   ]
  },
  {
   "cell_type": "code",
   "execution_count": 14,
   "metadata": {
    "scrolled": false
   },
   "outputs": [],
   "source": [
    "# Opens the HDF5 file for the Smaller Segmented Images (501 X 502 X 1)\n",
    "hdf5_path = 'Individual_Bands_rseed42.hdf5'"
   ]
  },
  {
   "cell_type": "code",
   "execution_count": 15,
   "metadata": {},
   "outputs": [],
   "source": [
    "hdf5_file = h5py.File(hdf5_path, \"r\")"
   ]
  },
  {
   "cell_type": "code",
   "execution_count": 16,
   "metadata": {},
   "outputs": [],
   "source": [
    "# Points to the images used  (they were normalized and flattened before creating the HDF5 file)\n",
    "X_sorted = hdf5_file[\"X_IB\"]"
   ]
  },
  {
   "cell_type": "code",
   "execution_count": 17,
   "metadata": {},
   "outputs": [],
   "source": [
    "y_sorted = hdf5_file[\"y_IB\"]"
   ]
  },
  {
   "cell_type": "code",
   "execution_count": 18,
   "metadata": {},
   "outputs": [
    {
     "data": {
      "text/plain": [
       "(6650,)"
      ]
     },
     "execution_count": 18,
     "metadata": {},
     "output_type": "execute_result"
    }
   ],
   "source": [
    "# Verifies the training label shape\n",
    "y_sorted.shape"
   ]
  },
  {
   "cell_type": "code",
   "execution_count": 19,
   "metadata": {},
   "outputs": [],
   "source": [
    "# Creates the list of hypercube labels (for grouping together validation cubes)\n",
    "hypercube_key = ['FOV2__1L','FOV3__1L','FOV4__1L','FOV2__1N','FOV3__1N',\n",
    "                 'FOV2__2L','FOV3__2L','FOV4a__2L','FOV4b__2L','FOV5__2L','FOV2__2N','FOV3__2N',\n",
    "                 'FOV4__2N','FOV5__2N','FOV2__3L','FOV3__3L','FOV4__3L','FOV2__3N','FOV3__3N',\n",
    "                 'FOV4__3N','FOV5__3N','FOV6__3N','FOV2__4L','FOV3__4L','FOV4__4L','FOV5__4L',\n",
    "                 'FOV6__4L','FOV7__4L','FOV8__4L','FOV9__4L','FOV2__4N','FOV3__4N','FOV4__4N',\n",
    "                 'FOV5__4N','FOV6__4N','FOV7__4N','FOV2__5L','FOV3__5L','FOV4__5L','FOV5__5L',\n",
    "                 'FOV6__5L','FOV7__5L','FOV8__5L','FOV9__5L','FOV10__5L','FOV2__5N','FOV3__5N',\n",
    "                 'FOV4__5N','FOV5__5N','FOV6__5N','FOV7__5N','FOV8__5N','FOV9__5N','FOV10__5N',\n",
    "                 'FOV2__6L','FOV3__6L','FOV4__6L','FOV5__6L','FOV2__6N','FOV3__6N','FOV4__6N',\n",
    "                 'FOV5__6N','FOV6__6N','FOV7__6N','FOV2__7L','FOV3__7L','FOV4a__7L','FOV4b__7L', 'FOV5__7L',\n",
    "                 'FOV6__7L','FOV7__7L','FOV8__7L','FOV9__7L','FOV10__7L','FOV11__7L','FOV12__7L',\n",
    "                 'FOV13__7L','FOV14__7L','FOV15__7L','FOV2__7N','FOV3__7N','FOV4__7N','FOV5a__7N',\n",
    "                 'FOV5b__7N','FOV6__7N','FOV2__8L','FOV3__8L','FOV4__8L','FOV5__8L','FOV6__8L',\n",
    "                 'FOV7__8L','FOV8__8L','FOV9__8L','FOV10__8L','FOV2__8N','FOV3__8N','FOV4__8N',\n",
    "                 'FOV5__8N','FOV6__8N','FOV7__8N','FOV2__9L','FOV3__9L','FOV4__9L','FOV5__9L',\n",
    "                 'FOV6__9L','FOV7__9L','FOV8__9L','FOV2__9N','FOV3__9N','FOV4__9N','FOV5__9N',\n",
    "                 'FOV6__9N','FOV7__9N','FOV8__9N','FOV9__9N','FOV2__10L','FOV3__10L','FOV4__10L',\n",
    "                 'FOV5__10L','FOV6__10L','FOV7__10L','FOV8__10L','FOV9__10L','FOV2__10N','FOV3__10N',\n",
    "                 'FOV4__10N','FOV5__10N','FOV6__10N','FOV7__10N','FOV8__10N','FOV9__10N','FOV10__10N',\n",
    "                 'FOV11__10N','FOV12__10N','FOV13__10N','FOV2__12L','FOV3__12L','FOV4__12L','FOV5__12L',\n",
    "                 'FOV6__12L','FOV7__12L','FOV8__12L','FOV9__12L','FOV10__12L','FOV11__12L','FOV2__12N',\n",
    "                 'FOV3__12N','FOV4__12N','FOV5__12N','FOV6__12N','FOV7__12N','FOV8__12N','FOV9__12N','FOV10__12N',\n",
    "                 'FOV2__13L','FOV3__13L','FOV4__13L','FOV5__13L','FOV6__13L','FOV2__13N','FOV3__13N','FOV4__13N',\n",
    "                 'FOV5__13N','FOV6__13N','FOV7__13N','FOV4__14L','FOV5__14L','FOV2__14N','FOV3__14N','FOV4__14N',\n",
    "                 'FOV5__14N','FOV6__14N','FOV7__14N','FOV8__14N','FOV9__14N']"
   ]
  },
  {
   "cell_type": "code",
   "execution_count": 20,
   "metadata": {},
   "outputs": [
    {
     "name": "stdout",
     "output_type": "stream",
     "text": [
      "['FOV2__1L', 'FOV3__1L', 'FOV4__1L', 'FOV2__1N', 'FOV3__1N', 'FOV2__2L', 'FOV3__2L', 'FOV4a__2L', 'FOV4b__2L', 'FOV5__2L', 'FOV2__2N', 'FOV3__2N', 'FOV4__2N', 'FOV5__2N', 'FOV2__3L', 'FOV3__3L', 'FOV4__3L', 'FOV2__3N', 'FOV3__3N', 'FOV4__3N', 'FOV5__3N', 'FOV6__3N', 'FOV2__4L', 'FOV3__4L', 'FOV4__4L', 'FOV5__4L', 'FOV6__4L', 'FOV7__4L', 'FOV8__4L', 'FOV9__4L', 'FOV2__4N', 'FOV3__4N', 'FOV4__4N', 'FOV5__4N', 'FOV6__4N', 'FOV7__4N', 'FOV2__5L', 'FOV3__5L', 'FOV4__5L', 'FOV5__5L', 'FOV6__5L', 'FOV7__5L', 'FOV8__5L', 'FOV9__5L', 'FOV10__5L', 'FOV2__5N', 'FOV3__5N', 'FOV4__5N', 'FOV5__5N', 'FOV6__5N', 'FOV7__5N', 'FOV8__5N', 'FOV9__5N', 'FOV10__5N', 'FOV2__6L', 'FOV3__6L', 'FOV4__6L', 'FOV5__6L', 'FOV2__6N', 'FOV3__6N', 'FOV4__6N', 'FOV5__6N', 'FOV6__6N', 'FOV7__6N', 'FOV2__7L', 'FOV3__7L', 'FOV4a__7L', 'FOV4b__7L', 'FOV5__7L', 'FOV6__7L', 'FOV7__7L', 'FOV8__7L', 'FOV9__7L', 'FOV10__7L', 'FOV11__7L', 'FOV12__7L', 'FOV13__7L', 'FOV14__7L', 'FOV15__7L', 'FOV2__7N', 'FOV3__7N', 'FOV4__7N', 'FOV5a__7N', 'FOV5b__7N', 'FOV6__7N', 'FOV2__8L', 'FOV3__8L', 'FOV4__8L', 'FOV5__8L', 'FOV6__8L', 'FOV7__8L', 'FOV8__8L', 'FOV9__8L', 'FOV10__8L', 'FOV2__8N', 'FOV3__8N', 'FOV4__8N', 'FOV5__8N', 'FOV6__8N', 'FOV7__8N', 'FOV2__9L', 'FOV3__9L', 'FOV4__9L', 'FOV5__9L', 'FOV6__9L', 'FOV7__9L', 'FOV8__9L', 'FOV2__9N', 'FOV3__9N', 'FOV4__9N', 'FOV5__9N', 'FOV6__9N', 'FOV7__9N', 'FOV8__9N', 'FOV9__9N', 'FOV2__10L', 'FOV3__10L', 'FOV4__10L', 'FOV5__10L', 'FOV6__10L', 'FOV7__10L', 'FOV8__10L', 'FOV9__10L', 'FOV2__10N', 'FOV3__10N', 'FOV4__10N', 'FOV5__10N', 'FOV6__10N', 'FOV7__10N', 'FOV8__10N', 'FOV9__10N', 'FOV10__10N', 'FOV11__10N', 'FOV12__10N', 'FOV13__10N', 'FOV2__12L', 'FOV3__12L', 'FOV4__12L', 'FOV5__12L', 'FOV6__12L', 'FOV7__12L', 'FOV8__12L', 'FOV9__12L', 'FOV10__12L', 'FOV11__12L', 'FOV2__12N', 'FOV3__12N', 'FOV4__12N', 'FOV5__12N', 'FOV6__12N', 'FOV7__12N', 'FOV8__12N', 'FOV9__12N', 'FOV10__12N', 'FOV2__13L', 'FOV3__13L', 'FOV4__13L', 'FOV5__13L', 'FOV6__13L', 'FOV2__13N', 'FOV3__13N', 'FOV4__13N', 'FOV5__13N', 'FOV6__13N', 'FOV7__13N', 'FOV4__14L', 'FOV5__14L', 'FOV2__14N', 'FOV3__14N', 'FOV4__14N', 'FOV5__14N', 'FOV6__14N', 'FOV7__14N', 'FOV8__14N', 'FOV9__14N']\n"
     ]
    }
   ],
   "source": [
    "print(hypercube_key)"
   ]
  },
  {
   "cell_type": "code",
   "execution_count": 21,
   "metadata": {},
   "outputs": [
    {
     "name": "stdout",
     "output_type": "stream",
     "text": [
      "[['1' '5']\n",
      " ['2' '9']\n",
      " ['3' '8']\n",
      " ['4' '14']\n",
      " ['5' '18']\n",
      " ['6' '10']\n",
      " ['7' '21']\n",
      " ['8' '15']\n",
      " ['9' '15']\n",
      " ['10' '20']\n",
      " ['12' '19']\n",
      " ['13' '11']\n",
      " ['14' '10']]\n"
     ]
    }
   ],
   "source": [
    "patient_ID = np.array(['1','2','3','4','5','6','7','8','9','10','12','13','14'])\n",
    "patient_images = np.array(['5','9','8','14','18','10','21','15','15','20','19','11', '10'])\n",
    "patient_index = np.c_[patient_ID.reshape(len(patient_ID), -1), patient_images.reshape(len(patient_images), -1)]\n",
    "print(patient_index)"
   ]
  },
  {
   "cell_type": "code",
   "execution_count": 22,
   "metadata": {},
   "outputs": [
    {
     "name": "stdout",
     "output_type": "stream",
     "text": [
      "[['13' '11']\n",
      " ['10' '20']\n",
      " ['1' '5']\n",
      " ['9' '15']\n",
      " ['6' '10']\n",
      " ['3' '8']\n",
      " ['2' '9']\n",
      " ['14' '10']\n",
      " ['5' '18']\n",
      " ['8' '15']\n",
      " ['12' '19']\n",
      " ['4' '14']\n",
      " ['7' '21']]\n"
     ]
    }
   ],
   "source": [
    "np.random.shuffle(patient_index)\n",
    "print(patient_index)"
   ]
  },
  {
   "cell_type": "code",
   "execution_count": 23,
   "metadata": {},
   "outputs": [
    {
     "name": "stdout",
     "output_type": "stream",
     "text": [
      "35.0\n"
     ]
    }
   ],
   "source": [
    "# Just written to give me an idea about the size of each fold\n",
    "\n",
    "test_ratio = 0.2\n",
    "test_images = np.ceil(test_ratio*len(hypercube_key))\n",
    "print(test_images)"
   ]
  },
  {
   "cell_type": "code",
   "execution_count": 24,
   "metadata": {},
   "outputs": [],
   "source": [
    "hypercube_key_sorted = ['FOV2__13L','FOV3__13L','FOV4__13L','FOV5__13L','FOV6__13L','FOV2__13N','FOV3__13N',\n",
    "                        'FOV4__13N','FOV5__13N','FOV6__13N','FOV7__13N', 'FOV2__10L','FOV3__10L','FOV4__10L',\n",
    "                        'FOV5__10L','FOV6__10L','FOV7__10L','FOV8__10L','FOV9__10L','FOV2__10N','FOV3__10N',\n",
    "                        'FOV4__10N','FOV5__10N','FOV6__10N','FOV7__10N','FOV8__10N','FOV9__10N','FOV10__10N',\n",
    "                        'FOV11__10N','FOV12__10N','FOV13__10N','FOV2__1L','FOV3__1L','FOV4__1L','FOV2__1N',\n",
    "                        'FOV3__1N','FOV2__9L','FOV3__9L','FOV4__9L','FOV5__9L','FOV6__9L','FOV7__9L','FOV8__9L',\n",
    "                        'FOV2__9N','FOV3__9N','FOV4__9N','FOV5__9N','FOV6__9N','FOV7__9N','FOV8__9N','FOV9__9N',\n",
    "                        'FOV2__6L','FOV3__6L','FOV4__6L','FOV5__6L','FOV2__6N','FOV3__6N','FOV4__6N','FOV5__6N',\n",
    "                        'FOV6__6N','FOV7__6N', 'FOV2__3L','FOV3__3L','FOV4__3L','FOV2__3N','FOV3__3N','FOV4__3N',\n",
    "                        'FOV5__3N','FOV6__3N','FOV2__2L','FOV3__2L','FOV4a__2L','FOV4b__2L','FOV5__2L','FOV2__2N',\n",
    "                        'FOV3__2N','FOV4__2N','FOV5__2N','FOV4__14L','FOV5__14L','FOV2__14N','FOV3__14N','FOV4__14N',\n",
    "                        'FOV5__14N','FOV6__14N','FOV7__14N','FOV8__14N','FOV9__14N','FOV2__5L','FOV3__5L','FOV4__5L',\n",
    "                        'FOV5__5L','FOV6__5L','FOV7__5L','FOV8__5L','FOV9__5L','FOV10__5L','FOV2__5N','FOV3__5N',\n",
    "                        'FOV4__5N','FOV5__5N','FOV6__5N','FOV7__5N','FOV8__5N','FOV9__5N','FOV10__5N','FOV2__8L',\n",
    "                        'FOV3__8L','FOV4__8L','FOV5__8L','FOV6__8L','FOV7__8L','FOV8__8L','FOV9__8L','FOV10__8L',\n",
    "                        'FOV2__8N','FOV3__8N','FOV4__8N','FOV5__8N','FOV6__8N','FOV7__8N','FOV2__12L','FOV3__12L',\n",
    "                        'FOV4__12L','FOV5__12L','FOV6__12L','FOV7__12L','FOV8__12L','FOV9__12L','FOV10__12L','FOV11__12L',\n",
    "                        'FOV2__12N','FOV3__12N','FOV4__12N','FOV5__12N','FOV6__12N','FOV7__12N','FOV8__12N','FOV9__12N',\n",
    "                        'FOV10__12N','FOV2__4L','FOV3__4L','FOV4__4L','FOV5__4L','FOV6__4L','FOV7__4L','FOV8__4L',\n",
    "                        'FOV9__4L','FOV2__4N','FOV3__4N','FOV4__4N','FOV5__4N','FOV6__4N','FOV7__4N','FOV2__7L','FOV3__7L',\n",
    "                        'FOV4a__7L','FOV4b__7L', 'FOV5__7L','FOV6__7L','FOV7__7L','FOV8__7L','FOV9__7L','FOV10__7L',\n",
    "                        'FOV11__7L','FOV12__7L','FOV13__7L','FOV14__7L','FOV15__7L','FOV2__7N','FOV3__7N','FOV4__7N',\n",
    "                        'FOV5a__7N','FOV5b__7N','FOV6__7N']"
   ]
  },
  {
   "cell_type": "code",
   "execution_count": 25,
   "metadata": {},
   "outputs": [
    {
     "name": "stdout",
     "output_type": "stream",
     "text": [
      "['FOV2__13L', 'FOV3__13L', 'FOV4__13L', 'FOV5__13L', 'FOV6__13L', 'FOV2__13N', 'FOV3__13N', 'FOV4__13N', 'FOV5__13N', 'FOV6__13N', 'FOV7__13N', 'FOV2__10L', 'FOV3__10L', 'FOV4__10L', 'FOV5__10L', 'FOV6__10L', 'FOV7__10L', 'FOV8__10L', 'FOV9__10L', 'FOV2__10N', 'FOV3__10N', 'FOV4__10N', 'FOV5__10N', 'FOV6__10N', 'FOV7__10N', 'FOV8__10N', 'FOV9__10N', 'FOV10__10N', 'FOV11__10N', 'FOV12__10N', 'FOV13__10N', 'FOV2__1L', 'FOV3__1L', 'FOV4__1L', 'FOV2__1N', 'FOV3__1N', 'FOV2__9L', 'FOV3__9L', 'FOV4__9L', 'FOV5__9L', 'FOV6__9L', 'FOV7__9L', 'FOV8__9L', 'FOV2__9N', 'FOV3__9N', 'FOV4__9N', 'FOV5__9N', 'FOV6__9N', 'FOV7__9N', 'FOV8__9N', 'FOV9__9N', 'FOV2__6L', 'FOV3__6L', 'FOV4__6L', 'FOV5__6L', 'FOV2__6N', 'FOV3__6N', 'FOV4__6N', 'FOV5__6N', 'FOV6__6N', 'FOV7__6N', 'FOV2__3L', 'FOV3__3L', 'FOV4__3L', 'FOV2__3N', 'FOV3__3N', 'FOV4__3N', 'FOV5__3N', 'FOV6__3N', 'FOV2__2L', 'FOV3__2L', 'FOV4a__2L', 'FOV4b__2L', 'FOV5__2L', 'FOV2__2N', 'FOV3__2N', 'FOV4__2N', 'FOV5__2N', 'FOV4__14L', 'FOV5__14L', 'FOV2__14N', 'FOV3__14N', 'FOV4__14N', 'FOV5__14N', 'FOV6__14N', 'FOV7__14N', 'FOV8__14N', 'FOV9__14N', 'FOV2__5L', 'FOV3__5L', 'FOV4__5L', 'FOV5__5L', 'FOV6__5L', 'FOV7__5L', 'FOV8__5L', 'FOV9__5L', 'FOV10__5L', 'FOV2__5N', 'FOV3__5N', 'FOV4__5N', 'FOV5__5N', 'FOV6__5N', 'FOV7__5N', 'FOV8__5N', 'FOV9__5N', 'FOV10__5N', 'FOV2__8L', 'FOV3__8L', 'FOV4__8L', 'FOV5__8L', 'FOV6__8L', 'FOV7__8L', 'FOV8__8L', 'FOV9__8L', 'FOV10__8L', 'FOV2__8N', 'FOV3__8N', 'FOV4__8N', 'FOV5__8N', 'FOV6__8N', 'FOV7__8N', 'FOV2__12L', 'FOV3__12L', 'FOV4__12L', 'FOV5__12L', 'FOV6__12L', 'FOV7__12L', 'FOV8__12L', 'FOV9__12L', 'FOV10__12L', 'FOV11__12L', 'FOV2__12N', 'FOV3__12N', 'FOV4__12N', 'FOV5__12N', 'FOV6__12N', 'FOV7__12N', 'FOV8__12N', 'FOV9__12N', 'FOV10__12N', 'FOV2__4L', 'FOV3__4L', 'FOV4__4L', 'FOV5__4L', 'FOV6__4L', 'FOV7__4L', 'FOV8__4L', 'FOV9__4L', 'FOV2__4N', 'FOV3__4N', 'FOV4__4N', 'FOV5__4N', 'FOV6__4N', 'FOV7__4N', 'FOV2__7L', 'FOV3__7L', 'FOV4a__7L', 'FOV4b__7L', 'FOV5__7L', 'FOV6__7L', 'FOV7__7L', 'FOV8__7L', 'FOV9__7L', 'FOV10__7L', 'FOV11__7L', 'FOV12__7L', 'FOV13__7L', 'FOV14__7L', 'FOV15__7L', 'FOV2__7N', 'FOV3__7N', 'FOV4__7N', 'FOV5a__7N', 'FOV5b__7N', 'FOV6__7N']\n"
     ]
    }
   ],
   "source": [
    "print(hypercube_key_sorted)"
   ]
  },
  {
   "cell_type": "code",
   "execution_count": 26,
   "metadata": {},
   "outputs": [],
   "source": [
    "# Cross Validation Indices - I seperated each fold  to make it so that each validation set had about 35 images.\n",
    "# Because of the different number of images from each sample, this meant that each validation set had 2-3 patients\n",
    "\n",
    "# Patients 13,10,1,9,6,3,2,14,5,8,12,4\n",
    "training_1 = list(range(5852))\n",
    "# Patient 7\n",
    "validation_1 = list(range(5852,6650))\n",
    "# Patients 13,10,1,9,6,3,2,14,5,8,12,7\n",
    "training_2 = list(range(5320))+list(range(5852,6650))\n",
    "# Patient 4\n",
    "validation_2 = list(range(5320,5852))\n",
    "# Patients 13,10,1,9,6,3,2,14,5,8,4,7\n",
    "training_3 = list(range(4598))+list(range(5320,6650))\n",
    "# Patient 12\n",
    "validation_3 = list(range(4598,5320))\n",
    "# Patients 13,10,1,9,6,3,2,14,5,12,4,7\n",
    "training_4 = list(range(4028))+list(range(4598,6650))\n",
    "# Patient 8\n",
    "validation_4 = list(range(4028,4598))\n",
    "# Patients 13,10,1,9,6,3,2,14,8,12,4,7\n",
    "training_5 = list(range(3344))+list(range(4028,6650))\n",
    "# Patient 5\n",
    "validation_5 = list(range(3344,4028))\n",
    "# Patients 13,10,1,9,6,3,2,5,8,12,4,7\n",
    "training_6 = list(range(2964))+list(range(3344,6650))\n",
    "# Patient 14\n",
    "validation_6 = list(range(2964,3344))\n",
    "# Patients 13,10,1,9,6,3,14,5,8,12,4,7\n",
    "training_7 = list(range(2622))+list(range(2964,6650))\n",
    "# Patient 2\n",
    "validation_7 = list(range(2622,2964))\n",
    "# Patients 13,10,1,9,6,2,14,5,8,12,4,7\n",
    "training_8 = list(range(2318))+list(range(2622,6650))\n",
    "# Patient 3\n",
    "validation_8 = list(range(2318,2622))\n",
    "# Patients 13,10,1,9,3,2,14,5,8,12,4,7\n",
    "training_9 = list(range(1938))+list(range(2318,6650))\n",
    "# Patient 6\n",
    "validation_9 = list(range(1938,2318))\n",
    "# Patients 13,10,1,6,3,2,14,5,8,12,4,7\n",
    "training_10 = list(range(1368))+list(range(1938,6650))\n",
    "# Patient 9\n",
    "validation_10 = list(range(1368,1938))\n",
    "# Patients 13,10,9,6,3,2,14,5,8,12,4,7\n",
    "training_11 = list(range(1178))+list(range(1368,6650))\n",
    "# Patient 1\n",
    "validation_11 = list(range(1178,1368))\n",
    "# Patients 13,1,9,6,3,2,14,5,8,12,4,7\n",
    "training_12 = list(range(418))+list(range(1178,6650))\n",
    "# Patient 10\n",
    "validation_12 = list(range(418,1178))\n",
    "# Patients 10,1,9,6,3,2,14,5,8,12,4,7\n",
    "training_13 = list(range(418,6650))\n",
    "# Patient 13\n",
    "validation_13 = list(range(418))"
   ]
  },
  {
   "cell_type": "code",
   "execution_count": 27,
   "metadata": {},
   "outputs": [],
   "source": [
    "# Cross Validation Key\n",
    "\n",
    "# Patients 13,10,1,9,6,3,2,14,5,8,12,4\n",
    "training_1_key = hypercube_key_sorted[:154]\n",
    "# Patients 7\n",
    "validation_1_key = hypercube_key_sorted[154:]\n",
    "# Patients 13,10,1,9,6,3,2,14,5,8,12,7\n",
    "training_2_key = hypercube_key_sorted[:140]+hypercube_key_sorted[154:]\n",
    "# Patients 4\n",
    "validation_2_key = hypercube_key_sorted[140:154]\n",
    "# Patients 13,10,1,9,6,3,2,14,5,8,4,7\n",
    "training_3_key = hypercube_key_sorted[:121]+hypercube_key_sorted[140:]\n",
    "# Patients 12\n",
    "validation_3_key = hypercube_key_sorted[121:140]\n",
    "# Patients 13,10,1,9,6,3,2,14,5,12,4,7\n",
    "training_4_key = hypercube_key_sorted[:106]+hypercube_key_sorted[121:]\n",
    "# Patients 8\n",
    "validation_4_key = hypercube_key_sorted[106:121]\n",
    "# Patients 13,10,1,9,6,3,2,14,8,12,4,7\n",
    "training_5_key = hypercube_key_sorted[:88]+hypercube_key_sorted[106:]\n",
    "# Patients 5\n",
    "validation_5_key = hypercube_key_sorted[88:106]\n",
    "# Patients 13,10,1,9,6,3,2,5,8,12,4,7\n",
    "training_6_key = hypercube_key_sorted[:78]+hypercube_key_sorted[88:]\n",
    "# Patients 14\n",
    "validation_6_key = hypercube_key_sorted[78:88]\n",
    "# Patients 13,10,1,9,6,3,14,5,8,12,4,7\n",
    "training_7_key = hypercube_key_sorted[:69]+hypercube_key_sorted[78:]\n",
    "# Patients 2\n",
    "validation_7_key = hypercube_key_sorted[69:78]\n",
    "# Patients 13,10,1,9,6,2,14,5,8,12,4,7\n",
    "training_8_key = hypercube_key_sorted[:61]+hypercube_key_sorted[69:]\n",
    "# Patients 3\n",
    "validation_8_key = hypercube_key_sorted[61:69]\n",
    "# Patients 13,10,1,9,3,2,14,5,8,12,4,7\n",
    "training_9_key = hypercube_key_sorted[:51]+hypercube_key_sorted[61:]\n",
    "# Patients 6\n",
    "validation_9_key = hypercube_key_sorted[51:61]\n",
    "# Patients 13,10,1,6,3,2,14,5,8,12,4,7\n",
    "training_10_key = hypercube_key_sorted[:36]+hypercube_key_sorted[51:]\n",
    "# Patients 9\n",
    "validation_10_key = hypercube_key_sorted[36:51]\n",
    "# Patients 13,10,9,6,3,2,14,5,8,12,4,7\n",
    "training_11_key = hypercube_key_sorted[:31]+hypercube_key_sorted[36:]\n",
    "# Patients 1\n",
    "validation_11_key = hypercube_key_sorted[31:36]\n",
    "# Patients 13,1,9,6,3,2,14,5,8,12,4,7\n",
    "training_12_key = hypercube_key_sorted[:11]+hypercube_key_sorted[31:]\n",
    "# Patients 10\n",
    "validation_12_key = hypercube_key_sorted[11:31]\n",
    "# Patients 10,1,9,6,3,2,14,5,8,12,4,7\n",
    "training_13_key = hypercube_key_sorted[11:]\n",
    "# Patients 13\n",
    "validation_13_key = hypercube_key_sorted[:11]"
   ]
  },
  {
   "cell_type": "code",
   "execution_count": 28,
   "metadata": {},
   "outputs": [
    {
     "name": "stdout",
     "output_type": "stream",
     "text": [
      "175\n"
     ]
    }
   ],
   "source": [
    "print(len(hypercube_key_sorted))"
   ]
  },
  {
   "cell_type": "code",
   "execution_count": 29,
   "metadata": {},
   "outputs": [
    {
     "name": "stdout",
     "output_type": "stream",
     "text": [
      "['FOV2__3L', 'FOV3__3L', 'FOV4__3L', 'FOV2__3N', 'FOV3__3N', 'FOV4__3N', 'FOV5__3N', 'FOV6__3N']\n"
     ]
    }
   ],
   "source": [
    "print(validation_8_key)"
   ]
  },
  {
   "cell_type": "code",
   "execution_count": 30,
   "metadata": {},
   "outputs": [],
   "source": [
    "# First Patient (Patient #7)\n",
    "X_valid_fold = X_sorted[validation_1]\n",
    "y_valid_fold = y_sorted[validation_1]"
   ]
  },
  {
   "cell_type": "code",
   "execution_count": 31,
   "metadata": {},
   "outputs": [
    {
     "data": {
      "text/plain": [
       "(798, 251502)"
      ]
     },
     "execution_count": 31,
     "metadata": {},
     "output_type": "execute_result"
    }
   ],
   "source": [
    "X_valid_fold.shape"
   ]
  },
  {
   "cell_type": "code",
   "execution_count": 32,
   "metadata": {},
   "outputs": [
    {
     "data": {
      "text/plain": [
       "(798,)"
      ]
     },
     "execution_count": 32,
     "metadata": {},
     "output_type": "execute_result"
    }
   ],
   "source": [
    "y_valid_fold.shape"
   ]
  },
  {
   "cell_type": "code",
   "execution_count": 33,
   "metadata": {},
   "outputs": [],
   "source": [
    "# Validation Cube for first patient fold (Patient 7)\n",
    "y_valid_cube = np.array([],dtype=np.int16)\n",
    "for cube in validation_1_key:\n",
    "    if cube.endswith('N'):\n",
    "        cube_class = 1\n",
    "    else:\n",
    "        cube_class = 0\n",
    "    y_valid_cube = np.append(y_valid_cube,cube_class)"
   ]
  },
  {
   "cell_type": "code",
   "execution_count": 34,
   "metadata": {},
   "outputs": [],
   "source": [
    "# Reset the training fold so the system memory is not overused\n",
    "X_train_fold = []"
   ]
  },
  {
   "cell_type": "code",
   "execution_count": 35,
   "metadata": {},
   "outputs": [],
   "source": [
    "# First Training Fold (Patients 13,10,1,9,6,3,2,14,5,8,12,4)\n",
    "X_train_fold = X_sorted[training_1]\n",
    "y_train_fold = y_sorted[training_1]"
   ]
  },
  {
   "cell_type": "code",
   "execution_count": 36,
   "metadata": {},
   "outputs": [
    {
     "data": {
      "text/plain": [
       "(5852, 251502)"
      ]
     },
     "execution_count": 36,
     "metadata": {},
     "output_type": "execute_result"
    }
   ],
   "source": [
    "X_train_fold.shape"
   ]
  },
  {
   "cell_type": "code",
   "execution_count": 37,
   "metadata": {},
   "outputs": [
    {
     "data": {
      "text/plain": [
       "(5852,)"
      ]
     },
     "execution_count": 37,
     "metadata": {},
     "output_type": "execute_result"
    }
   ],
   "source": [
    "y_train_fold.shape"
   ]
  },
  {
   "cell_type": "code",
   "execution_count": 38,
   "metadata": {},
   "outputs": [],
   "source": [
    "# Sets the Neural Network for the graph\n",
    "height = 501\n",
    "width = 502\n",
    "channels = 1\n",
    "n_inputs = height * width * channels\n",
    "\n",
    "\n",
    "conv1_fmaps = 24\n",
    "conv1_ksize = 5\n",
    "conv1_stride = 3\n",
    "conv1_pad = \"SAME\"\n",
    "conv1_dropout_rate = 0.25\n",
    "\n",
    "pool2_fmaps = conv1_fmaps\n",
    "\n",
    "conv3_fmaps = 48\n",
    "conv3_ksize = 3\n",
    "conv3_stride = 1\n",
    "conv3_pad = \"SAME\"\n",
    "conv3_dropout_rate = 0.25\n",
    "\n",
    "pool4_fmaps = conv3_fmaps\n",
    "\n",
    "conv5_fmaps = 64\n",
    "conv5_ksize = 2\n",
    "conv5_stride = 1\n",
    "conv5_pad = \"SAME\"\n",
    "conv5_dropout_rate = 0.5\n",
    "\n",
    "pool6_fmaps = conv5_fmaps\n",
    "\n",
    "n_fc1 = 24\n",
    "n_outputs = 2\n",
    "\n",
    "regularizer = tf.contrib.layers.l2_regularizer(scale=0.1)\n",
    "\n",
    "with tf.name_scope(\"inputs\"):\n",
    "    X = tf.placeholder(tf.float32, shape=[None, n_inputs], name=\"X\")\n",
    "    X_reshaped = tf.reshape(X, shape=[-1, height, width, channels])\n",
    "    y = tf.placeholder(tf.int32, shape=[None], name=\"y\")\n",
    "    training = tf.placeholder_with_default(False, shape=[], name='training')\n",
    "\n",
    "conv1 = tf.layers.conv2d(X_reshaped, filters=conv1_fmaps, kernel_size=conv1_ksize,\n",
    "                         strides=conv1_stride, padding=conv1_pad,\n",
    "                         activation=tf.nn.tanh, kernel_regularizer=regularizer, name=\"conv1\")\n",
    "\n",
    "with tf.name_scope(\"pool2\"):\n",
    "    pool2 = tf.nn.max_pool(conv1, ksize=[1, 2, 2, 1], strides=[1, 2, 2, 1], padding=\"VALID\")\n",
    "    pool2_drop = tf.layers.dropout(pool2, conv1_dropout_rate, training=training)\n",
    "\n",
    "conv3 = tf.layers.conv2d(pool2_drop, filters=conv3_fmaps, kernel_size=conv3_ksize,\n",
    "                         strides=conv3_stride, padding=conv3_pad,\n",
    "                         activation=tf.nn.tanh, name=\"conv3\")\n",
    "\n",
    "with tf.name_scope(\"pool4\"):\n",
    "    pool4 = tf.nn.max_pool(conv3, ksize=[1, 2, 2, 1], strides=[1, 2, 2, 1], padding=\"VALID\")\n",
    "    pool4_drop = tf.layers.dropout(pool4, conv3_dropout_rate, training=training)\n",
    "\n",
    "conv5 = tf.layers.conv2d(pool4_drop, filters=conv5_fmaps, kernel_size=conv5_ksize,\n",
    "                         strides=conv5_stride, padding=conv5_pad,\n",
    "                         activation=tf.nn.tanh, name=\"conv5\")\n",
    "\n",
    "with tf.name_scope(\"pool6\"):\n",
    "    pool6 = tf.nn.max_pool(conv5, ksize=[1, 2, 2, 1], strides=[1, 2, 2, 1], padding=\"VALID\")\n",
    "    pool6_flat = tf.reshape(pool6, shape=[-1, pool6_fmaps * 20 * 21])\n",
    "    pool6_flat_drop = tf.layers.dropout(pool6_flat, conv5_dropout_rate, training=training)      \n",
    "       \n",
    "with tf.name_scope(\"fc1\"):\n",
    "    fc1 = tf.layers.dense(pool6_flat_drop, n_fc1, activation=tf.nn.tanh, kernel_regularizer=regularizer, name=\"fc1\")\n",
    "\n",
    "with tf.name_scope(\"output\"):\n",
    "    logits = tf.layers.dense(fc1, n_outputs, name=\"output\")\n",
    "    Y_proba = tf.nn.softmax(logits, name=\"Y_proba\")\n",
    "\n",
    "with tf.name_scope(\"train\"):\n",
    "    xentropy = tf.nn.sparse_softmax_cross_entropy_with_logits(logits=logits, labels=y)\n",
    "    l2_loss = tf.losses.get_regularization_loss()\n",
    "    loss = tf.reduce_mean(xentropy) + l2_loss\n",
    "    optimizer = tf.train.AdamOptimizer(learning_rate=0.0001)\n",
    "    training_op = optimizer.minimize(loss)\n",
    "\n",
    "with tf.name_scope(\"eval\"):\n",
    "    correct = tf.nn.in_top_k(logits, y, 1)\n",
    "    accuracy = tf.reduce_mean(tf.cast(correct, tf.float32))\n",
    "\n",
    "with tf.name_scope(\"init_and_save\"):\n",
    "    init = tf.global_variables_initializer()\n",
    "    saver = tf.train.Saver()"
   ]
  },
  {
   "cell_type": "code",
   "execution_count": 39,
   "metadata": {},
   "outputs": [],
   "source": [
    "# Sets the number of epochs and batch size\n",
    "n_iterations_per_epoch = len(X_train_fold) // batch_size"
   ]
  },
  {
   "cell_type": "code",
   "execution_count": 40,
   "metadata": {
    "scrolled": true
   },
   "outputs": [
    {
     "data": {
      "text/plain": [
       "58"
      ]
     },
     "execution_count": 40,
     "metadata": {},
     "output_type": "execute_result"
    }
   ],
   "source": [
    "n_iterations_per_epoch"
   ]
  },
  {
   "cell_type": "code",
   "execution_count": 41,
   "metadata": {},
   "outputs": [
    {
     "name": "stdout",
     "output_type": "stream",
     "text": [
      "Start Time:  2019-03-07 19:05:31.280291 \n",
      "\n",
      "Epoch 0\n",
      "Last Batch accuracy:  54.00 %, Training accuracy:  52.60 %, Validation accuracy:  28.57 %\n",
      "Time training up to Epoch  0 :  0  hours,  0  minutes, and  55  seconds.\n",
      "Epoch 1\n",
      "Last Batch accuracy:  58.00 %, Training accuracy:  54.29 %, Validation accuracy:  28.57 %\n",
      "Time training up to Epoch  1 :  0  hours,  1  minutes, and  40  seconds.\n",
      "Epoch 2\n",
      "Last Batch accuracy:  56.00 %, Training accuracy:  52.60 %, Validation accuracy:  28.57 %\n",
      "Time training up to Epoch  2 :  0  hours,  2  minutes, and  25  seconds.\n",
      "Epoch 3\n",
      "Last Batch accuracy:  63.00 %, Training accuracy:  62.35 %, Validation accuracy:  47.12 %\n",
      "Time training up to Epoch  3 :  0  hours,  3  minutes, and  10  seconds.\n",
      "Epoch 4\n",
      "Last Batch accuracy:  63.00 %, Training accuracy:  62.54 %, Validation accuracy:  38.60 %\n",
      "Time training up to Epoch  4 :  0  hours,  3  minutes, and  55  seconds.\n",
      "Epoch 5\n",
      "Last Batch accuracy:  67.00 %, Training accuracy:  66.01 %, Validation accuracy:  51.75 %\n",
      "Time training up to Epoch  5 :  0  hours,  4  minutes, and  41  seconds.\n",
      "Epoch 6\n",
      "Last Batch accuracy:  62.00 %, Training accuracy:  55.62 %, Validation accuracy:  64.41 %\n",
      "Time training up to Epoch  6 :  0  hours,  5  minutes, and  26  seconds.\n",
      "Epoch 7\n",
      "Last Batch accuracy:  57.00 %, Training accuracy:  64.59 %, Validation accuracy:  67.79 %\n",
      "Time training up to Epoch  7 :  0  hours,  6  minutes, and  11  seconds.\n",
      "Epoch 8\n",
      "Last Batch accuracy:  70.00 %, Training accuracy:  67.04 %, Validation accuracy:  65.79 %\n",
      "Time training up to Epoch  8 :  0  hours,  6  minutes, and  56  seconds.\n",
      "Epoch 9\n",
      "Last Batch accuracy:  75.00 %, Training accuracy:  68.47 %, Validation accuracy:  57.39 %\n",
      "Time training up to Epoch  9 :  0  hours,  7  minutes, and  41  seconds.\n",
      "Epoch 10\n",
      "Last Batch accuracy:  71.00 %, Training accuracy:  68.25 %, Validation accuracy:  57.89 %\n",
      "Time training up to Epoch  10 :  0  hours,  8  minutes, and  26  seconds.\n",
      "Epoch 11\n",
      "Last Batch accuracy:  65.00 %, Training accuracy:  71.24 %, Validation accuracy:  60.28 %\n",
      "Time training up to Epoch  11 :  0  hours,  9  minutes, and  11  seconds.\n",
      "Epoch 12\n",
      "Last Batch accuracy:  72.00 %, Training accuracy:  73.02 %, Validation accuracy:  59.77 %\n",
      "Time training up to Epoch  12 :  0  hours,  9  minutes, and  56  seconds.\n",
      "Epoch 13\n",
      "Last Batch accuracy:  75.00 %, Training accuracy:  73.00 %, Validation accuracy:  62.28 %\n",
      "Time training up to Epoch  13 :  0  hours,  10  minutes, and  42  seconds.\n",
      "Epoch 14\n",
      "Last Batch accuracy:  81.00 %, Training accuracy:  73.70 %, Validation accuracy:  57.14 %\n",
      "Time training up to Epoch  14 :  0  hours,  11  minutes, and  27  seconds.\n",
      "Epoch 15\n",
      "Last Batch accuracy:  70.00 %, Training accuracy:  73.24 %, Validation accuracy:  61.65 %\n",
      "Time training up to Epoch  15 :  0  hours,  12  minutes, and  12  seconds.\n",
      "Epoch 16\n",
      "Last Batch accuracy:  70.00 %, Training accuracy:  69.53 %, Validation accuracy:  45.74 %\n",
      "Time training up to Epoch  16 :  0  hours,  12  minutes, and  57  seconds.\n",
      "Epoch 17\n",
      "Last Batch accuracy:  77.00 %, Training accuracy:  76.61 %, Validation accuracy:  66.67 %\n",
      "Time training up to Epoch  17 :  0  hours,  13  minutes, and  42  seconds.\n",
      "Epoch 18\n",
      "Last Batch accuracy:  76.00 %, Training accuracy:  75.99 %, Validation accuracy:  57.77 %\n",
      "Time training up to Epoch  18 :  0  hours,  14  minutes, and  26  seconds.\n",
      "Epoch 19\n",
      "Last Batch accuracy:  73.00 %, Training accuracy:  75.24 %, Validation accuracy:  59.02 %\n",
      "Time training up to Epoch  19 :  0  hours,  15  minutes, and  11  seconds.\n",
      "Epoch 20\n",
      "Last Batch accuracy:  72.00 %, Training accuracy:  77.63 %, Validation accuracy:  72.06 %\n",
      "Time training up to Epoch  20 :  0  hours,  15  minutes, and  55  seconds.\n",
      "Epoch 21\n",
      "Last Batch accuracy:  74.00 %, Training accuracy:  76.85 %, Validation accuracy:  67.92 %\n",
      "Time training up to Epoch  21 :  0  hours,  16  minutes, and  40  seconds.\n",
      "Epoch 22\n",
      "Last Batch accuracy:  76.00 %, Training accuracy:  76.06 %, Validation accuracy:  62.53 %\n",
      "Time training up to Epoch  22 :  0  hours,  17  minutes, and  24  seconds.\n",
      "Epoch 23\n",
      "Last Batch accuracy:  82.00 %, Training accuracy:  78.71 %, Validation accuracy:  68.17 %\n",
      "Time training up to Epoch  23 :  0  hours,  18  minutes, and  8  seconds.\n",
      "Epoch 24\n",
      "Last Batch accuracy:  84.00 %, Training accuracy:  80.83 %, Validation accuracy:  63.41 %\n",
      "Time training up to Epoch  24 :  0  hours,  18  minutes, and  53  seconds.\n",
      "Epoch 25\n",
      "Last Batch accuracy:  82.00 %, Training accuracy:  82.54 %, Validation accuracy:  68.80 %\n",
      "Time training up to Epoch  25 :  0  hours,  19  minutes, and  37  seconds.\n",
      "Epoch 26\n",
      "Last Batch accuracy:  91.00 %, Training accuracy:  78.71 %, Validation accuracy:  64.29 %\n",
      "Time training up to Epoch  26 :  0  hours,  20  minutes, and  22  seconds.\n",
      "Epoch 27\n",
      "Last Batch accuracy:  74.00 %, Training accuracy:  75.94 %, Validation accuracy:  59.52 %\n",
      "Time training up to Epoch  27 :  0  hours,  21  minutes, and  6  seconds.\n",
      "Epoch 28\n",
      "Last Batch accuracy:  80.00 %, Training accuracy:  79.15 %, Validation accuracy:  61.90 %\n",
      "Time training up to Epoch  28 :  0  hours,  21  minutes, and  51  seconds.\n",
      "Epoch 29\n",
      "Last Batch accuracy:  91.00 %, Training accuracy:  84.74 %, Validation accuracy:  67.67 %\n",
      "Time training up to Epoch  29 :  0  hours,  22  minutes, and  35  seconds.\n",
      "\n",
      "Training Complete: 2019-03-07 19:28:07.734133\n"
     ]
    }
   ],
   "source": [
    "# Trains the CNN\n",
    "acc_train_mat_1f = []\n",
    "acc_valid_mat_1f = []\n",
    "\n",
    "y_pred_valid_mat_1f = []\n",
    "\n",
    "training_start_time = datetime.datetime.now()\n",
    "print(\"Start Time: \", training_start_time, \"\\n\")\n",
    "\n",
    "with tf.Session() as sess:\n",
    "    init.run()\n",
    "\n",
    "    for epoch in range(n_epochs):\n",
    "        y_train_pred = np.array([],dtype=np.int16)\n",
    "        print(\"Epoch\", epoch)\n",
    "        # \n",
    "        for iteration in range(n_iterations_per_epoch):\n",
    "            X_batch, y_batch = prepare_batch(X_train_fold, y_train_fold, batch_size)            \n",
    "            sess.run(training_op, feed_dict={X: X_batch, y: y_batch})\n",
    "        acc_batch = accuracy.eval(feed_dict={X: X_batch, y: y_batch})\n",
    "        # Finds the predicted values for the training set\n",
    "        for i in range(len((X_train_fold))):\n",
    "            X_train = normalize_max_train(X_train_fold[i])\n",
    "            z_pred_train = logits.eval(feed_dict={X: X_train})\n",
    "            y_pred_train = np.argmax(z_pred_train, axis=1)\n",
    "            y_train_pred = np.append(y_train_pred,y_pred_train)\n",
    "        acc_train = accuracy_score(y_train_fold, y_train_pred)\n",
    "        acc_val = accuracy.eval(feed_dict={X: X_valid_fold, y: y_valid_fold})\n",
    "        # Appends the network accuracy to a matrix for so we can evaluate performance over epoch\n",
    "        acc_train_mat_1f.append(acc_train)\n",
    "        acc_valid_mat_1f.append(acc_val)\n",
    "        # Finds the predicted values for the validation set\n",
    "        z_pred_valid = logits.eval(feed_dict={X: X_valid_fold, y: y_valid_fold})\n",
    "        y_pred_valid_1f = np.argmax(z_pred_valid, axis=1)\n",
    "        y_pred_valid_mat_1f.append(y_pred_valid_1f)\n",
    "        \n",
    "        training_duration_time = datetime.datetime.now()\n",
    "        training_duration = training_duration_time-training_start_time\n",
    "        training_hours, remainder = divmod(training_duration.seconds, 3600)\n",
    "        training_minutes, training_seconds = divmod(remainder,60)\n",
    "        print(\"Last Batch accuracy: \", \"{0:.2f}\".format(acc_batch*100),\n",
    "              \"%, Training accuracy: \", \"{0:.2f}\".format(acc_train*100),\n",
    "              \"%, Validation accuracy: \", \"{0:.2f}\".format(acc_val*100),\"%\")\n",
    "        print(\"Time training up to Epoch \",epoch,\": \",training_hours,\" hours, \", training_minutes,\n",
    "              \" minutes, and \", training_seconds, \" seconds.\")\n",
    "    save_path = saver.save(sess, \"./IB_maxdata_baseneta_100tanh_1fold_run1\")\n",
    "training_end_time = datetime.datetime.now()\n",
    "print('\\nTraining Complete:', training_end_time)"
   ]
  },
  {
   "cell_type": "code",
   "execution_count": 42,
   "metadata": {},
   "outputs": [
    {
     "name": "stdout",
     "output_type": "stream",
     "text": [
      "First Patient Fold (Patient #7) of CV took 0  hours,  22  minutes, and  36  seconds to train.\n",
      "\n"
     ]
    }
   ],
   "source": [
    "training_duration = training_end_time-training_start_time\n",
    "duration_hours, duration_remainder = divmod(training_duration.seconds, 3600)\n",
    "duration_minutes, duration_seconds = divmod(duration_remainder,60)\n",
    "print(\"First Patient Fold (Patient #7) of CV took\",duration_hours,\" hours, \", duration_minutes,\n",
    "              \" minutes, and \", duration_seconds, \" seconds to train.\\n\")"
   ]
  },
  {
   "cell_type": "code",
   "execution_count": 43,
   "metadata": {},
   "outputs": [
    {
     "name": "stdout",
     "output_type": "stream",
     "text": [
      "Segment Validation Statistics, First Patient Fold:\n",
      "Accuracy:\t\t 0.6766917293233082 \n",
      "Precision:\t\t 0.4684873949579832\n",
      "Recall:\t\t\t 0.9780701754385965 \n",
      "F1 Score:\t\t 0.6335227272727274\n"
     ]
    }
   ],
   "source": [
    "valid_accuracy_1f = accuracy_score(y_valid_fold, y_pred_valid_1f)\n",
    "valid_precision_1f = precision_score(y_valid_fold, y_pred_valid_1f)\n",
    "valid_recall_1f = recall_score(y_valid_fold, y_pred_valid_1f)\n",
    "valid_f1_1f = f1_score(y_valid_fold, y_pred_valid_1f)\n",
    "\n",
    "print(\"Segment Validation Statistics, First Patient Fold:\\nAccuracy:\\t\\t\",valid_accuracy_1f,\n",
    "      \"\\nPrecision:\\t\\t\",valid_precision_1f)\n",
    "print(\"Recall:\\t\\t\\t\",valid_recall_1f,\"\\nF1 Score:\\t\\t\",valid_f1_1f)"
   ]
  },
  {
   "cell_type": "code",
   "execution_count": 44,
   "metadata": {},
   "outputs": [
    {
     "name": "stdout",
     "output_type": "stream",
     "text": [
      "First Patient Fold Validation Confusion Matrix:\n",
      "                   pred:Leasional  pred:Nonleasional\n",
      "true:Leasional                317                253\n",
      "true:Nonleasional               5                223\n"
     ]
    }
   ],
   "source": [
    "valid_label = np.unique(y_valid_fold)\n",
    "validation_cm_1f = confusion_matrix(y_valid_fold, y_pred_valid_1f, labels=valid_label) \n",
    "\n",
    "print(\"First Patient Fold Validation Confusion Matrix:\")\n",
    "print(pd.DataFrame(validation_cm_1f, index=['true:Leasional', 'true:Nonleasional'], \n",
    "                   columns=['pred:Leasional', 'pred:Nonleasional']))"
   ]
  },
  {
   "cell_type": "code",
   "execution_count": 45,
   "metadata": {},
   "outputs": [],
   "source": [
    "y_valid_cube_pred_1fold = group_hypercube(y_pred_valid_1f, cube_threshold, \n",
    "                                          validation_1_key, total_bands)"
   ]
  },
  {
   "cell_type": "code",
   "execution_count": 46,
   "metadata": {},
   "outputs": [
    {
     "name": "stdout",
     "output_type": "stream",
     "text": [
      "Validation Model Hypercube Statistics, First Patient Fold:\n",
      "Hypercube Accuracy:\t\t 0.6666666666666666 \n",
      "Hypercube Precision:\t\t 0.46153846153846156\n",
      "Hypercube Recall: \t\t 1.0 \n",
      "Hypercube F1 Score:\t\t 0.631578947368421\n"
     ]
    }
   ],
   "source": [
    "valid_accuracy_cube_1f = accuracy_score(y_valid_cube, y_valid_cube_pred_1fold)\n",
    "valid_precision_cube_1f = precision_score(y_valid_cube, y_valid_cube_pred_1fold)\n",
    "valid_recall_cube_1f = recall_score(y_valid_cube, y_valid_cube_pred_1fold)\n",
    "valid_f1_cube_1f = f1_score(y_valid_cube, y_valid_cube_pred_1fold)\n",
    "\n",
    "print(\"Validation Model Hypercube Statistics, First Patient Fold:\\nHypercube Accuracy:\\t\\t\",valid_accuracy_cube_1f,\n",
    "      \"\\nHypercube Precision:\\t\\t\",valid_precision_cube_1f)\n",
    "print(\"Hypercube Recall: \\t\\t\",valid_recall_cube_1f,\"\\nHypercube F1 Score:\\t\\t\",valid_f1_cube_1f)"
   ]
  },
  {
   "cell_type": "code",
   "execution_count": 47,
   "metadata": {},
   "outputs": [
    {
     "name": "stdout",
     "output_type": "stream",
     "text": [
      "First Patient Fold Validation Confusion Matrix (Cube):\n",
      "                   pred:Leasional  pred:Nonleasional\n",
      "true:Leasional                  8                  7\n",
      "true:Nonleasional               0                  6\n"
     ]
    }
   ],
   "source": [
    "valid_cube_label = np.unique(y_valid_cube)\n",
    "validation_cm_cube_1f = confusion_matrix(y_valid_cube, y_valid_cube_pred_1fold, labels=valid_cube_label) \n",
    "\n",
    "print(\"First Patient Fold Validation Confusion Matrix (Cube):\")\n",
    "print(pd.DataFrame(validation_cm_cube_1f, index=['true:Leasional', 'true:Nonleasional'], \n",
    "                   columns=['pred:Leasional', 'pred:Nonleasional']))"
   ]
  },
  {
   "cell_type": "code",
   "execution_count": 48,
   "metadata": {},
   "outputs": [],
   "source": [
    "avg_v_acc_1f, avg_v_prec_1f, avg_v_re_1f, avg_v_f1_1f, avg_v_cm_1f = average_runs(averaged_runs, \n",
    "                                                                                  y_pred_valid_mat_1f, y_valid_fold)"
   ]
  },
  {
   "cell_type": "code",
   "execution_count": 49,
   "metadata": {},
   "outputs": [
    {
     "name": "stdout",
     "output_type": "stream",
     "text": [
      "Average (20 Epochs) Segment Validation Statistics, First Patient Fold:\n",
      "Accuracy:\t\t 0.6171052631578947 \n",
      "Precision:\t\t 0.42904054704139394\n",
      "Recall:\t\t\t 0.9817982456140353 \n",
      "F1 Score:\t\t 0.5960364619130187\n"
     ]
    }
   ],
   "source": [
    "print(\"Average (20 Epochs) Segment Validation Statistics, First Patient Fold:\\nAccuracy:\\t\\t\",avg_v_acc_1f,\n",
    "      \"\\nPrecision:\\t\\t\",avg_v_prec_1f)\n",
    "print(\"Recall:\\t\\t\\t\",avg_v_re_1f,\"\\nF1 Score:\\t\\t\",avg_v_f1_1f)"
   ]
  },
  {
   "cell_type": "code",
   "execution_count": 50,
   "metadata": {},
   "outputs": [
    {
     "data": {
      "text/html": [
       "<div>\n",
       "<style scoped>\n",
       "    .dataframe tbody tr th:only-of-type {\n",
       "        vertical-align: middle;\n",
       "    }\n",
       "\n",
       "    .dataframe tbody tr th {\n",
       "        vertical-align: top;\n",
       "    }\n",
       "\n",
       "    .dataframe thead th {\n",
       "        text-align: right;\n",
       "    }\n",
       "</style>\n",
       "<table border=\"1\" class=\"dataframe\">\n",
       "  <thead>\n",
       "    <tr style=\"text-align: right;\">\n",
       "      <th></th>\n",
       "      <th>pred:Leasional</th>\n",
       "      <th>pred:Nonleasional</th>\n",
       "    </tr>\n",
       "  </thead>\n",
       "  <tbody>\n",
       "    <tr>\n",
       "      <th>true:Leasional</th>\n",
       "      <td>268.60</td>\n",
       "      <td>301.40</td>\n",
       "    </tr>\n",
       "    <tr>\n",
       "      <th>true:Nonleasional</th>\n",
       "      <td>4.15</td>\n",
       "      <td>223.85</td>\n",
       "    </tr>\n",
       "  </tbody>\n",
       "</table>\n",
       "</div>"
      ],
      "text/plain": [
       "                   pred:Leasional  pred:Nonleasional\n",
       "true:Leasional             268.60             301.40\n",
       "true:Nonleasional            4.15             223.85"
      ]
     },
     "execution_count": 50,
     "metadata": {},
     "output_type": "execute_result"
    }
   ],
   "source": [
    "avgvalid_cm_1f =  avg_v_cm_1f.groupby(avg_v_cm_1f.index)\n",
    "\n",
    "avgvalid_cm_1f.mean()"
   ]
  },
  {
   "cell_type": "code",
   "execution_count": 51,
   "metadata": {},
   "outputs": [
    {
     "name": "stdout",
     "output_type": "stream",
     "text": [
      "Average (20 Epochs) Hypercube Validation Statistics, First Patient Fold:\n",
      "Hypercube Accuracy:\t\t 0.6428571428571427 \n",
      "Hypercube Precision:\t\t 0.44877455877455874\n",
      "Hypercube Recall:\t\t 0.9916666666666666 \n",
      "Hypercube F1 Score:\t\t 0.6165597818074599\n"
     ]
    }
   ],
   "source": [
    "avg_vc_acc_1f, avg_vc_prec_1f, avg_vc_re_1f, avg_vc_f1_1f, avg_vc_cm_1f = average_group_runs(averaged_runs,\n",
    "                                                                                             y_valid_cube, \n",
    "                                                                                             y_pred_valid_mat_1f, \n",
    "                                                                                             cube_threshold, \n",
    "                                                                                             validation_1_key, \n",
    "                                                                                             total_bands)\n",
    "print(\"Average (20 Epochs) Hypercube Validation Statistics, First Patient Fold:\\nHypercube Accuracy:\\t\\t\",avg_vc_acc_1f,\n",
    "      \"\\nHypercube Precision:\\t\\t\",avg_vc_prec_1f)\n",
    "print(\"Hypercube Recall:\\t\\t\",avg_vc_re_1f,\"\\nHypercube F1 Score:\\t\\t\",avg_vc_f1_1f)\n"
   ]
  },
  {
   "cell_type": "code",
   "execution_count": 52,
   "metadata": {},
   "outputs": [
    {
     "data": {
      "text/html": [
       "<div>\n",
       "<style scoped>\n",
       "    .dataframe tbody tr th:only-of-type {\n",
       "        vertical-align: middle;\n",
       "    }\n",
       "\n",
       "    .dataframe tbody tr th {\n",
       "        vertical-align: top;\n",
       "    }\n",
       "\n",
       "    .dataframe thead th {\n",
       "        text-align: right;\n",
       "    }\n",
       "</style>\n",
       "<table border=\"1\" class=\"dataframe\">\n",
       "  <thead>\n",
       "    <tr style=\"text-align: right;\">\n",
       "      <th></th>\n",
       "      <th>pred:Leasional</th>\n",
       "      <th>pred:Nonleasional</th>\n",
       "    </tr>\n",
       "  </thead>\n",
       "  <tbody>\n",
       "    <tr>\n",
       "      <th>true:Leasional</th>\n",
       "      <td>7.55</td>\n",
       "      <td>7.45</td>\n",
       "    </tr>\n",
       "    <tr>\n",
       "      <th>true:Nonleasional</th>\n",
       "      <td>0.05</td>\n",
       "      <td>5.95</td>\n",
       "    </tr>\n",
       "  </tbody>\n",
       "</table>\n",
       "</div>"
      ],
      "text/plain": [
       "                   pred:Leasional  pred:Nonleasional\n",
       "true:Leasional               7.55               7.45\n",
       "true:Nonleasional            0.05               5.95"
      ]
     },
     "execution_count": 52,
     "metadata": {},
     "output_type": "execute_result"
    }
   ],
   "source": [
    "avgvalid_cm_cube_1f =  avg_vc_cm_1f.groupby(avg_vc_cm_1f.index)\n",
    "\n",
    "avgvalid_cm_cube_1f.mean()"
   ]
  },
  {
   "cell_type": "code",
   "execution_count": 53,
   "metadata": {
    "scrolled": true
   },
   "outputs": [
    {
     "data": {
      "image/png": "[encoded data removed]",
      "text/plain": [
       "<Figure size 432x288 with 1 Axes>"
      ]
     },
     "metadata": {
      "needs_background": "light"
     },
     "output_type": "display_data"
    }
   ],
   "source": [
    "# Plot of Epochs vs Training Accuracy\n",
    "\n",
    "plt.plot(np.arange(1,epoch+2),np.array(acc_train_mat_1f), '-v')\n",
    "plt.xlabel('Number of Epochs Run')\n",
    "plt.ylabel('Accuracy')\n",
    "plt.title('Fold 1 Training Accuracy vs. Number of Epochs')\n",
    "plt.xlim(left=-1);\n",
    "plt.ylim(top=1);\n",
    "plt.ylim(bottom=0);"
   ]
  },
  {
   "cell_type": "code",
   "execution_count": 54,
   "metadata": {},
   "outputs": [
    {
     "data": {
      "image/png": "[encoded data removed]",
      "text/plain": [
       "<Figure size 432x288 with 1 Axes>"
      ]
     },
     "metadata": {
      "needs_background": "light"
     },
     "output_type": "display_data"
    }
   ],
   "source": [
    "# Plot of Epochs vs Validation Accuracy\n",
    "\n",
    "plt.plot(np.arange(1,epoch+2),np.array(acc_valid_mat_1f), '-v')\n",
    "plt.xlabel('Number of Epochs Run')\n",
    "plt.ylabel('Accuracy')\n",
    "plt.title('Patient Fold 1 (Patient #7) Validation Accuracy vs. Number of Epochs')\n",
    "plt.xlim(left=-1);\n",
    "plt.ylim(top=1);\n",
    "plt.ylim(bottom=0);"
   ]
  },
  {
   "cell_type": "code",
   "execution_count": 55,
   "metadata": {},
   "outputs": [],
   "source": [
    "# Second Patient (Patient #4)\n",
    "graph_seed = 42\n",
    "reset_graph(graph_seed)"
   ]
  },
  {
   "cell_type": "code",
   "execution_count": 56,
   "metadata": {},
   "outputs": [],
   "source": [
    "# Second Validation Fold (Patient #4)\n",
    "X_valid_fold = X_sorted[validation_2]\n",
    "y_valid_fold = y_sorted[validation_2]"
   ]
  },
  {
   "cell_type": "code",
   "execution_count": 57,
   "metadata": {},
   "outputs": [
    {
     "data": {
      "text/plain": [
       "(532, 251502)"
      ]
     },
     "execution_count": 57,
     "metadata": {},
     "output_type": "execute_result"
    }
   ],
   "source": [
    "X_valid_fold.shape"
   ]
  },
  {
   "cell_type": "code",
   "execution_count": 58,
   "metadata": {},
   "outputs": [
    {
     "data": {
      "text/plain": [
       "(532,)"
      ]
     },
     "execution_count": 58,
     "metadata": {},
     "output_type": "execute_result"
    }
   ],
   "source": [
    "y_valid_fold.shape"
   ]
  },
  {
   "cell_type": "code",
   "execution_count": 59,
   "metadata": {},
   "outputs": [],
   "source": [
    "# Validation Cube for patient fold 2 (Patient #4)\n",
    "y_valid_cube = np.array([],dtype=np.int16)\n",
    "for cube in validation_2_key:\n",
    "    if cube.endswith('N'):\n",
    "        cube_class = 1\n",
    "    else:\n",
    "        cube_class = 0\n",
    "    y_valid_cube = np.append(y_valid_cube,cube_class)"
   ]
  },
  {
   "cell_type": "code",
   "execution_count": 60,
   "metadata": {},
   "outputs": [],
   "source": [
    "# Reset the training fold so the system memory is not overused\n",
    "X_train_fold = []"
   ]
  },
  {
   "cell_type": "code",
   "execution_count": 61,
   "metadata": {},
   "outputs": [],
   "source": [
    "# Second Training Fold (Patients 13,10,1,9,6,3,2,14,5,8,12,7)\n",
    "X_train_fold = X_sorted[training_2]\n",
    "y_train_fold = y_sorted[training_2]"
   ]
  },
  {
   "cell_type": "code",
   "execution_count": 62,
   "metadata": {},
   "outputs": [
    {
     "data": {
      "text/plain": [
       "(6118, 251502)"
      ]
     },
     "execution_count": 62,
     "metadata": {},
     "output_type": "execute_result"
    }
   ],
   "source": [
    "X_train_fold.shape"
   ]
  },
  {
   "cell_type": "code",
   "execution_count": 63,
   "metadata": {},
   "outputs": [
    {
     "data": {
      "text/plain": [
       "(6118,)"
      ]
     },
     "execution_count": 63,
     "metadata": {},
     "output_type": "execute_result"
    }
   ],
   "source": [
    "y_train_fold.shape"
   ]
  },
  {
   "cell_type": "code",
   "execution_count": 64,
   "metadata": {},
   "outputs": [],
   "source": [
    "# Sets the Neural Network for the graph\n",
    "height = 501\n",
    "width = 502\n",
    "channels = 1\n",
    "n_inputs = height * width * channels\n",
    "\n",
    "\n",
    "conv1_fmaps = 24\n",
    "conv1_ksize = 5\n",
    "conv1_stride = 3\n",
    "conv1_pad = \"SAME\"\n",
    "conv1_dropout_rate = 0.25\n",
    "\n",
    "pool2_fmaps = conv1_fmaps\n",
    "\n",
    "conv3_fmaps = 48\n",
    "conv3_ksize = 3\n",
    "conv3_stride = 1\n",
    "conv3_pad = \"SAME\"\n",
    "conv3_dropout_rate = 0.25\n",
    "\n",
    "pool4_fmaps = conv3_fmaps\n",
    "\n",
    "conv5_fmaps = 64\n",
    "conv5_ksize = 2\n",
    "conv5_stride = 1\n",
    "conv5_pad = \"SAME\"\n",
    "conv5_dropout_rate = 0.5\n",
    "\n",
    "pool6_fmaps = conv5_fmaps\n",
    "\n",
    "n_fc1 = 24\n",
    "n_outputs = 2\n",
    "\n",
    "regularizer = tf.contrib.layers.l2_regularizer(scale=0.1)\n",
    "\n",
    "with tf.name_scope(\"inputs\"):\n",
    "    X = tf.placeholder(tf.float32, shape=[None, n_inputs], name=\"X\")\n",
    "    X_reshaped = tf.reshape(X, shape=[-1, height, width, channels])\n",
    "    y = tf.placeholder(tf.int32, shape=[None], name=\"y\")\n",
    "    training = tf.placeholder_with_default(False, shape=[], name='training')\n",
    "\n",
    "conv1 = tf.layers.conv2d(X_reshaped, filters=conv1_fmaps, kernel_size=conv1_ksize,\n",
    "                         strides=conv1_stride, padding=conv1_pad,\n",
    "                         activation=tf.nn.tanh, kernel_regularizer=regularizer, name=\"conv1\")\n",
    "\n",
    "with tf.name_scope(\"pool2\"):\n",
    "    pool2 = tf.nn.max_pool(conv1, ksize=[1, 2, 2, 1], strides=[1, 2, 2, 1], padding=\"VALID\")\n",
    "    pool2_drop = tf.layers.dropout(pool2, conv1_dropout_rate, training=training)\n",
    "\n",
    "conv3 = tf.layers.conv2d(pool2_drop, filters=conv3_fmaps, kernel_size=conv3_ksize,\n",
    "                         strides=conv3_stride, padding=conv3_pad,\n",
    "                         activation=tf.nn.tanh, name=\"conv3\")\n",
    "\n",
    "with tf.name_scope(\"pool4\"):\n",
    "    pool4 = tf.nn.max_pool(conv3, ksize=[1, 2, 2, 1], strides=[1, 2, 2, 1], padding=\"VALID\")\n",
    "    pool4_drop = tf.layers.dropout(pool4, conv3_dropout_rate, training=training)\n",
    "\n",
    "conv5 = tf.layers.conv2d(pool4_drop, filters=conv5_fmaps, kernel_size=conv5_ksize,\n",
    "                         strides=conv5_stride, padding=conv5_pad,\n",
    "                         activation=tf.nn.tanh, name=\"conv5\")\n",
    "\n",
    "with tf.name_scope(\"pool6\"):\n",
    "    pool6 = tf.nn.max_pool(conv5, ksize=[1, 2, 2, 1], strides=[1, 2, 2, 1], padding=\"VALID\")\n",
    "    pool6_flat = tf.reshape(pool6, shape=[-1, pool6_fmaps * 20 * 21])\n",
    "    pool6_flat_drop = tf.layers.dropout(pool6_flat, conv5_dropout_rate, training=training)      \n",
    "       \n",
    "with tf.name_scope(\"fc1\"):\n",
    "    fc1 = tf.layers.dense(pool6_flat_drop, n_fc1, activation=tf.nn.tanh, kernel_regularizer=regularizer, name=\"fc1\")\n",
    "\n",
    "with tf.name_scope(\"output\"):\n",
    "    logits = tf.layers.dense(fc1, n_outputs, name=\"output\")\n",
    "    Y_proba = tf.nn.softmax(logits, name=\"Y_proba\")\n",
    "\n",
    "with tf.name_scope(\"train\"):\n",
    "    xentropy = tf.nn.sparse_softmax_cross_entropy_with_logits(logits=logits, labels=y)\n",
    "    l2_loss = tf.losses.get_regularization_loss()\n",
    "    loss = tf.reduce_mean(xentropy) + l2_loss\n",
    "    optimizer = tf.train.AdamOptimizer(learning_rate=0.0001)\n",
    "    training_op = optimizer.minimize(loss)\n",
    "\n",
    "with tf.name_scope(\"eval\"):\n",
    "    correct = tf.nn.in_top_k(logits, y, 1)\n",
    "    accuracy = tf.reduce_mean(tf.cast(correct, tf.float32))\n",
    "\n",
    "with tf.name_scope(\"init_and_save\"):\n",
    "    init = tf.global_variables_initializer()\n",
    "    saver = tf.train.Saver()"
   ]
  },
  {
   "cell_type": "code",
   "execution_count": 65,
   "metadata": {},
   "outputs": [],
   "source": [
    "# Sets the number of epochs and batch size\n",
    "n_iterations_per_epoch = len(X_train_fold) // batch_size"
   ]
  },
  {
   "cell_type": "code",
   "execution_count": 66,
   "metadata": {
    "scrolled": true
   },
   "outputs": [
    {
     "data": {
      "text/plain": [
       "61"
      ]
     },
     "execution_count": 66,
     "metadata": {},
     "output_type": "execute_result"
    }
   ],
   "source": [
    "n_iterations_per_epoch"
   ]
  },
  {
   "cell_type": "code",
   "execution_count": 67,
   "metadata": {},
   "outputs": [
    {
     "name": "stdout",
     "output_type": "stream",
     "text": [
      "Start Time:  2019-03-07 19:29:14.304419 \n",
      "\n",
      "Epoch 0\n",
      "Last Batch accuracy:  47.00 %, Training accuracy:  51.24 %, Validation accuracy:  48.12 %\n",
      "Time training up to Epoch  0 :  0  hours,  0  minutes, and  49  seconds.\n",
      "Epoch 1\n",
      "Last Batch accuracy:  50.00 %, Training accuracy:  51.83 %, Validation accuracy:  47.74 %\n",
      "Time training up to Epoch  1 :  0  hours,  1  minutes, and  36  seconds.\n",
      "Epoch 2\n",
      "Last Batch accuracy:  60.00 %, Training accuracy:  61.25 %, Validation accuracy:  52.44 %\n",
      "Time training up to Epoch  2 :  0  hours,  2  minutes, and  22  seconds.\n",
      "Epoch 3\n",
      "Last Batch accuracy:  55.00 %, Training accuracy:  50.11 %, Validation accuracy:  46.80 %\n",
      "Time training up to Epoch  3 :  0  hours,  3  minutes, and  8  seconds.\n",
      "Epoch 4\n",
      "Last Batch accuracy:  58.00 %, Training accuracy:  62.59 %, Validation accuracy:  50.56 %\n",
      "Time training up to Epoch  4 :  0  hours,  3  minutes, and  55  seconds.\n",
      "Epoch 5\n",
      "Last Batch accuracy:  72.00 %, Training accuracy:  68.34 %, Validation accuracy:  57.89 %\n",
      "Time training up to Epoch  5 :  0  hours,  4  minutes, and  41  seconds.\n",
      "Epoch 6\n",
      "Last Batch accuracy:  75.00 %, Training accuracy:  67.95 %, Validation accuracy:  50.56 %\n",
      "Time training up to Epoch  6 :  0  hours,  5  minutes, and  27  seconds.\n",
      "Epoch 7\n",
      "Last Batch accuracy:  74.00 %, Training accuracy:  72.21 %, Validation accuracy:  58.27 %\n",
      "Time training up to Epoch  7 :  0  hours,  6  minutes, and  14  seconds.\n",
      "Epoch 8\n",
      "Last Batch accuracy:  67.00 %, Training accuracy:  70.37 %, Validation accuracy:  54.32 %\n",
      "Time training up to Epoch  8 :  0  hours,  7  minutes, and  0  seconds.\n",
      "Epoch 9\n",
      "Last Batch accuracy:  70.00 %, Training accuracy:  70.45 %, Validation accuracy:  60.71 %\n",
      "Time training up to Epoch  9 :  0  hours,  7  minutes, and  46  seconds.\n",
      "Epoch 10\n",
      "Last Batch accuracy:  69.00 %, Training accuracy:  72.47 %, Validation accuracy:  60.34 %\n",
      "Time training up to Epoch  10 :  0  hours,  8  minutes, and  33  seconds.\n",
      "Epoch 11\n",
      "Last Batch accuracy:  75.00 %, Training accuracy:  73.36 %, Validation accuracy:  62.03 %\n",
      "Time training up to Epoch  11 :  0  hours,  9  minutes, and  19  seconds.\n",
      "Epoch 12\n",
      "Last Batch accuracy:  73.00 %, Training accuracy:  73.37 %, Validation accuracy:  57.89 %\n",
      "Time training up to Epoch  12 :  0  hours,  10  minutes, and  5  seconds.\n",
      "Epoch 13\n",
      "Last Batch accuracy:  71.00 %, Training accuracy:  74.32 %, Validation accuracy:  60.53 %\n",
      "Time training up to Epoch  13 :  0  hours,  10  minutes, and  52  seconds.\n",
      "Epoch 14\n",
      "Last Batch accuracy:  70.00 %, Training accuracy:  74.88 %, Validation accuracy:  64.29 %\n",
      "Time training up to Epoch  14 :  0  hours,  11  minutes, and  38  seconds.\n",
      "Epoch 15\n",
      "Last Batch accuracy:  85.00 %, Training accuracy:  76.74 %, Validation accuracy:  65.98 %\n",
      "Time training up to Epoch  15 :  0  hours,  12  minutes, and  25  seconds.\n",
      "Epoch 16\n",
      "Last Batch accuracy:  80.00 %, Training accuracy:  78.16 %, Validation accuracy:  60.15 %\n",
      "Time training up to Epoch  16 :  0  hours,  13  minutes, and  11  seconds.\n",
      "Epoch 17\n",
      "Last Batch accuracy:  81.00 %, Training accuracy:  79.19 %, Validation accuracy:  61.28 %\n",
      "Time training up to Epoch  17 :  0  hours,  13  minutes, and  57  seconds.\n",
      "Epoch 18\n",
      "Last Batch accuracy:  79.00 %, Training accuracy:  79.65 %, Validation accuracy:  63.72 %\n",
      "Time training up to Epoch  18 :  0  hours,  14  minutes, and  44  seconds.\n",
      "Epoch 19\n",
      "Last Batch accuracy:  73.00 %, Training accuracy:  80.45 %, Validation accuracy:  64.47 %\n",
      "Time training up to Epoch  19 :  0  hours,  15  minutes, and  30  seconds.\n",
      "Epoch 20\n",
      "Last Batch accuracy:  83.00 %, Training accuracy:  79.03 %, Validation accuracy:  62.41 %\n",
      "Time training up to Epoch  20 :  0  hours,  16  minutes, and  16  seconds.\n",
      "Epoch 21\n",
      "Last Batch accuracy:  78.00 %, Training accuracy:  78.39 %, Validation accuracy:  61.84 %\n",
      "Time training up to Epoch  21 :  0  hours,  17  minutes, and  2  seconds.\n",
      "Epoch 22\n",
      "Last Batch accuracy:  83.00 %, Training accuracy:  81.04 %, Validation accuracy:  64.10 %\n",
      "Time training up to Epoch  22 :  0  hours,  17  minutes, and  49  seconds.\n",
      "Epoch 23\n",
      "Last Batch accuracy:  88.00 %, Training accuracy:  81.68 %, Validation accuracy:  67.11 %\n",
      "Time training up to Epoch  23 :  0  hours,  18  minutes, and  35  seconds.\n",
      "Epoch 24\n",
      "Last Batch accuracy:  83.00 %, Training accuracy:  81.78 %, Validation accuracy:  65.41 %\n",
      "Time training up to Epoch  24 :  0  hours,  19  minutes, and  21  seconds.\n",
      "Epoch 25\n",
      "Last Batch accuracy:  87.00 %, Training accuracy:  82.67 %, Validation accuracy:  68.05 %\n",
      "Time training up to Epoch  25 :  0  hours,  20  minutes, and  8  seconds.\n",
      "Epoch 26\n",
      "Last Batch accuracy:  78.00 %, Training accuracy:  81.42 %, Validation accuracy:  67.11 %\n",
      "Time training up to Epoch  26 :  0  hours,  20  minutes, and  54  seconds.\n",
      "Epoch 27\n",
      "Last Batch accuracy:  85.00 %, Training accuracy:  84.39 %, Validation accuracy:  69.36 %\n",
      "Time training up to Epoch  27 :  0  hours,  21  minutes, and  41  seconds.\n",
      "Epoch 28\n",
      "Last Batch accuracy:  90.00 %, Training accuracy:  84.41 %, Validation accuracy:  68.61 %\n",
      "Time training up to Epoch  28 :  0  hours,  22  minutes, and  27  seconds.\n",
      "Epoch 29\n",
      "Last Batch accuracy:  93.00 %, Training accuracy:  82.27 %, Validation accuracy:  45.86 %\n",
      "Time training up to Epoch  29 :  0  hours,  23  minutes, and  13  seconds.\n",
      "\n",
      "Training Complete: 2019-03-07 19:52:28.529780\n"
     ]
    }
   ],
   "source": [
    "# Trains the CNN\n",
    "acc_train_mat_2f = []\n",
    "acc_valid_mat_2f = []\n",
    "\n",
    "y_pred_valid_mat_2f = []\n",
    "\n",
    "training_start_time = datetime.datetime.now()\n",
    "print(\"Start Time: \", training_start_time, \"\\n\")\n",
    "\n",
    "with tf.Session() as sess:\n",
    "    init.run()\n",
    "\n",
    "    for epoch in range(n_epochs):\n",
    "        y_train_pred = np.array([],dtype=np.int16)\n",
    "        print(\"Epoch\", epoch)\n",
    "        # \n",
    "        for iteration in range(n_iterations_per_epoch):\n",
    "            X_batch, y_batch = prepare_batch(X_train_fold, y_train_fold, batch_size)            \n",
    "            sess.run(training_op, feed_dict={X: X_batch, y: y_batch})\n",
    "        acc_batch = accuracy.eval(feed_dict={X: X_batch, y: y_batch})\n",
    "        # Finds the predicted values for the training set\n",
    "        for i in range(len((X_train_fold))):\n",
    "            X_train = normalize_max_train(X_train_fold[i])\n",
    "            z_pred_train = logits.eval(feed_dict={X: X_train})\n",
    "            y_pred_train = np.argmax(z_pred_train, axis=1)\n",
    "            y_train_pred = np.append(y_train_pred,y_pred_train)\n",
    "        acc_train = accuracy_score(y_train_fold, y_train_pred)\n",
    "        acc_val = accuracy.eval(feed_dict={X: X_valid_fold, y: y_valid_fold})\n",
    "        # Appends the network accuracy to a matrix for so we can evaluate performance over epoch\n",
    "        acc_train_mat_2f.append(acc_train)\n",
    "        acc_valid_mat_2f.append(acc_val)\n",
    "        # Finds the predicted values for the validation set\n",
    "        z_pred_valid = logits.eval(feed_dict={X: X_valid_fold, y: y_valid_fold})\n",
    "        y_pred_valid_2f = np.argmax(z_pred_valid, axis=1)\n",
    "        y_pred_valid_mat_2f.append(y_pred_valid_2f)\n",
    "        \n",
    "        training_duration_time = datetime.datetime.now()\n",
    "        training_duration = training_duration_time-training_start_time\n",
    "        training_hours, remainder = divmod(training_duration.seconds, 3600)\n",
    "        training_minutes, training_seconds = divmod(remainder,60)\n",
    "        print(\"Last Batch accuracy: \", \"{0:.2f}\".format(acc_batch*100),\n",
    "              \"%, Training accuracy: \", \"{0:.2f}\".format(acc_train*100),\n",
    "              \"%, Validation accuracy: \", \"{0:.2f}\".format(acc_val*100),\"%\")\n",
    "        print(\"Time training up to Epoch \",epoch,\": \",training_hours,\" hours, \", training_minutes,\n",
    "              \" minutes, and \", training_seconds, \" seconds.\")\n",
    "    save_path = saver.save(sess, \"./IB_maxdata_baseneta_100tanh_2fold_run1\")\n",
    "training_end_time = datetime.datetime.now()\n",
    "print('\\nTraining Complete:', training_end_time)"
   ]
  },
  {
   "cell_type": "code",
   "execution_count": 68,
   "metadata": {},
   "outputs": [
    {
     "name": "stdout",
     "output_type": "stream",
     "text": [
      "Second Patient Fold (Patient #4) of CV took 0  hours,  23  minutes, and  14  seconds to train.\n",
      "\n"
     ]
    }
   ],
   "source": [
    "training_duration = training_end_time-training_start_time\n",
    "duration_hours, duration_remainder = divmod(training_duration.seconds, 3600)\n",
    "duration_minutes, duration_seconds = divmod(duration_remainder,60)\n",
    "print(\"Second Patient Fold (Patient #4) of CV took\",duration_hours,\" hours, \", duration_minutes,\n",
    "              \" minutes, and \", duration_seconds, \" seconds to train.\\n\")"
   ]
  },
  {
   "cell_type": "code",
   "execution_count": 69,
   "metadata": {},
   "outputs": [
    {
     "name": "stdout",
     "output_type": "stream",
     "text": [
      "Segment Validation Statistics, Second Patient Fold:\n",
      "Accuracy:\t\t 0.45864661654135336 \n",
      "Precision:\t\t 0.4321266968325792\n",
      "Recall:\t\t\t 0.8377192982456141 \n",
      "F1 Score:\t\t 0.5701492537313433\n"
     ]
    }
   ],
   "source": [
    "valid_accuracy_2f = accuracy_score(y_valid_fold, y_pred_valid_2f)\n",
    "valid_precision_2f = precision_score(y_valid_fold, y_pred_valid_2f)\n",
    "valid_recall_2f = recall_score(y_valid_fold, y_pred_valid_2f)\n",
    "valid_f1_2f = f1_score(y_valid_fold, y_pred_valid_2f)\n",
    "\n",
    "print(\"Segment Validation Statistics, Second Patient Fold:\\nAccuracy:\\t\\t\",valid_accuracy_2f,\n",
    "      \"\\nPrecision:\\t\\t\",valid_precision_2f)\n",
    "print(\"Recall:\\t\\t\\t\",valid_recall_2f,\"\\nF1 Score:\\t\\t\",valid_f1_2f)"
   ]
  },
  {
   "cell_type": "code",
   "execution_count": 70,
   "metadata": {},
   "outputs": [
    {
     "name": "stdout",
     "output_type": "stream",
     "text": [
      "Second Patient Fold Validation Confusion Matrix:\n",
      "                   pred:Leasional  pred:Nonleasional\n",
      "true:Leasional                 53                251\n",
      "true:Nonleasional              37                191\n"
     ]
    }
   ],
   "source": [
    "valid_label = np.unique(y_valid_fold)\n",
    "validation_cm_2f = confusion_matrix(y_valid_fold, y_pred_valid_2f, labels=valid_label) \n",
    "\n",
    "print(\"Second Patient Fold Validation Confusion Matrix:\")\n",
    "print(pd.DataFrame(validation_cm_2f, index=['true:Leasional', 'true:Nonleasional'], \n",
    "                   columns=['pred:Leasional', 'pred:Nonleasional']))"
   ]
  },
  {
   "cell_type": "code",
   "execution_count": 71,
   "metadata": {},
   "outputs": [],
   "source": [
    "y_valid_cube_pred_2fold = group_hypercube(y_pred_valid_2f, cube_threshold, \n",
    "                                          validation_2_key, total_bands)"
   ]
  },
  {
   "cell_type": "code",
   "execution_count": 72,
   "metadata": {},
   "outputs": [
    {
     "name": "stdout",
     "output_type": "stream",
     "text": [
      "Validation Model Hypercube Statistics, Second Patient Fold:\n",
      "Hypercube Accuracy:\t\t 0.5 \n",
      "Hypercube Precision:\t\t 0.46153846153846156\n",
      "Hypercube Recall: \t\t 1.0 \n",
      "Hypercube F1 Score:\t\t 0.631578947368421\n"
     ]
    }
   ],
   "source": [
    "valid_accuracy_cube_2f = accuracy_score(y_valid_cube, y_valid_cube_pred_2fold)\n",
    "valid_precision_cube_2f = precision_score(y_valid_cube, y_valid_cube_pred_2fold)\n",
    "valid_recall_cube_2f = recall_score(y_valid_cube, y_valid_cube_pred_2fold)\n",
    "valid_f1_cube_2f = f1_score(y_valid_cube, y_valid_cube_pred_2fold)\n",
    "\n",
    "print(\"Validation Model Hypercube Statistics, Second Patient Fold:\\nHypercube Accuracy:\\t\\t\",valid_accuracy_cube_2f,\n",
    "      \"\\nHypercube Precision:\\t\\t\",valid_precision_cube_2f)\n",
    "print(\"Hypercube Recall: \\t\\t\",valid_recall_cube_2f,\"\\nHypercube F1 Score:\\t\\t\",valid_f1_cube_2f)"
   ]
  },
  {
   "cell_type": "code",
   "execution_count": 73,
   "metadata": {},
   "outputs": [
    {
     "name": "stdout",
     "output_type": "stream",
     "text": [
      "Second Fold Validation Confusion Matrix (Cube):\n",
      "                   pred:Leasional  pred:Nonleasional\n",
      "true:Leasional                  1                  7\n",
      "true:Nonleasional               0                  6\n"
     ]
    }
   ],
   "source": [
    "valid_cube_label = np.unique(y_valid_cube)\n",
    "validation_cm_cube_2f = confusion_matrix(y_valid_cube, y_valid_cube_pred_2fold, labels=valid_cube_label) \n",
    "\n",
    "print(\"Second Fold Validation Confusion Matrix (Cube):\")\n",
    "print(pd.DataFrame(validation_cm_cube_2f, index=['true:Leasional', 'true:Nonleasional'], \n",
    "                   columns=['pred:Leasional', 'pred:Nonleasional']))"
   ]
  },
  {
   "cell_type": "code",
   "execution_count": 74,
   "metadata": {},
   "outputs": [],
   "source": [
    "avg_v_acc_2f, avg_v_prec_2f, avg_v_re_2f, avg_v_f1_2f, avg_v_cm_2f = average_runs(averaged_runs, \n",
    "                                                                                  y_pred_valid_mat_2f, y_valid_fold)"
   ]
  },
  {
   "cell_type": "code",
   "execution_count": 75,
   "metadata": {},
   "outputs": [
    {
     "name": "stdout",
     "output_type": "stream",
     "text": [
      "Average (20 Epochs) Segment Validation Statistics, Second Patient Fold:\n",
      "Accuracy:\t\t 0.6376879699248119 \n",
      "Precision:\t\t 0.5829869665488623\n",
      "Recall:\t\t\t 0.525438596491228 \n",
      "F1 Score:\t\t 0.548677250121253\n"
     ]
    }
   ],
   "source": [
    "print(\"Average (20 Epochs) Segment Validation Statistics, Second Patient Fold:\\nAccuracy:\\t\\t\",avg_v_acc_2f,\n",
    "      \"\\nPrecision:\\t\\t\",avg_v_prec_2f)\n",
    "print(\"Recall:\\t\\t\\t\",avg_v_re_2f,\"\\nF1 Score:\\t\\t\",avg_v_f1_2f)"
   ]
  },
  {
   "cell_type": "code",
   "execution_count": 76,
   "metadata": {},
   "outputs": [
    {
     "data": {
      "text/html": [
       "<div>\n",
       "<style scoped>\n",
       "    .dataframe tbody tr th:only-of-type {\n",
       "        vertical-align: middle;\n",
       "    }\n",
       "\n",
       "    .dataframe tbody tr th {\n",
       "        vertical-align: top;\n",
       "    }\n",
       "\n",
       "    .dataframe thead th {\n",
       "        text-align: right;\n",
       "    }\n",
       "</style>\n",
       "<table border=\"1\" class=\"dataframe\">\n",
       "  <thead>\n",
       "    <tr style=\"text-align: right;\">\n",
       "      <th></th>\n",
       "      <th>pred:Leasional</th>\n",
       "      <th>pred:Nonleasional</th>\n",
       "    </tr>\n",
       "  </thead>\n",
       "  <tbody>\n",
       "    <tr>\n",
       "      <th>true:Leasional</th>\n",
       "      <td>219.45</td>\n",
       "      <td>84.55</td>\n",
       "    </tr>\n",
       "    <tr>\n",
       "      <th>true:Nonleasional</th>\n",
       "      <td>108.20</td>\n",
       "      <td>119.80</td>\n",
       "    </tr>\n",
       "  </tbody>\n",
       "</table>\n",
       "</div>"
      ],
      "text/plain": [
       "                   pred:Leasional  pred:Nonleasional\n",
       "true:Leasional             219.45              84.55\n",
       "true:Nonleasional          108.20             119.80"
      ]
     },
     "execution_count": 76,
     "metadata": {},
     "output_type": "execute_result"
    }
   ],
   "source": [
    "avgvalid_cm_2f =  avg_v_cm_2f.groupby(avg_v_cm_2f.index)\n",
    "\n",
    "avgvalid_cm_2f.mean()"
   ]
  },
  {
   "cell_type": "code",
   "execution_count": 77,
   "metadata": {},
   "outputs": [
    {
     "name": "stdout",
     "output_type": "stream",
     "text": [
      "Average (20 Epochs) Hypercube Validation Statistics, Second Patient Fold:\n",
      "Hypercube Accuracy:\t\t 0.7214285714285715 \n",
      "Hypercube Precision:\t\t 0.7398809523809524\n",
      "Hypercube Recall:\t\t 0.5416666666666665 \n",
      "Hypercube F1 Score:\t\t 0.6203807303807303\n"
     ]
    }
   ],
   "source": [
    "avg_vc_acc_2f, avg_vc_prec_2f, avg_vc_re_2f, avg_vc_f1_2f, avg_vc_cm_2f = average_group_runs(averaged_runs,\n",
    "                                                                                             y_valid_cube, \n",
    "                                                                                             y_pred_valid_mat_2f, \n",
    "                                                                                             cube_threshold, \n",
    "                                                                                             validation_2_key, \n",
    "                                                                                             total_bands)\n",
    "print(\"Average (20 Epochs) Hypercube Validation Statistics, Second Patient Fold:\\nHypercube Accuracy:\\t\\t\",avg_vc_acc_2f,\n",
    "      \"\\nHypercube Precision:\\t\\t\",avg_vc_prec_2f)\n",
    "print(\"Hypercube Recall:\\t\\t\",avg_vc_re_2f,\"\\nHypercube F1 Score:\\t\\t\",avg_vc_f1_2f)\n"
   ]
  },
  {
   "cell_type": "code",
   "execution_count": 78,
   "metadata": {},
   "outputs": [
    {
     "data": {
      "text/html": [
       "<div>\n",
       "<style scoped>\n",
       "    .dataframe tbody tr th:only-of-type {\n",
       "        vertical-align: middle;\n",
       "    }\n",
       "\n",
       "    .dataframe tbody tr th {\n",
       "        vertical-align: top;\n",
       "    }\n",
       "\n",
       "    .dataframe thead th {\n",
       "        text-align: right;\n",
       "    }\n",
       "</style>\n",
       "<table border=\"1\" class=\"dataframe\">\n",
       "  <thead>\n",
       "    <tr style=\"text-align: right;\">\n",
       "      <th></th>\n",
       "      <th>pred:Leasional</th>\n",
       "      <th>pred:Nonleasional</th>\n",
       "    </tr>\n",
       "  </thead>\n",
       "  <tbody>\n",
       "    <tr>\n",
       "      <th>true:Leasional</th>\n",
       "      <td>6.85</td>\n",
       "      <td>1.15</td>\n",
       "    </tr>\n",
       "    <tr>\n",
       "      <th>true:Nonleasional</th>\n",
       "      <td>2.75</td>\n",
       "      <td>3.25</td>\n",
       "    </tr>\n",
       "  </tbody>\n",
       "</table>\n",
       "</div>"
      ],
      "text/plain": [
       "                   pred:Leasional  pred:Nonleasional\n",
       "true:Leasional               6.85               1.15\n",
       "true:Nonleasional            2.75               3.25"
      ]
     },
     "execution_count": 78,
     "metadata": {},
     "output_type": "execute_result"
    }
   ],
   "source": [
    "avgvalid_cm_cube_2f =  avg_vc_cm_2f.groupby(avg_vc_cm_2f.index)\n",
    "\n",
    "avgvalid_cm_cube_2f.mean()"
   ]
  },
  {
   "cell_type": "code",
   "execution_count": 79,
   "metadata": {
    "scrolled": true
   },
   "outputs": [
    {
     "data": {
      "image/png": "[encoded data removed]",
      "text/plain": [
       "<Figure size 432x288 with 1 Axes>"
      ]
     },
     "metadata": {
      "needs_background": "light"
     },
     "output_type": "display_data"
    }
   ],
   "source": [
    "# Plot of Epochs vs Training Accuracy\n",
    "\n",
    "plt.plot(np.arange(1,epoch+2),np.array(acc_train_mat_2f), '-v')\n",
    "plt.xlabel('Number of Epochs Run')\n",
    "plt.ylabel('Accuracy')\n",
    "plt.title('Fold 2 Training Accuracy vs. Number of Epochs')\n",
    "plt.xlim(left=-1);\n",
    "plt.ylim(top=1);\n",
    "plt.ylim(bottom=0);"
   ]
  },
  {
   "cell_type": "code",
   "execution_count": 80,
   "metadata": {},
   "outputs": [
    {
     "data": {
      "image/png": "[encoded data removed]",
      "text/plain": [
       "<Figure size 432x288 with 1 Axes>"
      ]
     },
     "metadata": {
      "needs_background": "light"
     },
     "output_type": "display_data"
    }
   ],
   "source": [
    "# Plot of Epochs vs Validation Accuracy\n",
    "\n",
    "plt.plot(np.arange(1,epoch+2),np.array(acc_valid_mat_2f), '-v')\n",
    "plt.xlabel('Number of Epochs Run')\n",
    "plt.ylabel('Accuracy')\n",
    "plt.title('Patient Fold 2 (Patient #4) Validation Accuracy vs. Number of Epochs')\n",
    "plt.xlim(left=-1);\n",
    "plt.ylim(top=1);\n",
    "plt.ylim(bottom=0);"
   ]
  },
  {
   "cell_type": "code",
   "execution_count": 81,
   "metadata": {},
   "outputs": [],
   "source": [
    "# Third Patient (Patient #12)\n",
    "graph_seed = 42\n",
    "reset_graph(graph_seed)"
   ]
  },
  {
   "cell_type": "code",
   "execution_count": 82,
   "metadata": {},
   "outputs": [],
   "source": [
    "# Third Validation Fold (Patient #12)\n",
    "X_valid_fold = X_sorted[validation_3]\n",
    "y_valid_fold = y_sorted[validation_3]"
   ]
  },
  {
   "cell_type": "code",
   "execution_count": 83,
   "metadata": {},
   "outputs": [
    {
     "data": {
      "text/plain": [
       "(722, 251502)"
      ]
     },
     "execution_count": 83,
     "metadata": {},
     "output_type": "execute_result"
    }
   ],
   "source": [
    "X_valid_fold.shape"
   ]
  },
  {
   "cell_type": "code",
   "execution_count": 84,
   "metadata": {},
   "outputs": [
    {
     "data": {
      "text/plain": [
       "(722,)"
      ]
     },
     "execution_count": 84,
     "metadata": {},
     "output_type": "execute_result"
    }
   ],
   "source": [
    "y_valid_fold.shape"
   ]
  },
  {
   "cell_type": "code",
   "execution_count": 85,
   "metadata": {},
   "outputs": [],
   "source": [
    "# Validation Cube for patient fold 3 (Patient #12)\n",
    "y_valid_cube = np.array([],dtype=np.int16)\n",
    "for cube in validation_3_key:\n",
    "    if cube.endswith('N'):\n",
    "        cube_class = 1\n",
    "    else:\n",
    "        cube_class = 0\n",
    "    y_valid_cube = np.append(y_valid_cube,cube_class)"
   ]
  },
  {
   "cell_type": "code",
   "execution_count": 86,
   "metadata": {},
   "outputs": [],
   "source": [
    "# Reset the training fold so the system memory is not overused\n",
    "X_train_fold = []"
   ]
  },
  {
   "cell_type": "code",
   "execution_count": 87,
   "metadata": {},
   "outputs": [],
   "source": [
    "# Third Training Fold (Patients 13,10,1,9,6,3,2,14,5,8,4,7)\n",
    "X_train_fold = X_sorted[training_3]\n",
    "y_train_fold = y_sorted[training_3]"
   ]
  },
  {
   "cell_type": "code",
   "execution_count": 88,
   "metadata": {},
   "outputs": [
    {
     "data": {
      "text/plain": [
       "(5928, 251502)"
      ]
     },
     "execution_count": 88,
     "metadata": {},
     "output_type": "execute_result"
    }
   ],
   "source": [
    "X_train_fold.shape"
   ]
  },
  {
   "cell_type": "code",
   "execution_count": 89,
   "metadata": {},
   "outputs": [
    {
     "data": {
      "text/plain": [
       "(5928,)"
      ]
     },
     "execution_count": 89,
     "metadata": {},
     "output_type": "execute_result"
    }
   ],
   "source": [
    "y_train_fold.shape"
   ]
  },
  {
   "cell_type": "code",
   "execution_count": 90,
   "metadata": {},
   "outputs": [],
   "source": [
    "# Sets the Neural Network for the graph\n",
    "height = 501\n",
    "width = 502\n",
    "channels = 1\n",
    "n_inputs = height * width * channels\n",
    "\n",
    "\n",
    "conv1_fmaps = 24\n",
    "conv1_ksize = 5\n",
    "conv1_stride = 3\n",
    "conv1_pad = \"SAME\"\n",
    "conv1_dropout_rate = 0.25\n",
    "\n",
    "pool2_fmaps = conv1_fmaps\n",
    "\n",
    "conv3_fmaps = 48\n",
    "conv3_ksize = 3\n",
    "conv3_stride = 1\n",
    "conv3_pad = \"SAME\"\n",
    "conv3_dropout_rate = 0.25\n",
    "\n",
    "pool4_fmaps = conv3_fmaps\n",
    "\n",
    "conv5_fmaps = 64\n",
    "conv5_ksize = 2\n",
    "conv5_stride = 1\n",
    "conv5_pad = \"SAME\"\n",
    "conv5_dropout_rate = 0.5\n",
    "\n",
    "pool6_fmaps = conv5_fmaps\n",
    "\n",
    "n_fc1 = 24\n",
    "n_outputs = 2\n",
    "\n",
    "regularizer = tf.contrib.layers.l2_regularizer(scale=0.1)\n",
    "\n",
    "with tf.name_scope(\"inputs\"):\n",
    "    X = tf.placeholder(tf.float32, shape=[None, n_inputs], name=\"X\")\n",
    "    X_reshaped = tf.reshape(X, shape=[-1, height, width, channels])\n",
    "    y = tf.placeholder(tf.int32, shape=[None], name=\"y\")\n",
    "    training = tf.placeholder_with_default(False, shape=[], name='training')\n",
    "\n",
    "conv1 = tf.layers.conv2d(X_reshaped, filters=conv1_fmaps, kernel_size=conv1_ksize,\n",
    "                         strides=conv1_stride, padding=conv1_pad,\n",
    "                         activation=tf.nn.tanh, kernel_regularizer=regularizer, name=\"conv1\")\n",
    "\n",
    "with tf.name_scope(\"pool2\"):\n",
    "    pool2 = tf.nn.max_pool(conv1, ksize=[1, 2, 2, 1], strides=[1, 2, 2, 1], padding=\"VALID\")\n",
    "    pool2_drop = tf.layers.dropout(pool2, conv1_dropout_rate, training=training)\n",
    "\n",
    "conv3 = tf.layers.conv2d(pool2_drop, filters=conv3_fmaps, kernel_size=conv3_ksize,\n",
    "                         strides=conv3_stride, padding=conv3_pad,\n",
    "                         activation=tf.nn.tanh, name=\"conv3\")\n",
    "\n",
    "with tf.name_scope(\"pool4\"):\n",
    "    pool4 = tf.nn.max_pool(conv3, ksize=[1, 2, 2, 1], strides=[1, 2, 2, 1], padding=\"VALID\")\n",
    "    pool4_drop = tf.layers.dropout(pool4, conv3_dropout_rate, training=training)\n",
    "\n",
    "conv5 = tf.layers.conv2d(pool4_drop, filters=conv5_fmaps, kernel_size=conv5_ksize,\n",
    "                         strides=conv5_stride, padding=conv5_pad,\n",
    "                         activation=tf.nn.tanh, name=\"conv5\")\n",
    "\n",
    "with tf.name_scope(\"pool6\"):\n",
    "    pool6 = tf.nn.max_pool(conv5, ksize=[1, 2, 2, 1], strides=[1, 2, 2, 1], padding=\"VALID\")\n",
    "    pool6_flat = tf.reshape(pool6, shape=[-1, pool6_fmaps * 20 * 21])\n",
    "    pool6_flat_drop = tf.layers.dropout(pool6_flat, conv5_dropout_rate, training=training)      \n",
    "       \n",
    "with tf.name_scope(\"fc1\"):\n",
    "    fc1 = tf.layers.dense(pool6_flat_drop, n_fc1, activation=tf.nn.tanh, kernel_regularizer=regularizer, name=\"fc1\")\n",
    "\n",
    "with tf.name_scope(\"output\"):\n",
    "    logits = tf.layers.dense(fc1, n_outputs, name=\"output\")\n",
    "    Y_proba = tf.nn.softmax(logits, name=\"Y_proba\")\n",
    "\n",
    "with tf.name_scope(\"train\"):\n",
    "    xentropy = tf.nn.sparse_softmax_cross_entropy_with_logits(logits=logits, labels=y)\n",
    "    l2_loss = tf.losses.get_regularization_loss()\n",
    "    loss = tf.reduce_mean(xentropy) + l2_loss\n",
    "    optimizer = tf.train.AdamOptimizer(learning_rate=0.0001)\n",
    "    training_op = optimizer.minimize(loss)\n",
    "\n",
    "with tf.name_scope(\"eval\"):\n",
    "    correct = tf.nn.in_top_k(logits, y, 1)\n",
    "    accuracy = tf.reduce_mean(tf.cast(correct, tf.float32))\n",
    "\n",
    "with tf.name_scope(\"init_and_save\"):\n",
    "    init = tf.global_variables_initializer()\n",
    "    saver = tf.train.Saver()"
   ]
  },
  {
   "cell_type": "code",
   "execution_count": 91,
   "metadata": {},
   "outputs": [],
   "source": [
    "# Sets the number of epochs and batch size\n",
    "n_iterations_per_epoch = len(X_train_fold) // batch_size"
   ]
  },
  {
   "cell_type": "code",
   "execution_count": 92,
   "metadata": {
    "scrolled": true
   },
   "outputs": [
    {
     "data": {
      "text/plain": [
       "59"
      ]
     },
     "execution_count": 92,
     "metadata": {},
     "output_type": "execute_result"
    }
   ],
   "source": [
    "n_iterations_per_epoch"
   ]
  },
  {
   "cell_type": "code",
   "execution_count": 93,
   "metadata": {},
   "outputs": [
    {
     "name": "stdout",
     "output_type": "stream",
     "text": [
      "Start Time:  2019-03-07 19:53:33.505696 \n",
      "\n",
      "Epoch 0\n",
      "Last Batch accuracy:  55.00 %, Training accuracy:  57.73 %, Validation accuracy:  76.87 %\n",
      "Time training up to Epoch  0 :  0  hours,  0  minutes, and  47  seconds.\n",
      "Epoch 1\n",
      "Last Batch accuracy:  50.00 %, Training accuracy:  52.88 %, Validation accuracy:  52.63 %\n",
      "Time training up to Epoch  1 :  0  hours,  1  minutes, and  32  seconds.\n",
      "Epoch 2\n",
      "Last Batch accuracy:  57.00 %, Training accuracy:  58.13 %, Validation accuracy:  78.95 %\n",
      "Time training up to Epoch  2 :  0  hours,  2  minutes, and  16  seconds.\n",
      "Epoch 3\n",
      "Last Batch accuracy:  48.00 %, Training accuracy:  55.50 %, Validation accuracy:  50.00 %\n",
      "Time training up to Epoch  3 :  0  hours,  3  minutes, and  1  seconds.\n",
      "Epoch 4\n",
      "Last Batch accuracy:  64.00 %, Training accuracy:  61.61 %, Validation accuracy:  55.82 %\n",
      "Time training up to Epoch  4 :  0  hours,  3  minutes, and  46  seconds.\n",
      "Epoch 5\n",
      "Last Batch accuracy:  63.00 %, Training accuracy:  66.01 %, Validation accuracy:  75.48 %\n",
      "Time training up to Epoch  5 :  0  hours,  4  minutes, and  30  seconds.\n",
      "Epoch 6\n",
      "Last Batch accuracy:  59.00 %, Training accuracy:  65.05 %, Validation accuracy:  56.51 %\n",
      "Time training up to Epoch  6 :  0  hours,  5  minutes, and  15  seconds.\n",
      "Epoch 7\n",
      "Last Batch accuracy:  61.00 %, Training accuracy:  64.84 %, Validation accuracy:  73.27 %\n",
      "Time training up to Epoch  7 :  0  hours,  6  minutes, and  0  seconds.\n",
      "Epoch 8\n",
      "Last Batch accuracy:  69.00 %, Training accuracy:  67.75 %, Validation accuracy:  61.63 %\n",
      "Time training up to Epoch  8 :  0  hours,  6  minutes, and  44  seconds.\n",
      "Epoch 9\n",
      "Last Batch accuracy:  69.00 %, Training accuracy:  68.94 %, Validation accuracy:  74.38 %\n",
      "Time training up to Epoch  9 :  0  hours,  7  minutes, and  29  seconds.\n",
      "Epoch 10\n",
      "Last Batch accuracy:  68.00 %, Training accuracy:  71.17 %, Validation accuracy:  68.70 %\n",
      "Time training up to Epoch  10 :  0  hours,  8  minutes, and  14  seconds.\n",
      "Epoch 11\n",
      "Last Batch accuracy:  79.00 %, Training accuracy:  72.35 %, Validation accuracy:  75.21 %\n",
      "Time training up to Epoch  11 :  0  hours,  8  minutes, and  58  seconds.\n",
      "Epoch 12\n",
      "Last Batch accuracy:  73.00 %, Training accuracy:  73.90 %, Validation accuracy:  72.71 %\n",
      "Time training up to Epoch  12 :  0  hours,  9  minutes, and  43  seconds.\n",
      "Epoch 13\n",
      "Last Batch accuracy:  76.00 %, Training accuracy:  74.29 %, Validation accuracy:  74.10 %\n",
      "Time training up to Epoch  13 :  0  hours,  10  minutes, and  27  seconds.\n",
      "Epoch 14\n",
      "Last Batch accuracy:  85.00 %, Training accuracy:  74.80 %, Validation accuracy:  72.99 %\n",
      "Time training up to Epoch  14 :  0  hours,  11  minutes, and  11  seconds.\n",
      "Epoch 15\n",
      "Last Batch accuracy:  64.00 %, Training accuracy:  75.71 %, Validation accuracy:  70.91 %\n",
      "Time training up to Epoch  15 :  0  hours,  11  minutes, and  55  seconds.\n",
      "Epoch 16\n",
      "Last Batch accuracy:  79.00 %, Training accuracy:  77.40 %, Validation accuracy:  77.42 %\n",
      "Time training up to Epoch  16 :  0  hours,  12  minutes, and  40  seconds.\n",
      "Epoch 17\n",
      "Last Batch accuracy:  82.00 %, Training accuracy:  78.24 %, Validation accuracy:  68.14 %\n",
      "Time training up to Epoch  17 :  0  hours,  13  minutes, and  24  seconds.\n",
      "Epoch 18\n",
      "Last Batch accuracy:  85.00 %, Training accuracy:  79.84 %, Validation accuracy:  74.93 %\n",
      "Time training up to Epoch  18 :  0  hours,  14  minutes, and  8  seconds.\n",
      "Epoch 19\n",
      "Last Batch accuracy:  75.00 %, Training accuracy:  78.53 %, Validation accuracy:  77.98 %\n",
      "Time training up to Epoch  19 :  0  hours,  14  minutes, and  52  seconds.\n",
      "Epoch 20\n",
      "Last Batch accuracy:  80.00 %, Training accuracy:  77.83 %, Validation accuracy:  52.22 %\n",
      "Time training up to Epoch  20 :  0  hours,  15  minutes, and  36  seconds.\n",
      "Epoch 21\n",
      "Last Batch accuracy:  71.00 %, Training accuracy:  78.19 %, Validation accuracy:  71.75 %\n",
      "Time training up to Epoch  21 :  0  hours,  16  minutes, and  21  seconds.\n",
      "Epoch 22\n",
      "Last Batch accuracy:  83.00 %, Training accuracy:  82.20 %, Validation accuracy:  77.84 %\n",
      "Time training up to Epoch  22 :  0  hours,  17  minutes, and  5  seconds.\n",
      "Epoch 23\n",
      "Last Batch accuracy:  77.00 %, Training accuracy:  82.34 %, Validation accuracy:  76.32 %\n",
      "Time training up to Epoch  23 :  0  hours,  17  minutes, and  49  seconds.\n",
      "Epoch 24\n",
      "Last Batch accuracy:  76.00 %, Training accuracy:  79.61 %, Validation accuracy:  69.67 %\n",
      "Time training up to Epoch  24 :  0  hours,  18  minutes, and  34  seconds.\n",
      "Epoch 25\n",
      "Last Batch accuracy:  83.00 %, Training accuracy:  80.95 %, Validation accuracy:  73.41 %\n",
      "Time training up to Epoch  25 :  0  hours,  19  minutes, and  18  seconds.\n",
      "Epoch 26\n",
      "Last Batch accuracy:  81.00 %, Training accuracy:  81.71 %, Validation accuracy:  79.36 %\n",
      "Time training up to Epoch  26 :  0  hours,  20  minutes, and  2  seconds.\n",
      "Epoch 27\n",
      "Last Batch accuracy:  80.00 %, Training accuracy:  79.79 %, Validation accuracy:  72.16 %\n",
      "Time training up to Epoch  27 :  0  hours,  20  minutes, and  47  seconds.\n",
      "Epoch 28\n",
      "Last Batch accuracy:  85.00 %, Training accuracy:  83.05 %, Validation accuracy:  72.44 %\n",
      "Time training up to Epoch  28 :  0  hours,  21  minutes, and  31  seconds.\n",
      "Epoch 29\n",
      "Last Batch accuracy:  81.00 %, Training accuracy:  82.29 %, Validation accuracy:  72.02 %\n",
      "Time training up to Epoch  29 :  0  hours,  22  minutes, and  15  seconds.\n",
      "\n",
      "Training Complete: 2019-03-07 20:15:49.909509\n"
     ]
    }
   ],
   "source": [
    "# Trains the CNN\n",
    "acc_train_mat_3f = []\n",
    "acc_valid_mat_3f = []\n",
    "\n",
    "y_pred_valid_mat_3f = []\n",
    "\n",
    "training_start_time = datetime.datetime.now()\n",
    "print(\"Start Time: \", training_start_time, \"\\n\")\n",
    "\n",
    "with tf.Session() as sess:\n",
    "    init.run()\n",
    "\n",
    "    for epoch in range(n_epochs):\n",
    "        y_train_pred = np.array([],dtype=np.int16)\n",
    "        print(\"Epoch\", epoch)\n",
    "        # \n",
    "        for iteration in range(n_iterations_per_epoch):\n",
    "            X_batch, y_batch = prepare_batch(X_train_fold, y_train_fold, batch_size)            \n",
    "            sess.run(training_op, feed_dict={X: X_batch, y: y_batch})\n",
    "        acc_batch = accuracy.eval(feed_dict={X: X_batch, y: y_batch})\n",
    "        # Finds the predicted values for the training set\n",
    "        for i in range(len((X_train_fold))):\n",
    "            X_train = normalize_max_train(X_train_fold[i])\n",
    "            z_pred_train = logits.eval(feed_dict={X: X_train})\n",
    "            y_pred_train = np.argmax(z_pred_train, axis=1)\n",
    "            y_train_pred = np.append(y_train_pred,y_pred_train)\n",
    "        acc_train = accuracy_score(y_train_fold, y_train_pred)\n",
    "        acc_val = accuracy.eval(feed_dict={X: X_valid_fold, y: y_valid_fold})\n",
    "        # Appends the network accuracy to a matrix for so we can evaluate performance over epoch\n",
    "        acc_train_mat_3f.append(acc_train)\n",
    "        acc_valid_mat_3f.append(acc_val)\n",
    "        # Finds the predicted values for the validation set\n",
    "        z_pred_valid = logits.eval(feed_dict={X: X_valid_fold, y: y_valid_fold})\n",
    "        y_pred_valid_3f = np.argmax(z_pred_valid, axis=1)\n",
    "        y_pred_valid_mat_3f.append(y_pred_valid_3f)\n",
    "        \n",
    "        training_duration_time = datetime.datetime.now()\n",
    "        training_duration = training_duration_time-training_start_time\n",
    "        training_hours, remainder = divmod(training_duration.seconds, 3600)\n",
    "        training_minutes, training_seconds = divmod(remainder,60)\n",
    "        print(\"Last Batch accuracy: \", \"{0:.2f}\".format(acc_batch*100),\n",
    "              \"%, Training accuracy: \", \"{0:.2f}\".format(acc_train*100),\n",
    "              \"%, Validation accuracy: \", \"{0:.2f}\".format(acc_val*100),\"%\")\n",
    "        print(\"Time training up to Epoch \",epoch,\": \",training_hours,\" hours, \", training_minutes,\n",
    "              \" minutes, and \", training_seconds, \" seconds.\")\n",
    "    save_path = saver.save(sess, \"./IB_maxdata_baseneta_100tanh_3fold_run1\")\n",
    "training_end_time = datetime.datetime.now()\n",
    "print('\\nTraining Complete:', training_end_time)"
   ]
  },
  {
   "cell_type": "code",
   "execution_count": 94,
   "metadata": {},
   "outputs": [
    {
     "name": "stdout",
     "output_type": "stream",
     "text": [
      "Third Patient Fold (Patient #12) of CV took 0  hours,  22  minutes, and  16  seconds to train.\n",
      "\n"
     ]
    }
   ],
   "source": [
    "training_duration = training_end_time-training_start_time\n",
    "duration_hours, duration_remainder = divmod(training_duration.seconds, 3600)\n",
    "duration_minutes, duration_seconds = divmod(duration_remainder,60)\n",
    "print(\"Third Patient Fold (Patient #12) of CV took\",duration_hours,\" hours, \", duration_minutes,\n",
    "              \" minutes, and \", duration_seconds, \" seconds to train.\\n\")"
   ]
  },
  {
   "cell_type": "code",
   "execution_count": 95,
   "metadata": {},
   "outputs": [
    {
     "name": "stdout",
     "output_type": "stream",
     "text": [
      "Segment Validation Statistics, Third Patient Fold:\n",
      "Accuracy:\t\t 0.7202216066481995 \n",
      "Precision:\t\t 0.6851851851851852\n",
      "Recall:\t\t\t 0.7573099415204678 \n",
      "F1 Score:\t\t 0.7194444444444443\n"
     ]
    }
   ],
   "source": [
    "valid_accuracy_3f = accuracy_score(y_valid_fold, y_pred_valid_3f)\n",
    "valid_precision_3f = precision_score(y_valid_fold, y_pred_valid_3f)\n",
    "valid_recall_3f = recall_score(y_valid_fold, y_pred_valid_3f)\n",
    "valid_f1_3f = f1_score(y_valid_fold, y_pred_valid_3f)\n",
    "\n",
    "print(\"Segment Validation Statistics, Third Patient Fold:\\nAccuracy:\\t\\t\",valid_accuracy_3f,\n",
    "      \"\\nPrecision:\\t\\t\",valid_precision_3f)\n",
    "print(\"Recall:\\t\\t\\t\",valid_recall_3f,\"\\nF1 Score:\\t\\t\",valid_f1_3f)"
   ]
  },
  {
   "cell_type": "code",
   "execution_count": 96,
   "metadata": {},
   "outputs": [
    {
     "name": "stdout",
     "output_type": "stream",
     "text": [
      "Third Patient Fold Validation Confusion Matrix:\n",
      "                   pred:Leasional  pred:Nonleasional\n",
      "true:Leasional                261                119\n",
      "true:Nonleasional              83                259\n"
     ]
    }
   ],
   "source": [
    "valid_label = np.unique(y_valid_fold)\n",
    "validation_cm_3f = confusion_matrix(y_valid_fold, y_pred_valid_3f, labels=valid_label) \n",
    "\n",
    "print(\"Third Patient Fold Validation Confusion Matrix:\")\n",
    "print(pd.DataFrame(validation_cm_3f, index=['true:Leasional', 'true:Nonleasional'], \n",
    "                   columns=['pred:Leasional', 'pred:Nonleasional']))"
   ]
  },
  {
   "cell_type": "code",
   "execution_count": 97,
   "metadata": {},
   "outputs": [],
   "source": [
    "y_valid_cube_pred_3fold = group_hypercube(y_pred_valid_3f, cube_threshold, \n",
    "                                          validation_3_key, total_bands)"
   ]
  },
  {
   "cell_type": "code",
   "execution_count": 98,
   "metadata": {},
   "outputs": [
    {
     "name": "stdout",
     "output_type": "stream",
     "text": [
      "Validation Model Hypercube Statistics, Third Patient Fold:\n",
      "Hypercube Accuracy:\t\t 0.6842105263157895 \n",
      "Hypercube Precision:\t\t 0.6363636363636364\n",
      "Hypercube Recall: \t\t 0.7777777777777778 \n",
      "Hypercube F1 Score:\t\t 0.7000000000000001\n"
     ]
    }
   ],
   "source": [
    "valid_accuracy_cube_3f = accuracy_score(y_valid_cube, y_valid_cube_pred_3fold)\n",
    "valid_precision_cube_3f = precision_score(y_valid_cube, y_valid_cube_pred_3fold)\n",
    "valid_recall_cube_3f = recall_score(y_valid_cube, y_valid_cube_pred_3fold)\n",
    "valid_f1_cube_3f = f1_score(y_valid_cube, y_valid_cube_pred_3fold)\n",
    "\n",
    "print(\"Validation Model Hypercube Statistics, Third Patient Fold:\\nHypercube Accuracy:\\t\\t\",valid_accuracy_cube_3f,\n",
    "      \"\\nHypercube Precision:\\t\\t\",valid_precision_cube_3f)\n",
    "print(\"Hypercube Recall: \\t\\t\",valid_recall_cube_3f,\"\\nHypercube F1 Score:\\t\\t\",valid_f1_cube_3f)"
   ]
  },
  {
   "cell_type": "code",
   "execution_count": 99,
   "metadata": {},
   "outputs": [
    {
     "name": "stdout",
     "output_type": "stream",
     "text": [
      "Third Patient Fold Validation Confusion Matrix (Cube):\n",
      "                   pred:Leasional  pred:Nonleasional\n",
      "true:Leasional                  6                  4\n",
      "true:Nonleasional               2                  7\n"
     ]
    }
   ],
   "source": [
    "valid_cube_label = np.unique(y_valid_cube)\n",
    "validation_cm_cube_3f = confusion_matrix(y_valid_cube, y_valid_cube_pred_3fold, labels=valid_cube_label) \n",
    "\n",
    "print(\"Third Patient Fold Validation Confusion Matrix (Cube):\")\n",
    "print(pd.DataFrame(validation_cm_cube_3f, index=['true:Leasional', 'true:Nonleasional'], \n",
    "                   columns=['pred:Leasional', 'pred:Nonleasional']))"
   ]
  },
  {
   "cell_type": "code",
   "execution_count": 100,
   "metadata": {},
   "outputs": [],
   "source": [
    "avg_v_acc_3f, avg_v_prec_3f, avg_v_re_3f, avg_v_f1_3f, avg_v_cm_3f = average_runs(averaged_runs, \n",
    "                                                                                  y_pred_valid_mat_3f, y_valid_fold)"
   ]
  },
  {
   "cell_type": "code",
   "execution_count": 101,
   "metadata": {},
   "outputs": [
    {
     "name": "stdout",
     "output_type": "stream",
     "text": [
      "Average (20 Epochs) Segment Validation Statistics, Third Patient Fold:\n",
      "Accuracy:\t\t 0.7263157894736844 \n",
      "Precision:\t\t 0.7371366464848418\n",
      "Recall:\t\t\t 0.6883040935672515 \n",
      "F1 Score:\t\t 0.700930298083216\n"
     ]
    }
   ],
   "source": [
    "print(\"Average (20 Epochs) Segment Validation Statistics, Third Patient Fold:\\nAccuracy:\\t\\t\",avg_v_acc_3f,\n",
    "      \"\\nPrecision:\\t\\t\",avg_v_prec_3f)\n",
    "print(\"Recall:\\t\\t\\t\",avg_v_re_3f,\"\\nF1 Score:\\t\\t\",avg_v_f1_3f)"
   ]
  },
  {
   "cell_type": "code",
   "execution_count": 102,
   "metadata": {},
   "outputs": [
    {
     "data": {
      "text/html": [
       "<div>\n",
       "<style scoped>\n",
       "    .dataframe tbody tr th:only-of-type {\n",
       "        vertical-align: middle;\n",
       "    }\n",
       "\n",
       "    .dataframe tbody tr th {\n",
       "        vertical-align: top;\n",
       "    }\n",
       "\n",
       "    .dataframe thead th {\n",
       "        text-align: right;\n",
       "    }\n",
       "</style>\n",
       "<table border=\"1\" class=\"dataframe\">\n",
       "  <thead>\n",
       "    <tr style=\"text-align: right;\">\n",
       "      <th></th>\n",
       "      <th>pred:Leasional</th>\n",
       "      <th>pred:Nonleasional</th>\n",
       "    </tr>\n",
       "  </thead>\n",
       "  <tbody>\n",
       "    <tr>\n",
       "      <th>true:Leasional</th>\n",
       "      <td>289.0</td>\n",
       "      <td>91.0</td>\n",
       "    </tr>\n",
       "    <tr>\n",
       "      <th>true:Nonleasional</th>\n",
       "      <td>106.6</td>\n",
       "      <td>235.4</td>\n",
       "    </tr>\n",
       "  </tbody>\n",
       "</table>\n",
       "</div>"
      ],
      "text/plain": [
       "                   pred:Leasional  pred:Nonleasional\n",
       "true:Leasional              289.0               91.0\n",
       "true:Nonleasional           106.6              235.4"
      ]
     },
     "execution_count": 102,
     "metadata": {},
     "output_type": "execute_result"
    }
   ],
   "source": [
    "avgvalid_cm_3f =  avg_v_cm_3f.groupby(avg_v_cm_3f.index)\n",
    "\n",
    "avgvalid_cm_3f.mean()"
   ]
  },
  {
   "cell_type": "code",
   "execution_count": 103,
   "metadata": {},
   "outputs": [
    {
     "name": "stdout",
     "output_type": "stream",
     "text": [
      "Average (20 Epochs) Hypercube Validation Statistics, Third Patient Fold:\n",
      "Hypercube Accuracy:\t\t 0.7184210526315788 \n",
      "Hypercube Precision:\t\t 0.7369769119769118\n",
      "Hypercube Recall:\t\t 0.6888888888888889 \n",
      "Hypercube F1 Score:\t\t 0.6958346847510934\n"
     ]
    }
   ],
   "source": [
    "avg_vc_acc_3f, avg_vc_prec_3f, avg_vc_re_3f, avg_vc_f1_3f, avg_vc_cm_3f = average_group_runs(averaged_runs,\n",
    "                                                                                             y_valid_cube, \n",
    "                                                                                             y_pred_valid_mat_3f, \n",
    "                                                                                             cube_threshold, \n",
    "                                                                                             validation_3_key, \n",
    "                                                                                             total_bands)\n",
    "print(\"Average (20 Epochs) Hypercube Validation Statistics, Third Patient Fold:\\nHypercube Accuracy:\\t\\t\",avg_vc_acc_3f,\n",
    "      \"\\nHypercube Precision:\\t\\t\",avg_vc_prec_3f)\n",
    "print(\"Hypercube Recall:\\t\\t\",avg_vc_re_3f,\"\\nHypercube F1 Score:\\t\\t\",avg_vc_f1_3f)\n"
   ]
  },
  {
   "cell_type": "code",
   "execution_count": 104,
   "metadata": {},
   "outputs": [
    {
     "data": {
      "text/html": [
       "<div>\n",
       "<style scoped>\n",
       "    .dataframe tbody tr th:only-of-type {\n",
       "        vertical-align: middle;\n",
       "    }\n",
       "\n",
       "    .dataframe tbody tr th {\n",
       "        vertical-align: top;\n",
       "    }\n",
       "\n",
       "    .dataframe thead th {\n",
       "        text-align: right;\n",
       "    }\n",
       "</style>\n",
       "<table border=\"1\" class=\"dataframe\">\n",
       "  <thead>\n",
       "    <tr style=\"text-align: right;\">\n",
       "      <th></th>\n",
       "      <th>pred:Leasional</th>\n",
       "      <th>pred:Nonleasional</th>\n",
       "    </tr>\n",
       "  </thead>\n",
       "  <tbody>\n",
       "    <tr>\n",
       "      <th>true:Leasional</th>\n",
       "      <td>7.45</td>\n",
       "      <td>2.55</td>\n",
       "    </tr>\n",
       "    <tr>\n",
       "      <th>true:Nonleasional</th>\n",
       "      <td>2.80</td>\n",
       "      <td>6.20</td>\n",
       "    </tr>\n",
       "  </tbody>\n",
       "</table>\n",
       "</div>"
      ],
      "text/plain": [
       "                   pred:Leasional  pred:Nonleasional\n",
       "true:Leasional               7.45               2.55\n",
       "true:Nonleasional            2.80               6.20"
      ]
     },
     "execution_count": 104,
     "metadata": {},
     "output_type": "execute_result"
    }
   ],
   "source": [
    "avgvalid_cm_cube_3f =  avg_vc_cm_3f.groupby(avg_vc_cm_3f.index)\n",
    "\n",
    "avgvalid_cm_cube_3f.mean()"
   ]
  },
  {
   "cell_type": "code",
   "execution_count": 105,
   "metadata": {
    "scrolled": true
   },
   "outputs": [
    {
     "data": {
      "image/png": "[encoded data removed]",
      "text/plain": [
       "<Figure size 432x288 with 1 Axes>"
      ]
     },
     "metadata": {
      "needs_background": "light"
     },
     "output_type": "display_data"
    }
   ],
   "source": [
    "# Plot of Epochs vs Training Accuracy\n",
    "\n",
    "plt.plot(np.arange(1,epoch+2),np.array(acc_train_mat_3f), '-v')\n",
    "plt.xlabel('Number of Epochs Run')\n",
    "plt.ylabel('Accuracy')\n",
    "plt.title('Fold 3 Training Accuracy vs. Number of Epochs')\n",
    "plt.xlim(left=-1);\n",
    "plt.ylim(top=1);\n",
    "plt.ylim(bottom=0);"
   ]
  },
  {
   "cell_type": "code",
   "execution_count": 106,
   "metadata": {},
   "outputs": [
    {
     "data": {
      "image/png": "[encoded data removed]",
      "text/plain": [
       "<Figure size 432x288 with 1 Axes>"
      ]
     },
     "metadata": {
      "needs_background": "light"
     },
     "output_type": "display_data"
    }
   ],
   "source": [
    "# Plot of Epochs vs Validation Accuracy\n",
    "\n",
    "plt.plot(np.arange(1,epoch+2),np.array(acc_valid_mat_3f), '-v')\n",
    "plt.xlabel('Number of Epochs Run')\n",
    "plt.ylabel('Accuracy')\n",
    "plt.title('Patient Fold 3 (Patient #12) Validation Accuracy vs. Number of Epochs')\n",
    "plt.xlim(left=-1);\n",
    "plt.ylim(top=1);\n",
    "plt.ylim(bottom=0);"
   ]
  },
  {
   "cell_type": "code",
   "execution_count": 107,
   "metadata": {},
   "outputs": [],
   "source": [
    "# Fourth Patient (Patient #8)\n",
    "graph_seed = 42\n",
    "reset_graph(graph_seed)"
   ]
  },
  {
   "cell_type": "code",
   "execution_count": 108,
   "metadata": {},
   "outputs": [],
   "source": [
    "# Fourth Validation Fold (Patient #8)\n",
    "X_valid_fold = X_sorted[validation_4]\n",
    "y_valid_fold = y_sorted[validation_4]"
   ]
  },
  {
   "cell_type": "code",
   "execution_count": 109,
   "metadata": {},
   "outputs": [
    {
     "data": {
      "text/plain": [
       "(570, 251502)"
      ]
     },
     "execution_count": 109,
     "metadata": {},
     "output_type": "execute_result"
    }
   ],
   "source": [
    "X_valid_fold.shape"
   ]
  },
  {
   "cell_type": "code",
   "execution_count": 110,
   "metadata": {},
   "outputs": [
    {
     "data": {
      "text/plain": [
       "(570,)"
      ]
     },
     "execution_count": 110,
     "metadata": {},
     "output_type": "execute_result"
    }
   ],
   "source": [
    "y_valid_fold.shape"
   ]
  },
  {
   "cell_type": "code",
   "execution_count": 111,
   "metadata": {},
   "outputs": [],
   "source": [
    "# Validation Cube for patient fold 4 (Patient #8)\n",
    "y_valid_cube = np.array([],dtype=np.int16)\n",
    "for cube in validation_4_key:\n",
    "    if cube.endswith('N'):\n",
    "        cube_class = 1\n",
    "    else:\n",
    "        cube_class = 0\n",
    "    y_valid_cube = np.append(y_valid_cube,cube_class)"
   ]
  },
  {
   "cell_type": "code",
   "execution_count": 112,
   "metadata": {},
   "outputs": [],
   "source": [
    "# Reset the training fold so the system memory is not overused\n",
    "X_train_fold = []"
   ]
  },
  {
   "cell_type": "code",
   "execution_count": 113,
   "metadata": {},
   "outputs": [],
   "source": [
    "# Fourth Training Fold (Patients 13,10,1,9,6,3,2,14,5,12,4,7)\n",
    "X_train_fold = X_sorted[training_4]\n",
    "y_train_fold = y_sorted[training_4]"
   ]
  },
  {
   "cell_type": "code",
   "execution_count": 114,
   "metadata": {},
   "outputs": [
    {
     "data": {
      "text/plain": [
       "(6080, 251502)"
      ]
     },
     "execution_count": 114,
     "metadata": {},
     "output_type": "execute_result"
    }
   ],
   "source": [
    "X_train_fold.shape"
   ]
  },
  {
   "cell_type": "code",
   "execution_count": 115,
   "metadata": {},
   "outputs": [
    {
     "data": {
      "text/plain": [
       "(6080,)"
      ]
     },
     "execution_count": 115,
     "metadata": {},
     "output_type": "execute_result"
    }
   ],
   "source": [
    "y_train_fold.shape"
   ]
  },
  {
   "cell_type": "code",
   "execution_count": 116,
   "metadata": {},
   "outputs": [],
   "source": [
    "# Sets the Neural Network for the graph\n",
    "height = 501\n",
    "width = 502\n",
    "channels = 1\n",
    "n_inputs = height * width * channels\n",
    "\n",
    "\n",
    "conv1_fmaps = 24\n",
    "conv1_ksize = 5\n",
    "conv1_stride = 3\n",
    "conv1_pad = \"SAME\"\n",
    "conv1_dropout_rate = 0.25\n",
    "\n",
    "pool2_fmaps = conv1_fmaps\n",
    "\n",
    "conv3_fmaps = 48\n",
    "conv3_ksize = 3\n",
    "conv3_stride = 1\n",
    "conv3_pad = \"SAME\"\n",
    "conv3_dropout_rate = 0.25\n",
    "\n",
    "pool4_fmaps = conv3_fmaps\n",
    "\n",
    "conv5_fmaps = 64\n",
    "conv5_ksize = 2\n",
    "conv5_stride = 1\n",
    "conv5_pad = \"SAME\"\n",
    "conv5_dropout_rate = 0.5\n",
    "\n",
    "pool6_fmaps = conv5_fmaps\n",
    "\n",
    "n_fc1 = 24\n",
    "n_outputs = 2\n",
    "\n",
    "regularizer = tf.contrib.layers.l2_regularizer(scale=0.1)\n",
    "\n",
    "with tf.name_scope(\"inputs\"):\n",
    "    X = tf.placeholder(tf.float32, shape=[None, n_inputs], name=\"X\")\n",
    "    X_reshaped = tf.reshape(X, shape=[-1, height, width, channels])\n",
    "    y = tf.placeholder(tf.int32, shape=[None], name=\"y\")\n",
    "    training = tf.placeholder_with_default(False, shape=[], name='training')\n",
    "\n",
    "conv1 = tf.layers.conv2d(X_reshaped, filters=conv1_fmaps, kernel_size=conv1_ksize,\n",
    "                         strides=conv1_stride, padding=conv1_pad,\n",
    "                         activation=tf.nn.tanh, kernel_regularizer=regularizer, name=\"conv1\")\n",
    "\n",
    "with tf.name_scope(\"pool2\"):\n",
    "    pool2 = tf.nn.max_pool(conv1, ksize=[1, 2, 2, 1], strides=[1, 2, 2, 1], padding=\"VALID\")\n",
    "    pool2_drop = tf.layers.dropout(pool2, conv1_dropout_rate, training=training)\n",
    "\n",
    "conv3 = tf.layers.conv2d(pool2_drop, filters=conv3_fmaps, kernel_size=conv3_ksize,\n",
    "                         strides=conv3_stride, padding=conv3_pad,\n",
    "                         activation=tf.nn.tanh, name=\"conv3\")\n",
    "\n",
    "with tf.name_scope(\"pool4\"):\n",
    "    pool4 = tf.nn.max_pool(conv3, ksize=[1, 2, 2, 1], strides=[1, 2, 2, 1], padding=\"VALID\")\n",
    "    pool4_drop = tf.layers.dropout(pool4, conv3_dropout_rate, training=training)\n",
    "\n",
    "conv5 = tf.layers.conv2d(pool4_drop, filters=conv5_fmaps, kernel_size=conv5_ksize,\n",
    "                         strides=conv5_stride, padding=conv5_pad,\n",
    "                         activation=tf.nn.tanh, name=\"conv5\")\n",
    "\n",
    "with tf.name_scope(\"pool6\"):\n",
    "    pool6 = tf.nn.max_pool(conv5, ksize=[1, 2, 2, 1], strides=[1, 2, 2, 1], padding=\"VALID\")\n",
    "    pool6_flat = tf.reshape(pool6, shape=[-1, pool6_fmaps * 20 * 21])\n",
    "    pool6_flat_drop = tf.layers.dropout(pool6_flat, conv5_dropout_rate, training=training)      \n",
    "       \n",
    "with tf.name_scope(\"fc1\"):\n",
    "    fc1 = tf.layers.dense(pool6_flat_drop, n_fc1, activation=tf.nn.tanh, kernel_regularizer=regularizer, name=\"fc1\")\n",
    "\n",
    "with tf.name_scope(\"output\"):\n",
    "    logits = tf.layers.dense(fc1, n_outputs, name=\"output\")\n",
    "    Y_proba = tf.nn.softmax(logits, name=\"Y_proba\")\n",
    "\n",
    "with tf.name_scope(\"train\"):\n",
    "    xentropy = tf.nn.sparse_softmax_cross_entropy_with_logits(logits=logits, labels=y)\n",
    "    l2_loss = tf.losses.get_regularization_loss()\n",
    "    loss = tf.reduce_mean(xentropy) + l2_loss\n",
    "    optimizer = tf.train.AdamOptimizer(learning_rate=0.0001)\n",
    "    training_op = optimizer.minimize(loss)\n",
    "\n",
    "with tf.name_scope(\"eval\"):\n",
    "    correct = tf.nn.in_top_k(logits, y, 1)\n",
    "    accuracy = tf.reduce_mean(tf.cast(correct, tf.float32))\n",
    "\n",
    "with tf.name_scope(\"init_and_save\"):\n",
    "    init = tf.global_variables_initializer()\n",
    "    saver = tf.train.Saver()"
   ]
  },
  {
   "cell_type": "code",
   "execution_count": 117,
   "metadata": {},
   "outputs": [],
   "source": [
    "# Sets the number of epochs and batch size\n",
    "n_iterations_per_epoch = len(X_train_fold) // batch_size"
   ]
  },
  {
   "cell_type": "code",
   "execution_count": 118,
   "metadata": {
    "scrolled": true
   },
   "outputs": [
    {
     "data": {
      "text/plain": [
       "60"
      ]
     },
     "execution_count": 118,
     "metadata": {},
     "output_type": "execute_result"
    }
   ],
   "source": [
    "n_iterations_per_epoch"
   ]
  },
  {
   "cell_type": "code",
   "execution_count": 119,
   "metadata": {},
   "outputs": [
    {
     "name": "stdout",
     "output_type": "stream",
     "text": [
      "Start Time:  2019-03-07 20:16:53.835449 \n",
      "\n",
      "Epoch 0\n",
      "Last Batch accuracy:  44.00 %, Training accuracy:  50.62 %, Validation accuracy:  40.00 %\n",
      "Time training up to Epoch  0 :  0  hours,  0  minutes, and  48  seconds.\n",
      "Epoch 1\n",
      "Last Batch accuracy:  61.00 %, Training accuracy:  52.86 %, Validation accuracy:  60.00 %\n",
      "Time training up to Epoch  1 :  0  hours,  1  minutes, and  35  seconds.\n",
      "Epoch 2\n",
      "Last Batch accuracy:  67.00 %, Training accuracy:  65.16 %, Validation accuracy:  6.49 %\n",
      "Time training up to Epoch  2 :  0  hours,  2  minutes, and  21  seconds.\n",
      "Epoch 3\n",
      "Last Batch accuracy:  51.00 %, Training accuracy:  56.09 %, Validation accuracy:  34.04 %\n",
      "Time training up to Epoch  3 :  0  hours,  3  minutes, and  7  seconds.\n",
      "Epoch 4\n",
      "Last Batch accuracy:  70.00 %, Training accuracy:  72.63 %, Validation accuracy:  8.25 %\n",
      "Time training up to Epoch  4 :  0  hours,  3  minutes, and  53  seconds.\n",
      "Epoch 5\n",
      "Last Batch accuracy:  76.00 %, Training accuracy:  72.75 %, Validation accuracy:  20.53 %\n",
      "Time training up to Epoch  5 :  0  hours,  4  minutes, and  39  seconds.\n",
      "Epoch 6\n",
      "Last Batch accuracy:  75.00 %, Training accuracy:  70.08 %, Validation accuracy:  32.11 %\n",
      "Time training up to Epoch  6 :  0  hours,  5  minutes, and  24  seconds.\n",
      "Epoch 7\n",
      "Last Batch accuracy:  70.00 %, Training accuracy:  74.21 %, Validation accuracy:  17.72 %\n",
      "Time training up to Epoch  7 :  0  hours,  6  minutes, and  10  seconds.\n",
      "Epoch 8\n",
      "Last Batch accuracy:  78.00 %, Training accuracy:  76.53 %, Validation accuracy:  18.60 %\n",
      "Time training up to Epoch  8 :  0  hours,  6  minutes, and  56  seconds.\n",
      "Epoch 9\n",
      "Last Batch accuracy:  76.00 %, Training accuracy:  76.38 %, Validation accuracy:  21.05 %\n",
      "Time training up to Epoch  9 :  0  hours,  7  minutes, and  42  seconds.\n",
      "Epoch 10\n",
      "Last Batch accuracy:  67.00 %, Training accuracy:  75.72 %, Validation accuracy:  17.72 %\n",
      "Time training up to Epoch  10 :  0  hours,  8  minutes, and  28  seconds.\n",
      "Epoch 11\n",
      "Last Batch accuracy:  80.00 %, Training accuracy:  79.77 %, Validation accuracy:  16.32 %\n",
      "Time training up to Epoch  11 :  0  hours,  9  minutes, and  14  seconds.\n",
      "Epoch 12\n",
      "Last Batch accuracy:  77.00 %, Training accuracy:  79.44 %, Validation accuracy:  19.65 %\n",
      "Time training up to Epoch  12 :  0  hours,  10  minutes, and  0  seconds.\n",
      "Epoch 13\n",
      "Last Batch accuracy:  86.00 %, Training accuracy:  78.08 %, Validation accuracy:  21.75 %\n",
      "Time training up to Epoch  13 :  0  hours,  10  minutes, and  46  seconds.\n",
      "Epoch 14\n",
      "Last Batch accuracy:  82.00 %, Training accuracy:  80.21 %, Validation accuracy:  19.30 %\n",
      "Time training up to Epoch  14 :  0  hours,  11  minutes, and  32  seconds.\n",
      "Epoch 15\n",
      "Last Batch accuracy:  78.00 %, Training accuracy:  77.70 %, Validation accuracy:  20.70 %\n",
      "Time training up to Epoch  15 :  0  hours,  12  minutes, and  17  seconds.\n",
      "Epoch 16\n",
      "Last Batch accuracy:  83.00 %, Training accuracy:  80.38 %, Validation accuracy:  16.49 %\n",
      "Time training up to Epoch  16 :  0  hours,  13  minutes, and  3  seconds.\n",
      "Epoch 17\n",
      "Last Batch accuracy:  88.00 %, Training accuracy:  83.83 %, Validation accuracy:  15.09 %\n",
      "Time training up to Epoch  17 :  0  hours,  13  minutes, and  48  seconds.\n",
      "Epoch 18\n",
      "Last Batch accuracy:  90.00 %, Training accuracy:  84.13 %, Validation accuracy:  15.09 %\n",
      "Time training up to Epoch  18 :  0  hours,  14  minutes, and  34  seconds.\n",
      "Epoch 19\n",
      "Last Batch accuracy:  88.00 %, Training accuracy:  84.06 %, Validation accuracy:  14.39 %\n",
      "Time training up to Epoch  19 :  0  hours,  15  minutes, and  19  seconds.\n",
      "Epoch 20\n",
      "Last Batch accuracy:  79.00 %, Training accuracy:  81.41 %, Validation accuracy:  13.86 %\n",
      "Time training up to Epoch  20 :  0  hours,  16  minutes, and  5  seconds.\n",
      "Epoch 21\n",
      "Last Batch accuracy:  87.00 %, Training accuracy:  84.28 %, Validation accuracy:  17.19 %\n",
      "Time training up to Epoch  21 :  0  hours,  16  minutes, and  50  seconds.\n",
      "Epoch 22\n",
      "Last Batch accuracy:  79.00 %, Training accuracy:  82.40 %, Validation accuracy:  20.70 %\n",
      "Time training up to Epoch  22 :  0  hours,  17  minutes, and  36  seconds.\n",
      "Epoch 23\n",
      "Last Batch accuracy:  78.00 %, Training accuracy:  84.34 %, Validation accuracy:  15.79 %\n",
      "Time training up to Epoch  23 :  0  hours,  18  minutes, and  21  seconds.\n",
      "Epoch 24\n",
      "Last Batch accuracy:  82.00 %, Training accuracy:  82.55 %, Validation accuracy:  15.96 %\n",
      "Time training up to Epoch  24 :  0  hours,  19  minutes, and  7  seconds.\n",
      "Epoch 25\n",
      "Last Batch accuracy:  87.00 %, Training accuracy:  83.55 %, Validation accuracy:  18.95 %\n",
      "Time training up to Epoch  25 :  0  hours,  19  minutes, and  53  seconds.\n",
      "Epoch 26\n",
      "Last Batch accuracy:  76.00 %, Training accuracy:  83.91 %, Validation accuracy:  20.53 %\n",
      "Time training up to Epoch  26 :  0  hours,  20  minutes, and  38  seconds.\n",
      "Epoch 27\n",
      "Last Batch accuracy:  82.00 %, Training accuracy:  81.96 %, Validation accuracy:  26.84 %\n",
      "Time training up to Epoch  27 :  0  hours,  21  minutes, and  24  seconds.\n",
      "Epoch 28\n",
      "Last Batch accuracy:  85.00 %, Training accuracy:  86.04 %, Validation accuracy:  18.95 %\n",
      "Time training up to Epoch  28 :  0  hours,  22  minutes, and  9  seconds.\n",
      "Epoch 29\n",
      "Last Batch accuracy:  88.00 %, Training accuracy:  85.53 %, Validation accuracy:  21.58 %\n",
      "Time training up to Epoch  29 :  0  hours,  22  minutes, and  55  seconds.\n",
      "\n",
      "Training Complete: 2019-03-07 20:39:49.986234\n"
     ]
    }
   ],
   "source": [
    "# Trains the CNN\n",
    "acc_train_mat_4f = []\n",
    "acc_valid_mat_4f = []\n",
    "\n",
    "y_pred_valid_mat_4f = []\n",
    "\n",
    "training_start_time = datetime.datetime.now()\n",
    "print(\"Start Time: \", training_start_time, \"\\n\")\n",
    "\n",
    "with tf.Session() as sess:\n",
    "    init.run()\n",
    "\n",
    "    for epoch in range(n_epochs):\n",
    "        y_train_pred = np.array([],dtype=np.int16)\n",
    "        print(\"Epoch\", epoch)\n",
    "        # \n",
    "        for iteration in range(n_iterations_per_epoch):\n",
    "            X_batch, y_batch = prepare_batch(X_train_fold, y_train_fold, batch_size)            \n",
    "            sess.run(training_op, feed_dict={X: X_batch, y: y_batch})\n",
    "        acc_batch = accuracy.eval(feed_dict={X: X_batch, y: y_batch})\n",
    "        # Finds the predicted values for the training set\n",
    "        for i in range(len((X_train_fold))):\n",
    "            X_train = normalize_max_train(X_train_fold[i])\n",
    "            z_pred_train = logits.eval(feed_dict={X: X_train})\n",
    "            y_pred_train = np.argmax(z_pred_train, axis=1)\n",
    "            y_train_pred = np.append(y_train_pred,y_pred_train)\n",
    "        acc_train = accuracy_score(y_train_fold, y_train_pred)\n",
    "        acc_val = accuracy.eval(feed_dict={X: X_valid_fold, y: y_valid_fold})\n",
    "        # Appends the network accuracy to a matrix for so we can evaluate performance over epoch\n",
    "        acc_train_mat_4f.append(acc_train)\n",
    "        acc_valid_mat_4f.append(acc_val)\n",
    "        # Finds the predicted values for the validation set\n",
    "        z_pred_valid = logits.eval(feed_dict={X: X_valid_fold, y: y_valid_fold})\n",
    "        y_pred_valid_4f = np.argmax(z_pred_valid, axis=1)\n",
    "        y_pred_valid_mat_4f.append(y_pred_valid_4f)\n",
    "        \n",
    "        training_duration_time = datetime.datetime.now()\n",
    "        training_duration = training_duration_time-training_start_time\n",
    "        training_hours, remainder = divmod(training_duration.seconds, 3600)\n",
    "        training_minutes, training_seconds = divmod(remainder,60)\n",
    "        print(\"Last Batch accuracy: \", \"{0:.2f}\".format(acc_batch*100),\n",
    "              \"%, Training accuracy: \", \"{0:.2f}\".format(acc_train*100),\n",
    "              \"%, Validation accuracy: \", \"{0:.2f}\".format(acc_val*100),\"%\")\n",
    "        print(\"Time training up to Epoch \",epoch,\": \",training_hours,\" hours, \", training_minutes,\n",
    "              \" minutes, and \", training_seconds, \" seconds.\")\n",
    "    save_path = saver.save(sess, \"./IB_maxdata_baseneta_100tanh_4fold_run1\")\n",
    "training_end_time = datetime.datetime.now()\n",
    "print('\\nTraining Complete:', training_end_time)"
   ]
  },
  {
   "cell_type": "code",
   "execution_count": 120,
   "metadata": {},
   "outputs": [
    {
     "name": "stdout",
     "output_type": "stream",
     "text": [
      "Fourth Patient Fold (Patient #8) of CV took 0  hours,  22  minutes, and  56  seconds to train.\n",
      "\n"
     ]
    }
   ],
   "source": [
    "training_duration = training_end_time-training_start_time\n",
    "duration_hours, duration_remainder = divmod(training_duration.seconds, 3600)\n",
    "duration_minutes, duration_seconds = divmod(duration_remainder,60)\n",
    "print(\"Fourth Patient Fold (Patient #8) of CV took\",duration_hours,\" hours, \", duration_minutes,\n",
    "              \" minutes, and \", duration_seconds, \" seconds to train.\\n\")"
   ]
  },
  {
   "cell_type": "code",
   "execution_count": 121,
   "metadata": {},
   "outputs": [
    {
     "name": "stdout",
     "output_type": "stream",
     "text": [
      "Segment Validation Statistics, Fourth Patient Fold:\n",
      "Accuracy:\t\t 0.21578947368421053 \n",
      "Precision:\t\t 0.0\n",
      "Recall:\t\t\t 0.0 \n",
      "F1 Score:\t\t 0.0\n"
     ]
    }
   ],
   "source": [
    "valid_accuracy_4f = accuracy_score(y_valid_fold, y_pred_valid_4f)\n",
    "valid_precision_4f = precision_score(y_valid_fold, y_pred_valid_4f)\n",
    "valid_recall_4f = recall_score(y_valid_fold, y_pred_valid_4f)\n",
    "valid_f1_4f = f1_score(y_valid_fold, y_pred_valid_4f)\n",
    "\n",
    "print(\"Segment Validation Statistics, Fourth Patient Fold:\\nAccuracy:\\t\\t\",valid_accuracy_4f,\n",
    "      \"\\nPrecision:\\t\\t\",valid_precision_4f)\n",
    "print(\"Recall:\\t\\t\\t\",valid_recall_4f,\"\\nF1 Score:\\t\\t\",valid_f1_4f)"
   ]
  },
  {
   "cell_type": "code",
   "execution_count": 122,
   "metadata": {},
   "outputs": [
    {
     "name": "stdout",
     "output_type": "stream",
     "text": [
      "Fourth Patient Fold Validation Confusion Matrix:\n",
      "                   pred:Leasional  pred:Nonleasional\n",
      "true:Leasional                123                219\n",
      "true:Nonleasional             228                  0\n"
     ]
    }
   ],
   "source": [
    "valid_label = np.unique(y_valid_fold)\n",
    "validation_cm_4f = confusion_matrix(y_valid_fold, y_pred_valid_4f, labels=valid_label) \n",
    "\n",
    "print(\"Fourth Patient Fold Validation Confusion Matrix:\")\n",
    "print(pd.DataFrame(validation_cm_4f, index=['true:Leasional', 'true:Nonleasional'], \n",
    "                   columns=['pred:Leasional', 'pred:Nonleasional']))"
   ]
  },
  {
   "cell_type": "code",
   "execution_count": 123,
   "metadata": {},
   "outputs": [],
   "source": [
    "y_valid_cube_pred_4fold = group_hypercube(y_pred_valid_4f, cube_threshold, \n",
    "                                          validation_4_key, total_bands)"
   ]
  },
  {
   "cell_type": "code",
   "execution_count": 124,
   "metadata": {},
   "outputs": [
    {
     "name": "stdout",
     "output_type": "stream",
     "text": [
      "Validation Model Hypercube Statistics, Fourth Patient Fold:\n",
      "Hypercube Accuracy:\t\t 0.13333333333333333 \n",
      "Hypercube Precision:\t\t 0.0\n",
      "Hypercube Recall: \t\t 0.0 \n",
      "Hypercube F1 Score:\t\t 0.0\n"
     ]
    }
   ],
   "source": [
    "valid_accuracy_cube_4f = accuracy_score(y_valid_cube, y_valid_cube_pred_4fold)\n",
    "valid_precision_cube_4f = precision_score(y_valid_cube, y_valid_cube_pred_4fold)\n",
    "valid_recall_cube_4f = recall_score(y_valid_cube, y_valid_cube_pred_4fold)\n",
    "valid_f1_cube_4f = f1_score(y_valid_cube, y_valid_cube_pred_4fold)\n",
    "\n",
    "print(\"Validation Model Hypercube Statistics, Fourth Patient Fold:\\nHypercube Accuracy:\\t\\t\",valid_accuracy_cube_4f,\n",
    "      \"\\nHypercube Precision:\\t\\t\",valid_precision_cube_4f)\n",
    "print(\"Hypercube Recall: \\t\\t\",valid_recall_cube_4f,\"\\nHypercube F1 Score:\\t\\t\",valid_f1_cube_4f)"
   ]
  },
  {
   "cell_type": "code",
   "execution_count": 125,
   "metadata": {},
   "outputs": [
    {
     "name": "stdout",
     "output_type": "stream",
     "text": [
      "Fourth Patient Fold Validation Confusion Matrix (Cube):\n",
      "                   pred:Leasional  pred:Nonleasional\n",
      "true:Leasional                  2                  7\n",
      "true:Nonleasional               6                  0\n"
     ]
    }
   ],
   "source": [
    "valid_cube_label = np.unique(y_valid_cube)\n",
    "validation_cm_cube_4f = confusion_matrix(y_valid_cube, y_valid_cube_pred_4fold, labels=valid_cube_label) \n",
    "\n",
    "print(\"Fourth Patient Fold Validation Confusion Matrix (Cube):\")\n",
    "print(pd.DataFrame(validation_cm_cube_4f, index=['true:Leasional', 'true:Nonleasional'], \n",
    "                   columns=['pred:Leasional', 'pred:Nonleasional']))"
   ]
  },
  {
   "cell_type": "code",
   "execution_count": 126,
   "metadata": {},
   "outputs": [],
   "source": [
    "avg_v_acc_4f, avg_v_prec_4f, avg_v_re_4f, avg_v_f1_4f, avg_v_cm_4f = average_runs(averaged_runs, \n",
    "                                                                                  y_pred_valid_mat_4f, y_valid_fold)"
   ]
  },
  {
   "cell_type": "code",
   "execution_count": 127,
   "metadata": {},
   "outputs": [
    {
     "name": "stdout",
     "output_type": "stream",
     "text": [
      "Average (20 Epochs) Segment Validation Statistics, Fourth Patient Fold:\n",
      "Accuracy:\t\t 0.18315789473684213 \n",
      "Precision:\t\t 0.027133943275382644\n",
      "Recall:\t\t\t 0.036622807017543856 \n",
      "F1 Score:\t\t 0.031088694402195464\n"
     ]
    }
   ],
   "source": [
    "print(\"Average (20 Epochs) Segment Validation Statistics, Fourth Patient Fold:\\nAccuracy:\\t\\t\",avg_v_acc_4f,\n",
    "      \"\\nPrecision:\\t\\t\",avg_v_prec_4f)\n",
    "print(\"Recall:\\t\\t\\t\",avg_v_re_4f,\"\\nF1 Score:\\t\\t\",avg_v_f1_4f)"
   ]
  },
  {
   "cell_type": "code",
   "execution_count": 128,
   "metadata": {},
   "outputs": [
    {
     "data": {
      "text/html": [
       "<div>\n",
       "<style scoped>\n",
       "    .dataframe tbody tr th:only-of-type {\n",
       "        vertical-align: middle;\n",
       "    }\n",
       "\n",
       "    .dataframe tbody tr th {\n",
       "        vertical-align: top;\n",
       "    }\n",
       "\n",
       "    .dataframe thead th {\n",
       "        text-align: right;\n",
       "    }\n",
       "</style>\n",
       "<table border=\"1\" class=\"dataframe\">\n",
       "  <thead>\n",
       "    <tr style=\"text-align: right;\">\n",
       "      <th></th>\n",
       "      <th>pred:Leasional</th>\n",
       "      <th>pred:Nonleasional</th>\n",
       "    </tr>\n",
       "  </thead>\n",
       "  <tbody>\n",
       "    <tr>\n",
       "      <th>true:Leasional</th>\n",
       "      <td>96.05</td>\n",
       "      <td>245.95</td>\n",
       "    </tr>\n",
       "    <tr>\n",
       "      <th>true:Nonleasional</th>\n",
       "      <td>219.65</td>\n",
       "      <td>8.35</td>\n",
       "    </tr>\n",
       "  </tbody>\n",
       "</table>\n",
       "</div>"
      ],
      "text/plain": [
       "                   pred:Leasional  pred:Nonleasional\n",
       "true:Leasional              96.05             245.95\n",
       "true:Nonleasional          219.65               8.35"
      ]
     },
     "execution_count": 128,
     "metadata": {},
     "output_type": "execute_result"
    }
   ],
   "source": [
    "avgvalid_cm_4f =  avg_v_cm_4f.groupby(avg_v_cm_4f.index)\n",
    "\n",
    "avgvalid_cm_4f.mean()"
   ]
  },
  {
   "cell_type": "code",
   "execution_count": 129,
   "metadata": {},
   "outputs": [
    {
     "name": "stdout",
     "output_type": "stream",
     "text": [
      "Average (20 Epochs) Hypercube Validation Statistics, Fourth Patient Fold:\n",
      "Hypercube Accuracy:\t\t 0.1366666666666667 \n",
      "Hypercube Precision:\t\t 0.017361111111111112\n",
      "Hypercube Recall:\t\t 0.025 \n",
      "Hypercube F1 Score:\t\t 0.020476190476190474\n"
     ]
    }
   ],
   "source": [
    "avg_vc_acc_4f, avg_vc_prec_4f, avg_vc_re_4f, avg_vc_f1_4f, avg_vc_cm_4f = average_group_runs(averaged_runs,\n",
    "                                                                                             y_valid_cube, \n",
    "                                                                                             y_pred_valid_mat_4f, \n",
    "                                                                                             cube_threshold, \n",
    "                                                                                             validation_4_key, \n",
    "                                                                                             total_bands)\n",
    "print(\"Average (20 Epochs) Hypercube Validation Statistics, Fourth Patient Fold:\\nHypercube Accuracy:\\t\\t\",avg_vc_acc_4f,\n",
    "      \"\\nHypercube Precision:\\t\\t\",avg_vc_prec_4f)\n",
    "print(\"Hypercube Recall:\\t\\t\",avg_vc_re_4f,\"\\nHypercube F1 Score:\\t\\t\",avg_vc_f1_4f)\n"
   ]
  },
  {
   "cell_type": "code",
   "execution_count": 130,
   "metadata": {},
   "outputs": [
    {
     "data": {
      "text/html": [
       "<div>\n",
       "<style scoped>\n",
       "    .dataframe tbody tr th:only-of-type {\n",
       "        vertical-align: middle;\n",
       "    }\n",
       "\n",
       "    .dataframe tbody tr th {\n",
       "        vertical-align: top;\n",
       "    }\n",
       "\n",
       "    .dataframe thead th {\n",
       "        text-align: right;\n",
       "    }\n",
       "</style>\n",
       "<table border=\"1\" class=\"dataframe\">\n",
       "  <thead>\n",
       "    <tr style=\"text-align: right;\">\n",
       "      <th></th>\n",
       "      <th>pred:Leasional</th>\n",
       "      <th>pred:Nonleasional</th>\n",
       "    </tr>\n",
       "  </thead>\n",
       "  <tbody>\n",
       "    <tr>\n",
       "      <th>true:Leasional</th>\n",
       "      <td>1.90</td>\n",
       "      <td>7.10</td>\n",
       "    </tr>\n",
       "    <tr>\n",
       "      <th>true:Nonleasional</th>\n",
       "      <td>5.85</td>\n",
       "      <td>0.15</td>\n",
       "    </tr>\n",
       "  </tbody>\n",
       "</table>\n",
       "</div>"
      ],
      "text/plain": [
       "                   pred:Leasional  pred:Nonleasional\n",
       "true:Leasional               1.90               7.10\n",
       "true:Nonleasional            5.85               0.15"
      ]
     },
     "execution_count": 130,
     "metadata": {},
     "output_type": "execute_result"
    }
   ],
   "source": [
    "avgvalid_cm_cube_4f =  avg_vc_cm_4f.groupby(avg_vc_cm_4f.index)\n",
    "\n",
    "avgvalid_cm_cube_4f.mean()"
   ]
  },
  {
   "cell_type": "code",
   "execution_count": 131,
   "metadata": {
    "scrolled": true
   },
   "outputs": [
    {
     "data": {
      "image/png": "[encoded data removed]",
      "text/plain": [
       "<Figure size 432x288 with 1 Axes>"
      ]
     },
     "metadata": {
      "needs_background": "light"
     },
     "output_type": "display_data"
    }
   ],
   "source": [
    "# Plot of Epochs vs Training Accuracy\n",
    "\n",
    "plt.plot(np.arange(1,epoch+2),np.array(acc_train_mat_4f), '-v')\n",
    "plt.xlabel('Number of Epochs Run')\n",
    "plt.ylabel('Accuracy')\n",
    "plt.title('Fold 4 Training Accuracy vs. Number of Epochs')\n",
    "plt.xlim(left=-1);\n",
    "plt.ylim(top=1);\n",
    "plt.ylim(bottom=0);"
   ]
  },
  {
   "cell_type": "code",
   "execution_count": 132,
   "metadata": {},
   "outputs": [
    {
     "data": {
      "image/png": "[encoded data removed]",
      "text/plain": [
       "<Figure size 432x288 with 1 Axes>"
      ]
     },
     "metadata": {
      "needs_background": "light"
     },
     "output_type": "display_data"
    }
   ],
   "source": [
    "# Plot of Epochs vs Validation Accuracy\n",
    "\n",
    "plt.plot(np.arange(1,epoch+2),np.array(acc_valid_mat_4f), '-v')\n",
    "plt.xlabel('Number of Epochs Run')\n",
    "plt.ylabel('Accuracy')\n",
    "plt.title('Patient Fold 4 (Patient #8) Validation Accuracy vs. Number of Epochs')\n",
    "plt.xlim(left=-1);\n",
    "plt.ylim(top=1);\n",
    "plt.ylim(bottom=0);"
   ]
  },
  {
   "cell_type": "code",
   "execution_count": 133,
   "metadata": {},
   "outputs": [],
   "source": [
    "# Fifth Patient (Patient #5)\n",
    "graph_seed = 42\n",
    "reset_graph(graph_seed)"
   ]
  },
  {
   "cell_type": "code",
   "execution_count": 134,
   "metadata": {},
   "outputs": [],
   "source": [
    "# Fifth Validation Fold (Patient #5)\n",
    "X_valid_fold = X_sorted[validation_5]\n",
    "y_valid_fold = y_sorted[validation_5]"
   ]
  },
  {
   "cell_type": "code",
   "execution_count": 135,
   "metadata": {},
   "outputs": [
    {
     "data": {
      "text/plain": [
       "(684, 251502)"
      ]
     },
     "execution_count": 135,
     "metadata": {},
     "output_type": "execute_result"
    }
   ],
   "source": [
    "X_valid_fold.shape"
   ]
  },
  {
   "cell_type": "code",
   "execution_count": 136,
   "metadata": {},
   "outputs": [
    {
     "data": {
      "text/plain": [
       "(684,)"
      ]
     },
     "execution_count": 136,
     "metadata": {},
     "output_type": "execute_result"
    }
   ],
   "source": [
    "y_valid_fold.shape"
   ]
  },
  {
   "cell_type": "code",
   "execution_count": 137,
   "metadata": {},
   "outputs": [],
   "source": [
    "# Validation Cube for patient fold 5 (Patient #5)\n",
    "y_valid_cube = np.array([],dtype=np.int16)\n",
    "for cube in validation_5_key:\n",
    "    if cube.endswith('N'):\n",
    "        cube_class = 1\n",
    "    else:\n",
    "        cube_class = 0\n",
    "    y_valid_cube = np.append(y_valid_cube,cube_class)"
   ]
  },
  {
   "cell_type": "code",
   "execution_count": 138,
   "metadata": {},
   "outputs": [],
   "source": [
    "# Reset the training fold so the system memory is not overused\n",
    "X_train_fold = []"
   ]
  },
  {
   "cell_type": "code",
   "execution_count": 139,
   "metadata": {},
   "outputs": [],
   "source": [
    "# Fifth Training Fold (Patients 13,10,1,9,6,3,2,14,8,12,4,7)\n",
    "X_train_fold = X_sorted[training_5]\n",
    "y_train_fold = y_sorted[training_5]"
   ]
  },
  {
   "cell_type": "code",
   "execution_count": 140,
   "metadata": {},
   "outputs": [
    {
     "data": {
      "text/plain": [
       "(5966, 251502)"
      ]
     },
     "execution_count": 140,
     "metadata": {},
     "output_type": "execute_result"
    }
   ],
   "source": [
    "X_train_fold.shape"
   ]
  },
  {
   "cell_type": "code",
   "execution_count": 141,
   "metadata": {},
   "outputs": [
    {
     "data": {
      "text/plain": [
       "(5966,)"
      ]
     },
     "execution_count": 141,
     "metadata": {},
     "output_type": "execute_result"
    }
   ],
   "source": [
    "y_train_fold.shape"
   ]
  },
  {
   "cell_type": "code",
   "execution_count": 142,
   "metadata": {},
   "outputs": [],
   "source": [
    "# Sets the Neural Network for the graph\n",
    "height = 501\n",
    "width = 502\n",
    "channels = 1\n",
    "n_inputs = height * width * channels\n",
    "\n",
    "\n",
    "conv1_fmaps = 24\n",
    "conv1_ksize = 5\n",
    "conv1_stride = 3\n",
    "conv1_pad = \"SAME\"\n",
    "conv1_dropout_rate = 0.25\n",
    "\n",
    "pool2_fmaps = conv1_fmaps\n",
    "\n",
    "conv3_fmaps = 48\n",
    "conv3_ksize = 3\n",
    "conv3_stride = 1\n",
    "conv3_pad = \"SAME\"\n",
    "conv3_dropout_rate = 0.25\n",
    "\n",
    "pool4_fmaps = conv3_fmaps\n",
    "\n",
    "conv5_fmaps = 64\n",
    "conv5_ksize = 2\n",
    "conv5_stride = 1\n",
    "conv5_pad = \"SAME\"\n",
    "conv5_dropout_rate = 0.5\n",
    "\n",
    "pool6_fmaps = conv5_fmaps\n",
    "\n",
    "n_fc1 = 24\n",
    "n_outputs = 2\n",
    "\n",
    "regularizer = tf.contrib.layers.l2_regularizer(scale=0.1)\n",
    "\n",
    "with tf.name_scope(\"inputs\"):\n",
    "    X = tf.placeholder(tf.float32, shape=[None, n_inputs], name=\"X\")\n",
    "    X_reshaped = tf.reshape(X, shape=[-1, height, width, channels])\n",
    "    y = tf.placeholder(tf.int32, shape=[None], name=\"y\")\n",
    "    training = tf.placeholder_with_default(False, shape=[], name='training')\n",
    "\n",
    "conv1 = tf.layers.conv2d(X_reshaped, filters=conv1_fmaps, kernel_size=conv1_ksize,\n",
    "                         strides=conv1_stride, padding=conv1_pad,\n",
    "                         activation=tf.nn.tanh, kernel_regularizer=regularizer, name=\"conv1\")\n",
    "\n",
    "with tf.name_scope(\"pool2\"):\n",
    "    pool2 = tf.nn.max_pool(conv1, ksize=[1, 2, 2, 1], strides=[1, 2, 2, 1], padding=\"VALID\")\n",
    "    pool2_drop = tf.layers.dropout(pool2, conv1_dropout_rate, training=training)\n",
    "\n",
    "conv3 = tf.layers.conv2d(pool2_drop, filters=conv3_fmaps, kernel_size=conv3_ksize,\n",
    "                         strides=conv3_stride, padding=conv3_pad,\n",
    "                         activation=tf.nn.tanh, name=\"conv3\")\n",
    "\n",
    "with tf.name_scope(\"pool4\"):\n",
    "    pool4 = tf.nn.max_pool(conv3, ksize=[1, 2, 2, 1], strides=[1, 2, 2, 1], padding=\"VALID\")\n",
    "    pool4_drop = tf.layers.dropout(pool4, conv3_dropout_rate, training=training)\n",
    "\n",
    "conv5 = tf.layers.conv2d(pool4_drop, filters=conv5_fmaps, kernel_size=conv5_ksize,\n",
    "                         strides=conv5_stride, padding=conv5_pad,\n",
    "                         activation=tf.nn.tanh, name=\"conv5\")\n",
    "\n",
    "with tf.name_scope(\"pool6\"):\n",
    "    pool6 = tf.nn.max_pool(conv5, ksize=[1, 2, 2, 1], strides=[1, 2, 2, 1], padding=\"VALID\")\n",
    "    pool6_flat = tf.reshape(pool6, shape=[-1, pool6_fmaps * 20 * 21])\n",
    "    pool6_flat_drop = tf.layers.dropout(pool6_flat, conv5_dropout_rate, training=training)      \n",
    "       \n",
    "with tf.name_scope(\"fc1\"):\n",
    "    fc1 = tf.layers.dense(pool6_flat_drop, n_fc1, activation=tf.nn.tanh, kernel_regularizer=regularizer, name=\"fc1\")\n",
    "\n",
    "with tf.name_scope(\"output\"):\n",
    "    logits = tf.layers.dense(fc1, n_outputs, name=\"output\")\n",
    "    Y_proba = tf.nn.softmax(logits, name=\"Y_proba\")\n",
    "\n",
    "with tf.name_scope(\"train\"):\n",
    "    xentropy = tf.nn.sparse_softmax_cross_entropy_with_logits(logits=logits, labels=y)\n",
    "    l2_loss = tf.losses.get_regularization_loss()\n",
    "    loss = tf.reduce_mean(xentropy) + l2_loss\n",
    "    optimizer = tf.train.AdamOptimizer(learning_rate=0.0001)\n",
    "    training_op = optimizer.minimize(loss)\n",
    "\n",
    "with tf.name_scope(\"eval\"):\n",
    "    correct = tf.nn.in_top_k(logits, y, 1)\n",
    "    accuracy = tf.reduce_mean(tf.cast(correct, tf.float32))\n",
    "\n",
    "with tf.name_scope(\"init_and_save\"):\n",
    "    init = tf.global_variables_initializer()\n",
    "    saver = tf.train.Saver()"
   ]
  },
  {
   "cell_type": "code",
   "execution_count": 143,
   "metadata": {},
   "outputs": [],
   "source": [
    "# Sets the number of epochs and batch size\n",
    "n_iterations_per_epoch = len(X_train_fold) // batch_size"
   ]
  },
  {
   "cell_type": "code",
   "execution_count": 144,
   "metadata": {
    "scrolled": true
   },
   "outputs": [
    {
     "data": {
      "text/plain": [
       "59"
      ]
     },
     "execution_count": 144,
     "metadata": {},
     "output_type": "execute_result"
    }
   ],
   "source": [
    "n_iterations_per_epoch"
   ]
  },
  {
   "cell_type": "code",
   "execution_count": 145,
   "metadata": {},
   "outputs": [
    {
     "name": "stdout",
     "output_type": "stream",
     "text": [
      "Start Time:  2019-03-07 20:40:50.838892 \n",
      "\n",
      "Epoch 0\n",
      "Last Batch accuracy:  50.00 %, Training accuracy:  54.93 %, Validation accuracy:  84.36 %\n",
      "Time training up to Epoch  0 :  0  hours,  0  minutes, and  48  seconds.\n",
      "Epoch 1\n",
      "Last Batch accuracy:  55.00 %, Training accuracy:  52.04 %, Validation accuracy:  53.65 %\n",
      "Time training up to Epoch  1 :  0  hours,  1  minutes, and  33  seconds.\n",
      "Epoch 2\n",
      "Last Batch accuracy:  64.00 %, Training accuracy:  58.00 %, Validation accuracy:  80.70 %\n",
      "Time training up to Epoch  2 :  0  hours,  2  minutes, and  18  seconds.\n",
      "Epoch 3\n",
      "Last Batch accuracy:  49.00 %, Training accuracy:  53.00 %, Validation accuracy:  70.61 %\n",
      "Time training up to Epoch  3 :  0  hours,  3  minutes, and  3  seconds.\n",
      "Epoch 4\n",
      "Last Batch accuracy:  62.00 %, Training accuracy:  60.73 %, Validation accuracy:  80.41 %\n",
      "Time training up to Epoch  4 :  0  hours,  3  minutes, and  47  seconds.\n",
      "Epoch 5\n",
      "Last Batch accuracy:  64.00 %, Training accuracy:  59.86 %, Validation accuracy:  85.09 %\n",
      "Time training up to Epoch  5 :  0  hours,  4  minutes, and  32  seconds.\n",
      "Epoch 6\n",
      "Last Batch accuracy:  67.00 %, Training accuracy:  62.14 %, Validation accuracy:  77.05 %\n",
      "Time training up to Epoch  6 :  0  hours,  5  minutes, and  17  seconds.\n",
      "Epoch 7\n",
      "Last Batch accuracy:  62.00 %, Training accuracy:  61.70 %, Validation accuracy:  80.85 %\n",
      "Time training up to Epoch  7 :  0  hours,  6  minutes, and  1  seconds.\n",
      "Epoch 8\n",
      "Last Batch accuracy:  64.00 %, Training accuracy:  61.60 %, Validation accuracy:  75.15 %\n",
      "Time training up to Epoch  8 :  0  hours,  6  minutes, and  46  seconds.\n",
      "Epoch 9\n",
      "Last Batch accuracy:  66.00 %, Training accuracy:  65.44 %, Validation accuracy:  78.36 %\n",
      "Time training up to Epoch  9 :  0  hours,  7  minutes, and  31  seconds.\n",
      "Epoch 10\n",
      "Last Batch accuracy:  70.00 %, Training accuracy:  66.98 %, Validation accuracy:  88.45 %\n",
      "Time training up to Epoch  10 :  0  hours,  8  minutes, and  16  seconds.\n",
      "Epoch 11\n",
      "Last Batch accuracy:  68.00 %, Training accuracy:  69.76 %, Validation accuracy:  76.75 %\n",
      "Time training up to Epoch  11 :  0  hours,  9  minutes, and  0  seconds.\n",
      "Epoch 12\n",
      "Last Batch accuracy:  76.00 %, Training accuracy:  64.55 %, Validation accuracy:  90.35 %\n",
      "Time training up to Epoch  12 :  0  hours,  9  minutes, and  45  seconds.\n",
      "Epoch 13\n",
      "Last Batch accuracy:  77.00 %, Training accuracy:  68.74 %, Validation accuracy:  85.38 %\n",
      "Time training up to Epoch  13 :  0  hours,  10  minutes, and  30  seconds.\n",
      "Epoch 14\n",
      "Last Batch accuracy:  71.00 %, Training accuracy:  71.34 %, Validation accuracy:  66.67 %\n",
      "Time training up to Epoch  14 :  0  hours,  11  minutes, and  15  seconds.\n",
      "Epoch 15\n",
      "Last Batch accuracy:  79.00 %, Training accuracy:  72.93 %, Validation accuracy:  85.53 %\n",
      "Time training up to Epoch  15 :  0  hours,  11  minutes, and  59  seconds.\n",
      "Epoch 16\n",
      "Last Batch accuracy:  75.00 %, Training accuracy:  64.58 %, Validation accuracy:  41.52 %\n",
      "Time training up to Epoch  16 :  0  hours,  12  minutes, and  43  seconds.\n",
      "Epoch 17\n",
      "Last Batch accuracy:  79.00 %, Training accuracy:  75.21 %, Validation accuracy:  79.09 %\n",
      "Time training up to Epoch  17 :  0  hours,  13  minutes, and  28  seconds.\n",
      "Epoch 18\n",
      "Last Batch accuracy:  77.00 %, Training accuracy:  75.93 %, Validation accuracy:  79.53 %\n",
      "Time training up to Epoch  18 :  0  hours,  14  minutes, and  12  seconds.\n",
      "Epoch 19\n",
      "Last Batch accuracy:  74.00 %, Training accuracy:  77.77 %, Validation accuracy:  60.82 %\n",
      "Time training up to Epoch  19 :  0  hours,  14  minutes, and  56  seconds.\n",
      "Epoch 20\n",
      "Last Batch accuracy:  78.00 %, Training accuracy:  73.11 %, Validation accuracy:  89.04 %\n",
      "Time training up to Epoch  20 :  0  hours,  15  minutes, and  41  seconds.\n",
      "Epoch 21\n",
      "Last Batch accuracy:  78.00 %, Training accuracy:  78.44 %, Validation accuracy:  73.83 %\n",
      "Time training up to Epoch  21 :  0  hours,  16  minutes, and  25  seconds.\n",
      "Epoch 22\n",
      "Last Batch accuracy:  77.00 %, Training accuracy:  75.81 %, Validation accuracy:  57.16 %\n",
      "Time training up to Epoch  22 :  0  hours,  17  minutes, and  10  seconds.\n",
      "Epoch 23\n",
      "Last Batch accuracy:  78.00 %, Training accuracy:  76.85 %, Validation accuracy:  80.56 %\n",
      "Time training up to Epoch  23 :  0  hours,  17  minutes, and  54  seconds.\n",
      "Epoch 24\n",
      "Last Batch accuracy:  89.00 %, Training accuracy:  82.37 %, Validation accuracy:  72.37 %\n",
      "Time training up to Epoch  24 :  0  hours,  18  minutes, and  39  seconds.\n",
      "Epoch 25\n",
      "Last Batch accuracy:  80.00 %, Training accuracy:  79.45 %, Validation accuracy:  59.06 %\n",
      "Time training up to Epoch  25 :  0  hours,  19  minutes, and  23  seconds.\n",
      "Epoch 26\n",
      "Last Batch accuracy:  84.00 %, Training accuracy:  80.00 %, Validation accuracy:  82.02 %\n",
      "Time training up to Epoch  26 :  0  hours,  20  minutes, and  8  seconds.\n",
      "Epoch 27\n",
      "Last Batch accuracy:  81.00 %, Training accuracy:  82.25 %, Validation accuracy:  67.69 %\n",
      "Time training up to Epoch  27 :  0  hours,  20  minutes, and  52  seconds.\n",
      "Epoch 28\n",
      "Last Batch accuracy:  83.00 %, Training accuracy:  83.02 %, Validation accuracy:  66.23 %\n",
      "Time training up to Epoch  28 :  0  hours,  21  minutes, and  37  seconds.\n",
      "Epoch 29\n",
      "Last Batch accuracy:  80.00 %, Training accuracy:  82.42 %, Validation accuracy:  68.57 %\n",
      "Time training up to Epoch  29 :  0  hours,  22  minutes, and  21  seconds.\n",
      "\n",
      "Training Complete: 2019-03-07 21:03:13.226661\n"
     ]
    }
   ],
   "source": [
    "# Trains the CNN\n",
    "acc_train_mat_5f = []\n",
    "acc_valid_mat_5f = []\n",
    "\n",
    "y_pred_valid_mat_5f = []\n",
    "\n",
    "training_start_time = datetime.datetime.now()\n",
    "print(\"Start Time: \", training_start_time, \"\\n\")\n",
    "\n",
    "with tf.Session() as sess:\n",
    "    init.run()\n",
    "\n",
    "    for epoch in range(n_epochs):\n",
    "        y_train_pred = np.array([],dtype=np.int16)\n",
    "        print(\"Epoch\", epoch)\n",
    "        # \n",
    "        for iteration in range(n_iterations_per_epoch):\n",
    "            X_batch, y_batch = prepare_batch(X_train_fold, y_train_fold, batch_size)            \n",
    "            sess.run(training_op, feed_dict={X: X_batch, y: y_batch})\n",
    "        acc_batch = accuracy.eval(feed_dict={X: X_batch, y: y_batch})\n",
    "        # Finds the predicted values for the training set\n",
    "        for i in range(len((X_train_fold))):\n",
    "            X_train = normalize_max_train(X_train_fold[i])\n",
    "            z_pred_train = logits.eval(feed_dict={X: X_train})\n",
    "            y_pred_train = np.argmax(z_pred_train, axis=1)\n",
    "            y_train_pred = np.append(y_train_pred,y_pred_train)\n",
    "        acc_train = accuracy_score(y_train_fold, y_train_pred)\n",
    "        acc_val = accuracy.eval(feed_dict={X: X_valid_fold, y: y_valid_fold})\n",
    "        # Appends the network accuracy to a matrix for so we can evaluate performance over epoch\n",
    "        acc_train_mat_5f.append(acc_train)\n",
    "        acc_valid_mat_5f.append(acc_val)\n",
    "        # Finds the predicted values for the validation set\n",
    "        z_pred_valid = logits.eval(feed_dict={X: X_valid_fold, y: y_valid_fold})\n",
    "        y_pred_valid_5f = np.argmax(z_pred_valid, axis=1)\n",
    "        y_pred_valid_mat_5f.append(y_pred_valid_5f)\n",
    "        \n",
    "        training_duration_time = datetime.datetime.now()\n",
    "        training_duration = training_duration_time-training_start_time\n",
    "        training_hours, remainder = divmod(training_duration.seconds, 3600)\n",
    "        training_minutes, training_seconds = divmod(remainder,60)\n",
    "        print(\"Last Batch accuracy: \", \"{0:.2f}\".format(acc_batch*100),\n",
    "              \"%, Training accuracy: \", \"{0:.2f}\".format(acc_train*100),\n",
    "              \"%, Validation accuracy: \", \"{0:.2f}\".format(acc_val*100),\"%\")\n",
    "        print(\"Time training up to Epoch \",epoch,\": \",training_hours,\" hours, \", training_minutes,\n",
    "              \" minutes, and \", training_seconds, \" seconds.\")\n",
    "    save_path = saver.save(sess, \"./IB_maxdata_baseneta_100tanh_5fold_run1\")\n",
    "training_end_time = datetime.datetime.now()\n",
    "print('\\nTraining Complete:', training_end_time)"
   ]
  },
  {
   "cell_type": "code",
   "execution_count": 146,
   "metadata": {},
   "outputs": [
    {
     "name": "stdout",
     "output_type": "stream",
     "text": [
      "Fifth Patient Fold (Patient #5) of CV took 0  hours,  22  minutes, and  22  seconds to train.\n",
      "\n"
     ]
    }
   ],
   "source": [
    "training_duration = training_end_time-training_start_time\n",
    "duration_hours, duration_remainder = divmod(training_duration.seconds, 3600)\n",
    "duration_minutes, duration_seconds = divmod(duration_remainder,60)\n",
    "print(\"Fifth Patient Fold (Patient #5) of CV took\",duration_hours,\" hours, \", duration_minutes,\n",
    "              \" minutes, and \", duration_seconds, \" seconds to train.\\n\")"
   ]
  },
  {
   "cell_type": "code",
   "execution_count": 147,
   "metadata": {},
   "outputs": [
    {
     "name": "stdout",
     "output_type": "stream",
     "text": [
      "Segment Validation Statistics, Fifth Patient Fold:\n",
      "Accuracy:\t\t 0.685672514619883 \n",
      "Precision:\t\t 0.7259786476868327\n",
      "Recall:\t\t\t 0.5964912280701754 \n",
      "F1 Score:\t\t 0.6548956661316212\n"
     ]
    }
   ],
   "source": [
    "valid_accuracy_5f = accuracy_score(y_valid_fold, y_pred_valid_5f)\n",
    "valid_precision_5f = precision_score(y_valid_fold, y_pred_valid_5f)\n",
    "valid_recall_5f = recall_score(y_valid_fold, y_pred_valid_5f)\n",
    "valid_f1_5f = f1_score(y_valid_fold, y_pred_valid_5f)\n",
    "\n",
    "print(\"Segment Validation Statistics, Fifth Patient Fold:\\nAccuracy:\\t\\t\",valid_accuracy_5f,\n",
    "      \"\\nPrecision:\\t\\t\",valid_precision_5f)\n",
    "print(\"Recall:\\t\\t\\t\",valid_recall_5f,\"\\nF1 Score:\\t\\t\",valid_f1_5f)"
   ]
  },
  {
   "cell_type": "code",
   "execution_count": 148,
   "metadata": {},
   "outputs": [
    {
     "name": "stdout",
     "output_type": "stream",
     "text": [
      "Fifth Patient Fold Validation Confusion Matrix:\n",
      "                   pred:Leasional  pred:Nonleasional\n",
      "true:Leasional                265                 77\n",
      "true:Nonleasional             138                204\n"
     ]
    }
   ],
   "source": [
    "valid_label = np.unique(y_valid_fold)\n",
    "validation_cm_5f = confusion_matrix(y_valid_fold, y_pred_valid_5f, labels=valid_label) \n",
    "\n",
    "print(\"Fifth Patient Fold Validation Confusion Matrix:\")\n",
    "print(pd.DataFrame(validation_cm_5f, index=['true:Leasional', 'true:Nonleasional'], \n",
    "                   columns=['pred:Leasional', 'pred:Nonleasional']))"
   ]
  },
  {
   "cell_type": "code",
   "execution_count": 149,
   "metadata": {},
   "outputs": [],
   "source": [
    "y_valid_cube_pred_5fold = group_hypercube(y_pred_valid_5f, cube_threshold, \n",
    "                                          validation_5_key, total_bands)"
   ]
  },
  {
   "cell_type": "code",
   "execution_count": 150,
   "metadata": {},
   "outputs": [
    {
     "name": "stdout",
     "output_type": "stream",
     "text": [
      "Validation Model Hypercube Statistics, Fifth Patient Fold:\n",
      "Hypercube Accuracy:\t\t 0.6666666666666666 \n",
      "Hypercube Precision:\t\t 0.6666666666666666\n",
      "Hypercube Recall: \t\t 0.6666666666666666 \n",
      "Hypercube F1 Score:\t\t 0.6666666666666666\n"
     ]
    }
   ],
   "source": [
    "valid_accuracy_cube_5f = accuracy_score(y_valid_cube, y_valid_cube_pred_5fold)\n",
    "valid_precision_cube_5f = precision_score(y_valid_cube, y_valid_cube_pred_5fold)\n",
    "valid_recall_cube_5f = recall_score(y_valid_cube, y_valid_cube_pred_5fold)\n",
    "valid_f1_cube_5f = f1_score(y_valid_cube, y_valid_cube_pred_5fold)\n",
    "\n",
    "print(\"Validation Model Hypercube Statistics, Fifth Patient Fold:\\nHypercube Accuracy:\\t\\t\",valid_accuracy_cube_5f,\n",
    "      \"\\nHypercube Precision:\\t\\t\",valid_precision_cube_5f)\n",
    "print(\"Hypercube Recall: \\t\\t\",valid_recall_cube_5f,\"\\nHypercube F1 Score:\\t\\t\",valid_f1_cube_5f)"
   ]
  },
  {
   "cell_type": "code",
   "execution_count": 151,
   "metadata": {},
   "outputs": [
    {
     "name": "stdout",
     "output_type": "stream",
     "text": [
      "Fifth Patient Fold Validation Confusion Matrix (Cube):\n",
      "                   pred:Leasional  pred:Nonleasional\n",
      "true:Leasional                  6                  3\n",
      "true:Nonleasional               3                  6\n"
     ]
    }
   ],
   "source": [
    "valid_cube_label = np.unique(y_valid_cube)\n",
    "validation_cm_cube_5f = confusion_matrix(y_valid_cube, y_valid_cube_pred_5fold, labels=valid_cube_label) \n",
    "\n",
    "print(\"Fifth Patient Fold Validation Confusion Matrix (Cube):\")\n",
    "print(pd.DataFrame(validation_cm_cube_5f, index=['true:Leasional', 'true:Nonleasional'], \n",
    "                   columns=['pred:Leasional', 'pred:Nonleasional']))"
   ]
  },
  {
   "cell_type": "code",
   "execution_count": 152,
   "metadata": {},
   "outputs": [],
   "source": [
    "avg_v_acc_5f, avg_v_prec_5f, avg_v_re_5f, avg_v_f1_5f, avg_v_cm_5f = average_runs(averaged_runs, \n",
    "                                                                                  y_pred_valid_mat_5f, y_valid_fold)"
   ]
  },
  {
   "cell_type": "code",
   "execution_count": 153,
   "metadata": {},
   "outputs": [
    {
     "name": "stdout",
     "output_type": "stream",
     "text": [
      "Average (20 Epochs) Segment Validation Statistics, Fifth Patient Fold:\n",
      "Accuracy:\t\t 0.7402046783625731 \n",
      "Precision:\t\t 0.7825336770673063\n",
      "Recall:\t\t\t 0.6608187134502924 \n",
      "F1 Score:\t\t 0.7115023597640081\n"
     ]
    }
   ],
   "source": [
    "print(\"Average (20 Epochs) Segment Validation Statistics, Fifth Patient Fold:\\nAccuracy:\\t\\t\",avg_v_acc_5f,\n",
    "      \"\\nPrecision:\\t\\t\",avg_v_prec_5f)\n",
    "print(\"Recall:\\t\\t\\t\",avg_v_re_5f,\"\\nF1 Score:\\t\\t\",avg_v_f1_5f)"
   ]
  },
  {
   "cell_type": "code",
   "execution_count": 154,
   "metadata": {},
   "outputs": [
    {
     "data": {
      "text/html": [
       "<div>\n",
       "<style scoped>\n",
       "    .dataframe tbody tr th:only-of-type {\n",
       "        vertical-align: middle;\n",
       "    }\n",
       "\n",
       "    .dataframe tbody tr th {\n",
       "        vertical-align: top;\n",
       "    }\n",
       "\n",
       "    .dataframe thead th {\n",
       "        text-align: right;\n",
       "    }\n",
       "</style>\n",
       "<table border=\"1\" class=\"dataframe\">\n",
       "  <thead>\n",
       "    <tr style=\"text-align: right;\">\n",
       "      <th></th>\n",
       "      <th>pred:Leasional</th>\n",
       "      <th>pred:Nonleasional</th>\n",
       "    </tr>\n",
       "  </thead>\n",
       "  <tbody>\n",
       "    <tr>\n",
       "      <th>true:Leasional</th>\n",
       "      <td>280.3</td>\n",
       "      <td>61.7</td>\n",
       "    </tr>\n",
       "    <tr>\n",
       "      <th>true:Nonleasional</th>\n",
       "      <td>116.0</td>\n",
       "      <td>226.0</td>\n",
       "    </tr>\n",
       "  </tbody>\n",
       "</table>\n",
       "</div>"
      ],
      "text/plain": [
       "                   pred:Leasional  pred:Nonleasional\n",
       "true:Leasional              280.3               61.7\n",
       "true:Nonleasional           116.0              226.0"
      ]
     },
     "execution_count": 154,
     "metadata": {},
     "output_type": "execute_result"
    }
   ],
   "source": [
    "avgvalid_cm_5f =  avg_v_cm_5f.groupby(avg_v_cm_5f.index)\n",
    "\n",
    "avgvalid_cm_5f.mean()"
   ]
  },
  {
   "cell_type": "code",
   "execution_count": 155,
   "metadata": {},
   "outputs": [
    {
     "name": "stdout",
     "output_type": "stream",
     "text": [
      "Average (20 Epochs) Hypercube Validation Statistics, Fifth Patient Fold:\n",
      "Hypercube Accuracy:\t\t 0.7694444444444445 \n",
      "Hypercube Precision:\t\t 0.8403174603174604\n",
      "Hypercube Recall:\t\t 0.6666666666666667 \n",
      "Hypercube F1 Score:\t\t 0.7364563369207333\n"
     ]
    }
   ],
   "source": [
    "avg_vc_acc_5f, avg_vc_prec_5f, avg_vc_re_5f, avg_vc_f1_5f, avg_vc_cm_5f = average_group_runs(averaged_runs,\n",
    "                                                                                             y_valid_cube, \n",
    "                                                                                             y_pred_valid_mat_5f, \n",
    "                                                                                             cube_threshold, \n",
    "                                                                                             validation_5_key, \n",
    "                                                                                             total_bands)\n",
    "print(\"Average (20 Epochs) Hypercube Validation Statistics, Fifth Patient Fold:\\nHypercube Accuracy:\\t\\t\",avg_vc_acc_5f,\n",
    "      \"\\nHypercube Precision:\\t\\t\",avg_vc_prec_5f)\n",
    "print(\"Hypercube Recall:\\t\\t\",avg_vc_re_5f,\"\\nHypercube F1 Score:\\t\\t\",avg_vc_f1_5f)\n"
   ]
  },
  {
   "cell_type": "code",
   "execution_count": 156,
   "metadata": {},
   "outputs": [
    {
     "data": {
      "text/html": [
       "<div>\n",
       "<style scoped>\n",
       "    .dataframe tbody tr th:only-of-type {\n",
       "        vertical-align: middle;\n",
       "    }\n",
       "\n",
       "    .dataframe tbody tr th {\n",
       "        vertical-align: top;\n",
       "    }\n",
       "\n",
       "    .dataframe thead th {\n",
       "        text-align: right;\n",
       "    }\n",
       "</style>\n",
       "<table border=\"1\" class=\"dataframe\">\n",
       "  <thead>\n",
       "    <tr style=\"text-align: right;\">\n",
       "      <th></th>\n",
       "      <th>pred:Leasional</th>\n",
       "      <th>pred:Nonleasional</th>\n",
       "    </tr>\n",
       "  </thead>\n",
       "  <tbody>\n",
       "    <tr>\n",
       "      <th>true:Leasional</th>\n",
       "      <td>7.85</td>\n",
       "      <td>1.15</td>\n",
       "    </tr>\n",
       "    <tr>\n",
       "      <th>true:Nonleasional</th>\n",
       "      <td>3.00</td>\n",
       "      <td>6.00</td>\n",
       "    </tr>\n",
       "  </tbody>\n",
       "</table>\n",
       "</div>"
      ],
      "text/plain": [
       "                   pred:Leasional  pred:Nonleasional\n",
       "true:Leasional               7.85               1.15\n",
       "true:Nonleasional            3.00               6.00"
      ]
     },
     "execution_count": 156,
     "metadata": {},
     "output_type": "execute_result"
    }
   ],
   "source": [
    "avgvalid_cm_cube_5f =  avg_vc_cm_5f.groupby(avg_vc_cm_5f.index)\n",
    "\n",
    "avgvalid_cm_cube_5f.mean()"
   ]
  },
  {
   "cell_type": "code",
   "execution_count": 157,
   "metadata": {
    "scrolled": true
   },
   "outputs": [
    {
     "data": {
      "image/png": "[encoded data removed]",
      "text/plain": [
       "<Figure size 432x288 with 1 Axes>"
      ]
     },
     "metadata": {
      "needs_background": "light"
     },
     "output_type": "display_data"
    }
   ],
   "source": [
    "# Plot of Epochs vs Training Accuracy\n",
    "\n",
    "plt.plot(np.arange(1,epoch+2),np.array(acc_train_mat_5f), '-v')\n",
    "plt.xlabel('Number of Epochs Run')\n",
    "plt.ylabel('Accuracy')\n",
    "plt.title('Fold 5 Training Accuracy vs. Number of Epochs')\n",
    "plt.xlim(left=-1);\n",
    "plt.ylim(top=1);\n",
    "plt.ylim(bottom=0);"
   ]
  },
  {
   "cell_type": "code",
   "execution_count": 158,
   "metadata": {
    "scrolled": true
   },
   "outputs": [
    {
     "data": {
      "image/png": "[encoded data removed]",
      "text/plain": [
       "<Figure size 432x288 with 1 Axes>"
      ]
     },
     "metadata": {
      "needs_background": "light"
     },
     "output_type": "display_data"
    }
   ],
   "source": [
    "# Plot of Epochs vs Validation Accuracy\n",
    "\n",
    "plt.plot(np.arange(1,epoch+2),np.array(acc_valid_mat_5f), '-v')\n",
    "plt.xlabel('Number of Epochs Run')\n",
    "plt.ylabel('Accuracy')\n",
    "plt.title('Patient Fold 5 (Patient #5) Validation Accuracy vs. Number of Epochs')\n",
    "plt.xlim(left=-1);\n",
    "plt.ylim(top=1);\n",
    "plt.ylim(bottom=0);"
   ]
  },
  {
   "cell_type": "code",
   "execution_count": 159,
   "metadata": {},
   "outputs": [],
   "source": [
    "# Sixth Patient (Patient #14)\n",
    "graph_seed = 42\n",
    "reset_graph(graph_seed)"
   ]
  },
  {
   "cell_type": "code",
   "execution_count": 160,
   "metadata": {},
   "outputs": [],
   "source": [
    "# Sixth Validation Fold (Patient #14)\n",
    "X_valid_fold = X_sorted[validation_6]\n",
    "y_valid_fold = y_sorted[validation_6]"
   ]
  },
  {
   "cell_type": "code",
   "execution_count": 161,
   "metadata": {},
   "outputs": [
    {
     "data": {
      "text/plain": [
       "(380, 251502)"
      ]
     },
     "execution_count": 161,
     "metadata": {},
     "output_type": "execute_result"
    }
   ],
   "source": [
    "X_valid_fold.shape"
   ]
  },
  {
   "cell_type": "code",
   "execution_count": 162,
   "metadata": {},
   "outputs": [
    {
     "data": {
      "text/plain": [
       "(380,)"
      ]
     },
     "execution_count": 162,
     "metadata": {},
     "output_type": "execute_result"
    }
   ],
   "source": [
    "y_valid_fold.shape"
   ]
  },
  {
   "cell_type": "code",
   "execution_count": 163,
   "metadata": {},
   "outputs": [],
   "source": [
    "# Validation Cube for fold 6 (Patient #14)\n",
    "y_valid_cube = np.array([],dtype=np.int16)\n",
    "for cube in validation_6_key:\n",
    "    if cube.endswith('N'):\n",
    "        cube_class = 1\n",
    "    else:\n",
    "        cube_class = 0\n",
    "    y_valid_cube = np.append(y_valid_cube,cube_class)"
   ]
  },
  {
   "cell_type": "code",
   "execution_count": 164,
   "metadata": {},
   "outputs": [],
   "source": [
    "# Reset the training fold so the system memory is not overused\n",
    "X_train_fold = []"
   ]
  },
  {
   "cell_type": "code",
   "execution_count": 165,
   "metadata": {},
   "outputs": [],
   "source": [
    "# Second Training Fold (Patients 13,10,1,9,6,3,2,5,8,12,4,7)\n",
    "X_train_fold = X_sorted[training_6]\n",
    "y_train_fold = y_sorted[training_6]"
   ]
  },
  {
   "cell_type": "code",
   "execution_count": 166,
   "metadata": {},
   "outputs": [
    {
     "data": {
      "text/plain": [
       "(6270, 251502)"
      ]
     },
     "execution_count": 166,
     "metadata": {},
     "output_type": "execute_result"
    }
   ],
   "source": [
    "X_train_fold.shape"
   ]
  },
  {
   "cell_type": "code",
   "execution_count": 167,
   "metadata": {},
   "outputs": [
    {
     "data": {
      "text/plain": [
       "(6270,)"
      ]
     },
     "execution_count": 167,
     "metadata": {},
     "output_type": "execute_result"
    }
   ],
   "source": [
    "y_train_fold.shape"
   ]
  },
  {
   "cell_type": "code",
   "execution_count": 168,
   "metadata": {},
   "outputs": [],
   "source": [
    "# Sets the Neural Network for the graph\n",
    "height = 501\n",
    "width = 502\n",
    "channels = 1\n",
    "n_inputs = height * width * channels\n",
    "\n",
    "\n",
    "conv1_fmaps = 24\n",
    "conv1_ksize = 5\n",
    "conv1_stride = 3\n",
    "conv1_pad = \"SAME\"\n",
    "conv1_dropout_rate = 0.25\n",
    "\n",
    "pool2_fmaps = conv1_fmaps\n",
    "\n",
    "conv3_fmaps = 48\n",
    "conv3_ksize = 3\n",
    "conv3_stride = 1\n",
    "conv3_pad = \"SAME\"\n",
    "conv3_dropout_rate = 0.25\n",
    "\n",
    "pool4_fmaps = conv3_fmaps\n",
    "\n",
    "conv5_fmaps = 64\n",
    "conv5_ksize = 2\n",
    "conv5_stride = 1\n",
    "conv5_pad = \"SAME\"\n",
    "conv5_dropout_rate = 0.5\n",
    "\n",
    "pool6_fmaps = conv5_fmaps\n",
    "\n",
    "n_fc1 = 24\n",
    "n_outputs = 2\n",
    "\n",
    "regularizer = tf.contrib.layers.l2_regularizer(scale=0.1)\n",
    "\n",
    "with tf.name_scope(\"inputs\"):\n",
    "    X = tf.placeholder(tf.float32, shape=[None, n_inputs], name=\"X\")\n",
    "    X_reshaped = tf.reshape(X, shape=[-1, height, width, channels])\n",
    "    y = tf.placeholder(tf.int32, shape=[None], name=\"y\")\n",
    "    training = tf.placeholder_with_default(False, shape=[], name='training')\n",
    "\n",
    "conv1 = tf.layers.conv2d(X_reshaped, filters=conv1_fmaps, kernel_size=conv1_ksize,\n",
    "                         strides=conv1_stride, padding=conv1_pad,\n",
    "                         activation=tf.nn.tanh, kernel_regularizer=regularizer, name=\"conv1\")\n",
    "\n",
    "with tf.name_scope(\"pool2\"):\n",
    "    pool2 = tf.nn.max_pool(conv1, ksize=[1, 2, 2, 1], strides=[1, 2, 2, 1], padding=\"VALID\")\n",
    "    pool2_drop = tf.layers.dropout(pool2, conv1_dropout_rate, training=training)\n",
    "\n",
    "conv3 = tf.layers.conv2d(pool2_drop, filters=conv3_fmaps, kernel_size=conv3_ksize,\n",
    "                         strides=conv3_stride, padding=conv3_pad,\n",
    "                         activation=tf.nn.tanh, name=\"conv3\")\n",
    "\n",
    "with tf.name_scope(\"pool4\"):\n",
    "    pool4 = tf.nn.max_pool(conv3, ksize=[1, 2, 2, 1], strides=[1, 2, 2, 1], padding=\"VALID\")\n",
    "    pool4_drop = tf.layers.dropout(pool4, conv3_dropout_rate, training=training)\n",
    "\n",
    "conv5 = tf.layers.conv2d(pool4_drop, filters=conv5_fmaps, kernel_size=conv5_ksize,\n",
    "                         strides=conv5_stride, padding=conv5_pad,\n",
    "                         activation=tf.nn.tanh, name=\"conv5\")\n",
    "\n",
    "with tf.name_scope(\"pool6\"):\n",
    "    pool6 = tf.nn.max_pool(conv5, ksize=[1, 2, 2, 1], strides=[1, 2, 2, 1], padding=\"VALID\")\n",
    "    pool6_flat = tf.reshape(pool6, shape=[-1, pool6_fmaps * 20 * 21])\n",
    "    pool6_flat_drop = tf.layers.dropout(pool6_flat, conv5_dropout_rate, training=training)      \n",
    "       \n",
    "with tf.name_scope(\"fc1\"):\n",
    "    fc1 = tf.layers.dense(pool6_flat_drop, n_fc1, activation=tf.nn.tanh, kernel_regularizer=regularizer, name=\"fc1\")\n",
    "\n",
    "with tf.name_scope(\"output\"):\n",
    "    logits = tf.layers.dense(fc1, n_outputs, name=\"output\")\n",
    "    Y_proba = tf.nn.softmax(logits, name=\"Y_proba\")\n",
    "\n",
    "with tf.name_scope(\"train\"):\n",
    "    xentropy = tf.nn.sparse_softmax_cross_entropy_with_logits(logits=logits, labels=y)\n",
    "    l2_loss = tf.losses.get_regularization_loss()\n",
    "    loss = tf.reduce_mean(xentropy) + l2_loss\n",
    "    optimizer = tf.train.AdamOptimizer(learning_rate=0.0001)\n",
    "    training_op = optimizer.minimize(loss)\n",
    "\n",
    "with tf.name_scope(\"eval\"):\n",
    "    correct = tf.nn.in_top_k(logits, y, 1)\n",
    "    accuracy = tf.reduce_mean(tf.cast(correct, tf.float32))\n",
    "\n",
    "with tf.name_scope(\"init_and_save\"):\n",
    "    init = tf.global_variables_initializer()\n",
    "    saver = tf.train.Saver()"
   ]
  },
  {
   "cell_type": "code",
   "execution_count": 169,
   "metadata": {},
   "outputs": [],
   "source": [
    "# Sets the number of epochs and batch size\n",
    "n_iterations_per_epoch = len(X_train_fold) // batch_size"
   ]
  },
  {
   "cell_type": "code",
   "execution_count": 170,
   "metadata": {
    "scrolled": true
   },
   "outputs": [
    {
     "data": {
      "text/plain": [
       "62"
      ]
     },
     "execution_count": 170,
     "metadata": {},
     "output_type": "execute_result"
    }
   ],
   "source": [
    "n_iterations_per_epoch"
   ]
  },
  {
   "cell_type": "code",
   "execution_count": 171,
   "metadata": {},
   "outputs": [
    {
     "name": "stdout",
     "output_type": "stream",
     "text": [
      "Start Time:  2019-03-07 21:04:11.203001 \n",
      "\n",
      "Epoch 0\n",
      "Last Batch accuracy:  50.00 %, Training accuracy:  52.68 %, Validation accuracy:  20.26 %\n",
      "Time training up to Epoch  0 :  0  hours,  0  minutes, and  48  seconds.\n",
      "Epoch 1\n",
      "Last Batch accuracy:  56.00 %, Training accuracy:  51.63 %, Validation accuracy:  20.26 %\n",
      "Time training up to Epoch  1 :  0  hours,  1  minutes, and  34  seconds.\n",
      "Epoch 2\n",
      "Last Batch accuracy:  63.00 %, Training accuracy:  52.28 %, Validation accuracy:  23.42 %\n",
      "Time training up to Epoch  2 :  0  hours,  2  minutes, and  20  seconds.\n",
      "Epoch 3\n",
      "Last Batch accuracy:  50.00 %, Training accuracy:  55.01 %, Validation accuracy:  20.53 %\n",
      "Time training up to Epoch  3 :  0  hours,  3  minutes, and  7  seconds.\n",
      "Epoch 4\n",
      "Last Batch accuracy:  63.00 %, Training accuracy:  56.76 %, Validation accuracy:  30.79 %\n",
      "Time training up to Epoch  4 :  0  hours,  3  minutes, and  53  seconds.\n",
      "Epoch 5\n",
      "Last Batch accuracy:  63.00 %, Training accuracy:  60.46 %, Validation accuracy:  36.32 %\n",
      "Time training up to Epoch  5 :  0  hours,  4  minutes, and  39  seconds.\n",
      "Epoch 6\n",
      "Last Batch accuracy:  57.00 %, Training accuracy:  57.43 %, Validation accuracy:  23.68 %\n",
      "Time training up to Epoch  6 :  0  hours,  5  minutes, and  25  seconds.\n",
      "Epoch 7\n",
      "Last Batch accuracy:  57.00 %, Training accuracy:  66.86 %, Validation accuracy:  73.68 %\n",
      "Time training up to Epoch  7 :  0  hours,  6  minutes, and  11  seconds.\n",
      "Epoch 8\n",
      "Last Batch accuracy:  73.00 %, Training accuracy:  69.98 %, Validation accuracy:  68.42 %\n",
      "Time training up to Epoch  8 :  0  hours,  6  minutes, and  57  seconds.\n",
      "Epoch 9\n",
      "Last Batch accuracy:  71.00 %, Training accuracy:  68.12 %, Validation accuracy:  59.21 %\n",
      "Time training up to Epoch  9 :  0  hours,  7  minutes, and  44  seconds.\n",
      "Epoch 10\n",
      "Last Batch accuracy:  62.00 %, Training accuracy:  69.92 %, Validation accuracy:  71.84 %\n",
      "Time training up to Epoch  10 :  0  hours,  8  minutes, and  30  seconds.\n",
      "Epoch 11\n",
      "Last Batch accuracy:  68.00 %, Training accuracy:  69.57 %, Validation accuracy:  55.00 %\n",
      "Time training up to Epoch  11 :  0  hours,  9  minutes, and  16  seconds.\n",
      "Epoch 12\n",
      "Last Batch accuracy:  73.00 %, Training accuracy:  69.31 %, Validation accuracy:  70.79 %\n",
      "Time training up to Epoch  12 :  0  hours,  10  minutes, and  3  seconds.\n",
      "Epoch 13\n",
      "Last Batch accuracy:  66.00 %, Training accuracy:  68.47 %, Validation accuracy:  67.89 %\n",
      "Time training up to Epoch  13 :  0  hours,  10  minutes, and  48  seconds.\n",
      "Epoch 14\n",
      "Last Batch accuracy:  63.00 %, Training accuracy:  67.38 %, Validation accuracy:  76.58 %\n",
      "Time training up to Epoch  14 :  0  hours,  11  minutes, and  34  seconds.\n",
      "Epoch 15\n",
      "Last Batch accuracy:  76.00 %, Training accuracy:  71.82 %, Validation accuracy:  71.32 %\n",
      "Time training up to Epoch  15 :  0  hours,  12  minutes, and  20  seconds.\n",
      "Epoch 16\n",
      "Last Batch accuracy:  77.00 %, Training accuracy:  75.53 %, Validation accuracy:  72.37 %\n",
      "Time training up to Epoch  16 :  0  hours,  13  minutes, and  7  seconds.\n",
      "Epoch 17\n",
      "Last Batch accuracy:  79.00 %, Training accuracy:  77.43 %, Validation accuracy:  75.79 %\n",
      "Time training up to Epoch  17 :  0  hours,  13  minutes, and  54  seconds.\n",
      "Epoch 18\n",
      "Last Batch accuracy:  76.00 %, Training accuracy:  73.19 %, Validation accuracy:  73.68 %\n",
      "Time training up to Epoch  18 :  0  hours,  14  minutes, and  40  seconds.\n",
      "Epoch 19\n",
      "Last Batch accuracy:  74.00 %, Training accuracy:  76.59 %, Validation accuracy:  72.89 %\n",
      "Time training up to Epoch  19 :  0  hours,  15  minutes, and  28  seconds.\n",
      "Epoch 20\n",
      "Last Batch accuracy:  79.00 %, Training accuracy:  78.20 %, Validation accuracy:  71.84 %\n",
      "Time training up to Epoch  20 :  0  hours,  16  minutes, and  14  seconds.\n",
      "Epoch 21\n",
      "Last Batch accuracy:  81.00 %, Training accuracy:  77.27 %, Validation accuracy:  72.89 %\n",
      "Time training up to Epoch  21 :  0  hours,  17  minutes, and  0  seconds.\n",
      "Epoch 22\n",
      "Last Batch accuracy:  85.00 %, Training accuracy:  78.90 %, Validation accuracy:  72.11 %\n",
      "Time training up to Epoch  22 :  0  hours,  17  minutes, and  46  seconds.\n",
      "Epoch 23\n",
      "Last Batch accuracy:  82.00 %, Training accuracy:  80.77 %, Validation accuracy:  75.00 %\n",
      "Time training up to Epoch  23 :  0  hours,  18  minutes, and  33  seconds.\n",
      "Epoch 24\n",
      "Last Batch accuracy:  74.00 %, Training accuracy:  78.09 %, Validation accuracy:  73.42 %\n",
      "Time training up to Epoch  24 :  0  hours,  19  minutes, and  19  seconds.\n",
      "Epoch 25\n",
      "Last Batch accuracy:  83.00 %, Training accuracy:  79.11 %, Validation accuracy:  73.16 %\n",
      "Time training up to Epoch  25 :  0  hours,  20  minutes, and  6  seconds.\n",
      "Epoch 26\n",
      "Last Batch accuracy:  83.00 %, Training accuracy:  82.04 %, Validation accuracy:  76.84 %\n",
      "Time training up to Epoch  26 :  0  hours,  20  minutes, and  52  seconds.\n",
      "Epoch 27\n",
      "Last Batch accuracy:  77.00 %, Training accuracy:  80.10 %, Validation accuracy:  70.26 %\n",
      "Time training up to Epoch  27 :  0  hours,  21  minutes, and  38  seconds.\n",
      "Epoch 28\n",
      "Last Batch accuracy:  85.00 %, Training accuracy:  83.22 %, Validation accuracy:  76.32 %\n",
      "Time training up to Epoch  28 :  0  hours,  22  minutes, and  25  seconds.\n",
      "Epoch 29\n",
      "Last Batch accuracy:  80.00 %, Training accuracy:  82.71 %, Validation accuracy:  76.84 %\n",
      "Time training up to Epoch  29 :  0  hours,  23  minutes, and  11  seconds.\n",
      "\n",
      "Training Complete: 2019-03-07 21:27:23.186093\n"
     ]
    }
   ],
   "source": [
    "# Trains the CNN\n",
    "acc_train_mat_6f = []\n",
    "acc_valid_mat_6f = []\n",
    "\n",
    "y_pred_valid_mat_6f = []\n",
    "\n",
    "training_start_time = datetime.datetime.now()\n",
    "print(\"Start Time: \", training_start_time, \"\\n\")\n",
    "\n",
    "with tf.Session() as sess:\n",
    "    init.run()\n",
    "\n",
    "    for epoch in range(n_epochs):\n",
    "        y_train_pred = np.array([],dtype=np.int16)\n",
    "        print(\"Epoch\", epoch)\n",
    "        # \n",
    "        for iteration in range(n_iterations_per_epoch):\n",
    "            X_batch, y_batch = prepare_batch(X_train_fold, y_train_fold, batch_size)            \n",
    "            sess.run(training_op, feed_dict={X: X_batch, y: y_batch})\n",
    "        acc_batch = accuracy.eval(feed_dict={X: X_batch, y: y_batch})\n",
    "        # Finds the predicted values for the training set\n",
    "        for i in range(len((X_train_fold))):\n",
    "            X_train = normalize_max_train(X_train_fold[i])\n",
    "            z_pred_train = logits.eval(feed_dict={X: X_train})\n",
    "            y_pred_train = np.argmax(z_pred_train, axis=1)\n",
    "            y_train_pred = np.append(y_train_pred,y_pred_train)\n",
    "        acc_train = accuracy_score(y_train_fold, y_train_pred)\n",
    "        acc_val = accuracy.eval(feed_dict={X: X_valid_fold, y: y_valid_fold})\n",
    "        # Appends the network accuracy to a matrix for so we can evaluate performance over epoch\n",
    "        acc_train_mat_6f.append(acc_train)\n",
    "        acc_valid_mat_6f.append(acc_val)\n",
    "        # Finds the predicted values for the validation set\n",
    "        z_pred_valid = logits.eval(feed_dict={X: X_valid_fold, y: y_valid_fold})\n",
    "        y_pred_valid_6f = np.argmax(z_pred_valid, axis=1)\n",
    "        y_pred_valid_mat_6f.append(y_pred_valid_6f)\n",
    "        \n",
    "        training_duration_time = datetime.datetime.now()\n",
    "        training_duration = training_duration_time-training_start_time\n",
    "        training_hours, remainder = divmod(training_duration.seconds, 3600)\n",
    "        training_minutes, training_seconds = divmod(remainder,60)\n",
    "        print(\"Last Batch accuracy: \", \"{0:.2f}\".format(acc_batch*100),\n",
    "              \"%, Training accuracy: \", \"{0:.2f}\".format(acc_train*100),\n",
    "              \"%, Validation accuracy: \", \"{0:.2f}\".format(acc_val*100),\"%\")\n",
    "        print(\"Time training up to Epoch \",epoch,\": \",training_hours,\" hours, \", training_minutes,\n",
    "              \" minutes, and \", training_seconds, \" seconds.\")\n",
    "    save_path = saver.save(sess, \"./IB_maxdata_baseneta_100tanh_6fold_run1\")\n",
    "training_end_time = datetime.datetime.now()\n",
    "print('\\nTraining Complete:', training_end_time)"
   ]
  },
  {
   "cell_type": "code",
   "execution_count": 172,
   "metadata": {},
   "outputs": [
    {
     "name": "stdout",
     "output_type": "stream",
     "text": [
      "Sixth Patient Fold (Patient #14) of CV took 0  hours,  23  minutes, and  11  seconds to train.\n",
      "\n"
     ]
    }
   ],
   "source": [
    "training_duration = training_end_time-training_start_time\n",
    "duration_hours, duration_remainder = divmod(training_duration.seconds, 3600)\n",
    "duration_minutes, duration_seconds = divmod(duration_remainder,60)\n",
    "print(\"Sixth Patient Fold (Patient #14) of CV took\",duration_hours,\" hours, \", duration_minutes,\n",
    "              \" minutes, and \", duration_seconds, \" seconds to train.\\n\")"
   ]
  },
  {
   "cell_type": "code",
   "execution_count": 173,
   "metadata": {},
   "outputs": [
    {
     "name": "stdout",
     "output_type": "stream",
     "text": [
      "Segment Validation Statistics, Sixth Patient Fold:\n",
      "Accuracy:\t\t 0.7684210526315789 \n",
      "Precision:\t\t 0.7934782608695652\n",
      "Recall:\t\t\t 0.9605263157894737 \n",
      "F1 Score:\t\t 0.869047619047619\n"
     ]
    }
   ],
   "source": [
    "valid_accuracy_6f = accuracy_score(y_valid_fold, y_pred_valid_6f)\n",
    "valid_precision_6f = precision_score(y_valid_fold, y_pred_valid_6f)\n",
    "valid_recall_6f = recall_score(y_valid_fold, y_pred_valid_6f)\n",
    "valid_f1_6f = f1_score(y_valid_fold, y_pred_valid_6f)\n",
    "\n",
    "print(\"Segment Validation Statistics, Sixth Patient Fold:\\nAccuracy:\\t\\t\",valid_accuracy_6f,\n",
    "      \"\\nPrecision:\\t\\t\",valid_precision_6f)\n",
    "print(\"Recall:\\t\\t\\t\",valid_recall_6f,\"\\nF1 Score:\\t\\t\",valid_f1_6f)"
   ]
  },
  {
   "cell_type": "code",
   "execution_count": 174,
   "metadata": {},
   "outputs": [
    {
     "name": "stdout",
     "output_type": "stream",
     "text": [
      "Sixth Patient Fold Validation Confusion Matrix:\n",
      "                   pred:Leasional  pred:Nonleasional\n",
      "true:Leasional                  0                 76\n",
      "true:Nonleasional              12                292\n"
     ]
    }
   ],
   "source": [
    "valid_label = np.unique(y_valid_fold)\n",
    "validation_cm_6f = confusion_matrix(y_valid_fold, y_pred_valid_6f, labels=valid_label) \n",
    "\n",
    "print(\"Sixth Patient Fold Validation Confusion Matrix:\")\n",
    "print(pd.DataFrame(validation_cm_6f, index=['true:Leasional', 'true:Nonleasional'], \n",
    "                   columns=['pred:Leasional', 'pred:Nonleasional']))"
   ]
  },
  {
   "cell_type": "code",
   "execution_count": 175,
   "metadata": {},
   "outputs": [],
   "source": [
    "y_valid_cube_pred_6fold = group_hypercube(y_pred_valid_6f, cube_threshold, \n",
    "                                          validation_6_key, total_bands)"
   ]
  },
  {
   "cell_type": "code",
   "execution_count": 176,
   "metadata": {},
   "outputs": [
    {
     "name": "stdout",
     "output_type": "stream",
     "text": [
      "Validation Model Hypercube Statistics, Sixth Patient Fold (Patient #14):\n",
      "Hypercube Accuracy:\t\t 0.8 \n",
      "Hypercube Precision:\t\t 0.8\n",
      "Hypercube Recall: \t\t 1.0 \n",
      "Hypercube F1 Score:\t\t 0.888888888888889\n"
     ]
    }
   ],
   "source": [
    "valid_accuracy_cube_6f = accuracy_score(y_valid_cube, y_valid_cube_pred_6fold)\n",
    "valid_precision_cube_6f = precision_score(y_valid_cube, y_valid_cube_pred_6fold)\n",
    "valid_recall_cube_6f = recall_score(y_valid_cube, y_valid_cube_pred_6fold)\n",
    "valid_f1_cube_6f = f1_score(y_valid_cube, y_valid_cube_pred_6fold)\n",
    "\n",
    "print(\"Validation Model Hypercube Statistics, Sixth Patient Fold (Patient #14):\\nHypercube Accuracy:\\t\\t\",valid_accuracy_cube_6f,\n",
    "      \"\\nHypercube Precision:\\t\\t\",valid_precision_cube_6f)\n",
    "print(\"Hypercube Recall: \\t\\t\",valid_recall_cube_6f,\"\\nHypercube F1 Score:\\t\\t\",valid_f1_cube_6f)"
   ]
  },
  {
   "cell_type": "code",
   "execution_count": 177,
   "metadata": {},
   "outputs": [
    {
     "name": "stdout",
     "output_type": "stream",
     "text": [
      "Sixth Patient Fold (Patient #14) Validation Confusion Matrix (Cube):\n",
      "                   pred:Leasional  pred:Nonleasional\n",
      "true:Leasional                  0                  2\n",
      "true:Nonleasional               0                  8\n"
     ]
    }
   ],
   "source": [
    "valid_cube_label = np.unique(y_valid_cube)\n",
    "validation_cm_cube_6f = confusion_matrix(y_valid_cube, y_valid_cube_pred_6fold, labels=valid_cube_label) \n",
    "\n",
    "print(\"Sixth Patient Fold (Patient #14) Validation Confusion Matrix (Cube):\")\n",
    "print(pd.DataFrame(validation_cm_cube_6f, index=['true:Leasional', 'true:Nonleasional'], \n",
    "                   columns=['pred:Leasional', 'pred:Nonleasional']))"
   ]
  },
  {
   "cell_type": "code",
   "execution_count": 178,
   "metadata": {},
   "outputs": [],
   "source": [
    "avg_v_acc_6f, avg_v_prec_6f, avg_v_re_6f, avg_v_f1_6f, avg_v_cm_6f = average_runs(averaged_runs, \n",
    "                                                                                  y_pred_valid_mat_6f, y_valid_fold)"
   ]
  },
  {
   "cell_type": "code",
   "execution_count": 179,
   "metadata": {},
   "outputs": [
    {
     "name": "stdout",
     "output_type": "stream",
     "text": [
      "Average (20 Epochs) Segment Validation Statistics, Sixth Patient Fold:\n",
      "Accuracy:\t\t 0.7146052631578947 \n",
      "Precision:\t\t 0.7895297346051444\n",
      "Recall:\t\t\t 0.8771381578947368 \n",
      "F1 Score:\t\t 0.8292255436149594\n"
     ]
    }
   ],
   "source": [
    "print(\"Average (20 Epochs) Segment Validation Statistics, Sixth Patient Fold:\\nAccuracy:\\t\\t\",avg_v_acc_6f,\n",
    "      \"\\nPrecision:\\t\\t\",avg_v_prec_6f)\n",
    "print(\"Recall:\\t\\t\\t\",avg_v_re_6f,\"\\nF1 Score:\\t\\t\",avg_v_f1_6f)"
   ]
  },
  {
   "cell_type": "code",
   "execution_count": 180,
   "metadata": {},
   "outputs": [
    {
     "data": {
      "text/html": [
       "<div>\n",
       "<style scoped>\n",
       "    .dataframe tbody tr th:only-of-type {\n",
       "        vertical-align: middle;\n",
       "    }\n",
       "\n",
       "    .dataframe tbody tr th {\n",
       "        vertical-align: top;\n",
       "    }\n",
       "\n",
       "    .dataframe thead th {\n",
       "        text-align: right;\n",
       "    }\n",
       "</style>\n",
       "<table border=\"1\" class=\"dataframe\">\n",
       "  <thead>\n",
       "    <tr style=\"text-align: right;\">\n",
       "      <th></th>\n",
       "      <th>pred:Leasional</th>\n",
       "      <th>pred:Nonleasional</th>\n",
       "    </tr>\n",
       "  </thead>\n",
       "  <tbody>\n",
       "    <tr>\n",
       "      <th>true:Leasional</th>\n",
       "      <td>4.90</td>\n",
       "      <td>71.10</td>\n",
       "    </tr>\n",
       "    <tr>\n",
       "      <th>true:Nonleasional</th>\n",
       "      <td>37.35</td>\n",
       "      <td>266.65</td>\n",
       "    </tr>\n",
       "  </tbody>\n",
       "</table>\n",
       "</div>"
      ],
      "text/plain": [
       "                   pred:Leasional  pred:Nonleasional\n",
       "true:Leasional               4.90              71.10\n",
       "true:Nonleasional           37.35             266.65"
      ]
     },
     "execution_count": 180,
     "metadata": {},
     "output_type": "execute_result"
    }
   ],
   "source": [
    "avgvalid_cm_6f =  avg_v_cm_6f.groupby(avg_v_cm_6f.index)\n",
    "\n",
    "avgvalid_cm_6f.mean()"
   ]
  },
  {
   "cell_type": "code",
   "execution_count": 181,
   "metadata": {},
   "outputs": [
    {
     "name": "stdout",
     "output_type": "stream",
     "text": [
      "Average (20 Epochs) Hypercube Validation Statistics, Sixth Patient Fold:\n",
      "Hypercube Accuracy:\t\t 0.7800000000000001 \n",
      "Hypercube Precision:\t\t 0.7987500000000003\n",
      "Hypercube Recall:\t\t 0.96875 \n",
      "Hypercube F1 Score:\t\t 0.8743055555555557\n"
     ]
    }
   ],
   "source": [
    "avg_vc_acc_6f, avg_vc_prec_6f, avg_vc_re_6f, avg_vc_f1_6f, avg_vc_cm_6f = average_group_runs(averaged_runs,\n",
    "                                                                                             y_valid_cube, \n",
    "                                                                                             y_pred_valid_mat_6f, \n",
    "                                                                                             cube_threshold, \n",
    "                                                                                             validation_6_key, \n",
    "                                                                                             total_bands)\n",
    "print(\"Average (20 Epochs) Hypercube Validation Statistics, Sixth Patient Fold:\\nHypercube Accuracy:\\t\\t\",avg_vc_acc_6f,\n",
    "      \"\\nHypercube Precision:\\t\\t\",avg_vc_prec_6f)\n",
    "print(\"Hypercube Recall:\\t\\t\",avg_vc_re_6f,\"\\nHypercube F1 Score:\\t\\t\",avg_vc_f1_6f)\n"
   ]
  },
  {
   "cell_type": "code",
   "execution_count": 182,
   "metadata": {},
   "outputs": [
    {
     "data": {
      "text/html": [
       "<div>\n",
       "<style scoped>\n",
       "    .dataframe tbody tr th:only-of-type {\n",
       "        vertical-align: middle;\n",
       "    }\n",
       "\n",
       "    .dataframe tbody tr th {\n",
       "        vertical-align: top;\n",
       "    }\n",
       "\n",
       "    .dataframe thead th {\n",
       "        text-align: right;\n",
       "    }\n",
       "</style>\n",
       "<table border=\"1\" class=\"dataframe\">\n",
       "  <thead>\n",
       "    <tr style=\"text-align: right;\">\n",
       "      <th></th>\n",
       "      <th>pred:Leasional</th>\n",
       "      <th>pred:Nonleasional</th>\n",
       "    </tr>\n",
       "  </thead>\n",
       "  <tbody>\n",
       "    <tr>\n",
       "      <th>true:Leasional</th>\n",
       "      <td>0.05</td>\n",
       "      <td>1.95</td>\n",
       "    </tr>\n",
       "    <tr>\n",
       "      <th>true:Nonleasional</th>\n",
       "      <td>0.25</td>\n",
       "      <td>7.75</td>\n",
       "    </tr>\n",
       "  </tbody>\n",
       "</table>\n",
       "</div>"
      ],
      "text/plain": [
       "                   pred:Leasional  pred:Nonleasional\n",
       "true:Leasional               0.05               1.95\n",
       "true:Nonleasional            0.25               7.75"
      ]
     },
     "execution_count": 182,
     "metadata": {},
     "output_type": "execute_result"
    }
   ],
   "source": [
    "avgvalid_cm_cube_6f =  avg_vc_cm_6f.groupby(avg_vc_cm_6f.index)\n",
    "\n",
    "avgvalid_cm_cube_6f.mean()"
   ]
  },
  {
   "cell_type": "code",
   "execution_count": 183,
   "metadata": {
    "scrolled": true
   },
   "outputs": [
    {
     "data": {
      "image/png": "[encoded data removed]",
      "text/plain": [
       "<Figure size 432x288 with 1 Axes>"
      ]
     },
     "metadata": {
      "needs_background": "light"
     },
     "output_type": "display_data"
    }
   ],
   "source": [
    "# Plot of Epochs vs Training Accuracy\n",
    "\n",
    "plt.plot(np.arange(1,epoch+2),np.array(acc_train_mat_6f), '-v')\n",
    "plt.xlabel('Number of Epochs Run')\n",
    "plt.ylabel('Accuracy')\n",
    "plt.title('Fold 6 Training Accuracy vs. Number of Epochs')\n",
    "plt.xlim(left=-1);\n",
    "plt.ylim(top=1);\n",
    "plt.ylim(bottom=0);"
   ]
  },
  {
   "cell_type": "code",
   "execution_count": 184,
   "metadata": {},
   "outputs": [
    {
     "data": {
      "image/png": "[encoded data removed]",
      "text/plain": [
       "<Figure size 432x288 with 1 Axes>"
      ]
     },
     "metadata": {
      "needs_background": "light"
     },
     "output_type": "display_data"
    }
   ],
   "source": [
    "# Plot of Epochs vs Validation Accuracy\n",
    "\n",
    "plt.plot(np.arange(1,epoch+2),np.array(acc_valid_mat_6f), '-v')\n",
    "plt.xlabel('Number of Epochs Run')\n",
    "plt.ylabel('Accuracy')\n",
    "plt.title('Patient 6 (Patient #14) Validation Accuracy vs. Number of Epochs')\n",
    "plt.xlim(left=-1);\n",
    "plt.ylim(top=1);\n",
    "plt.ylim(bottom=0);"
   ]
  },
  {
   "cell_type": "code",
   "execution_count": 185,
   "metadata": {},
   "outputs": [],
   "source": [
    "# Seventh Patient (Patient 2)\n",
    "graph_seed = 42\n",
    "reset_graph(graph_seed)"
   ]
  },
  {
   "cell_type": "code",
   "execution_count": 186,
   "metadata": {},
   "outputs": [],
   "source": [
    "# Seventh Validation Fold (Patient 2)\n",
    "X_valid_fold = X_sorted[validation_7]\n",
    "y_valid_fold = y_sorted[validation_7]"
   ]
  },
  {
   "cell_type": "code",
   "execution_count": 187,
   "metadata": {},
   "outputs": [
    {
     "data": {
      "text/plain": [
       "(342, 251502)"
      ]
     },
     "execution_count": 187,
     "metadata": {},
     "output_type": "execute_result"
    }
   ],
   "source": [
    "X_valid_fold.shape"
   ]
  },
  {
   "cell_type": "code",
   "execution_count": 188,
   "metadata": {},
   "outputs": [
    {
     "data": {
      "text/plain": [
       "(342,)"
      ]
     },
     "execution_count": 188,
     "metadata": {},
     "output_type": "execute_result"
    }
   ],
   "source": [
    "y_valid_fold.shape"
   ]
  },
  {
   "cell_type": "code",
   "execution_count": 189,
   "metadata": {},
   "outputs": [],
   "source": [
    "# Validation Cube for patient fold 7 (Patient #2)\n",
    "y_valid_cube = np.array([],dtype=np.int16)\n",
    "for cube in validation_7_key:\n",
    "    if cube.endswith('N'):\n",
    "        cube_class = 1\n",
    "    else:\n",
    "        cube_class = 0\n",
    "    y_valid_cube = np.append(y_valid_cube,cube_class)"
   ]
  },
  {
   "cell_type": "code",
   "execution_count": 190,
   "metadata": {},
   "outputs": [],
   "source": [
    "# Reset the training fold so the system memory is not overused\n",
    "X_train_fold = []"
   ]
  },
  {
   "cell_type": "code",
   "execution_count": 191,
   "metadata": {},
   "outputs": [],
   "source": [
    "# Third Training Fold (Patients 13,10,1,9,6,3,14,5,8,12,4,7)\n",
    "X_train_fold = X_sorted[training_7]\n",
    "y_train_fold = y_sorted[training_7]"
   ]
  },
  {
   "cell_type": "code",
   "execution_count": 192,
   "metadata": {},
   "outputs": [
    {
     "data": {
      "text/plain": [
       "(6308, 251502)"
      ]
     },
     "execution_count": 192,
     "metadata": {},
     "output_type": "execute_result"
    }
   ],
   "source": [
    "X_train_fold.shape"
   ]
  },
  {
   "cell_type": "code",
   "execution_count": 193,
   "metadata": {},
   "outputs": [
    {
     "data": {
      "text/plain": [
       "(6308,)"
      ]
     },
     "execution_count": 193,
     "metadata": {},
     "output_type": "execute_result"
    }
   ],
   "source": [
    "y_train_fold.shape"
   ]
  },
  {
   "cell_type": "code",
   "execution_count": 194,
   "metadata": {},
   "outputs": [],
   "source": [
    "# Sets the Neural Network for the graph\n",
    "height = 501\n",
    "width = 502\n",
    "channels = 1\n",
    "n_inputs = height * width * channels\n",
    "\n",
    "\n",
    "conv1_fmaps = 24\n",
    "conv1_ksize = 5\n",
    "conv1_stride = 3\n",
    "conv1_pad = \"SAME\"\n",
    "conv1_dropout_rate = 0.25\n",
    "\n",
    "pool2_fmaps = conv1_fmaps\n",
    "\n",
    "conv3_fmaps = 48\n",
    "conv3_ksize = 3\n",
    "conv3_stride = 1\n",
    "conv3_pad = \"SAME\"\n",
    "conv3_dropout_rate = 0.25\n",
    "\n",
    "pool4_fmaps = conv3_fmaps\n",
    "\n",
    "conv5_fmaps = 64\n",
    "conv5_ksize = 2\n",
    "conv5_stride = 1\n",
    "conv5_pad = \"SAME\"\n",
    "conv5_dropout_rate = 0.5\n",
    "\n",
    "pool6_fmaps = conv5_fmaps\n",
    "\n",
    "n_fc1 = 24\n",
    "n_outputs = 2\n",
    "\n",
    "regularizer = tf.contrib.layers.l2_regularizer(scale=0.1)\n",
    "\n",
    "with tf.name_scope(\"inputs\"):\n",
    "    X = tf.placeholder(tf.float32, shape=[None, n_inputs], name=\"X\")\n",
    "    X_reshaped = tf.reshape(X, shape=[-1, height, width, channels])\n",
    "    y = tf.placeholder(tf.int32, shape=[None], name=\"y\")\n",
    "    training = tf.placeholder_with_default(False, shape=[], name='training')\n",
    "\n",
    "conv1 = tf.layers.conv2d(X_reshaped, filters=conv1_fmaps, kernel_size=conv1_ksize,\n",
    "                         strides=conv1_stride, padding=conv1_pad,\n",
    "                         activation=tf.nn.tanh, kernel_regularizer=regularizer, name=\"conv1\")\n",
    "\n",
    "with tf.name_scope(\"pool2\"):\n",
    "    pool2 = tf.nn.max_pool(conv1, ksize=[1, 2, 2, 1], strides=[1, 2, 2, 1], padding=\"VALID\")\n",
    "    pool2_drop = tf.layers.dropout(pool2, conv1_dropout_rate, training=training)\n",
    "\n",
    "conv3 = tf.layers.conv2d(pool2_drop, filters=conv3_fmaps, kernel_size=conv3_ksize,\n",
    "                         strides=conv3_stride, padding=conv3_pad,\n",
    "                         activation=tf.nn.tanh, name=\"conv3\")\n",
    "\n",
    "with tf.name_scope(\"pool4\"):\n",
    "    pool4 = tf.nn.max_pool(conv3, ksize=[1, 2, 2, 1], strides=[1, 2, 2, 1], padding=\"VALID\")\n",
    "    pool4_drop = tf.layers.dropout(pool4, conv3_dropout_rate, training=training)\n",
    "\n",
    "conv5 = tf.layers.conv2d(pool4_drop, filters=conv5_fmaps, kernel_size=conv5_ksize,\n",
    "                         strides=conv5_stride, padding=conv5_pad,\n",
    "                         activation=tf.nn.tanh, name=\"conv5\")\n",
    "\n",
    "with tf.name_scope(\"pool6\"):\n",
    "    pool6 = tf.nn.max_pool(conv5, ksize=[1, 2, 2, 1], strides=[1, 2, 2, 1], padding=\"VALID\")\n",
    "    pool6_flat = tf.reshape(pool6, shape=[-1, pool6_fmaps * 20 * 21])\n",
    "    pool6_flat_drop = tf.layers.dropout(pool6_flat, conv5_dropout_rate, training=training)      \n",
    "       \n",
    "with tf.name_scope(\"fc1\"):\n",
    "    fc1 = tf.layers.dense(pool6_flat_drop, n_fc1, activation=tf.nn.tanh, kernel_regularizer=regularizer, name=\"fc1\")\n",
    "\n",
    "with tf.name_scope(\"output\"):\n",
    "    logits = tf.layers.dense(fc1, n_outputs, name=\"output\")\n",
    "    Y_proba = tf.nn.softmax(logits, name=\"Y_proba\")\n",
    "\n",
    "with tf.name_scope(\"train\"):\n",
    "    xentropy = tf.nn.sparse_softmax_cross_entropy_with_logits(logits=logits, labels=y)\n",
    "    l2_loss = tf.losses.get_regularization_loss()\n",
    "    loss = tf.reduce_mean(xentropy) + l2_loss\n",
    "    optimizer = tf.train.AdamOptimizer(learning_rate=0.0001)\n",
    "    training_op = optimizer.minimize(loss)\n",
    "\n",
    "with tf.name_scope(\"eval\"):\n",
    "    correct = tf.nn.in_top_k(logits, y, 1)\n",
    "    accuracy = tf.reduce_mean(tf.cast(correct, tf.float32))\n",
    "\n",
    "with tf.name_scope(\"init_and_save\"):\n",
    "    init = tf.global_variables_initializer()\n",
    "    saver = tf.train.Saver()"
   ]
  },
  {
   "cell_type": "code",
   "execution_count": 195,
   "metadata": {},
   "outputs": [],
   "source": [
    "# Sets the number of epochs and batch size\n",
    "n_iterations_per_epoch = len(X_train_fold) // batch_size"
   ]
  },
  {
   "cell_type": "code",
   "execution_count": 196,
   "metadata": {
    "scrolled": true
   },
   "outputs": [
    {
     "data": {
      "text/plain": [
       "63"
      ]
     },
     "execution_count": 196,
     "metadata": {},
     "output_type": "execute_result"
    }
   ],
   "source": [
    "n_iterations_per_epoch"
   ]
  },
  {
   "cell_type": "code",
   "execution_count": 197,
   "metadata": {},
   "outputs": [
    {
     "name": "stdout",
     "output_type": "stream",
     "text": [
      "Start Time:  2019-03-07 21:28:27.394060 \n",
      "\n",
      "Epoch 0\n",
      "Last Batch accuracy:  57.00 %, Training accuracy:  60.45 %, Validation accuracy:  44.44 %\n",
      "Time training up to Epoch  0 :  0  hours,  0  minutes, and  49  seconds.\n",
      "Epoch 1\n",
      "Last Batch accuracy:  47.00 %, Training accuracy:  59.65 %, Validation accuracy:  43.57 %\n",
      "Time training up to Epoch  1 :  0  hours,  1  minutes, and  36  seconds.\n",
      "Epoch 2\n",
      "Last Batch accuracy:  64.00 %, Training accuracy:  63.13 %, Validation accuracy:  44.44 %\n",
      "Time training up to Epoch  2 :  0  hours,  2  minutes, and  23  seconds.\n",
      "Epoch 3\n",
      "Last Batch accuracy:  61.00 %, Training accuracy:  62.87 %, Validation accuracy:  45.03 %\n",
      "Time training up to Epoch  3 :  0  hours,  3  minutes, and  9  seconds.\n",
      "Epoch 4\n",
      "Last Batch accuracy:  66.00 %, Training accuracy:  68.58 %, Validation accuracy:  69.01 %\n",
      "Time training up to Epoch  4 :  0  hours,  3  minutes, and  56  seconds.\n",
      "Epoch 5\n",
      "Last Batch accuracy:  71.00 %, Training accuracy:  68.56 %, Validation accuracy:  44.44 %\n",
      "Time training up to Epoch  5 :  0  hours,  4  minutes, and  42  seconds.\n",
      "Epoch 6\n",
      "Last Batch accuracy:  69.00 %, Training accuracy:  67.83 %, Validation accuracy:  49.42 %\n",
      "Time training up to Epoch  6 :  0  hours,  5  minutes, and  29  seconds.\n",
      "Epoch 7\n",
      "Last Batch accuracy:  75.00 %, Training accuracy:  74.37 %, Validation accuracy:  40.94 %\n",
      "Time training up to Epoch  7 :  0  hours,  6  minutes, and  15  seconds.\n",
      "Epoch 8\n",
      "Last Batch accuracy:  75.00 %, Training accuracy:  75.75 %, Validation accuracy:  26.90 %\n",
      "Time training up to Epoch  8 :  0  hours,  7  minutes, and  1  seconds.\n",
      "Epoch 9\n",
      "Last Batch accuracy:  73.00 %, Training accuracy:  76.97 %, Validation accuracy:  42.98 %\n",
      "Time training up to Epoch  9 :  0  hours,  7  minutes, and  47  seconds.\n",
      "Epoch 10\n",
      "Last Batch accuracy:  77.00 %, Training accuracy:  78.76 %, Validation accuracy:  49.42 %\n",
      "Time training up to Epoch  10 :  0  hours,  8  minutes, and  32  seconds.\n",
      "Epoch 11\n",
      "Last Batch accuracy:  82.00 %, Training accuracy:  77.11 %, Validation accuracy:  56.43 %\n",
      "Time training up to Epoch  11 :  0  hours,  9  minutes, and  18  seconds.\n",
      "Epoch 12\n",
      "Last Batch accuracy:  76.00 %, Training accuracy:  77.82 %, Validation accuracy:  53.51 %\n",
      "Time training up to Epoch  12 :  0  hours,  10  minutes, and  4  seconds.\n",
      "Epoch 13\n",
      "Last Batch accuracy:  84.00 %, Training accuracy:  81.10 %, Validation accuracy:  56.14 %\n",
      "Time training up to Epoch  13 :  0  hours,  10  minutes, and  49  seconds.\n",
      "Epoch 14\n",
      "Last Batch accuracy:  77.00 %, Training accuracy:  80.09 %, Validation accuracy:  51.46 %\n",
      "Time training up to Epoch  14 :  0  hours,  11  minutes, and  35  seconds.\n",
      "Epoch 15\n",
      "Last Batch accuracy:  73.00 %, Training accuracy:  70.45 %, Validation accuracy:  55.56 %\n",
      "Time training up to Epoch  15 :  0  hours,  12  minutes, and  21  seconds.\n",
      "Epoch 16\n",
      "Last Batch accuracy:  82.00 %, Training accuracy:  82.67 %, Validation accuracy:  72.22 %\n",
      "Time training up to Epoch  16 :  0  hours,  13  minutes, and  7  seconds.\n",
      "Epoch 17\n",
      "Last Batch accuracy:  88.00 %, Training accuracy:  83.64 %, Validation accuracy:  38.30 %\n",
      "Time training up to Epoch  17 :  0  hours,  13  minutes, and  53  seconds.\n",
      "Epoch 18\n",
      "Last Batch accuracy:  77.00 %, Training accuracy:  82.56 %, Validation accuracy:  56.43 %\n",
      "Time training up to Epoch  18 :  0  hours,  14  minutes, and  38  seconds.\n",
      "Epoch 19\n",
      "Last Batch accuracy:  82.00 %, Training accuracy:  82.58 %, Validation accuracy:  39.77 %\n",
      "Time training up to Epoch  19 :  0  hours,  15  minutes, and  24  seconds.\n",
      "Epoch 20\n",
      "Last Batch accuracy:  91.00 %, Training accuracy:  82.75 %, Validation accuracy:  39.77 %\n",
      "Time training up to Epoch  20 :  0  hours,  16  minutes, and  9  seconds.\n",
      "Epoch 21\n",
      "Last Batch accuracy:  74.00 %, Training accuracy:  79.55 %, Validation accuracy:  55.56 %\n",
      "Time training up to Epoch  21 :  0  hours,  16  minutes, and  55  seconds.\n",
      "Epoch 22\n",
      "Last Batch accuracy:  82.00 %, Training accuracy:  82.13 %, Validation accuracy:  39.77 %\n",
      "Time training up to Epoch  22 :  0  hours,  17  minutes, and  41  seconds.\n",
      "Epoch 23\n",
      "Last Batch accuracy:  88.00 %, Training accuracy:  85.18 %, Validation accuracy:  54.68 %\n",
      "Time training up to Epoch  23 :  0  hours,  18  minutes, and  26  seconds.\n",
      "Epoch 24\n",
      "Last Batch accuracy:  86.00 %, Training accuracy:  84.38 %, Validation accuracy:  40.35 %\n",
      "Time training up to Epoch  24 :  0  hours,  19  minutes, and  12  seconds.\n",
      "Epoch 25\n",
      "Last Batch accuracy:  79.00 %, Training accuracy:  84.65 %, Validation accuracy:  40.64 %\n",
      "Time training up to Epoch  25 :  0  hours,  19  minutes, and  58  seconds.\n",
      "Epoch 26\n",
      "Last Batch accuracy:  83.00 %, Training accuracy:  76.54 %, Validation accuracy:  42.40 %\n",
      "Time training up to Epoch  26 :  0  hours,  20  minutes, and  44  seconds.\n",
      "Epoch 27\n",
      "Last Batch accuracy:  87.00 %, Training accuracy:  85.24 %, Validation accuracy:  71.93 %\n",
      "Time training up to Epoch  27 :  0  hours,  21  minutes, and  29  seconds.\n",
      "Epoch 28\n",
      "Last Batch accuracy:  89.00 %, Training accuracy:  87.29 %, Validation accuracy:  41.81 %\n",
      "Time training up to Epoch  28 :  0  hours,  22  minutes, and  15  seconds.\n",
      "Epoch 29\n",
      "Last Batch accuracy:  77.00 %, Training accuracy:  79.91 %, Validation accuracy:  55.56 %\n",
      "Time training up to Epoch  29 :  0  hours,  23  minutes, and  1  seconds.\n",
      "\n",
      "Training Complete: 2019-03-07 21:51:29.168494\n"
     ]
    }
   ],
   "source": [
    "# Trains the CNN\n",
    "acc_train_mat_7f = []\n",
    "acc_valid_mat_7f = []\n",
    "\n",
    "y_pred_valid_mat_7f = []\n",
    "\n",
    "training_start_time = datetime.datetime.now()\n",
    "print(\"Start Time: \", training_start_time, \"\\n\")\n",
    "\n",
    "with tf.Session() as sess:\n",
    "    init.run()\n",
    "\n",
    "    for epoch in range(n_epochs):\n",
    "        y_train_pred = np.array([],dtype=np.int16)\n",
    "        print(\"Epoch\", epoch)\n",
    "        # \n",
    "        for iteration in range(n_iterations_per_epoch):\n",
    "            X_batch, y_batch = prepare_batch(X_train_fold, y_train_fold, batch_size)            \n",
    "            sess.run(training_op, feed_dict={X: X_batch, y: y_batch})\n",
    "        acc_batch = accuracy.eval(feed_dict={X: X_batch, y: y_batch})\n",
    "        # Finds the predicted values for the training set\n",
    "        for i in range(len((X_train_fold))):\n",
    "            X_train = normalize_max_train(X_train_fold[i])\n",
    "            z_pred_train = logits.eval(feed_dict={X: X_train})\n",
    "            y_pred_train = np.argmax(z_pred_train, axis=1)\n",
    "            y_train_pred = np.append(y_train_pred,y_pred_train)\n",
    "        acc_train = accuracy_score(y_train_fold, y_train_pred)\n",
    "        acc_val = accuracy.eval(feed_dict={X: X_valid_fold, y: y_valid_fold})\n",
    "        # Appends the network accuracy to a matrix for so we can evaluate performance over epoch\n",
    "        acc_train_mat_7f.append(acc_train)\n",
    "        acc_valid_mat_7f.append(acc_val)\n",
    "        # Finds the predicted values for the validation set\n",
    "        z_pred_valid = logits.eval(feed_dict={X: X_valid_fold, y: y_valid_fold})\n",
    "        y_pred_valid_7f = np.argmax(z_pred_valid, axis=1)\n",
    "        y_pred_valid_mat_7f.append(y_pred_valid_7f)\n",
    "        \n",
    "        training_duration_time = datetime.datetime.now()\n",
    "        training_duration = training_duration_time-training_start_time\n",
    "        training_hours, remainder = divmod(training_duration.seconds, 3600)\n",
    "        training_minutes, training_seconds = divmod(remainder,60)\n",
    "        print(\"Last Batch accuracy: \", \"{0:.2f}\".format(acc_batch*100),\n",
    "              \"%, Training accuracy: \", \"{0:.2f}\".format(acc_train*100),\n",
    "              \"%, Validation accuracy: \", \"{0:.2f}\".format(acc_val*100),\"%\")\n",
    "        print(\"Time training up to Epoch \",epoch,\": \",training_hours,\" hours, \", training_minutes,\n",
    "              \" minutes, and \", training_seconds, \" seconds.\")\n",
    "    save_path = saver.save(sess, \"./IB_maxdata_baseneta_100tanh_7fold_run1\")\n",
    "training_end_time = datetime.datetime.now()\n",
    "print('\\nTraining Complete:', training_end_time)"
   ]
  },
  {
   "cell_type": "code",
   "execution_count": 198,
   "metadata": {},
   "outputs": [
    {
     "name": "stdout",
     "output_type": "stream",
     "text": [
      "Seventh Patient Fold (Patient #2) of CV took 0  hours,  23  minutes, and  1  seconds to train.\n",
      "\n"
     ]
    }
   ],
   "source": [
    "training_duration = training_end_time-training_start_time\n",
    "duration_hours, duration_remainder = divmod(training_duration.seconds, 3600)\n",
    "duration_minutes, duration_seconds = divmod(duration_remainder,60)\n",
    "print(\"Seventh Patient Fold (Patient #2) of CV took\",duration_hours,\" hours, \", duration_minutes,\n",
    "              \" minutes, and \", duration_seconds, \" seconds to train.\\n\")"
   ]
  },
  {
   "cell_type": "code",
   "execution_count": 199,
   "metadata": {},
   "outputs": [
    {
     "name": "stdout",
     "output_type": "stream",
     "text": [
      "Segment Validation Statistics, Seventh Patient Fold:\n",
      "Accuracy:\t\t 0.5555555555555556 \n",
      "Precision:\t\t 0.0\n",
      "Recall:\t\t\t 0.0 \n",
      "F1 Score:\t\t 0.0\n"
     ]
    },
    {
     "name": "stderr",
     "output_type": "stream",
     "text": [
      "C:\\Users\\005375049\\AppData\\Roaming\\Python\\Python35\\site-packages\\sklearn\\metrics\\classification.py:1143: UndefinedMetricWarning: Precision is ill-defined and being set to 0.0 due to no predicted samples.\n",
      "  'precision', 'predicted', average, warn_for)\n",
      "C:\\Users\\005375049\\AppData\\Roaming\\Python\\Python35\\site-packages\\sklearn\\metrics\\classification.py:1143: UndefinedMetricWarning: F-score is ill-defined and being set to 0.0 due to no predicted samples.\n",
      "  'precision', 'predicted', average, warn_for)\n"
     ]
    }
   ],
   "source": [
    "valid_accuracy_7f = accuracy_score(y_valid_fold, y_pred_valid_7f)\n",
    "valid_precision_7f = precision_score(y_valid_fold, y_pred_valid_7f)\n",
    "valid_recall_7f = recall_score(y_valid_fold, y_pred_valid_7f)\n",
    "valid_f1_7f = f1_score(y_valid_fold, y_pred_valid_7f)\n",
    "\n",
    "print(\"Segment Validation Statistics, Seventh Patient Fold:\\nAccuracy:\\t\\t\",valid_accuracy_7f,\n",
    "      \"\\nPrecision:\\t\\t\",valid_precision_7f)\n",
    "print(\"Recall:\\t\\t\\t\",valid_recall_7f,\"\\nF1 Score:\\t\\t\",valid_f1_7f)"
   ]
  },
  {
   "cell_type": "code",
   "execution_count": 200,
   "metadata": {},
   "outputs": [
    {
     "name": "stdout",
     "output_type": "stream",
     "text": [
      "Seventh Patient Fold Validation Confusion Matrix:\n",
      "                   pred:Leasional  pred:Nonleasional\n",
      "true:Leasional                190                  0\n",
      "true:Nonleasional             152                  0\n"
     ]
    }
   ],
   "source": [
    "valid_label = np.unique(y_valid_fold)\n",
    "validation_cm_7f = confusion_matrix(y_valid_fold, y_pred_valid_7f, labels=valid_label) \n",
    "\n",
    "print(\"Seventh Patient Fold Validation Confusion Matrix:\")\n",
    "print(pd.DataFrame(validation_cm_7f, index=['true:Leasional', 'true:Nonleasional'], \n",
    "                   columns=['pred:Leasional', 'pred:Nonleasional']))"
   ]
  },
  {
   "cell_type": "code",
   "execution_count": 201,
   "metadata": {},
   "outputs": [],
   "source": [
    "y_valid_cube_pred_7fold = group_hypercube(y_pred_valid_7f, cube_threshold, \n",
    "                                          validation_7_key, total_bands)"
   ]
  },
  {
   "cell_type": "code",
   "execution_count": 202,
   "metadata": {},
   "outputs": [
    {
     "name": "stdout",
     "output_type": "stream",
     "text": [
      "Validation Model Hypercube Statistics, Seventh Patient Fold:\n",
      "Hypercube Accuracy:\t\t 0.5555555555555556 \n",
      "Hypercube Precision:\t\t 0.0\n",
      "Hypercube Recall: \t\t 0.0 \n",
      "Hypercube F1 Score:\t\t 0.0\n"
     ]
    },
    {
     "name": "stderr",
     "output_type": "stream",
     "text": [
      "C:\\Users\\005375049\\AppData\\Roaming\\Python\\Python35\\site-packages\\sklearn\\metrics\\classification.py:1143: UndefinedMetricWarning: Precision is ill-defined and being set to 0.0 due to no predicted samples.\n",
      "  'precision', 'predicted', average, warn_for)\n",
      "C:\\Users\\005375049\\AppData\\Roaming\\Python\\Python35\\site-packages\\sklearn\\metrics\\classification.py:1143: UndefinedMetricWarning: F-score is ill-defined and being set to 0.0 due to no predicted samples.\n",
      "  'precision', 'predicted', average, warn_for)\n"
     ]
    }
   ],
   "source": [
    "valid_accuracy_cube_7f = accuracy_score(y_valid_cube, y_valid_cube_pred_7fold)\n",
    "valid_precision_cube_7f = precision_score(y_valid_cube, y_valid_cube_pred_7fold)\n",
    "valid_recall_cube_7f = recall_score(y_valid_cube, y_valid_cube_pred_7fold)\n",
    "valid_f1_cube_7f = f1_score(y_valid_cube, y_valid_cube_pred_7fold)\n",
    "\n",
    "print(\"Validation Model Hypercube Statistics, Seventh Patient Fold:\\nHypercube Accuracy:\\t\\t\",valid_accuracy_cube_7f,\n",
    "      \"\\nHypercube Precision:\\t\\t\",valid_precision_cube_7f)\n",
    "print(\"Hypercube Recall: \\t\\t\",valid_recall_cube_7f,\"\\nHypercube F1 Score:\\t\\t\",valid_f1_cube_7f)"
   ]
  },
  {
   "cell_type": "code",
   "execution_count": 203,
   "metadata": {},
   "outputs": [
    {
     "name": "stdout",
     "output_type": "stream",
     "text": [
      "Third Fold Validation Confusion Matrix (Cube):\n",
      "                   pred:Leasional  pred:Nonleasional\n",
      "true:Leasional                  5                  0\n",
      "true:Nonleasional               4                  0\n"
     ]
    }
   ],
   "source": [
    "valid_cube_label = np.unique(y_valid_cube)\n",
    "validation_cm_cube_7f = confusion_matrix(y_valid_cube, y_valid_cube_pred_7fold, labels=valid_cube_label) \n",
    "\n",
    "print(\"Third Fold Validation Confusion Matrix (Cube):\")\n",
    "print(pd.DataFrame(validation_cm_cube_7f, index=['true:Leasional', 'true:Nonleasional'], \n",
    "                   columns=['pred:Leasional', 'pred:Nonleasional']))"
   ]
  },
  {
   "cell_type": "code",
   "execution_count": 204,
   "metadata": {},
   "outputs": [
    {
     "name": "stderr",
     "output_type": "stream",
     "text": [
      "C:\\Users\\005375049\\AppData\\Roaming\\Python\\Python35\\site-packages\\sklearn\\metrics\\classification.py:1143: UndefinedMetricWarning: Precision is ill-defined and being set to 0.0 due to no predicted samples.\n",
      "  'precision', 'predicted', average, warn_for)\n",
      "C:\\Users\\005375049\\AppData\\Roaming\\Python\\Python35\\site-packages\\sklearn\\metrics\\classification.py:1143: UndefinedMetricWarning: F-score is ill-defined and being set to 0.0 due to no predicted samples.\n",
      "  'precision', 'predicted', average, warn_for)\n"
     ]
    }
   ],
   "source": [
    "avg_v_acc_7f, avg_v_prec_7f, avg_v_re_7f, avg_v_f1_7f, avg_v_cm_7f = average_runs(averaged_runs, \n",
    "                                                                                  y_pred_valid_mat_7f, y_valid_fold)"
   ]
  },
  {
   "cell_type": "code",
   "execution_count": 205,
   "metadata": {},
   "outputs": [
    {
     "name": "stdout",
     "output_type": "stream",
     "text": [
      "Average (20 Epochs) Segment Validation Statistics, Seventh Patient Fold:\n",
      "Accuracy:\t\t 0.499561403508772 \n",
      "Precision:\t\t 0.45831103960162006\n",
      "Recall:\t\t\t 0.46282894736842106 \n",
      "F1 Score:\t\t 0.3387796303524638\n"
     ]
    }
   ],
   "source": [
    "print(\"Average (20 Epochs) Segment Validation Statistics, Seventh Patient Fold:\\nAccuracy:\\t\\t\",avg_v_acc_7f,\n",
    "      \"\\nPrecision:\\t\\t\",avg_v_prec_7f)\n",
    "print(\"Recall:\\t\\t\\t\",avg_v_re_7f,\"\\nF1 Score:\\t\\t\",avg_v_f1_7f)"
   ]
  },
  {
   "cell_type": "code",
   "execution_count": 206,
   "metadata": {},
   "outputs": [
    {
     "data": {
      "text/html": [
       "<div>\n",
       "<style scoped>\n",
       "    .dataframe tbody tr th:only-of-type {\n",
       "        vertical-align: middle;\n",
       "    }\n",
       "\n",
       "    .dataframe tbody tr th {\n",
       "        vertical-align: top;\n",
       "    }\n",
       "\n",
       "    .dataframe thead th {\n",
       "        text-align: right;\n",
       "    }\n",
       "</style>\n",
       "<table border=\"1\" class=\"dataframe\">\n",
       "  <thead>\n",
       "    <tr style=\"text-align: right;\">\n",
       "      <th></th>\n",
       "      <th>pred:Leasional</th>\n",
       "      <th>pred:Nonleasional</th>\n",
       "    </tr>\n",
       "  </thead>\n",
       "  <tbody>\n",
       "    <tr>\n",
       "      <th>true:Leasional</th>\n",
       "      <td>100.50</td>\n",
       "      <td>89.50</td>\n",
       "    </tr>\n",
       "    <tr>\n",
       "      <th>true:Nonleasional</th>\n",
       "      <td>81.65</td>\n",
       "      <td>70.35</td>\n",
       "    </tr>\n",
       "  </tbody>\n",
       "</table>\n",
       "</div>"
      ],
      "text/plain": [
       "                   pred:Leasional  pred:Nonleasional\n",
       "true:Leasional             100.50              89.50\n",
       "true:Nonleasional           81.65              70.35"
      ]
     },
     "execution_count": 206,
     "metadata": {},
     "output_type": "execute_result"
    }
   ],
   "source": [
    "avgvalid_cm_7f =  avg_v_cm_7f.groupby(avg_v_cm_7f.index)\n",
    "\n",
    "avgvalid_cm_7f.mean()"
   ]
  },
  {
   "cell_type": "code",
   "execution_count": 207,
   "metadata": {},
   "outputs": [
    {
     "name": "stdout",
     "output_type": "stream",
     "text": [
      "Average (20 Epochs) Hypercube Validation Statistics, Third Fold:\n",
      "Hypercube Accuracy:\t\t 0.5111111111111112 \n",
      "Hypercube Precision:\t\t 0.30406746031746035\n",
      "Hypercube Recall:\t\t 0.4875 \n",
      "Hypercube F1 Score:\t\t 0.3462287712287712\n"
     ]
    },
    {
     "name": "stderr",
     "output_type": "stream",
     "text": [
      "C:\\Users\\005375049\\AppData\\Roaming\\Python\\Python35\\site-packages\\sklearn\\metrics\\classification.py:1143: UndefinedMetricWarning: Precision is ill-defined and being set to 0.0 due to no predicted samples.\n",
      "  'precision', 'predicted', average, warn_for)\n",
      "C:\\Users\\005375049\\AppData\\Roaming\\Python\\Python35\\site-packages\\sklearn\\metrics\\classification.py:1143: UndefinedMetricWarning: F-score is ill-defined and being set to 0.0 due to no predicted samples.\n",
      "  'precision', 'predicted', average, warn_for)\n"
     ]
    }
   ],
   "source": [
    "avg_vc_acc_7f, avg_vc_prec_7f, avg_vc_re_7f, avg_vc_f1_7f, avg_vc_cm_7f = average_group_runs(averaged_runs,\n",
    "                                                                                             y_valid_cube, \n",
    "                                                                                             y_pred_valid_mat_7f, \n",
    "                                                                                             cube_threshold, \n",
    "                                                                                             validation_7_key, \n",
    "                                                                                             total_bands)\n",
    "print(\"Average (20 Epochs) Hypercube Validation Statistics, Third Fold:\\nHypercube Accuracy:\\t\\t\",avg_vc_acc_7f,\n",
    "      \"\\nHypercube Precision:\\t\\t\",avg_vc_prec_7f)\n",
    "print(\"Hypercube Recall:\\t\\t\",avg_vc_re_7f,\"\\nHypercube F1 Score:\\t\\t\",avg_vc_f1_7f)\n"
   ]
  },
  {
   "cell_type": "code",
   "execution_count": 208,
   "metadata": {},
   "outputs": [
    {
     "data": {
      "text/html": [
       "<div>\n",
       "<style scoped>\n",
       "    .dataframe tbody tr th:only-of-type {\n",
       "        vertical-align: middle;\n",
       "    }\n",
       "\n",
       "    .dataframe tbody tr th {\n",
       "        vertical-align: top;\n",
       "    }\n",
       "\n",
       "    .dataframe thead th {\n",
       "        text-align: right;\n",
       "    }\n",
       "</style>\n",
       "<table border=\"1\" class=\"dataframe\">\n",
       "  <thead>\n",
       "    <tr style=\"text-align: right;\">\n",
       "      <th></th>\n",
       "      <th>pred:Leasional</th>\n",
       "      <th>pred:Nonleasional</th>\n",
       "    </tr>\n",
       "  </thead>\n",
       "  <tbody>\n",
       "    <tr>\n",
       "      <th>true:Leasional</th>\n",
       "      <td>2.65</td>\n",
       "      <td>2.35</td>\n",
       "    </tr>\n",
       "    <tr>\n",
       "      <th>true:Nonleasional</th>\n",
       "      <td>2.05</td>\n",
       "      <td>1.95</td>\n",
       "    </tr>\n",
       "  </tbody>\n",
       "</table>\n",
       "</div>"
      ],
      "text/plain": [
       "                   pred:Leasional  pred:Nonleasional\n",
       "true:Leasional               2.65               2.35\n",
       "true:Nonleasional            2.05               1.95"
      ]
     },
     "execution_count": 208,
     "metadata": {},
     "output_type": "execute_result"
    }
   ],
   "source": [
    "avgvalid_cm_cube_7f =  avg_vc_cm_7f.groupby(avg_vc_cm_7f.index)\n",
    "\n",
    "avgvalid_cm_cube_7f.mean()"
   ]
  },
  {
   "cell_type": "code",
   "execution_count": 209,
   "metadata": {
    "scrolled": true
   },
   "outputs": [
    {
     "data": {
      "image/png": "[encoded data removed]",
      "text/plain": [
       "<Figure size 432x288 with 1 Axes>"
      ]
     },
     "metadata": {
      "needs_background": "light"
     },
     "output_type": "display_data"
    }
   ],
   "source": [
    "# Plot of Epochs vs Training Accuracy\n",
    "\n",
    "plt.plot(np.arange(1,epoch+2),np.array(acc_train_mat_7f), '-v')\n",
    "plt.xlabel('Number of Epochs Run')\n",
    "plt.ylabel('Accuracy')\n",
    "plt.title('Fold 7 Training Accuracy vs. Number of Epochs')\n",
    "plt.xlim(left=-1);\n",
    "plt.ylim(top=1);\n",
    "plt.ylim(bottom=0);"
   ]
  },
  {
   "cell_type": "code",
   "execution_count": 210,
   "metadata": {},
   "outputs": [
    {
     "data": {
      "image/png": "[encoded data removed]",
      "text/plain": [
       "<Figure size 432x288 with 1 Axes>"
      ]
     },
     "metadata": {
      "needs_background": "light"
     },
     "output_type": "display_data"
    }
   ],
   "source": [
    "# Plot of Epochs vs Validation Accuracy\n",
    "\n",
    "plt.plot(np.arange(1,epoch+2),np.array(acc_valid_mat_7f), '-v')\n",
    "plt.xlabel('Number of Epochs Run')\n",
    "plt.ylabel('Accuracy')\n",
    "plt.title('Patient Fold 7 (Patient #2) Validation Accuracy vs. Number of Epochs')\n",
    "plt.xlim(left=-1);\n",
    "plt.ylim(top=1);\n",
    "plt.ylim(bottom=0);"
   ]
  },
  {
   "cell_type": "code",
   "execution_count": 211,
   "metadata": {},
   "outputs": [],
   "source": [
    "# Eighth Patient (Patient 3)\n",
    "graph_seed = 42\n",
    "reset_graph(graph_seed)"
   ]
  },
  {
   "cell_type": "code",
   "execution_count": 212,
   "metadata": {},
   "outputs": [],
   "source": [
    "# Eighth Patient (Patient 3)\n",
    "X_valid_fold = X_sorted[validation_8]\n",
    "y_valid_fold = y_sorted[validation_8]"
   ]
  },
  {
   "cell_type": "code",
   "execution_count": 213,
   "metadata": {},
   "outputs": [
    {
     "data": {
      "text/plain": [
       "(304, 251502)"
      ]
     },
     "execution_count": 213,
     "metadata": {},
     "output_type": "execute_result"
    }
   ],
   "source": [
    "X_valid_fold.shape"
   ]
  },
  {
   "cell_type": "code",
   "execution_count": 214,
   "metadata": {},
   "outputs": [
    {
     "data": {
      "text/plain": [
       "(304,)"
      ]
     },
     "execution_count": 214,
     "metadata": {},
     "output_type": "execute_result"
    }
   ],
   "source": [
    "y_valid_fold.shape"
   ]
  },
  {
   "cell_type": "code",
   "execution_count": 215,
   "metadata": {},
   "outputs": [],
   "source": [
    "# Validation Cube for patient fold 8 (Patient #3)\n",
    "y_valid_cube = np.array([],dtype=np.int16)\n",
    "for cube in validation_8_key:\n",
    "    if cube.endswith('N'):\n",
    "        cube_class = 1\n",
    "    else:\n",
    "        cube_class = 0\n",
    "    y_valid_cube = np.append(y_valid_cube,cube_class)"
   ]
  },
  {
   "cell_type": "code",
   "execution_count": 216,
   "metadata": {},
   "outputs": [],
   "source": [
    "# Reset the training fold so the system memory is not overused\n",
    "X_train_fold = []"
   ]
  },
  {
   "cell_type": "code",
   "execution_count": 217,
   "metadata": {},
   "outputs": [],
   "source": [
    "# Eighth Training Fold (Patients 13,10,1,9,6,2,14,5,8,12,4,7)\n",
    "X_train_fold = X_sorted[training_8]\n",
    "y_train_fold = y_sorted[training_8]"
   ]
  },
  {
   "cell_type": "code",
   "execution_count": 218,
   "metadata": {},
   "outputs": [
    {
     "data": {
      "text/plain": [
       "(6346, 251502)"
      ]
     },
     "execution_count": 218,
     "metadata": {},
     "output_type": "execute_result"
    }
   ],
   "source": [
    "X_train_fold.shape"
   ]
  },
  {
   "cell_type": "code",
   "execution_count": 219,
   "metadata": {},
   "outputs": [
    {
     "data": {
      "text/plain": [
       "(6346,)"
      ]
     },
     "execution_count": 219,
     "metadata": {},
     "output_type": "execute_result"
    }
   ],
   "source": [
    "y_train_fold.shape"
   ]
  },
  {
   "cell_type": "code",
   "execution_count": 220,
   "metadata": {},
   "outputs": [],
   "source": [
    "# Sets the Neural Network for the graph\n",
    "height = 501\n",
    "width = 502\n",
    "channels = 1\n",
    "n_inputs = height * width * channels\n",
    "\n",
    "\n",
    "conv1_fmaps = 24\n",
    "conv1_ksize = 5\n",
    "conv1_stride = 3\n",
    "conv1_pad = \"SAME\"\n",
    "conv1_dropout_rate = 0.25\n",
    "\n",
    "pool2_fmaps = conv1_fmaps\n",
    "\n",
    "conv3_fmaps = 48\n",
    "conv3_ksize = 3\n",
    "conv3_stride = 1\n",
    "conv3_pad = \"SAME\"\n",
    "conv3_dropout_rate = 0.25\n",
    "\n",
    "pool4_fmaps = conv3_fmaps\n",
    "\n",
    "conv5_fmaps = 64\n",
    "conv5_ksize = 2\n",
    "conv5_stride = 1\n",
    "conv5_pad = \"SAME\"\n",
    "conv5_dropout_rate = 0.5\n",
    "\n",
    "pool6_fmaps = conv5_fmaps\n",
    "\n",
    "n_fc1 = 24\n",
    "n_outputs = 2\n",
    "\n",
    "regularizer = tf.contrib.layers.l2_regularizer(scale=0.1)\n",
    "\n",
    "with tf.name_scope(\"inputs\"):\n",
    "    X = tf.placeholder(tf.float32, shape=[None, n_inputs], name=\"X\")\n",
    "    X_reshaped = tf.reshape(X, shape=[-1, height, width, channels])\n",
    "    y = tf.placeholder(tf.int32, shape=[None], name=\"y\")\n",
    "    training = tf.placeholder_with_default(False, shape=[], name='training')\n",
    "\n",
    "conv1 = tf.layers.conv2d(X_reshaped, filters=conv1_fmaps, kernel_size=conv1_ksize,\n",
    "                         strides=conv1_stride, padding=conv1_pad,\n",
    "                         activation=tf.nn.tanh, kernel_regularizer=regularizer, name=\"conv1\")\n",
    "\n",
    "with tf.name_scope(\"pool2\"):\n",
    "    pool2 = tf.nn.max_pool(conv1, ksize=[1, 2, 2, 1], strides=[1, 2, 2, 1], padding=\"VALID\")\n",
    "    pool2_drop = tf.layers.dropout(pool2, conv1_dropout_rate, training=training)\n",
    "\n",
    "conv3 = tf.layers.conv2d(pool2_drop, filters=conv3_fmaps, kernel_size=conv3_ksize,\n",
    "                         strides=conv3_stride, padding=conv3_pad,\n",
    "                         activation=tf.nn.tanh, name=\"conv3\")\n",
    "\n",
    "with tf.name_scope(\"pool4\"):\n",
    "    pool4 = tf.nn.max_pool(conv3, ksize=[1, 2, 2, 1], strides=[1, 2, 2, 1], padding=\"VALID\")\n",
    "    pool4_drop = tf.layers.dropout(pool4, conv3_dropout_rate, training=training)\n",
    "\n",
    "conv5 = tf.layers.conv2d(pool4_drop, filters=conv5_fmaps, kernel_size=conv5_ksize,\n",
    "                         strides=conv5_stride, padding=conv5_pad,\n",
    "                         activation=tf.nn.tanh, name=\"conv5\")\n",
    "\n",
    "with tf.name_scope(\"pool6\"):\n",
    "    pool6 = tf.nn.max_pool(conv5, ksize=[1, 2, 2, 1], strides=[1, 2, 2, 1], padding=\"VALID\")\n",
    "    pool6_flat = tf.reshape(pool6, shape=[-1, pool6_fmaps * 20 * 21])\n",
    "    pool6_flat_drop = tf.layers.dropout(pool6_flat, conv5_dropout_rate, training=training)      \n",
    "       \n",
    "with tf.name_scope(\"fc1\"):\n",
    "    fc1 = tf.layers.dense(pool6_flat_drop, n_fc1, activation=tf.nn.tanh, kernel_regularizer=regularizer, name=\"fc1\")\n",
    "\n",
    "with tf.name_scope(\"output\"):\n",
    "    logits = tf.layers.dense(fc1, n_outputs, name=\"output\")\n",
    "    Y_proba = tf.nn.softmax(logits, name=\"Y_proba\")\n",
    "\n",
    "with tf.name_scope(\"train\"):\n",
    "    xentropy = tf.nn.sparse_softmax_cross_entropy_with_logits(logits=logits, labels=y)\n",
    "    l2_loss = tf.losses.get_regularization_loss()\n",
    "    loss = tf.reduce_mean(xentropy) + l2_loss\n",
    "    optimizer = tf.train.AdamOptimizer(learning_rate=0.0001)\n",
    "    training_op = optimizer.minimize(loss)\n",
    "\n",
    "with tf.name_scope(\"eval\"):\n",
    "    correct = tf.nn.in_top_k(logits, y, 1)\n",
    "    accuracy = tf.reduce_mean(tf.cast(correct, tf.float32))\n",
    "\n",
    "with tf.name_scope(\"init_and_save\"):\n",
    "    init = tf.global_variables_initializer()\n",
    "    saver = tf.train.Saver()"
   ]
  },
  {
   "cell_type": "code",
   "execution_count": 221,
   "metadata": {},
   "outputs": [],
   "source": [
    "# Sets the number of epochs and batch size\n",
    "n_iterations_per_epoch = len(X_train_fold) // batch_size"
   ]
  },
  {
   "cell_type": "code",
   "execution_count": 222,
   "metadata": {
    "scrolled": true
   },
   "outputs": [
    {
     "data": {
      "text/plain": [
       "63"
      ]
     },
     "execution_count": 222,
     "metadata": {},
     "output_type": "execute_result"
    }
   ],
   "source": [
    "n_iterations_per_epoch"
   ]
  },
  {
   "cell_type": "code",
   "execution_count": 223,
   "metadata": {},
   "outputs": [
    {
     "name": "stdout",
     "output_type": "stream",
     "text": [
      "Start Time:  2019-03-07 21:52:33.932462 \n",
      "\n",
      "Epoch 0\n",
      "Last Batch accuracy:  46.00 %, Training accuracy:  49.95 %, Validation accuracy:  42.43 %\n",
      "Time training up to Epoch  0 :  0  hours,  0  minutes, and  48  seconds.\n",
      "Epoch 1\n",
      "Last Batch accuracy:  50.00 %, Training accuracy:  50.13 %, Validation accuracy:  42.76 %\n",
      "Time training up to Epoch  1 :  0  hours,  1  minutes, and  34  seconds.\n",
      "Epoch 2\n",
      "Last Batch accuracy:  57.00 %, Training accuracy:  55.91 %, Validation accuracy:  59.87 %\n",
      "Time training up to Epoch  2 :  0  hours,  2  minutes, and  21  seconds.\n",
      "Epoch 3\n",
      "Last Batch accuracy:  59.00 %, Training accuracy:  54.33 %, Validation accuracy:  48.68 %\n",
      "Time training up to Epoch  3 :  0  hours,  3  minutes, and  7  seconds.\n",
      "Epoch 4\n",
      "Last Batch accuracy:  53.00 %, Training accuracy:  55.63 %, Validation accuracy:  59.21 %\n",
      "Time training up to Epoch  4 :  0  hours,  3  minutes, and  53  seconds.\n",
      "Epoch 5\n",
      "Last Batch accuracy:  56.00 %, Training accuracy:  58.13 %, Validation accuracy:  65.79 %\n",
      "Time training up to Epoch  5 :  0  hours,  4  minutes, and  39  seconds.\n",
      "Epoch 6\n",
      "Last Batch accuracy:  44.00 %, Training accuracy:  46.49 %, Validation accuracy:  60.53 %\n",
      "Time training up to Epoch  6 :  0  hours,  5  minutes, and  26  seconds.\n",
      "Epoch 7\n",
      "Last Batch accuracy:  63.00 %, Training accuracy:  66.15 %, Validation accuracy:  93.75 %\n",
      "Time training up to Epoch  7 :  0  hours,  6  minutes, and  12  seconds.\n",
      "Epoch 8\n",
      "Last Batch accuracy:  72.00 %, Training accuracy:  67.84 %, Validation accuracy:  95.39 %\n",
      "Time training up to Epoch  8 :  0  hours,  6  minutes, and  58  seconds.\n",
      "Epoch 9\n",
      "Last Batch accuracy:  76.00 %, Training accuracy:  69.24 %, Validation accuracy:  87.50 %\n",
      "Time training up to Epoch  9 :  0  hours,  7  minutes, and  45  seconds.\n",
      "Epoch 10\n",
      "Last Batch accuracy:  67.00 %, Training accuracy:  68.89 %, Validation accuracy:  88.49 %\n",
      "Time training up to Epoch  10 :  0  hours,  8  minutes, and  31  seconds.\n",
      "Epoch 11\n",
      "Last Batch accuracy:  67.00 %, Training accuracy:  71.10 %, Validation accuracy:  90.46 %\n",
      "Time training up to Epoch  11 :  0  hours,  9  minutes, and  17  seconds.\n",
      "Epoch 12\n",
      "Last Batch accuracy:  69.00 %, Training accuracy:  69.65 %, Validation accuracy:  80.92 %\n",
      "Time training up to Epoch  12 :  0  hours,  10  minutes, and  4  seconds.\n",
      "Epoch 13\n",
      "Last Batch accuracy:  79.00 %, Training accuracy:  70.12 %, Validation accuracy:  88.49 %\n",
      "Time training up to Epoch  13 :  0  hours,  10  minutes, and  50  seconds.\n",
      "Epoch 14\n",
      "Last Batch accuracy:  69.00 %, Training accuracy:  64.50 %, Validation accuracy:  90.79 %\n",
      "Time training up to Epoch  14 :  0  hours,  11  minutes, and  36  seconds.\n",
      "Epoch 15\n",
      "Last Batch accuracy:  76.00 %, Training accuracy:  74.98 %, Validation accuracy:  81.91 %\n",
      "Time training up to Epoch  15 :  0  hours,  12  minutes, and  23  seconds.\n",
      "Epoch 16\n",
      "Last Batch accuracy:  81.00 %, Training accuracy:  75.53 %, Validation accuracy:  82.89 %\n",
      "Time training up to Epoch  16 :  0  hours,  13  minutes, and  9  seconds.\n",
      "Epoch 17\n",
      "Last Batch accuracy:  80.00 %, Training accuracy:  76.17 %, Validation accuracy:  87.50 %\n",
      "Time training up to Epoch  17 :  0  hours,  13  minutes, and  56  seconds.\n",
      "Epoch 18\n",
      "Last Batch accuracy:  78.00 %, Training accuracy:  78.57 %, Validation accuracy:  79.28 %\n",
      "Time training up to Epoch  18 :  0  hours,  14  minutes, and  42  seconds.\n",
      "Epoch 19\n",
      "Last Batch accuracy:  75.00 %, Training accuracy:  75.83 %, Validation accuracy:  84.21 %\n",
      "Time training up to Epoch  19 :  0  hours,  15  minutes, and  28  seconds.\n",
      "Epoch 20\n",
      "Last Batch accuracy:  84.00 %, Training accuracy:  77.61 %, Validation accuracy:  82.89 %\n",
      "Time training up to Epoch  20 :  0  hours,  16  minutes, and  15  seconds.\n",
      "Epoch 21\n",
      "Last Batch accuracy:  81.00 %, Training accuracy:  76.71 %, Validation accuracy:  65.46 %\n",
      "Time training up to Epoch  21 :  0  hours,  17  minutes, and  1  seconds.\n",
      "Epoch 22\n",
      "Last Batch accuracy:  79.00 %, Training accuracy:  80.43 %, Validation accuracy:  79.93 %\n",
      "Time training up to Epoch  22 :  0  hours,  17  minutes, and  48  seconds.\n",
      "Epoch 23\n",
      "Last Batch accuracy:  84.00 %, Training accuracy:  80.79 %, Validation accuracy:  81.91 %\n",
      "Time training up to Epoch  23 :  0  hours,  18  minutes, and  34  seconds.\n",
      "Epoch 24\n",
      "Last Batch accuracy:  87.00 %, Training accuracy:  81.75 %, Validation accuracy:  69.41 %\n",
      "Time training up to Epoch  24 :  0  hours,  19  minutes, and  21  seconds.\n",
      "Epoch 25\n",
      "Last Batch accuracy:  78.00 %, Training accuracy:  81.96 %, Validation accuracy:  72.70 %\n",
      "Time training up to Epoch  25 :  0  hours,  20  minutes, and  7  seconds.\n",
      "Epoch 26\n",
      "Last Batch accuracy:  85.00 %, Training accuracy:  81.63 %, Validation accuracy:  74.01 %\n",
      "Time training up to Epoch  26 :  0  hours,  20  minutes, and  53  seconds.\n",
      "Epoch 27\n",
      "Last Batch accuracy:  86.00 %, Training accuracy:  83.53 %, Validation accuracy:  71.05 %\n",
      "Time training up to Epoch  27 :  0  hours,  21  minutes, and  39  seconds.\n",
      "Epoch 28\n",
      "Last Batch accuracy:  84.00 %, Training accuracy:  83.38 %, Validation accuracy:  68.09 %\n",
      "Time training up to Epoch  28 :  0  hours,  22  minutes, and  26  seconds.\n",
      "Epoch 29\n",
      "Last Batch accuracy:  87.00 %, Training accuracy:  79.17 %, Validation accuracy:  77.63 %\n",
      "Time training up to Epoch  29 :  0  hours,  23  minutes, and  12  seconds.\n",
      "\n",
      "Training Complete: 2019-03-07 22:15:47.165809\n"
     ]
    }
   ],
   "source": [
    "# Trains the CNN\n",
    "acc_train_mat_8f = []\n",
    "acc_valid_mat_8f = []\n",
    "\n",
    "y_pred_valid_mat_8f = []\n",
    "\n",
    "training_start_time = datetime.datetime.now()\n",
    "print(\"Start Time: \", training_start_time, \"\\n\")\n",
    "\n",
    "with tf.Session() as sess:\n",
    "    init.run()\n",
    "\n",
    "    for epoch in range(n_epochs):\n",
    "        y_train_pred = np.array([],dtype=np.int16)\n",
    "        print(\"Epoch\", epoch)\n",
    "        # \n",
    "        for iteration in range(n_iterations_per_epoch):\n",
    "            X_batch, y_batch = prepare_batch(X_train_fold, y_train_fold, batch_size)            \n",
    "            sess.run(training_op, feed_dict={X: X_batch, y: y_batch})\n",
    "        acc_batch = accuracy.eval(feed_dict={X: X_batch, y: y_batch})\n",
    "        # Finds the predicted values for the training set\n",
    "        for i in range(len((X_train_fold))):\n",
    "            X_train = normalize_max_train(X_train_fold[i])\n",
    "            z_pred_train = logits.eval(feed_dict={X: X_train})\n",
    "            y_pred_train = np.argmax(z_pred_train, axis=1)\n",
    "            y_train_pred = np.append(y_train_pred,y_pred_train)\n",
    "        acc_train = accuracy_score(y_train_fold, y_train_pred)\n",
    "        acc_val = accuracy.eval(feed_dict={X: X_valid_fold, y: y_valid_fold})\n",
    "        # Appends the network accuracy to a matrix for so we can evaluate performance over epoch\n",
    "        acc_train_mat_8f.append(acc_train)\n",
    "        acc_valid_mat_8f.append(acc_val)\n",
    "        # Finds the predicted values for the validation set\n",
    "        z_pred_valid = logits.eval(feed_dict={X: X_valid_fold, y: y_valid_fold})\n",
    "        y_pred_valid_8f = np.argmax(z_pred_valid, axis=1)\n",
    "        y_pred_valid_mat_8f.append(y_pred_valid_8f)\n",
    "        \n",
    "        training_duration_time = datetime.datetime.now()\n",
    "        training_duration = training_duration_time-training_start_time\n",
    "        training_hours, remainder = divmod(training_duration.seconds, 3600)\n",
    "        training_minutes, training_seconds = divmod(remainder,60)\n",
    "        print(\"Last Batch accuracy: \", \"{0:.2f}\".format(acc_batch*100),\n",
    "              \"%, Training accuracy: \", \"{0:.2f}\".format(acc_train*100),\n",
    "              \"%, Validation accuracy: \", \"{0:.2f}\".format(acc_val*100),\"%\")\n",
    "        print(\"Time training up to Epoch \",epoch,\": \",training_hours,\" hours, \", training_minutes,\n",
    "              \" minutes, and \", training_seconds, \" seconds.\")\n",
    "    save_path = saver.save(sess, \"./IB_maxdata_baseneta_100tanh_8fold_run1\")\n",
    "training_end_time = datetime.datetime.now()\n",
    "print('\\nTraining Complete:', training_end_time)"
   ]
  },
  {
   "cell_type": "code",
   "execution_count": 224,
   "metadata": {},
   "outputs": [
    {
     "name": "stdout",
     "output_type": "stream",
     "text": [
      "Eighth Patient Fold (Patient #3) of CV took 0  hours,  23  minutes, and  13  seconds to train.\n",
      "\n"
     ]
    }
   ],
   "source": [
    "training_duration = training_end_time-training_start_time\n",
    "duration_hours, duration_remainder = divmod(training_duration.seconds, 3600)\n",
    "duration_minutes, duration_seconds = divmod(duration_remainder,60)\n",
    "print(\"Eighth Patient Fold (Patient #3) of CV took\",duration_hours,\" hours, \", duration_minutes,\n",
    "              \" minutes, and \", duration_seconds, \" seconds to train.\\n\")"
   ]
  },
  {
   "cell_type": "code",
   "execution_count": 225,
   "metadata": {},
   "outputs": [
    {
     "name": "stdout",
     "output_type": "stream",
     "text": [
      "Segment Validation Statistics, Eighth Patient Fold:\n",
      "Accuracy:\t\t 0.7763157894736842 \n",
      "Precision:\t\t 0.9841269841269841\n",
      "Recall:\t\t\t 0.6526315789473685 \n",
      "F1 Score:\t\t 0.7848101265822786\n"
     ]
    }
   ],
   "source": [
    "valid_accuracy_8f = accuracy_score(y_valid_fold, y_pred_valid_8f)\n",
    "valid_precision_8f = precision_score(y_valid_fold, y_pred_valid_8f)\n",
    "valid_recall_8f = recall_score(y_valid_fold, y_pred_valid_8f)\n",
    "valid_f1_8f = f1_score(y_valid_fold, y_pred_valid_8f)\n",
    "\n",
    "print(\"Segment Validation Statistics, Eighth Patient Fold:\\nAccuracy:\\t\\t\",valid_accuracy_8f,\n",
    "      \"\\nPrecision:\\t\\t\",valid_precision_8f)\n",
    "print(\"Recall:\\t\\t\\t\",valid_recall_8f,\"\\nF1 Score:\\t\\t\",valid_f1_8f)"
   ]
  },
  {
   "cell_type": "code",
   "execution_count": 226,
   "metadata": {},
   "outputs": [
    {
     "name": "stdout",
     "output_type": "stream",
     "text": [
      "Eighth Patient Fold Validation Confusion Matrix:\n",
      "                   pred:Leasional  pred:Nonleasional\n",
      "true:Leasional                112                  2\n",
      "true:Nonleasional              66                124\n"
     ]
    }
   ],
   "source": [
    "valid_label = np.unique(y_valid_fold)\n",
    "validation_cm_8f = confusion_matrix(y_valid_fold, y_pred_valid_8f, labels=valid_label) \n",
    "\n",
    "print(\"Eighth Patient Fold Validation Confusion Matrix:\")\n",
    "print(pd.DataFrame(validation_cm_8f, index=['true:Leasional', 'true:Nonleasional'], \n",
    "                   columns=['pred:Leasional', 'pred:Nonleasional']))"
   ]
  },
  {
   "cell_type": "code",
   "execution_count": 227,
   "metadata": {},
   "outputs": [],
   "source": [
    "y_valid_cube_pred_8fold = group_hypercube(y_pred_valid_8f, cube_threshold, \n",
    "                                          validation_8_key, total_bands)"
   ]
  },
  {
   "cell_type": "code",
   "execution_count": 228,
   "metadata": {},
   "outputs": [
    {
     "name": "stdout",
     "output_type": "stream",
     "text": [
      "Validation Model Hypercube Statistics, Eighth Patient Fold:\n",
      "Hypercube Accuracy:\t\t 0.75 \n",
      "Hypercube Precision:\t\t 1.0\n",
      "Hypercube Recall: \t\t 0.6 \n",
      "Hypercube F1 Score:\t\t 0.7499999999999999\n"
     ]
    }
   ],
   "source": [
    "valid_accuracy_cube_8f = accuracy_score(y_valid_cube, y_valid_cube_pred_8fold)\n",
    "valid_precision_cube_8f = precision_score(y_valid_cube, y_valid_cube_pred_8fold)\n",
    "valid_recall_cube_8f = recall_score(y_valid_cube, y_valid_cube_pred_8fold)\n",
    "valid_f1_cube_8f = f1_score(y_valid_cube, y_valid_cube_pred_8fold)\n",
    "\n",
    "print(\"Validation Model Hypercube Statistics, Eighth Patient Fold:\\nHypercube Accuracy:\\t\\t\",valid_accuracy_cube_8f,\n",
    "      \"\\nHypercube Precision:\\t\\t\",valid_precision_cube_8f)\n",
    "print(\"Hypercube Recall: \\t\\t\",valid_recall_cube_8f,\"\\nHypercube F1 Score:\\t\\t\",valid_f1_cube_8f)"
   ]
  },
  {
   "cell_type": "code",
   "execution_count": 229,
   "metadata": {},
   "outputs": [
    {
     "name": "stdout",
     "output_type": "stream",
     "text": [
      "Eighth Patient Fold Validation Confusion Matrix (Cube):\n",
      "                   pred:Leasional  pred:Nonleasional\n",
      "true:Leasional                  3                  0\n",
      "true:Nonleasional               2                  3\n"
     ]
    }
   ],
   "source": [
    "valid_cube_label = np.unique(y_valid_cube)\n",
    "validation_cm_cube_8f = confusion_matrix(y_valid_cube, y_valid_cube_pred_8fold, labels=valid_cube_label) \n",
    "\n",
    "print(\"Eighth Patient Fold Validation Confusion Matrix (Cube):\")\n",
    "print(pd.DataFrame(validation_cm_cube_8f, index=['true:Leasional', 'true:Nonleasional'], \n",
    "                   columns=['pred:Leasional', 'pred:Nonleasional']))"
   ]
  },
  {
   "cell_type": "code",
   "execution_count": 230,
   "metadata": {},
   "outputs": [],
   "source": [
    "avg_v_acc_8f, avg_v_prec_8f, avg_v_re_8f, avg_v_f1_8f, avg_v_cm_8f = average_runs(averaged_runs, \n",
    "                                                                                  y_pred_valid_mat_8f, y_valid_fold)"
   ]
  },
  {
   "cell_type": "code",
   "execution_count": 231,
   "metadata": {},
   "outputs": [
    {
     "name": "stdout",
     "output_type": "stream",
     "text": [
      "Average (20 Epochs) Segment Validation Statistics, Eighth Patient Fold:\n",
      "Accuracy:\t\t 0.8039473684210527 \n",
      "Precision:\t\t 0.9386786756570243\n",
      "Recall:\t\t\t 0.7328947368421053 \n",
      "F1 Score:\t\t 0.8190087265319022\n"
     ]
    }
   ],
   "source": [
    "print(\"Average (20 Epochs) Segment Validation Statistics, Eighth Patient Fold:\\nAccuracy:\\t\\t\",avg_v_acc_8f,\n",
    "      \"\\nPrecision:\\t\\t\",avg_v_prec_8f)\n",
    "print(\"Recall:\\t\\t\\t\",avg_v_re_8f,\"\\nF1 Score:\\t\\t\",avg_v_f1_8f)"
   ]
  },
  {
   "cell_type": "code",
   "execution_count": 232,
   "metadata": {},
   "outputs": [
    {
     "data": {
      "text/html": [
       "<div>\n",
       "<style scoped>\n",
       "    .dataframe tbody tr th:only-of-type {\n",
       "        vertical-align: middle;\n",
       "    }\n",
       "\n",
       "    .dataframe tbody tr th {\n",
       "        vertical-align: top;\n",
       "    }\n",
       "\n",
       "    .dataframe thead th {\n",
       "        text-align: right;\n",
       "    }\n",
       "</style>\n",
       "<table border=\"1\" class=\"dataframe\">\n",
       "  <thead>\n",
       "    <tr style=\"text-align: right;\">\n",
       "      <th></th>\n",
       "      <th>pred:Leasional</th>\n",
       "      <th>pred:Nonleasional</th>\n",
       "    </tr>\n",
       "  </thead>\n",
       "  <tbody>\n",
       "    <tr>\n",
       "      <th>true:Leasional</th>\n",
       "      <td>105.15</td>\n",
       "      <td>8.85</td>\n",
       "    </tr>\n",
       "    <tr>\n",
       "      <th>true:Nonleasional</th>\n",
       "      <td>50.75</td>\n",
       "      <td>139.25</td>\n",
       "    </tr>\n",
       "  </tbody>\n",
       "</table>\n",
       "</div>"
      ],
      "text/plain": [
       "                   pred:Leasional  pred:Nonleasional\n",
       "true:Leasional             105.15               8.85\n",
       "true:Nonleasional           50.75             139.25"
      ]
     },
     "execution_count": 232,
     "metadata": {},
     "output_type": "execute_result"
    }
   ],
   "source": [
    "avgvalid_cm_8f =  avg_v_cm_8f.groupby(avg_v_cm_8f.index)\n",
    "\n",
    "avgvalid_cm_8f.mean()"
   ]
  },
  {
   "cell_type": "code",
   "execution_count": 233,
   "metadata": {},
   "outputs": [
    {
     "name": "stdout",
     "output_type": "stream",
     "text": [
      "Average (20 Epochs) Hypercube Validation Statistics, Eighth Patient Fold:\n",
      "Hypercube Accuracy:\t\t 0.84375 \n",
      "Hypercube Precision:\t\t 1.0\n",
      "Hypercube Recall:\t\t 0.75 \n",
      "Hypercube F1 Score:\t\t 0.8527777777777779\n"
     ]
    }
   ],
   "source": [
    "avg_vc_acc_8f, avg_vc_prec_8f, avg_vc_re_8f, avg_vc_f1_8f, avg_vc_cm_8f = average_group_runs(averaged_runs,\n",
    "                                                                                             y_valid_cube, \n",
    "                                                                                             y_pred_valid_mat_8f, \n",
    "                                                                                             cube_threshold, \n",
    "                                                                                             validation_8_key, \n",
    "                                                                                             total_bands)\n",
    "print(\"Average (20 Epochs) Hypercube Validation Statistics, Eighth Patient Fold:\\nHypercube Accuracy:\\t\\t\",avg_vc_acc_8f,\n",
    "      \"\\nHypercube Precision:\\t\\t\",avg_vc_prec_8f)\n",
    "print(\"Hypercube Recall:\\t\\t\",avg_vc_re_8f,\"\\nHypercube F1 Score:\\t\\t\",avg_vc_f1_8f)\n"
   ]
  },
  {
   "cell_type": "code",
   "execution_count": 234,
   "metadata": {},
   "outputs": [
    {
     "data": {
      "text/html": [
       "<div>\n",
       "<style scoped>\n",
       "    .dataframe tbody tr th:only-of-type {\n",
       "        vertical-align: middle;\n",
       "    }\n",
       "\n",
       "    .dataframe tbody tr th {\n",
       "        vertical-align: top;\n",
       "    }\n",
       "\n",
       "    .dataframe thead th {\n",
       "        text-align: right;\n",
       "    }\n",
       "</style>\n",
       "<table border=\"1\" class=\"dataframe\">\n",
       "  <thead>\n",
       "    <tr style=\"text-align: right;\">\n",
       "      <th></th>\n",
       "      <th>pred:Leasional</th>\n",
       "      <th>pred:Nonleasional</th>\n",
       "    </tr>\n",
       "  </thead>\n",
       "  <tbody>\n",
       "    <tr>\n",
       "      <th>true:Leasional</th>\n",
       "      <td>3.00</td>\n",
       "      <td>0.00</td>\n",
       "    </tr>\n",
       "    <tr>\n",
       "      <th>true:Nonleasional</th>\n",
       "      <td>1.25</td>\n",
       "      <td>3.75</td>\n",
       "    </tr>\n",
       "  </tbody>\n",
       "</table>\n",
       "</div>"
      ],
      "text/plain": [
       "                   pred:Leasional  pred:Nonleasional\n",
       "true:Leasional               3.00               0.00\n",
       "true:Nonleasional            1.25               3.75"
      ]
     },
     "execution_count": 234,
     "metadata": {},
     "output_type": "execute_result"
    }
   ],
   "source": [
    "avgvalid_cm_cube_8f =  avg_vc_cm_8f.groupby(avg_vc_cm_8f.index)\n",
    "\n",
    "avgvalid_cm_cube_8f.mean()"
   ]
  },
  {
   "cell_type": "code",
   "execution_count": 235,
   "metadata": {
    "scrolled": true
   },
   "outputs": [
    {
     "data": {
      "image/png": "[encoded data removed]",
      "text/plain": [
       "<Figure size 432x288 with 1 Axes>"
      ]
     },
     "metadata": {
      "needs_background": "light"
     },
     "output_type": "display_data"
    }
   ],
   "source": [
    "# Plot of Epochs vs Training Accuracy\n",
    "\n",
    "plt.plot(np.arange(1,epoch+2),np.array(acc_train_mat_8f), '-v')\n",
    "plt.xlabel('Number of Epochs Run')\n",
    "plt.ylabel('Accuracy')\n",
    "plt.title('Fold 8 Training Accuracy vs. Number of Epochs')\n",
    "plt.xlim(left=-1);\n",
    "plt.ylim(top=1);\n",
    "plt.ylim(bottom=0);"
   ]
  },
  {
   "cell_type": "code",
   "execution_count": 236,
   "metadata": {},
   "outputs": [
    {
     "data": {
      "image/png": "[encoded data removed]",
      "text/plain": [
       "<Figure size 432x288 with 1 Axes>"
      ]
     },
     "metadata": {
      "needs_background": "light"
     },
     "output_type": "display_data"
    }
   ],
   "source": [
    "# Plot of Epochs vs Validation Accuracy\n",
    "\n",
    "plt.plot(np.arange(1,epoch+2),np.array(acc_valid_mat_8f), '-v')\n",
    "plt.xlabel('Number of Epochs Run')\n",
    "plt.ylabel('Accuracy')\n",
    "plt.title('Patient Fold 8 (Patient #3) Validation Accuracy vs. Number of Epochs')\n",
    "plt.xlim(left=-1);\n",
    "plt.ylim(top=1);\n",
    "plt.ylim(bottom=0);"
   ]
  },
  {
   "cell_type": "code",
   "execution_count": 237,
   "metadata": {},
   "outputs": [],
   "source": [
    "# Ninth Patient (Patient #6)\n",
    "graph_seed = 42\n",
    "reset_graph(graph_seed)"
   ]
  },
  {
   "cell_type": "code",
   "execution_count": 238,
   "metadata": {},
   "outputs": [],
   "source": [
    "# Ninth Validation Fold (Patient #6)\n",
    "X_valid_fold = X_sorted[validation_9]\n",
    "y_valid_fold = y_sorted[validation_9]"
   ]
  },
  {
   "cell_type": "code",
   "execution_count": 239,
   "metadata": {},
   "outputs": [
    {
     "data": {
      "text/plain": [
       "(380, 251502)"
      ]
     },
     "execution_count": 239,
     "metadata": {},
     "output_type": "execute_result"
    }
   ],
   "source": [
    "X_valid_fold.shape"
   ]
  },
  {
   "cell_type": "code",
   "execution_count": 240,
   "metadata": {},
   "outputs": [
    {
     "data": {
      "text/plain": [
       "(380,)"
      ]
     },
     "execution_count": 240,
     "metadata": {},
     "output_type": "execute_result"
    }
   ],
   "source": [
    "y_valid_fold.shape"
   ]
  },
  {
   "cell_type": "code",
   "execution_count": 241,
   "metadata": {},
   "outputs": [],
   "source": [
    "# Validation Cube for patient fold 9 (Patient #6)\n",
    "y_valid_cube = np.array([],dtype=np.int16)\n",
    "for cube in validation_9_key:\n",
    "    if cube.endswith('N'):\n",
    "        cube_class = 1\n",
    "    else:\n",
    "        cube_class = 0\n",
    "    y_valid_cube = np.append(y_valid_cube,cube_class)"
   ]
  },
  {
   "cell_type": "code",
   "execution_count": 242,
   "metadata": {},
   "outputs": [],
   "source": [
    "# Reset the training fold so the system memory is not overused\n",
    "X_train_fold = []"
   ]
  },
  {
   "cell_type": "code",
   "execution_count": 243,
   "metadata": {},
   "outputs": [],
   "source": [
    "# Fifth Training Fold (Patients 13,10,1,9,3,2,14,5,8,12,4,7)\n",
    "X_train_fold = X_sorted[training_9]\n",
    "y_train_fold = y_sorted[training_9]"
   ]
  },
  {
   "cell_type": "code",
   "execution_count": 244,
   "metadata": {},
   "outputs": [
    {
     "data": {
      "text/plain": [
       "(6270, 251502)"
      ]
     },
     "execution_count": 244,
     "metadata": {},
     "output_type": "execute_result"
    }
   ],
   "source": [
    "X_train_fold.shape"
   ]
  },
  {
   "cell_type": "code",
   "execution_count": 245,
   "metadata": {},
   "outputs": [
    {
     "data": {
      "text/plain": [
       "(6270,)"
      ]
     },
     "execution_count": 245,
     "metadata": {},
     "output_type": "execute_result"
    }
   ],
   "source": [
    "y_train_fold.shape"
   ]
  },
  {
   "cell_type": "code",
   "execution_count": 246,
   "metadata": {},
   "outputs": [],
   "source": [
    "# Sets the Neural Network for the graph\n",
    "height = 501\n",
    "width = 502\n",
    "channels = 1\n",
    "n_inputs = height * width * channels\n",
    "\n",
    "\n",
    "conv1_fmaps = 24\n",
    "conv1_ksize = 5\n",
    "conv1_stride = 3\n",
    "conv1_pad = \"SAME\"\n",
    "conv1_dropout_rate = 0.25\n",
    "\n",
    "pool2_fmaps = conv1_fmaps\n",
    "\n",
    "conv3_fmaps = 48\n",
    "conv3_ksize = 3\n",
    "conv3_stride = 1\n",
    "conv3_pad = \"SAME\"\n",
    "conv3_dropout_rate = 0.25\n",
    "\n",
    "pool4_fmaps = conv3_fmaps\n",
    "\n",
    "conv5_fmaps = 64\n",
    "conv5_ksize = 2\n",
    "conv5_stride = 1\n",
    "conv5_pad = \"SAME\"\n",
    "conv5_dropout_rate = 0.5\n",
    "\n",
    "pool6_fmaps = conv5_fmaps\n",
    "\n",
    "n_fc1 = 24\n",
    "n_outputs = 2\n",
    "\n",
    "regularizer = tf.contrib.layers.l2_regularizer(scale=0.1)\n",
    "\n",
    "with tf.name_scope(\"inputs\"):\n",
    "    X = tf.placeholder(tf.float32, shape=[None, n_inputs], name=\"X\")\n",
    "    X_reshaped = tf.reshape(X, shape=[-1, height, width, channels])\n",
    "    y = tf.placeholder(tf.int32, shape=[None], name=\"y\")\n",
    "    training = tf.placeholder_with_default(False, shape=[], name='training')\n",
    "\n",
    "conv1 = tf.layers.conv2d(X_reshaped, filters=conv1_fmaps, kernel_size=conv1_ksize,\n",
    "                         strides=conv1_stride, padding=conv1_pad,\n",
    "                         activation=tf.nn.tanh, kernel_regularizer=regularizer, name=\"conv1\")\n",
    "\n",
    "with tf.name_scope(\"pool2\"):\n",
    "    pool2 = tf.nn.max_pool(conv1, ksize=[1, 2, 2, 1], strides=[1, 2, 2, 1], padding=\"VALID\")\n",
    "    pool2_drop = tf.layers.dropout(pool2, conv1_dropout_rate, training=training)\n",
    "\n",
    "conv3 = tf.layers.conv2d(pool2_drop, filters=conv3_fmaps, kernel_size=conv3_ksize,\n",
    "                         strides=conv3_stride, padding=conv3_pad,\n",
    "                         activation=tf.nn.tanh, name=\"conv3\")\n",
    "\n",
    "with tf.name_scope(\"pool4\"):\n",
    "    pool4 = tf.nn.max_pool(conv3, ksize=[1, 2, 2, 1], strides=[1, 2, 2, 1], padding=\"VALID\")\n",
    "    pool4_drop = tf.layers.dropout(pool4, conv3_dropout_rate, training=training)\n",
    "\n",
    "conv5 = tf.layers.conv2d(pool4_drop, filters=conv5_fmaps, kernel_size=conv5_ksize,\n",
    "                         strides=conv5_stride, padding=conv5_pad,\n",
    "                         activation=tf.nn.tanh, name=\"conv5\")\n",
    "\n",
    "with tf.name_scope(\"pool6\"):\n",
    "    pool6 = tf.nn.max_pool(conv5, ksize=[1, 2, 2, 1], strides=[1, 2, 2, 1], padding=\"VALID\")\n",
    "    pool6_flat = tf.reshape(pool6, shape=[-1, pool6_fmaps * 20 * 21])\n",
    "    pool6_flat_drop = tf.layers.dropout(pool6_flat, conv5_dropout_rate, training=training)      \n",
    "       \n",
    "with tf.name_scope(\"fc1\"):\n",
    "    fc1 = tf.layers.dense(pool6_flat_drop, n_fc1, activation=tf.nn.tanh, kernel_regularizer=regularizer, name=\"fc1\")\n",
    "\n",
    "with tf.name_scope(\"output\"):\n",
    "    logits = tf.layers.dense(fc1, n_outputs, name=\"output\")\n",
    "    Y_proba = tf.nn.softmax(logits, name=\"Y_proba\")\n",
    "\n",
    "with tf.name_scope(\"train\"):\n",
    "    xentropy = tf.nn.sparse_softmax_cross_entropy_with_logits(logits=logits, labels=y)\n",
    "    l2_loss = tf.losses.get_regularization_loss()\n",
    "    loss = tf.reduce_mean(xentropy) + l2_loss\n",
    "    optimizer = tf.train.AdamOptimizer(learning_rate=0.0001)\n",
    "    training_op = optimizer.minimize(loss)\n",
    "\n",
    "with tf.name_scope(\"eval\"):\n",
    "    correct = tf.nn.in_top_k(logits, y, 1)\n",
    "    accuracy = tf.reduce_mean(tf.cast(correct, tf.float32))\n",
    "\n",
    "with tf.name_scope(\"init_and_save\"):\n",
    "    init = tf.global_variables_initializer()\n",
    "    saver = tf.train.Saver()"
   ]
  },
  {
   "cell_type": "code",
   "execution_count": 247,
   "metadata": {},
   "outputs": [],
   "source": [
    "# Sets the number of epochs and batch size\n",
    "n_iterations_per_epoch = len(X_train_fold) // batch_size"
   ]
  },
  {
   "cell_type": "code",
   "execution_count": 248,
   "metadata": {
    "scrolled": true
   },
   "outputs": [
    {
     "data": {
      "text/plain": [
       "62"
      ]
     },
     "execution_count": 248,
     "metadata": {},
     "output_type": "execute_result"
    }
   ],
   "source": [
    "n_iterations_per_epoch"
   ]
  },
  {
   "cell_type": "code",
   "execution_count": 249,
   "metadata": {},
   "outputs": [
    {
     "name": "stdout",
     "output_type": "stream",
     "text": [
      "Start Time:  2019-03-07 22:16:52.272611 \n",
      "\n",
      "Epoch 0\n",
      "Last Batch accuracy:  45.00 %, Training accuracy:  52.06 %, Validation accuracy:  40.00 %\n",
      "Time training up to Epoch  0 :  0  hours,  0  minutes, and  47  seconds.\n",
      "Epoch 1\n",
      "Last Batch accuracy:  53.00 %, Training accuracy:  50.43 %, Validation accuracy:  41.84 %\n",
      "Time training up to Epoch  1 :  0  hours,  1  minutes, and  34  seconds.\n",
      "Epoch 2\n",
      "Last Batch accuracy:  63.00 %, Training accuracy:  54.63 %, Validation accuracy:  41.05 %\n",
      "Time training up to Epoch  2 :  0  hours,  2  minutes, and  21  seconds.\n",
      "Epoch 3\n",
      "Last Batch accuracy:  52.00 %, Training accuracy:  58.21 %, Validation accuracy:  41.32 %\n",
      "Time training up to Epoch  3 :  0  hours,  3  minutes, and  7  seconds.\n",
      "Epoch 4\n",
      "Last Batch accuracy:  73.00 %, Training accuracy:  64.98 %, Validation accuracy:  49.21 %\n",
      "Time training up to Epoch  4 :  0  hours,  3  minutes, and  54  seconds.\n",
      "Epoch 5\n",
      "Last Batch accuracy:  70.00 %, Training accuracy:  65.76 %, Validation accuracy:  38.95 %\n",
      "Time training up to Epoch  5 :  0  hours,  4  minutes, and  41  seconds.\n",
      "Epoch 6\n",
      "Last Batch accuracy:  68.00 %, Training accuracy:  67.38 %, Validation accuracy:  39.21 %\n",
      "Time training up to Epoch  6 :  0  hours,  5  minutes, and  27  seconds.\n",
      "Epoch 7\n",
      "Last Batch accuracy:  68.00 %, Training accuracy:  72.41 %, Validation accuracy:  52.11 %\n",
      "Time training up to Epoch  7 :  0  hours,  6  minutes, and  14  seconds.\n",
      "Epoch 8\n",
      "Last Batch accuracy:  68.00 %, Training accuracy:  70.26 %, Validation accuracy:  57.37 %\n",
      "Time training up to Epoch  8 :  0  hours,  7  minutes, and  1  seconds.\n",
      "Epoch 9\n",
      "Last Batch accuracy:  70.00 %, Training accuracy:  66.99 %, Validation accuracy:  49.47 %\n",
      "Time training up to Epoch  9 :  0  hours,  7  minutes, and  48  seconds.\n",
      "Epoch 10\n",
      "Last Batch accuracy:  69.00 %, Training accuracy:  73.76 %, Validation accuracy:  50.00 %\n",
      "Time training up to Epoch  10 :  0  hours,  8  minutes, and  34  seconds.\n",
      "Epoch 11\n",
      "Last Batch accuracy:  69.00 %, Training accuracy:  74.19 %, Validation accuracy:  52.89 %\n",
      "Time training up to Epoch  11 :  0  hours,  9  minutes, and  21  seconds.\n",
      "Epoch 12\n",
      "Last Batch accuracy:  77.00 %, Training accuracy:  74.19 %, Validation accuracy:  43.95 %\n",
      "Time training up to Epoch  12 :  0  hours,  10  minutes, and  8  seconds.\n",
      "Epoch 13\n",
      "Last Batch accuracy:  67.00 %, Training accuracy:  75.06 %, Validation accuracy:  49.47 %\n",
      "Time training up to Epoch  13 :  0  hours,  10  minutes, and  55  seconds.\n",
      "Epoch 14\n",
      "Last Batch accuracy:  63.00 %, Training accuracy:  70.86 %, Validation accuracy:  61.05 %\n",
      "Time training up to Epoch  14 :  0  hours,  11  minutes, and  41  seconds.\n",
      "Epoch 15\n",
      "Last Batch accuracy:  79.00 %, Training accuracy:  78.69 %, Validation accuracy:  36.32 %\n",
      "Time training up to Epoch  15 :  0  hours,  12  minutes, and  28  seconds.\n",
      "Epoch 16\n",
      "Last Batch accuracy:  75.00 %, Training accuracy:  72.07 %, Validation accuracy:  55.26 %\n",
      "Time training up to Epoch  16 :  0  hours,  13  minutes, and  15  seconds.\n",
      "Epoch 17\n",
      "Last Batch accuracy:  77.00 %, Training accuracy:  79.14 %, Validation accuracy:  44.74 %\n",
      "Time training up to Epoch  17 :  0  hours,  14  minutes, and  1  seconds.\n",
      "Epoch 18\n",
      "Last Batch accuracy:  78.00 %, Training accuracy:  80.37 %, Validation accuracy:  43.16 %\n",
      "Time training up to Epoch  18 :  0  hours,  14  minutes, and  48  seconds.\n",
      "Epoch 19\n",
      "Last Batch accuracy:  84.00 %, Training accuracy:  79.39 %, Validation accuracy:  46.32 %\n",
      "Time training up to Epoch  19 :  0  hours,  15  minutes, and  35  seconds.\n",
      "Epoch 20\n",
      "Last Batch accuracy:  81.00 %, Training accuracy:  80.94 %, Validation accuracy:  34.74 %\n",
      "Time training up to Epoch  20 :  0  hours,  16  minutes, and  22  seconds.\n",
      "Epoch 21\n",
      "Last Batch accuracy:  83.00 %, Training accuracy:  78.23 %, Validation accuracy:  43.68 %\n",
      "Time training up to Epoch  21 :  0  hours,  17  minutes, and  9  seconds.\n",
      "Epoch 22\n",
      "Last Batch accuracy:  86.00 %, Training accuracy:  81.66 %, Validation accuracy:  39.21 %\n",
      "Time training up to Epoch  22 :  0  hours,  17  minutes, and  55  seconds.\n",
      "Epoch 23\n",
      "Last Batch accuracy:  85.00 %, Training accuracy:  80.86 %, Validation accuracy:  42.89 %\n",
      "Time training up to Epoch  23 :  0  hours,  18  minutes, and  42  seconds.\n",
      "Epoch 24\n",
      "Last Batch accuracy:  80.00 %, Training accuracy:  82.33 %, Validation accuracy:  38.16 %\n",
      "Time training up to Epoch  24 :  0  hours,  19  minutes, and  29  seconds.\n",
      "Epoch 25\n",
      "Last Batch accuracy:  84.00 %, Training accuracy:  79.39 %, Validation accuracy:  45.79 %\n",
      "Time training up to Epoch  25 :  0  hours,  20  minutes, and  15  seconds.\n",
      "Epoch 26\n",
      "Last Batch accuracy:  87.00 %, Training accuracy:  84.10 %, Validation accuracy:  41.84 %\n",
      "Time training up to Epoch  26 :  0  hours,  21  minutes, and  2  seconds.\n",
      "Epoch 27\n",
      "Last Batch accuracy:  81.00 %, Training accuracy:  82.39 %, Validation accuracy:  36.58 %\n",
      "Time training up to Epoch  27 :  0  hours,  21  minutes, and  48  seconds.\n",
      "Epoch 28\n",
      "Last Batch accuracy:  80.00 %, Training accuracy:  83.84 %, Validation accuracy:  43.68 %\n",
      "Time training up to Epoch  28 :  0  hours,  22  minutes, and  35  seconds.\n",
      "Epoch 29\n",
      "Last Batch accuracy:  76.00 %, Training accuracy:  84.82 %, Validation accuracy:  39.47 %\n",
      "Time training up to Epoch  29 :  0  hours,  23  minutes, and  22  seconds.\n",
      "\n",
      "Training Complete: 2019-03-07 22:40:15.296695\n"
     ]
    }
   ],
   "source": [
    "# Trains the CNN\n",
    "acc_train_mat_9f = []\n",
    "acc_valid_mat_9f = []\n",
    "\n",
    "y_pred_valid_mat_9f = []\n",
    "\n",
    "training_start_time = datetime.datetime.now()\n",
    "print(\"Start Time: \", training_start_time, \"\\n\")\n",
    "\n",
    "with tf.Session() as sess:\n",
    "    init.run()\n",
    "\n",
    "    for epoch in range(n_epochs):\n",
    "        y_train_pred = np.array([],dtype=np.int16)\n",
    "        print(\"Epoch\", epoch)\n",
    "        # \n",
    "        for iteration in range(n_iterations_per_epoch):\n",
    "            X_batch, y_batch = prepare_batch(X_train_fold, y_train_fold, batch_size)            \n",
    "            sess.run(training_op, feed_dict={X: X_batch, y: y_batch})\n",
    "        acc_batch = accuracy.eval(feed_dict={X: X_batch, y: y_batch})\n",
    "        # Finds the predicted values for the training set\n",
    "        for i in range(len((X_train_fold))):\n",
    "            X_train = normalize_max_train(X_train_fold[i])\n",
    "            z_pred_train = logits.eval(feed_dict={X: X_train})\n",
    "            y_pred_train = np.argmax(z_pred_train, axis=1)\n",
    "            y_train_pred = np.append(y_train_pred,y_pred_train)\n",
    "        acc_train = accuracy_score(y_train_fold, y_train_pred)\n",
    "        acc_val = accuracy.eval(feed_dict={X: X_valid_fold, y: y_valid_fold})\n",
    "        # Appends the network accuracy to a matrix for so we can evaluate performance over epoch\n",
    "        acc_train_mat_9f.append(acc_train)\n",
    "        acc_valid_mat_9f.append(acc_val)\n",
    "        # Finds the predicted values for the validation set\n",
    "        z_pred_valid = logits.eval(feed_dict={X: X_valid_fold, y: y_valid_fold})\n",
    "        y_pred_valid_9f = np.argmax(z_pred_valid, axis=1)\n",
    "        y_pred_valid_mat_9f.append(y_pred_valid_9f)\n",
    "        \n",
    "        training_duration_time = datetime.datetime.now()\n",
    "        training_duration = training_duration_time-training_start_time\n",
    "        training_hours, remainder = divmod(training_duration.seconds, 3600)\n",
    "        training_minutes, training_seconds = divmod(remainder,60)\n",
    "        print(\"Last Batch accuracy: \", \"{0:.2f}\".format(acc_batch*100),\n",
    "              \"%, Training accuracy: \", \"{0:.2f}\".format(acc_train*100),\n",
    "              \"%, Validation accuracy: \", \"{0:.2f}\".format(acc_val*100),\"%\")\n",
    "        print(\"Time training up to Epoch \",epoch,\": \",training_hours,\" hours, \", training_minutes,\n",
    "              \" minutes, and \", training_seconds, \" seconds.\")\n",
    "    save_path = saver.save(sess, \"./IB_maxdata_baseneta_100tanh_9fold_run1\")\n",
    "training_end_time = datetime.datetime.now()\n",
    "print('\\nTraining Complete:', training_end_time)"
   ]
  },
  {
   "cell_type": "code",
   "execution_count": 250,
   "metadata": {},
   "outputs": [
    {
     "name": "stdout",
     "output_type": "stream",
     "text": [
      "Ninth Patient Fold (Patient #6) of CV took 0  hours,  23  minutes, and  23  seconds to train.\n",
      "\n"
     ]
    }
   ],
   "source": [
    "training_duration = training_end_time-training_start_time\n",
    "duration_hours, duration_remainder = divmod(training_duration.seconds, 3600)\n",
    "duration_minutes, duration_seconds = divmod(duration_remainder,60)\n",
    "print(\"Ninth Patient Fold (Patient #6) of CV took\",duration_hours,\" hours, \", duration_minutes,\n",
    "              \" minutes, and \", duration_seconds, \" seconds to train.\\n\")"
   ]
  },
  {
   "cell_type": "code",
   "execution_count": 251,
   "metadata": {},
   "outputs": [
    {
     "name": "stdout",
     "output_type": "stream",
     "text": [
      "Segment Validation Statistics, Ninth Patient Fold:\n",
      "Accuracy:\t\t 0.39473684210526316 \n",
      "Precision:\t\t 0.49557522123893805\n",
      "Recall:\t\t\t 0.49122807017543857 \n",
      "F1 Score:\t\t 0.49339207048458145\n"
     ]
    }
   ],
   "source": [
    "valid_accuracy_9f = accuracy_score(y_valid_fold, y_pred_valid_9f)\n",
    "valid_precision_9f = precision_score(y_valid_fold, y_pred_valid_9f)\n",
    "valid_recall_9f = recall_score(y_valid_fold, y_pred_valid_9f)\n",
    "valid_f1_9f = f1_score(y_valid_fold, y_pred_valid_9f)\n",
    "\n",
    "print(\"Segment Validation Statistics, Ninth Patient Fold:\\nAccuracy:\\t\\t\",valid_accuracy_9f,\n",
    "      \"\\nPrecision:\\t\\t\",valid_precision_9f)\n",
    "print(\"Recall:\\t\\t\\t\",valid_recall_9f,\"\\nF1 Score:\\t\\t\",valid_f1_9f)"
   ]
  },
  {
   "cell_type": "code",
   "execution_count": 252,
   "metadata": {},
   "outputs": [
    {
     "name": "stdout",
     "output_type": "stream",
     "text": [
      "Ninth Patient Fold Validation Confusion Matrix:\n",
      "                   pred:Leasional  pred:Nonleasional\n",
      "true:Leasional                 38                114\n",
      "true:Nonleasional             116                112\n"
     ]
    }
   ],
   "source": [
    "valid_label = np.unique(y_valid_fold)\n",
    "validation_cm_9f = confusion_matrix(y_valid_fold, y_pred_valid_9f, labels=valid_label) \n",
    "\n",
    "print(\"Ninth Patient Fold Validation Confusion Matrix:\")\n",
    "print(pd.DataFrame(validation_cm_9f, index=['true:Leasional', 'true:Nonleasional'], \n",
    "                   columns=['pred:Leasional', 'pred:Nonleasional']))"
   ]
  },
  {
   "cell_type": "code",
   "execution_count": 253,
   "metadata": {},
   "outputs": [],
   "source": [
    "y_valid_cube_pred_9fold = group_hypercube(y_pred_valid_9f, cube_threshold, \n",
    "                                          validation_9_key, total_bands)"
   ]
  },
  {
   "cell_type": "code",
   "execution_count": 254,
   "metadata": {},
   "outputs": [
    {
     "name": "stdout",
     "output_type": "stream",
     "text": [
      "Validation Model Hypercube Statistics, Ninth Patient Fold:\n",
      "Hypercube Accuracy:\t\t 0.3 \n",
      "Hypercube Precision:\t\t 0.4\n",
      "Hypercube Recall: \t\t 0.3333333333333333 \n",
      "Hypercube F1 Score:\t\t 0.3636363636363636\n"
     ]
    }
   ],
   "source": [
    "valid_accuracy_cube_9f = accuracy_score(y_valid_cube, y_valid_cube_pred_9fold)\n",
    "valid_precision_cube_9f = precision_score(y_valid_cube, y_valid_cube_pred_9fold)\n",
    "valid_recall_cube_9f = recall_score(y_valid_cube, y_valid_cube_pred_9fold)\n",
    "valid_f1_cube_9f = f1_score(y_valid_cube, y_valid_cube_pred_9fold)\n",
    "\n",
    "print(\"Validation Model Hypercube Statistics, Ninth Patient Fold:\\nHypercube Accuracy:\\t\\t\",valid_accuracy_cube_9f,\n",
    "      \"\\nHypercube Precision:\\t\\t\",valid_precision_cube_9f)\n",
    "print(\"Hypercube Recall: \\t\\t\",valid_recall_cube_9f,\"\\nHypercube F1 Score:\\t\\t\",valid_f1_cube_9f)"
   ]
  },
  {
   "cell_type": "code",
   "execution_count": 255,
   "metadata": {},
   "outputs": [
    {
     "name": "stdout",
     "output_type": "stream",
     "text": [
      "Ninth Patient Fold Validation Confusion Matrix (Cube):\n",
      "                   pred:Leasional  pred:Nonleasional\n",
      "true:Leasional                  1                  3\n",
      "true:Nonleasional               4                  2\n"
     ]
    }
   ],
   "source": [
    "valid_cube_label = np.unique(y_valid_cube)\n",
    "validation_cm_cube_9f = confusion_matrix(y_valid_cube, y_valid_cube_pred_9fold, labels=valid_cube_label) \n",
    "\n",
    "print(\"Ninth Patient Fold Validation Confusion Matrix (Cube):\")\n",
    "print(pd.DataFrame(validation_cm_cube_9f, index=['true:Leasional', 'true:Nonleasional'], \n",
    "                   columns=['pred:Leasional', 'pred:Nonleasional']))"
   ]
  },
  {
   "cell_type": "code",
   "execution_count": 256,
   "metadata": {},
   "outputs": [],
   "source": [
    "avg_v_acc_9f, avg_v_prec_9f, avg_v_re_9f, avg_v_f1_9f, avg_v_cm_9f = average_runs(averaged_runs, \n",
    "                                                                                  y_pred_valid_mat_9f, y_valid_fold)"
   ]
  },
  {
   "cell_type": "code",
   "execution_count": 257,
   "metadata": {},
   "outputs": [
    {
     "name": "stdout",
     "output_type": "stream",
     "text": [
      "Average (20 Epochs) Segment Validation Statistics, Ninth Patient Fold:\n",
      "Accuracy:\t\t 0.4496052631578948 \n",
      "Precision:\t\t 0.5523201372554912\n",
      "Recall:\t\t\t 0.41491228070175434 \n",
      "F1 Score:\t\t 0.45306054432280024\n"
     ]
    }
   ],
   "source": [
    "print(\"Average (20 Epochs) Segment Validation Statistics, Ninth Patient Fold:\\nAccuracy:\\t\\t\",avg_v_acc_9f,\n",
    "      \"\\nPrecision:\\t\\t\",avg_v_prec_9f)\n",
    "print(\"Recall:\\t\\t\\t\",avg_v_re_9f,\"\\nF1 Score:\\t\\t\",avg_v_f1_9f)"
   ]
  },
  {
   "cell_type": "code",
   "execution_count": 258,
   "metadata": {},
   "outputs": [
    {
     "data": {
      "text/html": [
       "<div>\n",
       "<style scoped>\n",
       "    .dataframe tbody tr th:only-of-type {\n",
       "        vertical-align: middle;\n",
       "    }\n",
       "\n",
       "    .dataframe tbody tr th {\n",
       "        vertical-align: top;\n",
       "    }\n",
       "\n",
       "    .dataframe thead th {\n",
       "        text-align: right;\n",
       "    }\n",
       "</style>\n",
       "<table border=\"1\" class=\"dataframe\">\n",
       "  <thead>\n",
       "    <tr style=\"text-align: right;\">\n",
       "      <th></th>\n",
       "      <th>pred:Leasional</th>\n",
       "      <th>pred:Nonleasional</th>\n",
       "    </tr>\n",
       "  </thead>\n",
       "  <tbody>\n",
       "    <tr>\n",
       "      <th>true:Leasional</th>\n",
       "      <td>76.25</td>\n",
       "      <td>75.75</td>\n",
       "    </tr>\n",
       "    <tr>\n",
       "      <th>true:Nonleasional</th>\n",
       "      <td>133.40</td>\n",
       "      <td>94.60</td>\n",
       "    </tr>\n",
       "  </tbody>\n",
       "</table>\n",
       "</div>"
      ],
      "text/plain": [
       "                   pred:Leasional  pred:Nonleasional\n",
       "true:Leasional              76.25              75.75\n",
       "true:Nonleasional          133.40              94.60"
      ]
     },
     "execution_count": 258,
     "metadata": {},
     "output_type": "execute_result"
    }
   ],
   "source": [
    "avgvalid_cm_9f =  avg_v_cm_9f.groupby(avg_v_cm_9f.index)\n",
    "\n",
    "avgvalid_cm_9f.mean()"
   ]
  },
  {
   "cell_type": "code",
   "execution_count": 259,
   "metadata": {},
   "outputs": [
    {
     "name": "stdout",
     "output_type": "stream",
     "text": [
      "Average (20 Epochs) Hypercube Validation Statistics, Ninth Patient Fold:\n",
      "Hypercube Accuracy:\t\t 0.45 \n",
      "Hypercube Precision:\t\t 0.509047619047619\n",
      "Hypercube Recall:\t\t 0.45 \n",
      "Hypercube F1 Score:\t\t 0.4626864801864802\n"
     ]
    }
   ],
   "source": [
    "avg_vc_acc_9f, avg_vc_prec_9f, avg_vc_re_9f, avg_vc_f1_9f, avg_vc_cm_9f = average_group_runs(averaged_runs,\n",
    "                                                                                             y_valid_cube, \n",
    "                                                                                             y_pred_valid_mat_9f, \n",
    "                                                                                             cube_threshold, \n",
    "                                                                                             validation_9_key, \n",
    "                                                                                             total_bands)\n",
    "print(\"Average (20 Epochs) Hypercube Validation Statistics, Ninth Patient Fold:\\nHypercube Accuracy:\\t\\t\",avg_vc_acc_9f,\n",
    "      \"\\nHypercube Precision:\\t\\t\",avg_vc_prec_9f)\n",
    "print(\"Hypercube Recall:\\t\\t\",avg_vc_re_9f,\"\\nHypercube F1 Score:\\t\\t\",avg_vc_f1_9f)\n"
   ]
  },
  {
   "cell_type": "code",
   "execution_count": 260,
   "metadata": {},
   "outputs": [
    {
     "data": {
      "text/html": [
       "<div>\n",
       "<style scoped>\n",
       "    .dataframe tbody tr th:only-of-type {\n",
       "        vertical-align: middle;\n",
       "    }\n",
       "\n",
       "    .dataframe tbody tr th {\n",
       "        vertical-align: top;\n",
       "    }\n",
       "\n",
       "    .dataframe thead th {\n",
       "        text-align: right;\n",
       "    }\n",
       "</style>\n",
       "<table border=\"1\" class=\"dataframe\">\n",
       "  <thead>\n",
       "    <tr style=\"text-align: right;\">\n",
       "      <th></th>\n",
       "      <th>pred:Leasional</th>\n",
       "      <th>pred:Nonleasional</th>\n",
       "    </tr>\n",
       "  </thead>\n",
       "  <tbody>\n",
       "    <tr>\n",
       "      <th>true:Leasional</th>\n",
       "      <td>1.8</td>\n",
       "      <td>2.2</td>\n",
       "    </tr>\n",
       "    <tr>\n",
       "      <th>true:Nonleasional</th>\n",
       "      <td>3.3</td>\n",
       "      <td>2.7</td>\n",
       "    </tr>\n",
       "  </tbody>\n",
       "</table>\n",
       "</div>"
      ],
      "text/plain": [
       "                   pred:Leasional  pred:Nonleasional\n",
       "true:Leasional                1.8                2.2\n",
       "true:Nonleasional             3.3                2.7"
      ]
     },
     "execution_count": 260,
     "metadata": {},
     "output_type": "execute_result"
    }
   ],
   "source": [
    "avgvalid_cm_cube_9f =  avg_vc_cm_9f.groupby(avg_vc_cm_9f.index)\n",
    "\n",
    "avgvalid_cm_cube_9f.mean()"
   ]
  },
  {
   "cell_type": "code",
   "execution_count": 261,
   "metadata": {
    "scrolled": true
   },
   "outputs": [
    {
     "data": {
      "image/png": "[encoded data removed]",
      "text/plain": [
       "<Figure size 432x288 with 1 Axes>"
      ]
     },
     "metadata": {
      "needs_background": "light"
     },
     "output_type": "display_data"
    }
   ],
   "source": [
    "# Plot of Epochs vs Training Accuracy\n",
    "\n",
    "plt.plot(np.arange(1,epoch+2),np.array(acc_train_mat_9f), '-v')\n",
    "plt.xlabel('Number of Epochs Run')\n",
    "plt.ylabel('Accuracy')\n",
    "plt.title('Fold 9 Training Accuracy vs. Number of Epochs')\n",
    "plt.xlim(left=-1);\n",
    "plt.ylim(top=1);\n",
    "plt.ylim(bottom=0);"
   ]
  },
  {
   "cell_type": "code",
   "execution_count": 262,
   "metadata": {
    "scrolled": false
   },
   "outputs": [
    {
     "data": {
      "image/png": "[encoded data removed]",
      "text/plain": [
       "<Figure size 432x288 with 1 Axes>"
      ]
     },
     "metadata": {
      "needs_background": "light"
     },
     "output_type": "display_data"
    }
   ],
   "source": [
    "# Plot of Epochs vs Validation Accuracy\n",
    "\n",
    "plt.plot(np.arange(1,epoch+2),np.array(acc_valid_mat_9f), '-v')\n",
    "plt.xlabel('Number of Epochs Run')\n",
    "plt.ylabel('Accuracy')\n",
    "plt.title('Patient Fold 9 (Patient #6) Validation Accuracy vs. Number of Epochs')\n",
    "plt.xlim(left=-1);\n",
    "plt.ylim(top=1);\n",
    "plt.ylim(bottom=0);"
   ]
  },
  {
   "cell_type": "code",
   "execution_count": 263,
   "metadata": {},
   "outputs": [],
   "source": [
    "# Tenth Patient (Patient 9)\n",
    "graph_seed = 42\n",
    "reset_graph(graph_seed)"
   ]
  },
  {
   "cell_type": "code",
   "execution_count": 264,
   "metadata": {},
   "outputs": [],
   "source": [
    "# Tenth Patient Fold (Patient 9)\n",
    "X_valid_fold = X_sorted[validation_10]\n",
    "y_valid_fold = y_sorted[validation_10]"
   ]
  },
  {
   "cell_type": "code",
   "execution_count": 265,
   "metadata": {},
   "outputs": [
    {
     "data": {
      "text/plain": [
       "(570, 251502)"
      ]
     },
     "execution_count": 265,
     "metadata": {},
     "output_type": "execute_result"
    }
   ],
   "source": [
    "X_valid_fold.shape"
   ]
  },
  {
   "cell_type": "code",
   "execution_count": 266,
   "metadata": {},
   "outputs": [
    {
     "data": {
      "text/plain": [
       "(570,)"
      ]
     },
     "execution_count": 266,
     "metadata": {},
     "output_type": "execute_result"
    }
   ],
   "source": [
    "y_valid_fold.shape"
   ]
  },
  {
   "cell_type": "code",
   "execution_count": 267,
   "metadata": {},
   "outputs": [],
   "source": [
    "# Validation Cube for patient fold 10\n",
    "y_valid_cube = np.array([],dtype=np.int16)\n",
    "for cube in validation_10_key:\n",
    "    if cube.endswith('N'):\n",
    "        cube_class = 1\n",
    "    else:\n",
    "        cube_class = 0\n",
    "    y_valid_cube = np.append(y_valid_cube,cube_class)"
   ]
  },
  {
   "cell_type": "code",
   "execution_count": 268,
   "metadata": {},
   "outputs": [],
   "source": [
    "# Reset the training fold so the system memory is not overused\n",
    "X_train_fold = []"
   ]
  },
  {
   "cell_type": "code",
   "execution_count": 269,
   "metadata": {},
   "outputs": [],
   "source": [
    "# Tenth Training Fold (Patients 13,10,1,6,3,2,14,5,8,12,4,7)\n",
    "X_train_fold = X_sorted[training_10]\n",
    "y_train_fold = y_sorted[training_10]"
   ]
  },
  {
   "cell_type": "code",
   "execution_count": 270,
   "metadata": {},
   "outputs": [
    {
     "data": {
      "text/plain": [
       "(6080, 251502)"
      ]
     },
     "execution_count": 270,
     "metadata": {},
     "output_type": "execute_result"
    }
   ],
   "source": [
    "X_train_fold.shape"
   ]
  },
  {
   "cell_type": "code",
   "execution_count": 271,
   "metadata": {},
   "outputs": [
    {
     "data": {
      "text/plain": [
       "(6080,)"
      ]
     },
     "execution_count": 271,
     "metadata": {},
     "output_type": "execute_result"
    }
   ],
   "source": [
    "y_train_fold.shape"
   ]
  },
  {
   "cell_type": "code",
   "execution_count": 272,
   "metadata": {},
   "outputs": [],
   "source": [
    "# Sets the Neural Network for the graph\n",
    "height = 501\n",
    "width = 502\n",
    "channels = 1\n",
    "n_inputs = height * width * channels\n",
    "\n",
    "\n",
    "conv1_fmaps = 24\n",
    "conv1_ksize = 5\n",
    "conv1_stride = 3\n",
    "conv1_pad = \"SAME\"\n",
    "conv1_dropout_rate = 0.25\n",
    "\n",
    "pool2_fmaps = conv1_fmaps\n",
    "\n",
    "conv3_fmaps = 48\n",
    "conv3_ksize = 3\n",
    "conv3_stride = 1\n",
    "conv3_pad = \"SAME\"\n",
    "conv3_dropout_rate = 0.25\n",
    "\n",
    "pool4_fmaps = conv3_fmaps\n",
    "\n",
    "conv5_fmaps = 64\n",
    "conv5_ksize = 2\n",
    "conv5_stride = 1\n",
    "conv5_pad = \"SAME\"\n",
    "conv5_dropout_rate = 0.5\n",
    "\n",
    "pool6_fmaps = conv5_fmaps\n",
    "\n",
    "n_fc1 = 24\n",
    "n_outputs = 2\n",
    "\n",
    "regularizer = tf.contrib.layers.l2_regularizer(scale=0.1)\n",
    "\n",
    "with tf.name_scope(\"inputs\"):\n",
    "    X = tf.placeholder(tf.float32, shape=[None, n_inputs], name=\"X\")\n",
    "    X_reshaped = tf.reshape(X, shape=[-1, height, width, channels])\n",
    "    y = tf.placeholder(tf.int32, shape=[None], name=\"y\")\n",
    "    training = tf.placeholder_with_default(False, shape=[], name='training')\n",
    "\n",
    "conv1 = tf.layers.conv2d(X_reshaped, filters=conv1_fmaps, kernel_size=conv1_ksize,\n",
    "                         strides=conv1_stride, padding=conv1_pad,\n",
    "                         activation=tf.nn.tanh, kernel_regularizer=regularizer, name=\"conv1\")\n",
    "\n",
    "with tf.name_scope(\"pool2\"):\n",
    "    pool2 = tf.nn.max_pool(conv1, ksize=[1, 2, 2, 1], strides=[1, 2, 2, 1], padding=\"VALID\")\n",
    "    pool2_drop = tf.layers.dropout(pool2, conv1_dropout_rate, training=training)\n",
    "\n",
    "conv3 = tf.layers.conv2d(pool2_drop, filters=conv3_fmaps, kernel_size=conv3_ksize,\n",
    "                         strides=conv3_stride, padding=conv3_pad,\n",
    "                         activation=tf.nn.tanh, name=\"conv3\")\n",
    "\n",
    "with tf.name_scope(\"pool4\"):\n",
    "    pool4 = tf.nn.max_pool(conv3, ksize=[1, 2, 2, 1], strides=[1, 2, 2, 1], padding=\"VALID\")\n",
    "    pool4_drop = tf.layers.dropout(pool4, conv3_dropout_rate, training=training)\n",
    "\n",
    "conv5 = tf.layers.conv2d(pool4_drop, filters=conv5_fmaps, kernel_size=conv5_ksize,\n",
    "                         strides=conv5_stride, padding=conv5_pad,\n",
    "                         activation=tf.nn.tanh, name=\"conv5\")\n",
    "\n",
    "with tf.name_scope(\"pool6\"):\n",
    "    pool6 = tf.nn.max_pool(conv5, ksize=[1, 2, 2, 1], strides=[1, 2, 2, 1], padding=\"VALID\")\n",
    "    pool6_flat = tf.reshape(pool6, shape=[-1, pool6_fmaps * 20 * 21])\n",
    "    pool6_flat_drop = tf.layers.dropout(pool6_flat, conv5_dropout_rate, training=training)      \n",
    "       \n",
    "with tf.name_scope(\"fc1\"):\n",
    "    fc1 = tf.layers.dense(pool6_flat_drop, n_fc1, activation=tf.nn.tanh, kernel_regularizer=regularizer, name=\"fc1\")\n",
    "\n",
    "with tf.name_scope(\"output\"):\n",
    "    logits = tf.layers.dense(fc1, n_outputs, name=\"output\")\n",
    "    Y_proba = tf.nn.softmax(logits, name=\"Y_proba\")\n",
    "\n",
    "with tf.name_scope(\"train\"):\n",
    "    xentropy = tf.nn.sparse_softmax_cross_entropy_with_logits(logits=logits, labels=y)\n",
    "    l2_loss = tf.losses.get_regularization_loss()\n",
    "    loss = tf.reduce_mean(xentropy) + l2_loss\n",
    "    optimizer = tf.train.AdamOptimizer(learning_rate=0.0001)\n",
    "    training_op = optimizer.minimize(loss)\n",
    "\n",
    "with tf.name_scope(\"eval\"):\n",
    "    correct = tf.nn.in_top_k(logits, y, 1)\n",
    "    accuracy = tf.reduce_mean(tf.cast(correct, tf.float32))\n",
    "\n",
    "with tf.name_scope(\"init_and_save\"):\n",
    "    init = tf.global_variables_initializer()\n",
    "    saver = tf.train.Saver()"
   ]
  },
  {
   "cell_type": "code",
   "execution_count": 273,
   "metadata": {},
   "outputs": [],
   "source": [
    "# Sets the number of epochs and batch size\n",
    "n_iterations_per_epoch = len(X_train_fold) // batch_size"
   ]
  },
  {
   "cell_type": "code",
   "execution_count": 274,
   "metadata": {
    "scrolled": true
   },
   "outputs": [
    {
     "data": {
      "text/plain": [
       "60"
      ]
     },
     "execution_count": 274,
     "metadata": {},
     "output_type": "execute_result"
    }
   ],
   "source": [
    "n_iterations_per_epoch"
   ]
  },
  {
   "cell_type": "code",
   "execution_count": 275,
   "metadata": {},
   "outputs": [
    {
     "name": "stdout",
     "output_type": "stream",
     "text": [
      "Start Time:  2019-03-07 22:41:18.896112 \n",
      "\n",
      "Epoch 0\n",
      "Last Batch accuracy:  50.00 %, Training accuracy:  51.00 %, Validation accuracy:  44.91 %\n",
      "Time training up to Epoch  0 :  0  hours,  0  minutes, and  47  seconds.\n",
      "Epoch 1\n",
      "Last Batch accuracy:  53.00 %, Training accuracy:  54.18 %, Validation accuracy:  44.74 %\n",
      "Time training up to Epoch  1 :  0  hours,  1  minutes, and  33  seconds.\n",
      "Epoch 2\n",
      "Last Batch accuracy:  67.00 %, Training accuracy:  61.74 %, Validation accuracy:  48.77 %\n",
      "Time training up to Epoch  2 :  0  hours,  2  minutes, and  19  seconds.\n",
      "Epoch 3\n",
      "Last Batch accuracy:  58.00 %, Training accuracy:  63.98 %, Validation accuracy:  51.05 %\n",
      "Time training up to Epoch  3 :  0  hours,  3  minutes, and  5  seconds.\n",
      "Epoch 4\n",
      "Last Batch accuracy:  70.00 %, Training accuracy:  67.76 %, Validation accuracy:  47.37 %\n",
      "Time training up to Epoch  4 :  0  hours,  3  minutes, and  51  seconds.\n",
      "Epoch 5\n",
      "Last Batch accuracy:  71.00 %, Training accuracy:  70.07 %, Validation accuracy:  51.05 %\n",
      "Time training up to Epoch  5 :  0  hours,  4  minutes, and  37  seconds.\n",
      "Epoch 6\n",
      "Last Batch accuracy:  73.00 %, Training accuracy:  69.52 %, Validation accuracy:  45.61 %\n",
      "Time training up to Epoch  6 :  0  hours,  5  minutes, and  23  seconds.\n",
      "Epoch 7\n",
      "Last Batch accuracy:  75.00 %, Training accuracy:  72.29 %, Validation accuracy:  53.33 %\n",
      "Time training up to Epoch  7 :  0  hours,  6  minutes, and  9  seconds.\n",
      "Epoch 8\n",
      "Last Batch accuracy:  77.00 %, Training accuracy:  72.20 %, Validation accuracy:  49.82 %\n",
      "Time training up to Epoch  8 :  0  hours,  6  minutes, and  55  seconds.\n",
      "Epoch 9\n",
      "Last Batch accuracy:  81.00 %, Training accuracy:  73.09 %, Validation accuracy:  47.02 %\n",
      "Time training up to Epoch  9 :  0  hours,  7  minutes, and  41  seconds.\n",
      "Epoch 10\n",
      "Last Batch accuracy:  68.00 %, Training accuracy:  74.05 %, Validation accuracy:  55.79 %\n",
      "Time training up to Epoch  10 :  0  hours,  8  minutes, and  27  seconds.\n",
      "Epoch 11\n",
      "Last Batch accuracy:  76.00 %, Training accuracy:  77.81 %, Validation accuracy:  52.98 %\n",
      "Time training up to Epoch  11 :  0  hours,  9  minutes, and  13  seconds.\n",
      "Epoch 12\n",
      "Last Batch accuracy:  76.00 %, Training accuracy:  78.21 %, Validation accuracy:  50.35 %\n",
      "Time training up to Epoch  12 :  0  hours,  9  minutes, and  59  seconds.\n",
      "Epoch 13\n",
      "Last Batch accuracy:  79.00 %, Training accuracy:  75.97 %, Validation accuracy:  44.91 %\n",
      "Time training up to Epoch  13 :  0  hours,  10  minutes, and  45  seconds.\n",
      "Epoch 14\n",
      "Last Batch accuracy:  73.00 %, Training accuracy:  74.57 %, Validation accuracy:  38.95 %\n",
      "Time training up to Epoch  14 :  0  hours,  11  minutes, and  31  seconds.\n",
      "Epoch 15\n",
      "Last Batch accuracy:  74.00 %, Training accuracy:  76.04 %, Validation accuracy:  46.32 %\n",
      "Time training up to Epoch  15 :  0  hours,  12  minutes, and  17  seconds.\n",
      "Epoch 16\n",
      "Last Batch accuracy:  83.00 %, Training accuracy:  80.54 %, Validation accuracy:  48.07 %\n",
      "Time training up to Epoch  16 :  0  hours,  13  minutes, and  3  seconds.\n",
      "Epoch 17\n",
      "Last Batch accuracy:  80.00 %, Training accuracy:  81.66 %, Validation accuracy:  50.53 %\n",
      "Time training up to Epoch  17 :  0  hours,  13  minutes, and  49  seconds.\n",
      "Epoch 18\n",
      "Last Batch accuracy:  85.00 %, Training accuracy:  81.83 %, Validation accuracy:  52.98 %\n",
      "Time training up to Epoch  18 :  0  hours,  14  minutes, and  35  seconds.\n",
      "Epoch 19\n",
      "Last Batch accuracy:  84.00 %, Training accuracy:  81.17 %, Validation accuracy:  56.14 %\n",
      "Time training up to Epoch  19 :  0  hours,  15  minutes, and  21  seconds.\n",
      "Epoch 20\n",
      "Last Batch accuracy:  87.00 %, Training accuracy:  81.81 %, Validation accuracy:  56.49 %\n",
      "Time training up to Epoch  20 :  0  hours,  16  minutes, and  7  seconds.\n",
      "Epoch 21\n",
      "Last Batch accuracy:  82.00 %, Training accuracy:  83.45 %, Validation accuracy:  59.47 %\n",
      "Time training up to Epoch  21 :  0  hours,  16  minutes, and  53  seconds.\n",
      "Epoch 22\n",
      "Last Batch accuracy:  80.00 %, Training accuracy:  80.30 %, Validation accuracy:  50.70 %\n",
      "Time training up to Epoch  22 :  0  hours,  17  minutes, and  39  seconds.\n",
      "Epoch 23\n",
      "Last Batch accuracy:  81.00 %, Training accuracy:  81.05 %, Validation accuracy:  48.95 %\n",
      "Time training up to Epoch  23 :  0  hours,  18  minutes, and  24  seconds.\n",
      "Epoch 24\n",
      "Last Batch accuracy:  80.00 %, Training accuracy:  79.34 %, Validation accuracy:  56.14 %\n",
      "Time training up to Epoch  24 :  0  hours,  19  minutes, and  10  seconds.\n",
      "Epoch 25\n",
      "Last Batch accuracy:  82.00 %, Training accuracy:  82.34 %, Validation accuracy:  51.58 %\n",
      "Time training up to Epoch  25 :  0  hours,  19  minutes, and  56  seconds.\n",
      "Epoch 26\n",
      "Last Batch accuracy:  89.00 %, Training accuracy:  80.58 %, Validation accuracy:  36.32 %\n",
      "Time training up to Epoch  26 :  0  hours,  20  minutes, and  43  seconds.\n",
      "Epoch 27\n",
      "Last Batch accuracy:  85.00 %, Training accuracy:  83.95 %, Validation accuracy:  45.44 %\n",
      "Time training up to Epoch  27 :  0  hours,  21  minutes, and  29  seconds.\n",
      "Epoch 28\n",
      "Last Batch accuracy:  86.00 %, Training accuracy:  81.74 %, Validation accuracy:  55.26 %\n",
      "Time training up to Epoch  28 :  0  hours,  22  minutes, and  15  seconds.\n",
      "Epoch 29\n",
      "Last Batch accuracy:  90.00 %, Training accuracy:  81.83 %, Validation accuracy:  48.42 %\n",
      "Time training up to Epoch  29 :  0  hours,  23  minutes, and  0  seconds.\n",
      "\n",
      "Training Complete: 2019-03-07 23:04:20.403390\n"
     ]
    }
   ],
   "source": [
    "# Trains the CNN\n",
    "acc_train_mat_10f = []\n",
    "acc_valid_mat_10f = []\n",
    "\n",
    "y_pred_valid_mat_10f = []\n",
    "\n",
    "training_start_time = datetime.datetime.now()\n",
    "print(\"Start Time: \", training_start_time, \"\\n\")\n",
    "\n",
    "with tf.Session() as sess:\n",
    "    init.run()\n",
    "\n",
    "    for epoch in range(n_epochs):\n",
    "        y_train_pred = np.array([],dtype=np.int16)\n",
    "        print(\"Epoch\", epoch)\n",
    "        # \n",
    "        for iteration in range(n_iterations_per_epoch):\n",
    "            X_batch, y_batch = prepare_batch(X_train_fold, y_train_fold, batch_size)            \n",
    "            sess.run(training_op, feed_dict={X: X_batch, y: y_batch})\n",
    "        acc_batch = accuracy.eval(feed_dict={X: X_batch, y: y_batch})\n",
    "        # Finds the predicted values for the training set\n",
    "        for i in range(len((X_train_fold))):\n",
    "            X_train = normalize_max_train(X_train_fold[i])\n",
    "            z_pred_train = logits.eval(feed_dict={X: X_train})\n",
    "            y_pred_train = np.argmax(z_pred_train, axis=1)\n",
    "            y_train_pred = np.append(y_train_pred,y_pred_train)\n",
    "        acc_train = accuracy_score(y_train_fold, y_train_pred)\n",
    "        acc_val = accuracy.eval(feed_dict={X: X_valid_fold, y: y_valid_fold})\n",
    "        # Appends the network accuracy to a matrix for so we can evaluate performance over epoch\n",
    "        acc_train_mat_10f.append(acc_train)\n",
    "        acc_valid_mat_10f.append(acc_val)\n",
    "        # Finds the predicted values for the validation set\n",
    "        z_pred_valid = logits.eval(feed_dict={X: X_valid_fold, y: y_valid_fold})\n",
    "        y_pred_valid_10f = np.argmax(z_pred_valid, axis=1)\n",
    "        y_pred_valid_mat_10f.append(y_pred_valid_10f)\n",
    "        \n",
    "        training_duration_time = datetime.datetime.now()\n",
    "        training_duration = training_duration_time-training_start_time\n",
    "        training_hours, remainder = divmod(training_duration.seconds, 3600)\n",
    "        training_minutes, training_seconds = divmod(remainder,60)\n",
    "        print(\"Last Batch accuracy: \", \"{0:.2f}\".format(acc_batch*100),\n",
    "              \"%, Training accuracy: \", \"{0:.2f}\".format(acc_train*100),\n",
    "              \"%, Validation accuracy: \", \"{0:.2f}\".format(acc_val*100),\"%\")\n",
    "        print(\"Time training up to Epoch \",epoch,\": \",training_hours,\" hours, \", training_minutes,\n",
    "              \" minutes, and \", training_seconds, \" seconds.\")\n",
    "    save_path = saver.save(sess, \"./IB_maxdata_baseneta_100tanh_10fold_run1\")\n",
    "training_end_time = datetime.datetime.now()\n",
    "print('\\nTraining Complete:', training_end_time)"
   ]
  },
  {
   "cell_type": "code",
   "execution_count": 276,
   "metadata": {},
   "outputs": [
    {
     "name": "stdout",
     "output_type": "stream",
     "text": [
      "Tenth Patient Fold (Patient #9) of CV took 0  hours,  23  minutes, and  1  seconds to train.\n",
      "\n"
     ]
    }
   ],
   "source": [
    "training_duration = training_end_time-training_start_time\n",
    "duration_hours, duration_remainder = divmod(training_duration.seconds, 3600)\n",
    "duration_minutes, duration_seconds = divmod(duration_remainder,60)\n",
    "print(\"Tenth Patient Fold (Patient #9) of CV took\",duration_hours,\" hours, \", duration_minutes,\n",
    "              \" minutes, and \", duration_seconds, \" seconds to train.\\n\")"
   ]
  },
  {
   "cell_type": "code",
   "execution_count": 277,
   "metadata": {},
   "outputs": [
    {
     "name": "stdout",
     "output_type": "stream",
     "text": [
      "Segment Validation Statistics, Tenth Patient Fold:\n",
      "Accuracy:\t\t 0.4842105263157895 \n",
      "Precision:\t\t 0.5892857142857143\n",
      "Recall:\t\t\t 0.10855263157894737 \n",
      "F1 Score:\t\t 0.18333333333333335\n"
     ]
    }
   ],
   "source": [
    "valid_accuracy_10f = accuracy_score(y_valid_fold, y_pred_valid_10f)\n",
    "valid_precision_10f = precision_score(y_valid_fold, y_pred_valid_10f)\n",
    "valid_recall_10f = recall_score(y_valid_fold, y_pred_valid_10f)\n",
    "valid_f1_10f = f1_score(y_valid_fold, y_pred_valid_10f)\n",
    "\n",
    "print(\"Segment Validation Statistics, Tenth Patient Fold:\\nAccuracy:\\t\\t\",valid_accuracy_10f,\n",
    "      \"\\nPrecision:\\t\\t\",valid_precision_10f)\n",
    "print(\"Recall:\\t\\t\\t\",valid_recall_10f,\"\\nF1 Score:\\t\\t\",valid_f1_10f)"
   ]
  },
  {
   "cell_type": "code",
   "execution_count": 278,
   "metadata": {},
   "outputs": [
    {
     "name": "stdout",
     "output_type": "stream",
     "text": [
      "Tenth Patient Fold Validation Confusion Matrix:\n",
      "                   pred:Leasional  pred:Nonleasional\n",
      "true:Leasional                243                 23\n",
      "true:Nonleasional             271                 33\n"
     ]
    }
   ],
   "source": [
    "valid_label = np.unique(y_valid_fold)\n",
    "validation_cm_10f = confusion_matrix(y_valid_fold, y_pred_valid_10f, labels=valid_label) \n",
    "\n",
    "print(\"Tenth Patient Fold Validation Confusion Matrix:\")\n",
    "print(pd.DataFrame(validation_cm_10f, index=['true:Leasional', 'true:Nonleasional'], \n",
    "                   columns=['pred:Leasional', 'pred:Nonleasional']))"
   ]
  },
  {
   "cell_type": "code",
   "execution_count": 279,
   "metadata": {},
   "outputs": [],
   "source": [
    "y_valid_cube_pred_10fold = group_hypercube(y_pred_valid_10f, cube_threshold, \n",
    "                                           validation_10_key, total_bands)"
   ]
  },
  {
   "cell_type": "code",
   "execution_count": 280,
   "metadata": {},
   "outputs": [
    {
     "name": "stdout",
     "output_type": "stream",
     "text": [
      "Validation Model Hypercube Statistics, Tenth Patient Fold:\n",
      "Hypercube Accuracy:\t\t 0.4666666666666667 \n",
      "Hypercube Precision:\t\t 0.0\n",
      "Hypercube Recall: \t\t 0.0 \n",
      "Hypercube F1 Score:\t\t 0.0\n"
     ]
    },
    {
     "name": "stderr",
     "output_type": "stream",
     "text": [
      "C:\\Users\\005375049\\AppData\\Roaming\\Python\\Python35\\site-packages\\sklearn\\metrics\\classification.py:1143: UndefinedMetricWarning: Precision is ill-defined and being set to 0.0 due to no predicted samples.\n",
      "  'precision', 'predicted', average, warn_for)\n",
      "C:\\Users\\005375049\\AppData\\Roaming\\Python\\Python35\\site-packages\\sklearn\\metrics\\classification.py:1143: UndefinedMetricWarning: F-score is ill-defined and being set to 0.0 due to no predicted samples.\n",
      "  'precision', 'predicted', average, warn_for)\n"
     ]
    }
   ],
   "source": [
    "valid_accuracy_cube_10f = accuracy_score(y_valid_cube, y_valid_cube_pred_10fold)\n",
    "valid_precision_cube_10f = precision_score(y_valid_cube, y_valid_cube_pred_10fold)\n",
    "valid_recall_cube_10f = recall_score(y_valid_cube, y_valid_cube_pred_10fold)\n",
    "valid_f1_cube_10f = f1_score(y_valid_cube, y_valid_cube_pred_10fold)\n",
    "\n",
    "print(\"Validation Model Hypercube Statistics, Tenth Patient Fold:\\nHypercube Accuracy:\\t\\t\",valid_accuracy_cube_10f,\n",
    "      \"\\nHypercube Precision:\\t\\t\",valid_precision_cube_10f)\n",
    "print(\"Hypercube Recall: \\t\\t\",valid_recall_cube_10f,\"\\nHypercube F1 Score:\\t\\t\",valid_f1_cube_10f)"
   ]
  },
  {
   "cell_type": "code",
   "execution_count": 281,
   "metadata": {},
   "outputs": [
    {
     "name": "stdout",
     "output_type": "stream",
     "text": [
      "Tenth Patient Fold Validation Confusion Matrix (Cube):\n",
      "                   pred:Leasional  pred:Nonleasional\n",
      "true:Leasional                  7                  0\n",
      "true:Nonleasional               8                  0\n"
     ]
    }
   ],
   "source": [
    "valid_cube_label = np.unique(y_valid_cube)\n",
    "validation_cm_cube_10f = confusion_matrix(y_valid_cube, y_valid_cube_pred_10fold, labels=valid_cube_label) \n",
    "\n",
    "print(\"Tenth Patient Fold Validation Confusion Matrix (Cube):\")\n",
    "print(pd.DataFrame(validation_cm_cube_10f, index=['true:Leasional', 'true:Nonleasional'], \n",
    "                   columns=['pred:Leasional', 'pred:Nonleasional']))"
   ]
  },
  {
   "cell_type": "code",
   "execution_count": 282,
   "metadata": {},
   "outputs": [],
   "source": [
    "avg_v_acc_10f, avg_v_prec_10f, avg_v_re_10f, avg_v_f1_10f, avg_v_cm_10f = average_runs(averaged_runs,\n",
    "                                                                                       y_pred_valid_mat_10f, y_valid_fold)"
   ]
  },
  {
   "cell_type": "code",
   "execution_count": 283,
   "metadata": {},
   "outputs": [
    {
     "name": "stdout",
     "output_type": "stream",
     "text": [
      "Average (20 Epochs) Segment Validation Statistics, Tenth Patient Fold:\n",
      "Accuracy:\t\t 0.5021929824561402 \n",
      "Precision:\t\t 0.6040408142999868\n",
      "Recall:\t\t\t 0.26628289473684214 \n",
      "F1 Score:\t\t 0.34752007177965594\n"
     ]
    }
   ],
   "source": [
    "print(\"Average (20 Epochs) Segment Validation Statistics, Tenth Patient Fold:\\nAccuracy:\\t\\t\",avg_v_acc_10f,\n",
    "      \"\\nPrecision:\\t\\t\",avg_v_prec_10f)\n",
    "print(\"Recall:\\t\\t\\t\",avg_v_re_10f,\"\\nF1 Score:\\t\\t\",avg_v_f1_10f)"
   ]
  },
  {
   "cell_type": "code",
   "execution_count": 284,
   "metadata": {},
   "outputs": [
    {
     "data": {
      "text/html": [
       "<div>\n",
       "<style scoped>\n",
       "    .dataframe tbody tr th:only-of-type {\n",
       "        vertical-align: middle;\n",
       "    }\n",
       "\n",
       "    .dataframe tbody tr th {\n",
       "        vertical-align: top;\n",
       "    }\n",
       "\n",
       "    .dataframe thead th {\n",
       "        text-align: right;\n",
       "    }\n",
       "</style>\n",
       "<table border=\"1\" class=\"dataframe\">\n",
       "  <thead>\n",
       "    <tr style=\"text-align: right;\">\n",
       "      <th></th>\n",
       "      <th>pred:Leasional</th>\n",
       "      <th>pred:Nonleasional</th>\n",
       "    </tr>\n",
       "  </thead>\n",
       "  <tbody>\n",
       "    <tr>\n",
       "      <th>true:Leasional</th>\n",
       "      <td>205.30</td>\n",
       "      <td>60.70</td>\n",
       "    </tr>\n",
       "    <tr>\n",
       "      <th>true:Nonleasional</th>\n",
       "      <td>223.05</td>\n",
       "      <td>80.95</td>\n",
       "    </tr>\n",
       "  </tbody>\n",
       "</table>\n",
       "</div>"
      ],
      "text/plain": [
       "                   pred:Leasional  pred:Nonleasional\n",
       "true:Leasional             205.30              60.70\n",
       "true:Nonleasional          223.05              80.95"
      ]
     },
     "execution_count": 284,
     "metadata": {},
     "output_type": "execute_result"
    }
   ],
   "source": [
    "avgvalid_cm_10f =  avg_v_cm_10f.groupby(avg_v_cm_10f.index)\n",
    "\n",
    "avgvalid_cm_10f.mean()"
   ]
  },
  {
   "cell_type": "code",
   "execution_count": 285,
   "metadata": {},
   "outputs": [
    {
     "name": "stderr",
     "output_type": "stream",
     "text": [
      "C:\\Users\\005375049\\AppData\\Roaming\\Python\\Python35\\site-packages\\sklearn\\metrics\\classification.py:1143: UndefinedMetricWarning: Precision is ill-defined and being set to 0.0 due to no predicted samples.\n",
      "  'precision', 'predicted', average, warn_for)\n",
      "C:\\Users\\005375049\\AppData\\Roaming\\Python\\Python35\\site-packages\\sklearn\\metrics\\classification.py:1143: UndefinedMetricWarning: F-score is ill-defined and being set to 0.0 due to no predicted samples.\n",
      "  'precision', 'predicted', average, warn_for)\n"
     ]
    },
    {
     "name": "stdout",
     "output_type": "stream",
     "text": [
      "Average (20 Epochs) Hypercube Validation Statistics, Tenth Patient Fold:\n",
      "Hypercube Accuracy:\t\t 0.5466666666666666 \n",
      "Hypercube Precision:\t\t 0.6157936507936508\n",
      "Hypercube Recall:\t\t 0.2625 \n",
      "Hypercube F1 Score:\t\t 0.342624760860055\n"
     ]
    }
   ],
   "source": [
    "avg_vc_acc_10f, avg_vc_prec_10f, avg_vc_re_10f, avg_vc_f1_10f, avg_vc_cm_10f = average_group_runs(averaged_runs,\n",
    "                                                                                                  y_valid_cube, \n",
    "                                                                                                  y_pred_valid_mat_10f, \n",
    "                                                                                                  cube_threshold, \n",
    "                                                                                                  validation_10_key, \n",
    "                                                                                                  total_bands)\n",
    "print(\"Average (20 Epochs) Hypercube Validation Statistics, Tenth Patient Fold:\\nHypercube Accuracy:\\t\\t\",avg_vc_acc_10f,\n",
    "      \"\\nHypercube Precision:\\t\\t\",avg_vc_prec_10f)\n",
    "print(\"Hypercube Recall:\\t\\t\",avg_vc_re_10f,\"\\nHypercube F1 Score:\\t\\t\",avg_vc_f1_10f)\n"
   ]
  },
  {
   "cell_type": "code",
   "execution_count": 286,
   "metadata": {},
   "outputs": [
    {
     "data": {
      "text/html": [
       "<div>\n",
       "<style scoped>\n",
       "    .dataframe tbody tr th:only-of-type {\n",
       "        vertical-align: middle;\n",
       "    }\n",
       "\n",
       "    .dataframe tbody tr th {\n",
       "        vertical-align: top;\n",
       "    }\n",
       "\n",
       "    .dataframe thead th {\n",
       "        text-align: right;\n",
       "    }\n",
       "</style>\n",
       "<table border=\"1\" class=\"dataframe\">\n",
       "  <thead>\n",
       "    <tr style=\"text-align: right;\">\n",
       "      <th></th>\n",
       "      <th>pred:Leasional</th>\n",
       "      <th>pred:Nonleasional</th>\n",
       "    </tr>\n",
       "  </thead>\n",
       "  <tbody>\n",
       "    <tr>\n",
       "      <th>true:Leasional</th>\n",
       "      <td>6.1</td>\n",
       "      <td>0.9</td>\n",
       "    </tr>\n",
       "    <tr>\n",
       "      <th>true:Nonleasional</th>\n",
       "      <td>5.9</td>\n",
       "      <td>2.1</td>\n",
       "    </tr>\n",
       "  </tbody>\n",
       "</table>\n",
       "</div>"
      ],
      "text/plain": [
       "                   pred:Leasional  pred:Nonleasional\n",
       "true:Leasional                6.1                0.9\n",
       "true:Nonleasional             5.9                2.1"
      ]
     },
     "execution_count": 286,
     "metadata": {},
     "output_type": "execute_result"
    }
   ],
   "source": [
    "avgvalid_cm_cube_10f =  avg_vc_cm_10f.groupby(avg_vc_cm_10f.index)\n",
    "\n",
    "avgvalid_cm_cube_10f.mean()"
   ]
  },
  {
   "cell_type": "code",
   "execution_count": 287,
   "metadata": {
    "scrolled": true
   },
   "outputs": [
    {
     "data": {
      "image/png": "[encoded data removed]",
      "text/plain": [
       "<Figure size 432x288 with 1 Axes>"
      ]
     },
     "metadata": {
      "needs_background": "light"
     },
     "output_type": "display_data"
    }
   ],
   "source": [
    "# Plot of Epochs vs Training Accuracy\n",
    "\n",
    "plt.plot(np.arange(1,epoch+2),np.array(acc_train_mat_10f), '-v')\n",
    "plt.xlabel('Number of Epochs Run')\n",
    "plt.ylabel('Accuracy')\n",
    "plt.title('Fold 10 Training Accuracy vs. Number of Epochs')\n",
    "plt.xlim(left=-1);\n",
    "plt.ylim(top=1);\n",
    "plt.ylim(bottom=0);"
   ]
  },
  {
   "cell_type": "code",
   "execution_count": 288,
   "metadata": {},
   "outputs": [
    {
     "data": {
      "image/png": "[encoded data removed]",
      "text/plain": [
       "<Figure size 432x288 with 1 Axes>"
      ]
     },
     "metadata": {
      "needs_background": "light"
     },
     "output_type": "display_data"
    }
   ],
   "source": [
    "# Plot of Epochs vs Validation Accuracy\n",
    "\n",
    "plt.plot(np.arange(1,epoch+2),np.array(acc_valid_mat_10f), '-v')\n",
    "plt.xlabel('Number of Epochs Run')\n",
    "plt.ylabel('Accuracy')\n",
    "plt.title('Patient Fold 10 (Patient #9) Validation Accuracy vs. Number of Epochs')\n",
    "plt.xlim(left=-1);\n",
    "plt.ylim(top=1);\n",
    "plt.ylim(bottom=0);"
   ]
  },
  {
   "cell_type": "code",
   "execution_count": 289,
   "metadata": {},
   "outputs": [],
   "source": [
    "# Eleventh Patient (Patient 1)\n",
    "graph_seed = 42\n",
    "reset_graph(graph_seed)"
   ]
  },
  {
   "cell_type": "code",
   "execution_count": 290,
   "metadata": {},
   "outputs": [],
   "source": [
    "# Eleventh Validation Fold (Patient 1)\n",
    "X_valid_fold = X_sorted[validation_11]\n",
    "y_valid_fold = y_sorted[validation_11]"
   ]
  },
  {
   "cell_type": "code",
   "execution_count": 291,
   "metadata": {},
   "outputs": [
    {
     "data": {
      "text/plain": [
       "(190, 251502)"
      ]
     },
     "execution_count": 291,
     "metadata": {},
     "output_type": "execute_result"
    }
   ],
   "source": [
    "X_valid_fold.shape"
   ]
  },
  {
   "cell_type": "code",
   "execution_count": 292,
   "metadata": {},
   "outputs": [
    {
     "data": {
      "text/plain": [
       "(190,)"
      ]
     },
     "execution_count": 292,
     "metadata": {},
     "output_type": "execute_result"
    }
   ],
   "source": [
    "y_valid_fold.shape"
   ]
  },
  {
   "cell_type": "code",
   "execution_count": 293,
   "metadata": {},
   "outputs": [],
   "source": [
    "# Validation Cube for patient fold 11\n",
    "y_valid_cube = np.array([],dtype=np.int16)\n",
    "for cube in validation_11_key:\n",
    "    if cube.endswith('N'):\n",
    "        cube_class = 1\n",
    "    else:\n",
    "        cube_class = 0\n",
    "    y_valid_cube = np.append(y_valid_cube,cube_class)"
   ]
  },
  {
   "cell_type": "code",
   "execution_count": 294,
   "metadata": {},
   "outputs": [],
   "source": [
    "# Reset the training fold so the system memory is not overused\n",
    "X_train_fold = []"
   ]
  },
  {
   "cell_type": "code",
   "execution_count": 295,
   "metadata": {},
   "outputs": [],
   "source": [
    "# Eleventh Training Fold (Patients 13,10,9,6,3,2,14,5,8,12,4,7)\n",
    "X_train_fold = X_sorted[training_11]\n",
    "y_train_fold = y_sorted[training_11]"
   ]
  },
  {
   "cell_type": "code",
   "execution_count": 296,
   "metadata": {},
   "outputs": [
    {
     "data": {
      "text/plain": [
       "(6460, 251502)"
      ]
     },
     "execution_count": 296,
     "metadata": {},
     "output_type": "execute_result"
    }
   ],
   "source": [
    "X_train_fold.shape"
   ]
  },
  {
   "cell_type": "code",
   "execution_count": 297,
   "metadata": {},
   "outputs": [
    {
     "data": {
      "text/plain": [
       "(6460,)"
      ]
     },
     "execution_count": 297,
     "metadata": {},
     "output_type": "execute_result"
    }
   ],
   "source": [
    "y_train_fold.shape"
   ]
  },
  {
   "cell_type": "code",
   "execution_count": 298,
   "metadata": {},
   "outputs": [],
   "source": [
    "# Sets the Neural Network for the graph\n",
    "height = 501\n",
    "width = 502\n",
    "channels = 1\n",
    "n_inputs = height * width * channels\n",
    "\n",
    "\n",
    "conv1_fmaps = 24\n",
    "conv1_ksize = 5\n",
    "conv1_stride = 3\n",
    "conv1_pad = \"SAME\"\n",
    "conv1_dropout_rate = 0.25\n",
    "\n",
    "pool2_fmaps = conv1_fmaps\n",
    "\n",
    "conv3_fmaps = 48\n",
    "conv3_ksize = 3\n",
    "conv3_stride = 1\n",
    "conv3_pad = \"SAME\"\n",
    "conv3_dropout_rate = 0.25\n",
    "\n",
    "pool4_fmaps = conv3_fmaps\n",
    "\n",
    "conv5_fmaps = 64\n",
    "conv5_ksize = 2\n",
    "conv5_stride = 1\n",
    "conv5_pad = \"SAME\"\n",
    "conv5_dropout_rate = 0.5\n",
    "\n",
    "pool6_fmaps = conv5_fmaps\n",
    "\n",
    "n_fc1 = 24\n",
    "n_outputs = 2\n",
    "\n",
    "regularizer = tf.contrib.layers.l2_regularizer(scale=0.1)\n",
    "\n",
    "with tf.name_scope(\"inputs\"):\n",
    "    X = tf.placeholder(tf.float32, shape=[None, n_inputs], name=\"X\")\n",
    "    X_reshaped = tf.reshape(X, shape=[-1, height, width, channels])\n",
    "    y = tf.placeholder(tf.int32, shape=[None], name=\"y\")\n",
    "    training = tf.placeholder_with_default(False, shape=[], name='training')\n",
    "\n",
    "conv1 = tf.layers.conv2d(X_reshaped, filters=conv1_fmaps, kernel_size=conv1_ksize,\n",
    "                         strides=conv1_stride, padding=conv1_pad,\n",
    "                         activation=tf.nn.tanh, kernel_regularizer=regularizer, name=\"conv1\")\n",
    "\n",
    "with tf.name_scope(\"pool2\"):\n",
    "    pool2 = tf.nn.max_pool(conv1, ksize=[1, 2, 2, 1], strides=[1, 2, 2, 1], padding=\"VALID\")\n",
    "    pool2_drop = tf.layers.dropout(pool2, conv1_dropout_rate, training=training)\n",
    "\n",
    "conv3 = tf.layers.conv2d(pool2_drop, filters=conv3_fmaps, kernel_size=conv3_ksize,\n",
    "                         strides=conv3_stride, padding=conv3_pad,\n",
    "                         activation=tf.nn.tanh, name=\"conv3\")\n",
    "\n",
    "with tf.name_scope(\"pool4\"):\n",
    "    pool4 = tf.nn.max_pool(conv3, ksize=[1, 2, 2, 1], strides=[1, 2, 2, 1], padding=\"VALID\")\n",
    "    pool4_drop = tf.layers.dropout(pool4, conv3_dropout_rate, training=training)\n",
    "\n",
    "conv5 = tf.layers.conv2d(pool4_drop, filters=conv5_fmaps, kernel_size=conv5_ksize,\n",
    "                         strides=conv5_stride, padding=conv5_pad,\n",
    "                         activation=tf.nn.tanh, name=\"conv5\")\n",
    "\n",
    "with tf.name_scope(\"pool6\"):\n",
    "    pool6 = tf.nn.max_pool(conv5, ksize=[1, 2, 2, 1], strides=[1, 2, 2, 1], padding=\"VALID\")\n",
    "    pool6_flat = tf.reshape(pool6, shape=[-1, pool6_fmaps * 20 * 21])\n",
    "    pool6_flat_drop = tf.layers.dropout(pool6_flat, conv5_dropout_rate, training=training)      \n",
    "       \n",
    "with tf.name_scope(\"fc1\"):\n",
    "    fc1 = tf.layers.dense(pool6_flat_drop, n_fc1, activation=tf.nn.tanh, kernel_regularizer=regularizer, name=\"fc1\")\n",
    "\n",
    "with tf.name_scope(\"output\"):\n",
    "    logits = tf.layers.dense(fc1, n_outputs, name=\"output\")\n",
    "    Y_proba = tf.nn.softmax(logits, name=\"Y_proba\")\n",
    "\n",
    "with tf.name_scope(\"train\"):\n",
    "    xentropy = tf.nn.sparse_softmax_cross_entropy_with_logits(logits=logits, labels=y)\n",
    "    l2_loss = tf.losses.get_regularization_loss()\n",
    "    loss = tf.reduce_mean(xentropy) + l2_loss\n",
    "    optimizer = tf.train.AdamOptimizer(learning_rate=0.0001)\n",
    "    training_op = optimizer.minimize(loss)\n",
    "\n",
    "with tf.name_scope(\"eval\"):\n",
    "    correct = tf.nn.in_top_k(logits, y, 1)\n",
    "    accuracy = tf.reduce_mean(tf.cast(correct, tf.float32))\n",
    "\n",
    "with tf.name_scope(\"init_and_save\"):\n",
    "    init = tf.global_variables_initializer()\n",
    "    saver = tf.train.Saver()"
   ]
  },
  {
   "cell_type": "code",
   "execution_count": 299,
   "metadata": {},
   "outputs": [],
   "source": [
    "# Sets the number of epochs and batch size\n",
    "n_iterations_per_epoch = len(X_train_fold) // batch_size"
   ]
  },
  {
   "cell_type": "code",
   "execution_count": 300,
   "metadata": {
    "scrolled": true
   },
   "outputs": [
    {
     "data": {
      "text/plain": [
       "64"
      ]
     },
     "execution_count": 300,
     "metadata": {},
     "output_type": "execute_result"
    }
   ],
   "source": [
    "n_iterations_per_epoch"
   ]
  },
  {
   "cell_type": "code",
   "execution_count": 301,
   "metadata": {},
   "outputs": [
    {
     "name": "stdout",
     "output_type": "stream",
     "text": [
      "Start Time:  2019-03-07 23:05:17.216808 \n",
      "\n",
      "Epoch 0\n",
      "Last Batch accuracy:  50.00 %, Training accuracy:  51.55 %, Validation accuracy:  72.11 %\n",
      "Time training up to Epoch  0 :  0  hours,  0  minutes, and  49  seconds.\n",
      "Epoch 1\n",
      "Last Batch accuracy:  57.00 %, Training accuracy:  58.95 %, Validation accuracy:  87.37 %\n",
      "Time training up to Epoch  1 :  0  hours,  1  minutes, and  37  seconds.\n",
      "Epoch 2\n",
      "Last Batch accuracy:  62.00 %, Training accuracy:  57.38 %, Validation accuracy:  90.00 %\n",
      "Time training up to Epoch  2 :  0  hours,  2  minutes, and  25  seconds.\n",
      "Epoch 3\n",
      "Last Batch accuracy:  67.00 %, Training accuracy:  52.49 %, Validation accuracy:  74.21 %\n",
      "Time training up to Epoch  3 :  0  hours,  3  minutes, and  13  seconds.\n",
      "Epoch 4\n",
      "Last Batch accuracy:  63.00 %, Training accuracy:  54.32 %, Validation accuracy:  61.05 %\n",
      "Time training up to Epoch  4 :  0  hours,  4  minutes, and  2  seconds.\n",
      "Epoch 5\n",
      "Last Batch accuracy:  58.00 %, Training accuracy:  63.78 %, Validation accuracy:  49.47 %\n",
      "Time training up to Epoch  5 :  0  hours,  4  minutes, and  50  seconds.\n",
      "Epoch 6\n",
      "Last Batch accuracy:  68.00 %, Training accuracy:  68.96 %, Validation accuracy:  86.32 %\n",
      "Time training up to Epoch  6 :  0  hours,  5  minutes, and  38  seconds.\n",
      "Epoch 7\n",
      "Last Batch accuracy:  72.00 %, Training accuracy:  70.85 %, Validation accuracy:  66.84 %\n",
      "Time training up to Epoch  7 :  0  hours,  6  minutes, and  26  seconds.\n",
      "Epoch 8\n",
      "Last Batch accuracy:  73.00 %, Training accuracy:  68.75 %, Validation accuracy:  91.58 %\n",
      "Time training up to Epoch  8 :  0  hours,  7  minutes, and  14  seconds.\n",
      "Epoch 9\n",
      "Last Batch accuracy:  73.00 %, Training accuracy:  71.80 %, Validation accuracy:  81.58 %\n",
      "Time training up to Epoch  9 :  0  hours,  8  minutes, and  2  seconds.\n",
      "Epoch 10\n",
      "Last Batch accuracy:  80.00 %, Training accuracy:  73.65 %, Validation accuracy:  85.79 %\n",
      "Time training up to Epoch  10 :  0  hours,  8  minutes, and  50  seconds.\n",
      "Epoch 11\n",
      "Last Batch accuracy:  71.00 %, Training accuracy:  70.84 %, Validation accuracy:  61.58 %\n",
      "Time training up to Epoch  11 :  0  hours,  9  minutes, and  39  seconds.\n",
      "Epoch 12\n",
      "Last Batch accuracy:  75.00 %, Training accuracy:  76.80 %, Validation accuracy:  64.21 %\n",
      "Time training up to Epoch  12 :  0  hours,  10  minutes, and  27  seconds.\n",
      "Epoch 13\n",
      "Last Batch accuracy:  71.00 %, Training accuracy:  73.05 %, Validation accuracy:  41.05 %\n",
      "Time training up to Epoch  13 :  0  hours,  11  minutes, and  15  seconds.\n",
      "Epoch 14\n",
      "Last Batch accuracy:  82.00 %, Training accuracy:  76.27 %, Validation accuracy:  66.84 %\n",
      "Time training up to Epoch  14 :  0  hours,  12  minutes, and  3  seconds.\n",
      "Epoch 15\n",
      "Last Batch accuracy:  74.00 %, Training accuracy:  74.89 %, Validation accuracy:  79.47 %\n",
      "Time training up to Epoch  15 :  0  hours,  12  minutes, and  51  seconds.\n",
      "Epoch 16\n",
      "Last Batch accuracy:  82.00 %, Training accuracy:  78.79 %, Validation accuracy:  45.79 %\n",
      "Time training up to Epoch  16 :  0  hours,  13  minutes, and  39  seconds.\n",
      "Epoch 17\n",
      "Last Batch accuracy:  75.00 %, Training accuracy:  78.22 %, Validation accuracy:  68.95 %\n",
      "Time training up to Epoch  17 :  0  hours,  14  minutes, and  28  seconds.\n",
      "Epoch 18\n",
      "Last Batch accuracy:  86.00 %, Training accuracy:  81.04 %, Validation accuracy:  70.53 %\n",
      "Time training up to Epoch  18 :  0  hours,  15  minutes, and  16  seconds.\n",
      "Epoch 19\n",
      "Last Batch accuracy:  80.00 %, Training accuracy:  80.54 %, Validation accuracy:  64.74 %\n",
      "Time training up to Epoch  19 :  0  hours,  16  minutes, and  4  seconds.\n",
      "Epoch 20\n",
      "Last Batch accuracy:  79.00 %, Training accuracy:  79.20 %, Validation accuracy:  45.79 %\n",
      "Time training up to Epoch  20 :  0  hours,  16  minutes, and  52  seconds.\n",
      "Epoch 21\n",
      "Last Batch accuracy:  86.00 %, Training accuracy:  81.72 %, Validation accuracy:  72.63 %\n",
      "Time training up to Epoch  21 :  0  hours,  17  minutes, and  40  seconds.\n",
      "Epoch 22\n",
      "Last Batch accuracy:  71.00 %, Training accuracy:  71.22 %, Validation accuracy:  53.68 %\n",
      "Time training up to Epoch  22 :  0  hours,  18  minutes, and  28  seconds.\n",
      "Epoch 23\n",
      "Last Batch accuracy:  76.00 %, Training accuracy:  79.95 %, Validation accuracy:  74.74 %\n",
      "Time training up to Epoch  23 :  0  hours,  19  minutes, and  16  seconds.\n",
      "Epoch 24\n",
      "Last Batch accuracy:  89.00 %, Training accuracy:  82.63 %, Validation accuracy:  56.32 %\n",
      "Time training up to Epoch  24 :  0  hours,  20  minutes, and  4  seconds.\n",
      "Epoch 25\n",
      "Last Batch accuracy:  85.00 %, Training accuracy:  82.62 %, Validation accuracy:  61.58 %\n",
      "Time training up to Epoch  25 :  0  hours,  20  minutes, and  52  seconds.\n",
      "Epoch 26\n",
      "Last Batch accuracy:  78.00 %, Training accuracy:  79.60 %, Validation accuracy:  56.84 %\n",
      "Time training up to Epoch  26 :  0  hours,  21  minutes, and  40  seconds.\n",
      "Epoch 27\n",
      "Last Batch accuracy:  80.00 %, Training accuracy:  82.60 %, Validation accuracy:  62.11 %\n",
      "Time training up to Epoch  27 :  0  hours,  22  minutes, and  28  seconds.\n",
      "Epoch 28\n",
      "Last Batch accuracy:  79.00 %, Training accuracy:  81.24 %, Validation accuracy:  72.63 %\n",
      "Time training up to Epoch  28 :  0  hours,  23  minutes, and  16  seconds.\n",
      "Epoch 29\n",
      "Last Batch accuracy:  88.00 %, Training accuracy:  84.18 %, Validation accuracy:  72.63 %\n",
      "Time training up to Epoch  29 :  0  hours,  24  minutes, and  4  seconds.\n",
      "\n",
      "Training Complete: 2019-03-07 23:29:22.504884\n"
     ]
    }
   ],
   "source": [
    "# Trains the CNN\n",
    "acc_train_mat_11f = []\n",
    "acc_valid_mat_11f = []\n",
    "\n",
    "y_pred_valid_mat_11f = []\n",
    "\n",
    "training_start_time = datetime.datetime.now()\n",
    "print(\"Start Time: \", training_start_time, \"\\n\")\n",
    "\n",
    "with tf.Session() as sess:\n",
    "    init.run()\n",
    "\n",
    "    for epoch in range(n_epochs):\n",
    "        y_train_pred = np.array([],dtype=np.int16)\n",
    "        print(\"Epoch\", epoch)\n",
    "        # \n",
    "        for iteration in range(n_iterations_per_epoch):\n",
    "            X_batch, y_batch = prepare_batch(X_train_fold, y_train_fold, batch_size)            \n",
    "            sess.run(training_op, feed_dict={X: X_batch, y: y_batch})\n",
    "        acc_batch = accuracy.eval(feed_dict={X: X_batch, y: y_batch})\n",
    "        # Finds the predicted values for the training set\n",
    "        for i in range(len((X_train_fold))):\n",
    "            X_train = normalize_max_train(X_train_fold[i])\n",
    "            z_pred_train = logits.eval(feed_dict={X: X_train})\n",
    "            y_pred_train = np.argmax(z_pred_train, axis=1)\n",
    "            y_train_pred = np.append(y_train_pred,y_pred_train)\n",
    "        acc_train = accuracy_score(y_train_fold, y_train_pred)\n",
    "        acc_val = accuracy.eval(feed_dict={X: X_valid_fold, y: y_valid_fold})\n",
    "        # Appends the network accuracy to a matrix for so we can evaluate performance over epoch\n",
    "        acc_train_mat_11f.append(acc_train)\n",
    "        acc_valid_mat_11f.append(acc_val)\n",
    "        # Finds the predicted values for the validation set\n",
    "        z_pred_valid = logits.eval(feed_dict={X: X_valid_fold, y: y_valid_fold})\n",
    "        y_pred_valid_11f = np.argmax(z_pred_valid, axis=1)\n",
    "        y_pred_valid_mat_11f.append(y_pred_valid_11f)\n",
    "        \n",
    "        training_duration_time = datetime.datetime.now()\n",
    "        training_duration = training_duration_time-training_start_time\n",
    "        training_hours, remainder = divmod(training_duration.seconds, 3600)\n",
    "        training_minutes, training_seconds = divmod(remainder,60)\n",
    "        print(\"Last Batch accuracy: \", \"{0:.2f}\".format(acc_batch*100),\n",
    "              \"%, Training accuracy: \", \"{0:.2f}\".format(acc_train*100),\n",
    "              \"%, Validation accuracy: \", \"{0:.2f}\".format(acc_val*100),\"%\")\n",
    "        print(\"Time training up to Epoch \",epoch,\": \",training_hours,\" hours, \", training_minutes,\n",
    "              \" minutes, and \", training_seconds, \" seconds.\")\n",
    "    save_path = saver.save(sess, \"./IB_maxdata_baseneta_100tanh_11fold_run1\")\n",
    "training_end_time = datetime.datetime.now()\n",
    "print('\\nTraining Complete:', training_end_time)"
   ]
  },
  {
   "cell_type": "code",
   "execution_count": 302,
   "metadata": {},
   "outputs": [
    {
     "name": "stdout",
     "output_type": "stream",
     "text": [
      "Eleventh Patient Fold (Patient #1) of CV took 0  hours,  24  minutes, and  5  seconds to train.\n",
      "\n"
     ]
    }
   ],
   "source": [
    "training_duration = training_end_time-training_start_time\n",
    "duration_hours, duration_remainder = divmod(training_duration.seconds, 3600)\n",
    "duration_minutes, duration_seconds = divmod(duration_remainder,60)\n",
    "print(\"Eleventh Patient Fold (Patient #1) of CV took\",duration_hours,\" hours, \", duration_minutes,\n",
    "              \" minutes, and \", duration_seconds, \" seconds to train.\\n\")"
   ]
  },
  {
   "cell_type": "code",
   "execution_count": 303,
   "metadata": {},
   "outputs": [
    {
     "name": "stdout",
     "output_type": "stream",
     "text": [
      "Segment Validation Statistics, Eleventh Patient Fold:\n",
      "Accuracy:\t\t 0.7263157894736842 \n",
      "Precision:\t\t 0.59375\n",
      "Recall:\t\t\t 1.0 \n",
      "F1 Score:\t\t 0.7450980392156863\n"
     ]
    }
   ],
   "source": [
    "valid_accuracy_11f = accuracy_score(y_valid_fold, y_pred_valid_11f)\n",
    "valid_precision_11f = precision_score(y_valid_fold, y_pred_valid_11f)\n",
    "valid_recall_11f = recall_score(y_valid_fold, y_pred_valid_11f)\n",
    "valid_f1_11f = f1_score(y_valid_fold, y_pred_valid_11f)\n",
    "\n",
    "print(\"Segment Validation Statistics, Eleventh Patient Fold:\\nAccuracy:\\t\\t\",valid_accuracy_11f,\n",
    "      \"\\nPrecision:\\t\\t\",valid_precision_11f)\n",
    "print(\"Recall:\\t\\t\\t\",valid_recall_11f,\"\\nF1 Score:\\t\\t\",valid_f1_11f)"
   ]
  },
  {
   "cell_type": "code",
   "execution_count": 304,
   "metadata": {},
   "outputs": [
    {
     "name": "stdout",
     "output_type": "stream",
     "text": [
      "Eleventh Patient Fold Validation Confusion Matrix:\n",
      "                   pred:Leasional  pred:Nonleasional\n",
      "true:Leasional                 62                 52\n",
      "true:Nonleasional               0                 76\n"
     ]
    }
   ],
   "source": [
    "valid_label = np.unique(y_valid_fold)\n",
    "validation_cm_11f = confusion_matrix(y_valid_fold, y_pred_valid_11f, labels=valid_label) \n",
    "\n",
    "print(\"Eleventh Patient Fold Validation Confusion Matrix:\")\n",
    "print(pd.DataFrame(validation_cm_11f, index=['true:Leasional', 'true:Nonleasional'], \n",
    "                   columns=['pred:Leasional', 'pred:Nonleasional']))"
   ]
  },
  {
   "cell_type": "code",
   "execution_count": 305,
   "metadata": {},
   "outputs": [],
   "source": [
    "y_valid_cube_pred_11fold = group_hypercube(y_pred_valid_11f, cube_threshold, \n",
    "                                          validation_11_key, total_bands)"
   ]
  },
  {
   "cell_type": "code",
   "execution_count": 306,
   "metadata": {},
   "outputs": [
    {
     "name": "stdout",
     "output_type": "stream",
     "text": [
      "Validation Model Hypercube Statistics, Eleventh Patient Fold:\n",
      "Hypercube Accuracy:\t\t 0.8 \n",
      "Hypercube Precision:\t\t 0.6666666666666666\n",
      "Hypercube Recall: \t\t 1.0 \n",
      "Hypercube F1 Score:\t\t 0.8\n"
     ]
    }
   ],
   "source": [
    "valid_accuracy_cube_11f = accuracy_score(y_valid_cube, y_valid_cube_pred_11fold)\n",
    "valid_precision_cube_11f = precision_score(y_valid_cube, y_valid_cube_pred_11fold)\n",
    "valid_recall_cube_11f = recall_score(y_valid_cube, y_valid_cube_pred_11fold)\n",
    "valid_f1_cube_11f = f1_score(y_valid_cube, y_valid_cube_pred_11fold)\n",
    "\n",
    "print(\"Validation Model Hypercube Statistics, Eleventh Patient Fold:\\nHypercube Accuracy:\\t\\t\",valid_accuracy_cube_11f,\n",
    "      \"\\nHypercube Precision:\\t\\t\",valid_precision_cube_11f)\n",
    "print(\"Hypercube Recall: \\t\\t\",valid_recall_cube_11f,\"\\nHypercube F1 Score:\\t\\t\",valid_f1_cube_11f)"
   ]
  },
  {
   "cell_type": "code",
   "execution_count": 307,
   "metadata": {},
   "outputs": [
    {
     "name": "stdout",
     "output_type": "stream",
     "text": [
      "Eleventh Patient Fold Validation Confusion Matrix (Cube):\n",
      "                   pred:Leasional  pred:Nonleasional\n",
      "true:Leasional                  2                  1\n",
      "true:Nonleasional               0                  2\n"
     ]
    }
   ],
   "source": [
    "valid_cube_label = np.unique(y_valid_cube)\n",
    "validation_cm_cube_11f = confusion_matrix(y_valid_cube, y_valid_cube_pred_11fold, labels=valid_cube_label) \n",
    "\n",
    "print(\"Eleventh Patient Fold Validation Confusion Matrix (Cube):\")\n",
    "print(pd.DataFrame(validation_cm_cube_11f, index=['true:Leasional', 'true:Nonleasional'], \n",
    "                   columns=['pred:Leasional', 'pred:Nonleasional']))"
   ]
  },
  {
   "cell_type": "code",
   "execution_count": 308,
   "metadata": {},
   "outputs": [],
   "source": [
    "avg_v_acc_11f, avg_v_prec_11f, avg_v_re_11f, avg_v_f1_11f, avg_v_cm_11f = average_runs(averaged_runs, \n",
    "                                                                                       y_pred_valid_mat_11f, y_valid_fold)"
   ]
  },
  {
   "cell_type": "code",
   "execution_count": 309,
   "metadata": {},
   "outputs": [
    {
     "name": "stdout",
     "output_type": "stream",
     "text": [
      "Average (20 Epochs) Segment Validation Statistics, Eleventh Patient Fold:\n",
      "Accuracy:\t\t 0.6434210526315791 \n",
      "Precision:\t\t 0.5416952103969505\n",
      "Recall:\t\t\t 0.9901315789473685 \n",
      "F1 Score:\t\t 0.6965604421800968\n"
     ]
    }
   ],
   "source": [
    "print(\"Average (20 Epochs) Segment Validation Statistics, Eleventh Patient Fold:\\nAccuracy:\\t\\t\",avg_v_acc_11f,\n",
    "      \"\\nPrecision:\\t\\t\",avg_v_prec_11f)\n",
    "print(\"Recall:\\t\\t\\t\",avg_v_re_11f,\"\\nF1 Score:\\t\\t\",avg_v_f1_11f)"
   ]
  },
  {
   "cell_type": "code",
   "execution_count": 310,
   "metadata": {},
   "outputs": [
    {
     "data": {
      "text/html": [
       "<div>\n",
       "<style scoped>\n",
       "    .dataframe tbody tr th:only-of-type {\n",
       "        vertical-align: middle;\n",
       "    }\n",
       "\n",
       "    .dataframe tbody tr th {\n",
       "        vertical-align: top;\n",
       "    }\n",
       "\n",
       "    .dataframe thead th {\n",
       "        text-align: right;\n",
       "    }\n",
       "</style>\n",
       "<table border=\"1\" class=\"dataframe\">\n",
       "  <thead>\n",
       "    <tr style=\"text-align: right;\">\n",
       "      <th></th>\n",
       "      <th>pred:Leasional</th>\n",
       "      <th>pred:Nonleasional</th>\n",
       "    </tr>\n",
       "  </thead>\n",
       "  <tbody>\n",
       "    <tr>\n",
       "      <th>true:Leasional</th>\n",
       "      <td>47.00</td>\n",
       "      <td>67.00</td>\n",
       "    </tr>\n",
       "    <tr>\n",
       "      <th>true:Nonleasional</th>\n",
       "      <td>0.75</td>\n",
       "      <td>75.25</td>\n",
       "    </tr>\n",
       "  </tbody>\n",
       "</table>\n",
       "</div>"
      ],
      "text/plain": [
       "                   pred:Leasional  pred:Nonleasional\n",
       "true:Leasional              47.00              67.00\n",
       "true:Nonleasional            0.75              75.25"
      ]
     },
     "execution_count": 310,
     "metadata": {},
     "output_type": "execute_result"
    }
   ],
   "source": [
    "avgvalid_cm_11f =  avg_v_cm_11f.groupby(avg_v_cm_11f.index)\n",
    "\n",
    "avgvalid_cm_11f.mean()"
   ]
  },
  {
   "cell_type": "code",
   "execution_count": 311,
   "metadata": {},
   "outputs": [
    {
     "name": "stdout",
     "output_type": "stream",
     "text": [
      "Average (20 Epochs) Hypercube Validation Statistics, Eleventh Patient Fold:\n",
      "Hypercube Accuracy:\t\t 0.67 \n",
      "Hypercube Precision:\t\t 0.5883333333333333\n",
      "Hypercube Recall:\t\t 1.0 \n",
      "Hypercube F1 Score:\t\t 0.7276190476190476\n"
     ]
    }
   ],
   "source": [
    "avg_vc_acc_11f, avg_vc_prec_11f, avg_vc_re_11f, avg_vc_f1_11f, avg_vc_cm_11f = average_group_runs(averaged_runs,\n",
    "                                                                                                  y_valid_cube,\n",
    "                                                                                                  y_pred_valid_mat_11f,\n",
    "                                                                                                  cube_threshold, \n",
    "                                                                                                  validation_11_key,\n",
    "                                                                                                  total_bands)\n",
    "print(\"Average (20 Epochs) Hypercube Validation Statistics, Eleventh Patient Fold:\\nHypercube Accuracy:\\t\\t\",avg_vc_acc_11f,\n",
    "      \"\\nHypercube Precision:\\t\\t\",avg_vc_prec_11f)\n",
    "print(\"Hypercube Recall:\\t\\t\",avg_vc_re_11f,\"\\nHypercube F1 Score:\\t\\t\",avg_vc_f1_11f)\n"
   ]
  },
  {
   "cell_type": "code",
   "execution_count": 312,
   "metadata": {},
   "outputs": [
    {
     "data": {
      "text/html": [
       "<div>\n",
       "<style scoped>\n",
       "    .dataframe tbody tr th:only-of-type {\n",
       "        vertical-align: middle;\n",
       "    }\n",
       "\n",
       "    .dataframe tbody tr th {\n",
       "        vertical-align: top;\n",
       "    }\n",
       "\n",
       "    .dataframe thead th {\n",
       "        text-align: right;\n",
       "    }\n",
       "</style>\n",
       "<table border=\"1\" class=\"dataframe\">\n",
       "  <thead>\n",
       "    <tr style=\"text-align: right;\">\n",
       "      <th></th>\n",
       "      <th>pred:Leasional</th>\n",
       "      <th>pred:Nonleasional</th>\n",
       "    </tr>\n",
       "  </thead>\n",
       "  <tbody>\n",
       "    <tr>\n",
       "      <th>true:Leasional</th>\n",
       "      <td>1.35</td>\n",
       "      <td>1.65</td>\n",
       "    </tr>\n",
       "    <tr>\n",
       "      <th>true:Nonleasional</th>\n",
       "      <td>0.00</td>\n",
       "      <td>2.00</td>\n",
       "    </tr>\n",
       "  </tbody>\n",
       "</table>\n",
       "</div>"
      ],
      "text/plain": [
       "                   pred:Leasional  pred:Nonleasional\n",
       "true:Leasional               1.35               1.65\n",
       "true:Nonleasional            0.00               2.00"
      ]
     },
     "execution_count": 312,
     "metadata": {},
     "output_type": "execute_result"
    }
   ],
   "source": [
    "avgvalid_cm_cube_11f =  avg_vc_cm_11f.groupby(avg_vc_cm_11f.index)\n",
    "\n",
    "avgvalid_cm_cube_11f.mean()"
   ]
  },
  {
   "cell_type": "code",
   "execution_count": 313,
   "metadata": {
    "scrolled": true
   },
   "outputs": [
    {
     "data": {
      "image/png": "[encoded data removed]",
      "text/plain": [
       "<Figure size 432x288 with 1 Axes>"
      ]
     },
     "metadata": {
      "needs_background": "light"
     },
     "output_type": "display_data"
    }
   ],
   "source": [
    "# Plot of Epochs vs Training Accuracy\n",
    "\n",
    "plt.plot(np.arange(1,epoch+2),np.array(acc_train_mat_11f), '-v')\n",
    "plt.xlabel('Number of Epochs Run')\n",
    "plt.ylabel('Accuracy')\n",
    "plt.title('Fold 11 Training Accuracy vs. Number of Epochs')\n",
    "plt.xlim(left=-1);\n",
    "plt.ylim(top=1);\n",
    "plt.ylim(bottom=0);"
   ]
  },
  {
   "cell_type": "code",
   "execution_count": 314,
   "metadata": {},
   "outputs": [
    {
     "data": {
      "image/png": "[encoded data removed]",
      "text/plain": [
       "<Figure size 432x288 with 1 Axes>"
      ]
     },
     "metadata": {
      "needs_background": "light"
     },
     "output_type": "display_data"
    }
   ],
   "source": [
    "# Plot of Epochs vs Validation Accuracy\n",
    "\n",
    "plt.plot(np.arange(1,epoch+2),np.array(acc_valid_mat_3f), '-v')\n",
    "plt.xlabel('Number of Epochs Run')\n",
    "plt.ylabel('Accuracy')\n",
    "plt.title('Patient Fold 11 (Patient #1) Validation Accuracy vs. Number of Epochs')\n",
    "plt.xlim(left=-1);\n",
    "plt.ylim(top=1);\n",
    "plt.ylim(bottom=0);"
   ]
  },
  {
   "cell_type": "code",
   "execution_count": 315,
   "metadata": {},
   "outputs": [],
   "source": [
    "# Twelfth Patient (Patient #10)\n",
    "graph_seed = 42\n",
    "reset_graph(graph_seed)"
   ]
  },
  {
   "cell_type": "code",
   "execution_count": 316,
   "metadata": {},
   "outputs": [],
   "source": [
    "# Twelfth Validation Fold (Patient #10)\n",
    "X_valid_fold = X_sorted[validation_12]\n",
    "y_valid_fold = y_sorted[validation_12]"
   ]
  },
  {
   "cell_type": "code",
   "execution_count": 317,
   "metadata": {},
   "outputs": [
    {
     "data": {
      "text/plain": [
       "(760, 251502)"
      ]
     },
     "execution_count": 317,
     "metadata": {},
     "output_type": "execute_result"
    }
   ],
   "source": [
    "X_valid_fold.shape"
   ]
  },
  {
   "cell_type": "code",
   "execution_count": 318,
   "metadata": {},
   "outputs": [
    {
     "data": {
      "text/plain": [
       "(760,)"
      ]
     },
     "execution_count": 318,
     "metadata": {},
     "output_type": "execute_result"
    }
   ],
   "source": [
    "y_valid_fold.shape"
   ]
  },
  {
   "cell_type": "code",
   "execution_count": 319,
   "metadata": {},
   "outputs": [],
   "source": [
    "# Validation Cube for patient fold 12 (Patient #10)\n",
    "y_valid_cube = np.array([],dtype=np.int16)\n",
    "for cube in validation_12_key:\n",
    "    if cube.endswith('N'):\n",
    "        cube_class = 1\n",
    "    else:\n",
    "        cube_class = 0\n",
    "    y_valid_cube = np.append(y_valid_cube,cube_class)"
   ]
  },
  {
   "cell_type": "code",
   "execution_count": 320,
   "metadata": {},
   "outputs": [],
   "source": [
    "# Reset the training fold so the system memory is not overused\n",
    "X_train_fold = []"
   ]
  },
  {
   "cell_type": "code",
   "execution_count": 321,
   "metadata": {},
   "outputs": [],
   "source": [
    "# Fourth Training Fold (Patients 13,1,9,6,3,2,14,5,8,12,4,7)\n",
    "X_train_fold = X_sorted[training_12]\n",
    "y_train_fold = y_sorted[training_12]"
   ]
  },
  {
   "cell_type": "code",
   "execution_count": 322,
   "metadata": {},
   "outputs": [
    {
     "data": {
      "text/plain": [
       "(5890, 251502)"
      ]
     },
     "execution_count": 322,
     "metadata": {},
     "output_type": "execute_result"
    }
   ],
   "source": [
    "X_train_fold.shape"
   ]
  },
  {
   "cell_type": "code",
   "execution_count": 323,
   "metadata": {},
   "outputs": [
    {
     "data": {
      "text/plain": [
       "(5890,)"
      ]
     },
     "execution_count": 323,
     "metadata": {},
     "output_type": "execute_result"
    }
   ],
   "source": [
    "y_train_fold.shape"
   ]
  },
  {
   "cell_type": "code",
   "execution_count": 324,
   "metadata": {},
   "outputs": [],
   "source": [
    "# Sets the Neural Network for the graph\n",
    "height = 501\n",
    "width = 502\n",
    "channels = 1\n",
    "n_inputs = height * width * channels\n",
    "\n",
    "\n",
    "conv1_fmaps = 24\n",
    "conv1_ksize = 5\n",
    "conv1_stride = 3\n",
    "conv1_pad = \"SAME\"\n",
    "conv1_dropout_rate = 0.25\n",
    "\n",
    "pool2_fmaps = conv1_fmaps\n",
    "\n",
    "conv3_fmaps = 48\n",
    "conv3_ksize = 3\n",
    "conv3_stride = 1\n",
    "conv3_pad = \"SAME\"\n",
    "conv3_dropout_rate = 0.25\n",
    "\n",
    "pool4_fmaps = conv3_fmaps\n",
    "\n",
    "conv5_fmaps = 64\n",
    "conv5_ksize = 2\n",
    "conv5_stride = 1\n",
    "conv5_pad = \"SAME\"\n",
    "conv5_dropout_rate = 0.5\n",
    "\n",
    "pool6_fmaps = conv5_fmaps\n",
    "\n",
    "n_fc1 = 24\n",
    "n_outputs = 2\n",
    "\n",
    "regularizer = tf.contrib.layers.l2_regularizer(scale=0.1)\n",
    "\n",
    "with tf.name_scope(\"inputs\"):\n",
    "    X = tf.placeholder(tf.float32, shape=[None, n_inputs], name=\"X\")\n",
    "    X_reshaped = tf.reshape(X, shape=[-1, height, width, channels])\n",
    "    y = tf.placeholder(tf.int32, shape=[None], name=\"y\")\n",
    "    training = tf.placeholder_with_default(False, shape=[], name='training')\n",
    "\n",
    "conv1 = tf.layers.conv2d(X_reshaped, filters=conv1_fmaps, kernel_size=conv1_ksize,\n",
    "                         strides=conv1_stride, padding=conv1_pad,\n",
    "                         activation=tf.nn.tanh, kernel_regularizer=regularizer, name=\"conv1\")\n",
    "\n",
    "with tf.name_scope(\"pool2\"):\n",
    "    pool2 = tf.nn.max_pool(conv1, ksize=[1, 2, 2, 1], strides=[1, 2, 2, 1], padding=\"VALID\")\n",
    "    pool2_drop = tf.layers.dropout(pool2, conv1_dropout_rate, training=training)\n",
    "\n",
    "conv3 = tf.layers.conv2d(pool2_drop, filters=conv3_fmaps, kernel_size=conv3_ksize,\n",
    "                         strides=conv3_stride, padding=conv3_pad,\n",
    "                         activation=tf.nn.tanh, name=\"conv3\")\n",
    "\n",
    "with tf.name_scope(\"pool4\"):\n",
    "    pool4 = tf.nn.max_pool(conv3, ksize=[1, 2, 2, 1], strides=[1, 2, 2, 1], padding=\"VALID\")\n",
    "    pool4_drop = tf.layers.dropout(pool4, conv3_dropout_rate, training=training)\n",
    "\n",
    "conv5 = tf.layers.conv2d(pool4_drop, filters=conv5_fmaps, kernel_size=conv5_ksize,\n",
    "                         strides=conv5_stride, padding=conv5_pad,\n",
    "                         activation=tf.nn.tanh, name=\"conv5\")\n",
    "\n",
    "with tf.name_scope(\"pool6\"):\n",
    "    pool6 = tf.nn.max_pool(conv5, ksize=[1, 2, 2, 1], strides=[1, 2, 2, 1], padding=\"VALID\")\n",
    "    pool6_flat = tf.reshape(pool6, shape=[-1, pool6_fmaps * 20 * 21])\n",
    "    pool6_flat_drop = tf.layers.dropout(pool6_flat, conv5_dropout_rate, training=training)      \n",
    "       \n",
    "with tf.name_scope(\"fc1\"):\n",
    "    fc1 = tf.layers.dense(pool6_flat_drop, n_fc1, activation=tf.nn.tanh, kernel_regularizer=regularizer, name=\"fc1\")\n",
    "\n",
    "with tf.name_scope(\"output\"):\n",
    "    logits = tf.layers.dense(fc1, n_outputs, name=\"output\")\n",
    "    Y_proba = tf.nn.softmax(logits, name=\"Y_proba\")\n",
    "\n",
    "with tf.name_scope(\"train\"):\n",
    "    xentropy = tf.nn.sparse_softmax_cross_entropy_with_logits(logits=logits, labels=y)\n",
    "    l2_loss = tf.losses.get_regularization_loss()\n",
    "    loss = tf.reduce_mean(xentropy) + l2_loss\n",
    "    optimizer = tf.train.AdamOptimizer(learning_rate=0.0001)\n",
    "    training_op = optimizer.minimize(loss)\n",
    "\n",
    "with tf.name_scope(\"eval\"):\n",
    "    correct = tf.nn.in_top_k(logits, y, 1)\n",
    "    accuracy = tf.reduce_mean(tf.cast(correct, tf.float32))\n",
    "\n",
    "with tf.name_scope(\"init_and_save\"):\n",
    "    init = tf.global_variables_initializer()\n",
    "    saver = tf.train.Saver()"
   ]
  },
  {
   "cell_type": "code",
   "execution_count": 325,
   "metadata": {},
   "outputs": [],
   "source": [
    "# Sets the number of epochs and batch size\n",
    "n_iterations_per_epoch = len(X_train_fold) // batch_size"
   ]
  },
  {
   "cell_type": "code",
   "execution_count": 326,
   "metadata": {
    "scrolled": true
   },
   "outputs": [
    {
     "data": {
      "text/plain": [
       "58"
      ]
     },
     "execution_count": 326,
     "metadata": {},
     "output_type": "execute_result"
    }
   ],
   "source": [
    "n_iterations_per_epoch"
   ]
  },
  {
   "cell_type": "code",
   "execution_count": 327,
   "metadata": {},
   "outputs": [
    {
     "name": "stdout",
     "output_type": "stream",
     "text": [
      "Start Time:  2019-03-07 23:30:28.553810 \n",
      "\n",
      "Epoch 0\n",
      "Last Batch accuracy:  51.00 %, Training accuracy:  50.46 %, Validation accuracy:  45.53 %\n",
      "Time training up to Epoch  0 :  0  hours,  0  minutes, and  47  seconds.\n",
      "Epoch 1\n",
      "Last Batch accuracy:  52.00 %, Training accuracy:  54.04 %, Validation accuracy:  40.00 %\n",
      "Time training up to Epoch  1 :  0  hours,  1  minutes, and  32  seconds.\n",
      "Epoch 2\n",
      "Last Batch accuracy:  47.00 %, Training accuracy:  51.00 %, Validation accuracy:  43.55 %\n",
      "Time training up to Epoch  2 :  0  hours,  2  minutes, and  17  seconds.\n",
      "Epoch 3\n",
      "Last Batch accuracy:  55.00 %, Training accuracy:  54.47 %, Validation accuracy:  45.00 %\n",
      "Time training up to Epoch  3 :  0  hours,  3  minutes, and  2  seconds.\n",
      "Epoch 4\n",
      "Last Batch accuracy:  54.00 %, Training accuracy:  53.58 %, Validation accuracy:  43.16 %\n",
      "Time training up to Epoch  4 :  0  hours,  3  minutes, and  46  seconds.\n",
      "Epoch 5\n",
      "Last Batch accuracy:  50.00 %, Training accuracy:  52.58 %, Validation accuracy:  22.11 %\n",
      "Time training up to Epoch  5 :  0  hours,  4  minutes, and  31  seconds.\n",
      "Epoch 6\n",
      "Last Batch accuracy:  64.00 %, Training accuracy:  67.78 %, Validation accuracy:  58.55 %\n",
      "Time training up to Epoch  6 :  0  hours,  5  minutes, and  16  seconds.\n",
      "Epoch 7\n",
      "Last Batch accuracy:  78.00 %, Training accuracy:  70.05 %, Validation accuracy:  59.61 %\n",
      "Time training up to Epoch  7 :  0  hours,  6  minutes, and  0  seconds.\n",
      "Epoch 8\n",
      "Last Batch accuracy:  72.00 %, Training accuracy:  69.63 %, Validation accuracy:  55.26 %\n",
      "Time training up to Epoch  8 :  0  hours,  6  minutes, and  45  seconds.\n",
      "Epoch 9\n",
      "Last Batch accuracy:  67.00 %, Training accuracy:  69.64 %, Validation accuracy:  56.97 %\n",
      "Time training up to Epoch  9 :  0  hours,  7  minutes, and  29  seconds.\n",
      "Epoch 10\n",
      "Last Batch accuracy:  71.00 %, Training accuracy:  70.80 %, Validation accuracy:  56.45 %\n",
      "Time training up to Epoch  10 :  0  hours,  8  minutes, and  14  seconds.\n",
      "Epoch 11\n",
      "Last Batch accuracy:  77.00 %, Training accuracy:  72.28 %, Validation accuracy:  59.87 %\n",
      "Time training up to Epoch  11 :  0  hours,  8  minutes, and  58  seconds.\n",
      "Epoch 12\n",
      "Last Batch accuracy:  66.00 %, Training accuracy:  71.88 %, Validation accuracy:  59.74 %\n",
      "Time training up to Epoch  12 :  0  hours,  9  minutes, and  43  seconds.\n",
      "Epoch 13\n",
      "Last Batch accuracy:  76.00 %, Training accuracy:  73.28 %, Validation accuracy:  58.95 %\n",
      "Time training up to Epoch  13 :  0  hours,  10  minutes, and  28  seconds.\n",
      "Epoch 14\n",
      "Last Batch accuracy:  79.00 %, Training accuracy:  74.30 %, Validation accuracy:  59.74 %\n",
      "Time training up to Epoch  14 :  0  hours,  11  minutes, and  12  seconds.\n",
      "Epoch 15\n",
      "Last Batch accuracy:  68.00 %, Training accuracy:  61.90 %, Validation accuracy:  41.45 %\n",
      "Time training up to Epoch  15 :  0  hours,  11  minutes, and  57  seconds.\n",
      "Epoch 16\n",
      "Last Batch accuracy:  72.00 %, Training accuracy:  75.13 %, Validation accuracy:  58.95 %\n",
      "Time training up to Epoch  16 :  0  hours,  12  minutes, and  41  seconds.\n",
      "Epoch 17\n",
      "Last Batch accuracy:  78.00 %, Training accuracy:  73.82 %, Validation accuracy:  57.76 %\n",
      "Time training up to Epoch  17 :  0  hours,  13  minutes, and  26  seconds.\n",
      "Epoch 18\n",
      "Last Batch accuracy:  78.00 %, Training accuracy:  78.76 %, Validation accuracy:  54.74 %\n",
      "Time training up to Epoch  18 :  0  hours,  14  minutes, and  11  seconds.\n",
      "Epoch 19\n",
      "Last Batch accuracy:  78.00 %, Training accuracy:  79.58 %, Validation accuracy:  58.29 %\n",
      "Time training up to Epoch  19 :  0  hours,  14  minutes, and  55  seconds.\n",
      "Epoch 20\n",
      "Last Batch accuracy:  85.00 %, Training accuracy:  78.62 %, Validation accuracy:  46.18 %\n",
      "Time training up to Epoch  20 :  0  hours,  15  minutes, and  40  seconds.\n",
      "Epoch 21\n",
      "Last Batch accuracy:  89.00 %, Training accuracy:  80.05 %, Validation accuracy:  53.29 %\n",
      "Time training up to Epoch  21 :  0  hours,  16  minutes, and  25  seconds.\n",
      "Epoch 22\n",
      "Last Batch accuracy:  81.00 %, Training accuracy:  79.90 %, Validation accuracy:  55.66 %\n",
      "Time training up to Epoch  22 :  0  hours,  17  minutes, and  9  seconds.\n",
      "Epoch 23\n",
      "Last Batch accuracy:  84.00 %, Training accuracy:  80.68 %, Validation accuracy:  49.74 %\n",
      "Time training up to Epoch  23 :  0  hours,  17  minutes, and  54  seconds.\n",
      "Epoch 24\n",
      "Last Batch accuracy:  77.00 %, Training accuracy:  76.71 %, Validation accuracy:  58.42 %\n",
      "Time training up to Epoch  24 :  0  hours,  18  minutes, and  38  seconds.\n",
      "Epoch 25\n",
      "Last Batch accuracy:  89.00 %, Training accuracy:  81.77 %, Validation accuracy:  56.71 %\n",
      "Time training up to Epoch  25 :  0  hours,  19  minutes, and  23  seconds.\n",
      "Epoch 26\n",
      "Last Batch accuracy:  85.00 %, Training accuracy:  81.51 %, Validation accuracy:  55.26 %\n",
      "Time training up to Epoch  26 :  0  hours,  20  minutes, and  8  seconds.\n",
      "Epoch 27\n",
      "Last Batch accuracy:  85.00 %, Training accuracy:  82.92 %, Validation accuracy:  55.13 %\n",
      "Time training up to Epoch  27 :  0  hours,  20  minutes, and  52  seconds.\n",
      "Epoch 28\n",
      "Last Batch accuracy:  84.00 %, Training accuracy:  82.21 %, Validation accuracy:  51.18 %\n",
      "Time training up to Epoch  28 :  0  hours,  21  minutes, and  37  seconds.\n",
      "Epoch 29\n",
      "Last Batch accuracy:  80.00 %, Training accuracy:  79.27 %, Validation accuracy:  39.61 %\n",
      "Time training up to Epoch  29 :  0  hours,  22  minutes, and  22  seconds.\n",
      "\n",
      "Training Complete: 2019-03-07 23:52:51.589265\n"
     ]
    }
   ],
   "source": [
    "# Trains the CNN\n",
    "acc_train_mat_12f = []\n",
    "acc_valid_mat_12f = []\n",
    "\n",
    "y_pred_valid_mat_12f = []\n",
    "\n",
    "training_start_time = datetime.datetime.now()\n",
    "print(\"Start Time: \", training_start_time, \"\\n\")\n",
    "\n",
    "with tf.Session() as sess:\n",
    "    init.run()\n",
    "\n",
    "    for epoch in range(n_epochs):\n",
    "        y_train_pred = np.array([],dtype=np.int16)\n",
    "        print(\"Epoch\", epoch)\n",
    "        # \n",
    "        for iteration in range(n_iterations_per_epoch):\n",
    "            X_batch, y_batch = prepare_batch(X_train_fold, y_train_fold, batch_size)            \n",
    "            sess.run(training_op, feed_dict={X: X_batch, y: y_batch})\n",
    "        acc_batch = accuracy.eval(feed_dict={X: X_batch, y: y_batch})\n",
    "        # Finds the predicted values for the training set\n",
    "        for i in range(len((X_train_fold))):\n",
    "            X_train = normalize_max_train(X_train_fold[i])\n",
    "            z_pred_train = logits.eval(feed_dict={X: X_train})\n",
    "            y_pred_train = np.argmax(z_pred_train, axis=1)\n",
    "            y_train_pred = np.append(y_train_pred,y_pred_train)\n",
    "        acc_train = accuracy_score(y_train_fold, y_train_pred)\n",
    "        acc_val = accuracy.eval(feed_dict={X: X_valid_fold, y: y_valid_fold})\n",
    "        # Appends the network accuracy to a matrix for so we can evaluate performance over epoch\n",
    "        acc_train_mat_12f.append(acc_train)\n",
    "        acc_valid_mat_12f.append(acc_val)\n",
    "        # Finds the predicted values for the validation set\n",
    "        z_pred_valid = logits.eval(feed_dict={X: X_valid_fold, y: y_valid_fold})\n",
    "        y_pred_valid_12f = np.argmax(z_pred_valid, axis=1)\n",
    "        y_pred_valid_mat_12f.append(y_pred_valid_12f)\n",
    "        \n",
    "        training_duration_time = datetime.datetime.now()\n",
    "        training_duration = training_duration_time-training_start_time\n",
    "        training_hours, remainder = divmod(training_duration.seconds, 3600)\n",
    "        training_minutes, training_seconds = divmod(remainder,60)\n",
    "        print(\"Last Batch accuracy: \", \"{0:.2f}\".format(acc_batch*100),\n",
    "              \"%, Training accuracy: \", \"{0:.2f}\".format(acc_train*100),\n",
    "              \"%, Validation accuracy: \", \"{0:.2f}\".format(acc_val*100),\"%\")\n",
    "        print(\"Time training up to Epoch \",epoch,\": \",training_hours,\" hours, \", training_minutes,\n",
    "              \" minutes, and \", training_seconds, \" seconds.\")\n",
    "    save_path = saver.save(sess, \"./IB_maxdata_baseneta_100tanh_12fold_run1\")\n",
    "training_end_time = datetime.datetime.now()\n",
    "print('\\nTraining Complete:', training_end_time)"
   ]
  },
  {
   "cell_type": "code",
   "execution_count": 328,
   "metadata": {},
   "outputs": [
    {
     "name": "stdout",
     "output_type": "stream",
     "text": [
      "Twelfth Patient Fold (Patient #10) of CV took 0  hours,  22  minutes, and  23  seconds to train.\n",
      "\n"
     ]
    }
   ],
   "source": [
    "training_duration = training_end_time-training_start_time\n",
    "duration_hours, duration_remainder = divmod(training_duration.seconds, 3600)\n",
    "duration_minutes, duration_seconds = divmod(duration_remainder,60)\n",
    "print(\"Twelfth Patient Fold (Patient #10) of CV took\",duration_hours,\" hours, \", duration_minutes,\n",
    "              \" minutes, and \", duration_seconds, \" seconds to train.\\n\")"
   ]
  },
  {
   "cell_type": "code",
   "execution_count": 329,
   "metadata": {},
   "outputs": [
    {
     "name": "stdout",
     "output_type": "stream",
     "text": [
      "Segment Validation Statistics, Twelfth Patient Fold:\n",
      "Accuracy:\t\t 0.3960526315789474 \n",
      "Precision:\t\t 0.4966887417218543\n",
      "Recall:\t\t\t 0.4934210526315789 \n",
      "F1 Score:\t\t 0.49504950495049505\n"
     ]
    }
   ],
   "source": [
    "valid_accuracy_12f = accuracy_score(y_valid_fold, y_pred_valid_12f)\n",
    "valid_precision_12f = precision_score(y_valid_fold, y_pred_valid_12f)\n",
    "valid_recall_12f = recall_score(y_valid_fold, y_pred_valid_12f)\n",
    "valid_f1_12f = f1_score(y_valid_fold, y_pred_valid_12f)\n",
    "\n",
    "print(\"Segment Validation Statistics, Twelfth Patient Fold:\\nAccuracy:\\t\\t\",valid_accuracy_12f,\n",
    "      \"\\nPrecision:\\t\\t\",valid_precision_12f)\n",
    "print(\"Recall:\\t\\t\\t\",valid_recall_12f,\"\\nF1 Score:\\t\\t\",valid_f1_12f)"
   ]
  },
  {
   "cell_type": "code",
   "execution_count": 330,
   "metadata": {},
   "outputs": [
    {
     "name": "stdout",
     "output_type": "stream",
     "text": [
      "Twelfth Patient Fold Validation Confusion Matrix:\n",
      "                   pred:Leasional  pred:Nonleasional\n",
      "true:Leasional                 76                228\n",
      "true:Nonleasional             231                225\n"
     ]
    }
   ],
   "source": [
    "valid_label = np.unique(y_valid_fold)\n",
    "validation_cm_12f = confusion_matrix(y_valid_fold, y_pred_valid_12f, labels=valid_label) \n",
    "\n",
    "print(\"Twelfth Patient Fold Validation Confusion Matrix:\")\n",
    "print(pd.DataFrame(validation_cm_12f, index=['true:Leasional', 'true:Nonleasional'], \n",
    "                   columns=['pred:Leasional', 'pred:Nonleasional']))"
   ]
  },
  {
   "cell_type": "code",
   "execution_count": 331,
   "metadata": {},
   "outputs": [],
   "source": [
    "y_valid_cube_pred_12fold = group_hypercube(y_pred_valid_12f, cube_threshold, \n",
    "                                          validation_12_key, total_bands)"
   ]
  },
  {
   "cell_type": "code",
   "execution_count": 332,
   "metadata": {},
   "outputs": [
    {
     "name": "stdout",
     "output_type": "stream",
     "text": [
      "Validation Model Hypercube Statistics, Twelfth Patient Fold:\n",
      "Hypercube Accuracy:\t\t 0.45 \n",
      "Hypercube Precision:\t\t 0.5384615384615384\n",
      "Hypercube Recall: \t\t 0.5833333333333334 \n",
      "Hypercube F1 Score:\t\t 0.5599999999999999\n"
     ]
    }
   ],
   "source": [
    "valid_accuracy_cube_12f = accuracy_score(y_valid_cube, y_valid_cube_pred_12fold)\n",
    "valid_precision_cube_12f = precision_score(y_valid_cube, y_valid_cube_pred_12fold)\n",
    "valid_recall_cube_12f = recall_score(y_valid_cube, y_valid_cube_pred_12fold)\n",
    "valid_f1_cube_12f = f1_score(y_valid_cube, y_valid_cube_pred_12fold)\n",
    "\n",
    "print(\"Validation Model Hypercube Statistics, Twelfth Patient Fold:\\nHypercube Accuracy:\\t\\t\",valid_accuracy_cube_12f,\n",
    "      \"\\nHypercube Precision:\\t\\t\",valid_precision_cube_12f)\n",
    "print(\"Hypercube Recall: \\t\\t\",valid_recall_cube_12f,\"\\nHypercube F1 Score:\\t\\t\",valid_f1_cube_12f)"
   ]
  },
  {
   "cell_type": "code",
   "execution_count": 333,
   "metadata": {},
   "outputs": [
    {
     "name": "stdout",
     "output_type": "stream",
     "text": [
      "Twelfth Patient Fold Validation Confusion Matrix (Cube):\n",
      "                   pred:Leasional  pred:Nonleasional\n",
      "true:Leasional                  2                  6\n",
      "true:Nonleasional               5                  7\n"
     ]
    }
   ],
   "source": [
    "valid_cube_label = np.unique(y_valid_cube)\n",
    "validation_cm_cube_12f = confusion_matrix(y_valid_cube, y_valid_cube_pred_12fold, labels=valid_cube_label) \n",
    "\n",
    "print(\"Twelfth Patient Fold Validation Confusion Matrix (Cube):\")\n",
    "print(pd.DataFrame(validation_cm_cube_12f, index=['true:Leasional', 'true:Nonleasional'], \n",
    "                   columns=['pred:Leasional', 'pred:Nonleasional']))"
   ]
  },
  {
   "cell_type": "code",
   "execution_count": 334,
   "metadata": {},
   "outputs": [],
   "source": [
    "avg_v_acc_12f, avg_v_prec_12f, avg_v_re_12f, avg_v_f1_12f, avg_v_cm_12f = average_runs(averaged_runs, \n",
    "                                                                                       y_pred_valid_mat_12f, y_valid_fold)"
   ]
  },
  {
   "cell_type": "code",
   "execution_count": 335,
   "metadata": {},
   "outputs": [
    {
     "name": "stdout",
     "output_type": "stream",
     "text": [
      "Average (20 Epochs) Segment Validation Statistics, Twelfth Patient Fold:\n",
      "Accuracy:\t\t 0.5522368421052631 \n",
      "Precision:\t\t 0.826271931392999\n",
      "Recall:\t\t\t 0.3620614035087719 \n",
      "F1 Score:\t\t 0.4890100452682399\n"
     ]
    }
   ],
   "source": [
    "print(\"Average (20 Epochs) Segment Validation Statistics, Twelfth Patient Fold:\\nAccuracy:\\t\\t\",avg_v_acc_12f,\n",
    "      \"\\nPrecision:\\t\\t\",avg_v_prec_12f)\n",
    "print(\"Recall:\\t\\t\\t\",avg_v_re_12f,\"\\nF1 Score:\\t\\t\",avg_v_f1_12f)"
   ]
  },
  {
   "cell_type": "code",
   "execution_count": 336,
   "metadata": {},
   "outputs": [
    {
     "data": {
      "text/html": [
       "<div>\n",
       "<style scoped>\n",
       "    .dataframe tbody tr th:only-of-type {\n",
       "        vertical-align: middle;\n",
       "    }\n",
       "\n",
       "    .dataframe tbody tr th {\n",
       "        vertical-align: top;\n",
       "    }\n",
       "\n",
       "    .dataframe thead th {\n",
       "        text-align: right;\n",
       "    }\n",
       "</style>\n",
       "<table border=\"1\" class=\"dataframe\">\n",
       "  <thead>\n",
       "    <tr style=\"text-align: right;\">\n",
       "      <th></th>\n",
       "      <th>pred:Leasional</th>\n",
       "      <th>pred:Nonleasional</th>\n",
       "    </tr>\n",
       "  </thead>\n",
       "  <tbody>\n",
       "    <tr>\n",
       "      <th>true:Leasional</th>\n",
       "      <td>254.6</td>\n",
       "      <td>49.4</td>\n",
       "    </tr>\n",
       "    <tr>\n",
       "      <th>true:Nonleasional</th>\n",
       "      <td>290.9</td>\n",
       "      <td>165.1</td>\n",
       "    </tr>\n",
       "  </tbody>\n",
       "</table>\n",
       "</div>"
      ],
      "text/plain": [
       "                   pred:Leasional  pred:Nonleasional\n",
       "true:Leasional              254.6               49.4\n",
       "true:Nonleasional           290.9              165.1"
      ]
     },
     "execution_count": 336,
     "metadata": {},
     "output_type": "execute_result"
    }
   ],
   "source": [
    "avgvalid_cm_12f =  avg_v_cm_12f.groupby(avg_v_cm_12f.index)\n",
    "\n",
    "avgvalid_cm_12f.mean()"
   ]
  },
  {
   "cell_type": "code",
   "execution_count": 337,
   "metadata": {},
   "outputs": [
    {
     "name": "stdout",
     "output_type": "stream",
     "text": [
      "Average (20 Epochs) Hypercube Validation Statistics, Twelfth Patient Fold:\n",
      "Hypercube Accuracy:\t\t 0.5675000000000001 \n",
      "Hypercube Precision:\t\t 0.8927777777777779\n",
      "Hypercube Recall:\t\t 0.35416666666666663 \n",
      "Hypercube F1 Score:\t\t 0.4935574229691877\n"
     ]
    }
   ],
   "source": [
    "avg_vc_acc_12f, avg_vc_prec_12f, avg_vc_re_12f, avg_vc_f1_12f, avg_vc_cm_12f = average_group_runs(averaged_runs,\n",
    "                                                                                                  y_valid_cube, \n",
    "                                                                                                  y_pred_valid_mat_12f,\n",
    "                                                                                                  cube_threshold, \n",
    "                                                                                                  validation_12_key, \n",
    "                                                                                                  total_bands)\n",
    "print(\"Average (20 Epochs) Hypercube Validation Statistics, Twelfth Patient Fold:\\nHypercube Accuracy:\\t\\t\",avg_vc_acc_12f,\n",
    "      \"\\nHypercube Precision:\\t\\t\",avg_vc_prec_12f)\n",
    "print(\"Hypercube Recall:\\t\\t\",avg_vc_re_12f,\"\\nHypercube F1 Score:\\t\\t\",avg_vc_f1_12f)\n"
   ]
  },
  {
   "cell_type": "code",
   "execution_count": 338,
   "metadata": {},
   "outputs": [
    {
     "data": {
      "text/html": [
       "<div>\n",
       "<style scoped>\n",
       "    .dataframe tbody tr th:only-of-type {\n",
       "        vertical-align: middle;\n",
       "    }\n",
       "\n",
       "    .dataframe tbody tr th {\n",
       "        vertical-align: top;\n",
       "    }\n",
       "\n",
       "    .dataframe thead th {\n",
       "        text-align: right;\n",
       "    }\n",
       "</style>\n",
       "<table border=\"1\" class=\"dataframe\">\n",
       "  <thead>\n",
       "    <tr style=\"text-align: right;\">\n",
       "      <th></th>\n",
       "      <th>pred:Leasional</th>\n",
       "      <th>pred:Nonleasional</th>\n",
       "    </tr>\n",
       "  </thead>\n",
       "  <tbody>\n",
       "    <tr>\n",
       "      <th>true:Leasional</th>\n",
       "      <td>7.10</td>\n",
       "      <td>0.90</td>\n",
       "    </tr>\n",
       "    <tr>\n",
       "      <th>true:Nonleasional</th>\n",
       "      <td>7.75</td>\n",
       "      <td>4.25</td>\n",
       "    </tr>\n",
       "  </tbody>\n",
       "</table>\n",
       "</div>"
      ],
      "text/plain": [
       "                   pred:Leasional  pred:Nonleasional\n",
       "true:Leasional               7.10               0.90\n",
       "true:Nonleasional            7.75               4.25"
      ]
     },
     "execution_count": 338,
     "metadata": {},
     "output_type": "execute_result"
    }
   ],
   "source": [
    "avgvalid_cm_cube_12f =  avg_vc_cm_12f.groupby(avg_vc_cm_12f.index)\n",
    "\n",
    "avgvalid_cm_cube_12f.mean()"
   ]
  },
  {
   "cell_type": "code",
   "execution_count": 339,
   "metadata": {
    "scrolled": true
   },
   "outputs": [
    {
     "data": {
      "image/png": "[encoded data removed]",
      "text/plain": [
       "<Figure size 432x288 with 1 Axes>"
      ]
     },
     "metadata": {
      "needs_background": "light"
     },
     "output_type": "display_data"
    }
   ],
   "source": [
    "# Plot of Epochs vs Training Accuracy\n",
    "\n",
    "plt.plot(np.arange(1,epoch+2),np.array(acc_train_mat_12f), '-v')\n",
    "plt.xlabel('Number of Epochs Run')\n",
    "plt.ylabel('Accuracy')\n",
    "plt.title('Fold 12 Training Accuracy vs. Number of Epochs')\n",
    "plt.xlim(left=-1);\n",
    "plt.ylim(top=1);\n",
    "plt.ylim(bottom=0);"
   ]
  },
  {
   "cell_type": "code",
   "execution_count": 340,
   "metadata": {},
   "outputs": [
    {
     "data": {
      "image/png": "[encoded data removed]",
      "text/plain": [
       "<Figure size 432x288 with 1 Axes>"
      ]
     },
     "metadata": {
      "needs_background": "light"
     },
     "output_type": "display_data"
    }
   ],
   "source": [
    "# Plot of Epochs vs Validation Accuracy\n",
    "\n",
    "plt.plot(np.arange(1,epoch+2),np.array(acc_valid_mat_4f), '-v')\n",
    "plt.xlabel('Number of Epochs Run')\n",
    "plt.ylabel('Accuracy')\n",
    "plt.title('Patient Fold 12 (Patient #10) Validation Accuracy vs. Number of Epochs')\n",
    "plt.xlim(left=-1);\n",
    "plt.ylim(top=1);\n",
    "plt.ylim(bottom=0);"
   ]
  },
  {
   "cell_type": "code",
   "execution_count": 341,
   "metadata": {},
   "outputs": [],
   "source": [
    "# Thirteenth Patient (Patient #13)\n",
    "graph_seed = 42\n",
    "reset_graph(graph_seed)"
   ]
  },
  {
   "cell_type": "code",
   "execution_count": 342,
   "metadata": {},
   "outputs": [],
   "source": [
    "# Thirteenth Validation Fold (Patient #13)\n",
    "X_valid_fold = X_sorted[validation_13]\n",
    "y_valid_fold = y_sorted[validation_13]"
   ]
  },
  {
   "cell_type": "code",
   "execution_count": 343,
   "metadata": {},
   "outputs": [
    {
     "data": {
      "text/plain": [
       "(418, 251502)"
      ]
     },
     "execution_count": 343,
     "metadata": {},
     "output_type": "execute_result"
    }
   ],
   "source": [
    "X_valid_fold.shape"
   ]
  },
  {
   "cell_type": "code",
   "execution_count": 344,
   "metadata": {},
   "outputs": [
    {
     "data": {
      "text/plain": [
       "(418,)"
      ]
     },
     "execution_count": 344,
     "metadata": {},
     "output_type": "execute_result"
    }
   ],
   "source": [
    "y_valid_fold.shape"
   ]
  },
  {
   "cell_type": "code",
   "execution_count": 345,
   "metadata": {},
   "outputs": [],
   "source": [
    "# Validation Cube for patient fold 13 (Patient #13)\n",
    "y_valid_cube = np.array([],dtype=np.int16)\n",
    "for cube in validation_13_key:\n",
    "    if cube.endswith('N'):\n",
    "        cube_class = 1\n",
    "    else:\n",
    "        cube_class = 0\n",
    "    y_valid_cube = np.append(y_valid_cube,cube_class)"
   ]
  },
  {
   "cell_type": "code",
   "execution_count": 346,
   "metadata": {},
   "outputs": [],
   "source": [
    "# Reset the training fold so the system memory is not overused\n",
    "X_train_fold = []"
   ]
  },
  {
   "cell_type": "code",
   "execution_count": 347,
   "metadata": {},
   "outputs": [],
   "source": [
    "# Thirteenth Training Fold (Patients 10,1,9,6,3,2,14,5,8,12,4,7)\n",
    "X_train_fold = X_sorted[training_13]\n",
    "y_train_fold = y_sorted[training_13]"
   ]
  },
  {
   "cell_type": "code",
   "execution_count": 348,
   "metadata": {},
   "outputs": [
    {
     "data": {
      "text/plain": [
       "(6232, 251502)"
      ]
     },
     "execution_count": 348,
     "metadata": {},
     "output_type": "execute_result"
    }
   ],
   "source": [
    "X_train_fold.shape"
   ]
  },
  {
   "cell_type": "code",
   "execution_count": 349,
   "metadata": {},
   "outputs": [
    {
     "data": {
      "text/plain": [
       "(6232,)"
      ]
     },
     "execution_count": 349,
     "metadata": {},
     "output_type": "execute_result"
    }
   ],
   "source": [
    "y_train_fold.shape"
   ]
  },
  {
   "cell_type": "code",
   "execution_count": 350,
   "metadata": {},
   "outputs": [],
   "source": [
    "# Sets the Neural Network for the graph\n",
    "height = 501\n",
    "width = 502\n",
    "channels = 1\n",
    "n_inputs = height * width * channels\n",
    "\n",
    "\n",
    "conv1_fmaps = 24\n",
    "conv1_ksize = 5\n",
    "conv1_stride = 3\n",
    "conv1_pad = \"SAME\"\n",
    "conv1_dropout_rate = 0.25\n",
    "\n",
    "pool2_fmaps = conv1_fmaps\n",
    "\n",
    "conv3_fmaps = 48\n",
    "conv3_ksize = 3\n",
    "conv3_stride = 1\n",
    "conv3_pad = \"SAME\"\n",
    "conv3_dropout_rate = 0.25\n",
    "\n",
    "pool4_fmaps = conv3_fmaps\n",
    "\n",
    "conv5_fmaps = 64\n",
    "conv5_ksize = 2\n",
    "conv5_stride = 1\n",
    "conv5_pad = \"SAME\"\n",
    "conv5_dropout_rate = 0.5\n",
    "\n",
    "pool6_fmaps = conv5_fmaps\n",
    "\n",
    "n_fc1 = 24\n",
    "n_outputs = 2\n",
    "\n",
    "regularizer = tf.contrib.layers.l2_regularizer(scale=0.1)\n",
    "\n",
    "with tf.name_scope(\"inputs\"):\n",
    "    X = tf.placeholder(tf.float32, shape=[None, n_inputs], name=\"X\")\n",
    "    X_reshaped = tf.reshape(X, shape=[-1, height, width, channels])\n",
    "    y = tf.placeholder(tf.int32, shape=[None], name=\"y\")\n",
    "    training = tf.placeholder_with_default(False, shape=[], name='training')\n",
    "\n",
    "conv1 = tf.layers.conv2d(X_reshaped, filters=conv1_fmaps, kernel_size=conv1_ksize,\n",
    "                         strides=conv1_stride, padding=conv1_pad,\n",
    "                         activation=tf.nn.tanh, kernel_regularizer=regularizer, name=\"conv1\")\n",
    "\n",
    "with tf.name_scope(\"pool2\"):\n",
    "    pool2 = tf.nn.max_pool(conv1, ksize=[1, 2, 2, 1], strides=[1, 2, 2, 1], padding=\"VALID\")\n",
    "    pool2_drop = tf.layers.dropout(pool2, conv1_dropout_rate, training=training)\n",
    "\n",
    "conv3 = tf.layers.conv2d(pool2_drop, filters=conv3_fmaps, kernel_size=conv3_ksize,\n",
    "                         strides=conv3_stride, padding=conv3_pad,\n",
    "                         activation=tf.nn.tanh, name=\"conv3\")\n",
    "\n",
    "with tf.name_scope(\"pool4\"):\n",
    "    pool4 = tf.nn.max_pool(conv3, ksize=[1, 2, 2, 1], strides=[1, 2, 2, 1], padding=\"VALID\")\n",
    "    pool4_drop = tf.layers.dropout(pool4, conv3_dropout_rate, training=training)\n",
    "\n",
    "conv5 = tf.layers.conv2d(pool4_drop, filters=conv5_fmaps, kernel_size=conv5_ksize,\n",
    "                         strides=conv5_stride, padding=conv5_pad,\n",
    "                         activation=tf.nn.tanh, name=\"conv5\")\n",
    "\n",
    "with tf.name_scope(\"pool6\"):\n",
    "    pool6 = tf.nn.max_pool(conv5, ksize=[1, 2, 2, 1], strides=[1, 2, 2, 1], padding=\"VALID\")\n",
    "    pool6_flat = tf.reshape(pool6, shape=[-1, pool6_fmaps * 20 * 21])\n",
    "    pool6_flat_drop = tf.layers.dropout(pool6_flat, conv5_dropout_rate, training=training)      \n",
    "       \n",
    "with tf.name_scope(\"fc1\"):\n",
    "    fc1 = tf.layers.dense(pool6_flat_drop, n_fc1, activation=tf.nn.tanh, kernel_regularizer=regularizer, name=\"fc1\")\n",
    "\n",
    "with tf.name_scope(\"output\"):\n",
    "    logits = tf.layers.dense(fc1, n_outputs, name=\"output\")\n",
    "    Y_proba = tf.nn.softmax(logits, name=\"Y_proba\")\n",
    "\n",
    "with tf.name_scope(\"train\"):\n",
    "    xentropy = tf.nn.sparse_softmax_cross_entropy_with_logits(logits=logits, labels=y)\n",
    "    l2_loss = tf.losses.get_regularization_loss()\n",
    "    loss = tf.reduce_mean(xentropy) + l2_loss\n",
    "    optimizer = tf.train.AdamOptimizer(learning_rate=0.0001)\n",
    "    training_op = optimizer.minimize(loss)\n",
    "\n",
    "with tf.name_scope(\"eval\"):\n",
    "    correct = tf.nn.in_top_k(logits, y, 1)\n",
    "    accuracy = tf.reduce_mean(tf.cast(correct, tf.float32))\n",
    "\n",
    "with tf.name_scope(\"init_and_save\"):\n",
    "    init = tf.global_variables_initializer()\n",
    "    saver = tf.train.Saver()"
   ]
  },
  {
   "cell_type": "code",
   "execution_count": 351,
   "metadata": {},
   "outputs": [],
   "source": [
    "# Sets the number of epochs and batch size\n",
    "n_iterations_per_epoch = len(X_train_fold) // batch_size"
   ]
  },
  {
   "cell_type": "code",
   "execution_count": 352,
   "metadata": {
    "scrolled": true
   },
   "outputs": [
    {
     "data": {
      "text/plain": [
       "62"
      ]
     },
     "execution_count": 352,
     "metadata": {},
     "output_type": "execute_result"
    }
   ],
   "source": [
    "n_iterations_per_epoch"
   ]
  },
  {
   "cell_type": "code",
   "execution_count": 353,
   "metadata": {},
   "outputs": [
    {
     "name": "stdout",
     "output_type": "stream",
     "text": [
      "Start Time:  2019-03-07 23:53:51.460969 \n",
      "\n",
      "Epoch 0\n",
      "Last Batch accuracy:  49.00 %, Training accuracy:  52.68 %, Validation accuracy:  51.67 %\n",
      "Time training up to Epoch  0 :  0  hours,  0  minutes, and  48  seconds.\n",
      "Epoch 1\n",
      "Last Batch accuracy:  50.00 %, Training accuracy:  50.06 %, Validation accuracy:  55.02 %\n",
      "Time training up to Epoch  1 :  0  hours,  1  minutes, and  34  seconds.\n",
      "Epoch 2\n",
      "Last Batch accuracy:  60.00 %, Training accuracy:  58.14 %, Validation accuracy:  52.63 %\n",
      "Time training up to Epoch  2 :  0  hours,  2  minutes, and  21  seconds.\n",
      "Epoch 3\n",
      "Last Batch accuracy:  56.00 %, Training accuracy:  56.11 %, Validation accuracy:  62.44 %\n",
      "Time training up to Epoch  3 :  0  hours,  3  minutes, and  7  seconds.\n",
      "Epoch 4\n",
      "Last Batch accuracy:  56.00 %, Training accuracy:  63.46 %, Validation accuracy:  61.72 %\n",
      "Time training up to Epoch  4 :  0  hours,  3  minutes, and  53  seconds.\n",
      "Epoch 5\n",
      "Last Batch accuracy:  66.00 %, Training accuracy:  62.76 %, Validation accuracy:  68.66 %\n",
      "Time training up to Epoch  5 :  0  hours,  4  minutes, and  39  seconds.\n",
      "Epoch 6\n",
      "Last Batch accuracy:  70.00 %, Training accuracy:  69.43 %, Validation accuracy:  58.13 %\n",
      "Time training up to Epoch  6 :  0  hours,  5  minutes, and  25  seconds.\n",
      "Epoch 7\n",
      "Last Batch accuracy:  67.00 %, Training accuracy:  69.87 %, Validation accuracy:  52.39 %\n",
      "Time training up to Epoch  7 :  0  hours,  6  minutes, and  12  seconds.\n",
      "Epoch 8\n",
      "Last Batch accuracy:  70.00 %, Training accuracy:  71.65 %, Validation accuracy:  54.31 %\n",
      "Time training up to Epoch  8 :  0  hours,  6  minutes, and  58  seconds.\n",
      "Epoch 9\n",
      "Last Batch accuracy:  60.00 %, Training accuracy:  66.38 %, Validation accuracy:  38.52 %\n",
      "Time training up to Epoch  9 :  0  hours,  7  minutes, and  44  seconds.\n",
      "Epoch 10\n",
      "Last Batch accuracy:  73.00 %, Training accuracy:  72.02 %, Validation accuracy:  49.28 %\n",
      "Time training up to Epoch  10 :  0  hours,  8  minutes, and  30  seconds.\n",
      "Epoch 11\n",
      "Last Batch accuracy:  73.00 %, Training accuracy:  71.81 %, Validation accuracy:  46.65 %\n",
      "Time training up to Epoch  11 :  0  hours,  9  minutes, and  17  seconds.\n",
      "Epoch 12\n",
      "Last Batch accuracy:  66.00 %, Training accuracy:  72.46 %, Validation accuracy:  46.65 %\n",
      "Time training up to Epoch  12 :  0  hours,  10  minutes, and  3  seconds.\n",
      "Epoch 13\n",
      "Last Batch accuracy:  71.00 %, Training accuracy:  73.04 %, Validation accuracy:  50.72 %\n",
      "Time training up to Epoch  13 :  0  hours,  10  minutes, and  49  seconds.\n",
      "Epoch 14\n",
      "Last Batch accuracy:  75.00 %, Training accuracy:  74.37 %, Validation accuracy:  54.07 %\n",
      "Time training up to Epoch  14 :  0  hours,  11  minutes, and  35  seconds.\n",
      "Epoch 15\n",
      "Last Batch accuracy:  81.00 %, Training accuracy:  73.76 %, Validation accuracy:  48.33 %\n",
      "Time training up to Epoch  15 :  0  hours,  12  minutes, and  21  seconds.\n",
      "Epoch 16\n",
      "Last Batch accuracy:  84.00 %, Training accuracy:  77.74 %, Validation accuracy:  63.64 %\n",
      "Time training up to Epoch  16 :  0  hours,  13  minutes, and  8  seconds.\n",
      "Epoch 17\n",
      "Last Batch accuracy:  71.00 %, Training accuracy:  77.90 %, Validation accuracy:  62.92 %\n",
      "Time training up to Epoch  17 :  0  hours,  13  minutes, and  54  seconds.\n",
      "Epoch 18\n",
      "Last Batch accuracy:  80.00 %, Training accuracy:  77.81 %, Validation accuracy:  60.77 %\n",
      "Time training up to Epoch  18 :  0  hours,  14  minutes, and  40  seconds.\n",
      "Epoch 19\n",
      "Last Batch accuracy:  84.00 %, Training accuracy:  78.79 %, Validation accuracy:  57.89 %\n",
      "Time training up to Epoch  19 :  0  hours,  15  minutes, and  27  seconds.\n",
      "Epoch 20\n",
      "Last Batch accuracy:  77.00 %, Training accuracy:  79.72 %, Validation accuracy:  62.20 %\n",
      "Time training up to Epoch  20 :  0  hours,  16  minutes, and  13  seconds.\n",
      "Epoch 21\n",
      "Last Batch accuracy:  75.00 %, Training accuracy:  79.78 %, Validation accuracy:  66.27 %\n",
      "Time training up to Epoch  21 :  0  hours,  16  minutes, and  59  seconds.\n",
      "Epoch 22\n",
      "Last Batch accuracy:  75.00 %, Training accuracy:  78.84 %, Validation accuracy:  50.72 %\n",
      "Time training up to Epoch  22 :  0  hours,  17  minutes, and  45  seconds.\n",
      "Epoch 23\n",
      "Last Batch accuracy:  76.00 %, Training accuracy:  79.38 %, Validation accuracy:  56.46 %\n",
      "Time training up to Epoch  23 :  0  hours,  18  minutes, and  31  seconds.\n",
      "Epoch 24\n",
      "Last Batch accuracy:  85.00 %, Training accuracy:  79.48 %, Validation accuracy:  56.46 %\n",
      "Time training up to Epoch  24 :  0  hours,  19  minutes, and  18  seconds.\n",
      "Epoch 25\n",
      "Last Batch accuracy:  83.00 %, Training accuracy:  77.84 %, Validation accuracy:  53.35 %\n",
      "Time training up to Epoch  25 :  0  hours,  20  minutes, and  4  seconds.\n",
      "Epoch 26\n",
      "Last Batch accuracy:  86.00 %, Training accuracy:  80.82 %, Validation accuracy:  63.64 %\n",
      "Time training up to Epoch  26 :  0  hours,  20  minutes, and  50  seconds.\n",
      "Epoch 27\n",
      "Last Batch accuracy:  82.00 %, Training accuracy:  79.56 %, Validation accuracy:  57.42 %\n",
      "Time training up to Epoch  27 :  0  hours,  21  minutes, and  37  seconds.\n",
      "Epoch 28\n",
      "Last Batch accuracy:  90.00 %, Training accuracy:  84.19 %, Validation accuracy:  69.62 %\n",
      "Time training up to Epoch  28 :  0  hours,  22  minutes, and  23  seconds.\n",
      "Epoch 29\n",
      "Last Batch accuracy:  83.00 %, Training accuracy:  83.20 %, Validation accuracy:  63.40 %\n",
      "Time training up to Epoch  29 :  0  hours,  23  minutes, and  9  seconds.\n",
      "\n",
      "Training Complete: 2019-03-08 00:17:01.864058\n"
     ]
    }
   ],
   "source": [
    "# Trains the CNN\n",
    "acc_train_mat_13f = []\n",
    "acc_valid_mat_13f = []\n",
    "\n",
    "y_pred_valid_mat_13f = []\n",
    "\n",
    "training_start_time = datetime.datetime.now()\n",
    "print(\"Start Time: \", training_start_time, \"\\n\")\n",
    "\n",
    "with tf.Session() as sess:\n",
    "    init.run()\n",
    "\n",
    "    for epoch in range(n_epochs):\n",
    "        y_train_pred = np.array([],dtype=np.int16)\n",
    "        print(\"Epoch\", epoch)\n",
    "        # \n",
    "        for iteration in range(n_iterations_per_epoch):\n",
    "            X_batch, y_batch = prepare_batch(X_train_fold, y_train_fold, batch_size)            \n",
    "            sess.run(training_op, feed_dict={X: X_batch, y: y_batch})\n",
    "        acc_batch = accuracy.eval(feed_dict={X: X_batch, y: y_batch})\n",
    "        # Finds the predicted values for the training set\n",
    "        for i in range(len((X_train_fold))):\n",
    "            X_train = normalize_max_train(X_train_fold[i])\n",
    "            z_pred_train = logits.eval(feed_dict={X: X_train})\n",
    "            y_pred_train = np.argmax(z_pred_train, axis=1)\n",
    "            y_train_pred = np.append(y_train_pred,y_pred_train)\n",
    "        acc_train = accuracy_score(y_train_fold, y_train_pred)\n",
    "        acc_val = accuracy.eval(feed_dict={X: X_valid_fold, y: y_valid_fold})\n",
    "        # Appends the network accuracy to a matrix for so we can evaluate performance over epoch\n",
    "        acc_train_mat_13f.append(acc_train)\n",
    "        acc_valid_mat_13f.append(acc_val)\n",
    "        # Finds the predicted values for the validation set\n",
    "        z_pred_valid = logits.eval(feed_dict={X: X_valid_fold, y: y_valid_fold})\n",
    "        y_pred_valid_13f = np.argmax(z_pred_valid, axis=1)\n",
    "        y_pred_valid_mat_13f.append(y_pred_valid_13f)\n",
    "        \n",
    "        training_duration_time = datetime.datetime.now()\n",
    "        training_duration = training_duration_time-training_start_time\n",
    "        training_hours, remainder = divmod(training_duration.seconds, 3600)\n",
    "        training_minutes, training_seconds = divmod(remainder,60)\n",
    "        print(\"Last Batch accuracy: \", \"{0:.2f}\".format(acc_batch*100),\n",
    "              \"%, Training accuracy: \", \"{0:.2f}\".format(acc_train*100),\n",
    "              \"%, Validation accuracy: \", \"{0:.2f}\".format(acc_val*100),\"%\")\n",
    "        print(\"Time training up to Epoch \",epoch,\": \",training_hours,\" hours, \", training_minutes,\n",
    "              \" minutes, and \", training_seconds, \" seconds.\")\n",
    "    save_path = saver.save(sess, \"./IB_maxdata_baseneta_100tanh_13fold_run1\")\n",
    "training_end_time = datetime.datetime.now()\n",
    "print('\\nTraining Complete:', training_end_time)"
   ]
  },
  {
   "cell_type": "code",
   "execution_count": 354,
   "metadata": {},
   "outputs": [
    {
     "name": "stdout",
     "output_type": "stream",
     "text": [
      "Thirteenth Patient Fold (Patient #13) of CV took 0  hours,  23  minutes, and  10  seconds to train.\n",
      "\n"
     ]
    }
   ],
   "source": [
    "training_duration = training_end_time-training_start_time\n",
    "duration_hours, duration_remainder = divmod(training_duration.seconds, 3600)\n",
    "duration_minutes, duration_seconds = divmod(duration_remainder,60)\n",
    "print(\"Thirteenth Patient Fold (Patient #13) of CV took\",duration_hours,\" hours, \", duration_minutes,\n",
    "              \" minutes, and \", duration_seconds, \" seconds to train.\\n\")"
   ]
  },
  {
   "cell_type": "code",
   "execution_count": 355,
   "metadata": {},
   "outputs": [
    {
     "name": "stdout",
     "output_type": "stream",
     "text": [
      "Segment Validation Statistics, Thirteenth Patient Fold:\n",
      "Accuracy:\t\t 0.6339712918660287 \n",
      "Precision:\t\t 0.6666666666666666\n",
      "Recall:\t\t\t 0.6578947368421053 \n",
      "F1 Score:\t\t 0.6622516556291391\n"
     ]
    }
   ],
   "source": [
    "valid_accuracy_13f = accuracy_score(y_valid_fold, y_pred_valid_13f)\n",
    "valid_precision_13f = precision_score(y_valid_fold, y_pred_valid_13f)\n",
    "valid_recall_13f = recall_score(y_valid_fold, y_pred_valid_13f)\n",
    "valid_f1_13f = f1_score(y_valid_fold, y_pred_valid_13f)\n",
    "\n",
    "print(\"Segment Validation Statistics, Thirteenth Patient Fold:\\nAccuracy:\\t\\t\",valid_accuracy_13f,\n",
    "      \"\\nPrecision:\\t\\t\",valid_precision_13f)\n",
    "print(\"Recall:\\t\\t\\t\",valid_recall_13f,\"\\nF1 Score:\\t\\t\",valid_f1_13f)"
   ]
  },
  {
   "cell_type": "code",
   "execution_count": 356,
   "metadata": {},
   "outputs": [
    {
     "name": "stdout",
     "output_type": "stream",
     "text": [
      "Thirteenth Patient Fold Validation Confusion Matrix:\n",
      "                   pred:Leasional  pred:Nonleasional\n",
      "true:Leasional                115                 75\n",
      "true:Nonleasional              78                150\n"
     ]
    }
   ],
   "source": [
    "valid_label = np.unique(y_valid_fold)\n",
    "validation_cm_13f = confusion_matrix(y_valid_fold, y_pred_valid_13f, labels=valid_label) \n",
    "\n",
    "print(\"Thirteenth Patient Fold Validation Confusion Matrix:\")\n",
    "print(pd.DataFrame(validation_cm_13f, index=['true:Leasional', 'true:Nonleasional'], \n",
    "                   columns=['pred:Leasional', 'pred:Nonleasional']))"
   ]
  },
  {
   "cell_type": "code",
   "execution_count": 357,
   "metadata": {},
   "outputs": [],
   "source": [
    "y_valid_cube_pred_13fold = group_hypercube(y_pred_valid_13f, cube_threshold,\n",
    "                                           validation_13_key, total_bands)"
   ]
  },
  {
   "cell_type": "code",
   "execution_count": 358,
   "metadata": {},
   "outputs": [
    {
     "name": "stdout",
     "output_type": "stream",
     "text": [
      "Validation Model Hypercube Statistics, Thirteenth Patient Fold:\n",
      "Hypercube Accuracy:\t\t 0.5454545454545454 \n",
      "Hypercube Precision:\t\t 0.5714285714285714\n",
      "Hypercube Recall: \t\t 0.6666666666666666 \n",
      "Hypercube F1 Score:\t\t 0.6153846153846153\n"
     ]
    }
   ],
   "source": [
    "valid_accuracy_cube_13f = accuracy_score(y_valid_cube, y_valid_cube_pred_13fold)\n",
    "valid_precision_cube_13f = precision_score(y_valid_cube, y_valid_cube_pred_13fold)\n",
    "valid_recall_cube_13f = recall_score(y_valid_cube, y_valid_cube_pred_13fold)\n",
    "valid_f1_cube_13f = f1_score(y_valid_cube, y_valid_cube_pred_13fold)\n",
    "\n",
    "print(\"Validation Model Hypercube Statistics, Thirteenth Patient Fold:\\nHypercube Accuracy:\\t\\t\",valid_accuracy_cube_13f,\n",
    "      \"\\nHypercube Precision:\\t\\t\",valid_precision_cube_13f)\n",
    "print(\"Hypercube Recall: \\t\\t\",valid_recall_cube_13f,\"\\nHypercube F1 Score:\\t\\t\",valid_f1_cube_13f)"
   ]
  },
  {
   "cell_type": "code",
   "execution_count": 359,
   "metadata": {},
   "outputs": [
    {
     "name": "stdout",
     "output_type": "stream",
     "text": [
      "Thirteenth Patient Fold Validation Confusion Matrix (Cube):\n",
      "                   pred:Leasional  pred:Nonleasional\n",
      "true:Leasional                  2                  3\n",
      "true:Nonleasional               2                  4\n"
     ]
    }
   ],
   "source": [
    "valid_cube_label = np.unique(y_valid_cube)\n",
    "validation_cm_cube_13f = confusion_matrix(y_valid_cube, y_valid_cube_pred_13fold, labels=valid_cube_label) \n",
    "\n",
    "print(\"Thirteenth Patient Fold Validation Confusion Matrix (Cube):\")\n",
    "print(pd.DataFrame(validation_cm_cube_13f, index=['true:Leasional', 'true:Nonleasional'], \n",
    "                   columns=['pred:Leasional', 'pred:Nonleasional']))"
   ]
  },
  {
   "cell_type": "code",
   "execution_count": 360,
   "metadata": {},
   "outputs": [],
   "source": [
    "avg_v_acc_13f, avg_v_prec_13f, avg_v_re_13f, avg_v_f1_13f, avg_v_cm_13f = average_runs(averaged_runs, \n",
    "                                                                                       y_pred_valid_mat_13f, y_valid_fold)"
   ]
  },
  {
   "cell_type": "code",
   "execution_count": 361,
   "metadata": {},
   "outputs": [
    {
     "name": "stdout",
     "output_type": "stream",
     "text": [
      "Average (20 Epochs) Segment Validation Statistics, Thirteenth Patient Fold:\n",
      "Accuracy:\t\t 0.5577751196172248 \n",
      "Precision:\t\t 0.5924239689236558\n",
      "Recall:\t\t\t 0.6453947368421054 \n",
      "F1 Score:\t\t 0.6161291345110367\n"
     ]
    }
   ],
   "source": [
    "print(\"Average (20 Epochs) Segment Validation Statistics, Thirteenth Patient Fold:\\nAccuracy:\\t\\t\",avg_v_acc_13f,\n",
    "      \"\\nPrecision:\\t\\t\",avg_v_prec_13f)\n",
    "print(\"Recall:\\t\\t\\t\",avg_v_re_13f,\"\\nF1 Score:\\t\\t\",avg_v_f1_13f)"
   ]
  },
  {
   "cell_type": "code",
   "execution_count": 362,
   "metadata": {},
   "outputs": [
    {
     "data": {
      "text/html": [
       "<div>\n",
       "<style scoped>\n",
       "    .dataframe tbody tr th:only-of-type {\n",
       "        vertical-align: middle;\n",
       "    }\n",
       "\n",
       "    .dataframe tbody tr th {\n",
       "        vertical-align: top;\n",
       "    }\n",
       "\n",
       "    .dataframe thead th {\n",
       "        text-align: right;\n",
       "    }\n",
       "</style>\n",
       "<table border=\"1\" class=\"dataframe\">\n",
       "  <thead>\n",
       "    <tr style=\"text-align: right;\">\n",
       "      <th></th>\n",
       "      <th>pred:Leasional</th>\n",
       "      <th>pred:Nonleasional</th>\n",
       "    </tr>\n",
       "  </thead>\n",
       "  <tbody>\n",
       "    <tr>\n",
       "      <th>true:Leasional</th>\n",
       "      <td>86.00</td>\n",
       "      <td>104.00</td>\n",
       "    </tr>\n",
       "    <tr>\n",
       "      <th>true:Nonleasional</th>\n",
       "      <td>80.85</td>\n",
       "      <td>147.15</td>\n",
       "    </tr>\n",
       "  </tbody>\n",
       "</table>\n",
       "</div>"
      ],
      "text/plain": [
       "                   pred:Leasional  pred:Nonleasional\n",
       "true:Leasional              86.00             104.00\n",
       "true:Nonleasional           80.85             147.15"
      ]
     },
     "execution_count": 362,
     "metadata": {},
     "output_type": "execute_result"
    }
   ],
   "source": [
    "avgvalid_cm_13f =  avg_v_cm_13f.groupby(avg_v_cm_13f.index)\n",
    "\n",
    "avgvalid_cm_13f.mean()"
   ]
  },
  {
   "cell_type": "code",
   "execution_count": 363,
   "metadata": {},
   "outputs": [
    {
     "name": "stdout",
     "output_type": "stream",
     "text": [
      "Average (20 Epochs) Hypercube Validation Statistics, Thirteenth Patient Fold:\n",
      "Hypercube Accuracy:\t\t 0.5363636363636364 \n",
      "Hypercube Precision:\t\t 0.5796031746031746\n",
      "Hypercube Recall:\t\t 0.6666666666666665 \n",
      "Hypercube F1 Score:\t\t 0.6155111555111554\n"
     ]
    }
   ],
   "source": [
    "avg_vc_acc_13f, avg_vc_prec_13f, avg_vc_re_13f, avg_vc_f1_13f, avg_vc_cm_13f = average_group_runs(averaged_runs,\n",
    "                                                                                                  y_valid_cube, \n",
    "                                                                                                  y_pred_valid_mat_13f, \n",
    "                                                                                                  cube_threshold, \n",
    "                                                                                                  validation_13_key,\n",
    "                                                                                                  total_bands)\n",
    "print(\"Average (20 Epochs) Hypercube Validation Statistics, Thirteenth Patient Fold:\\nHypercube Accuracy:\\t\\t\",avg_vc_acc_13f,\n",
    "      \"\\nHypercube Precision:\\t\\t\",avg_vc_prec_13f)\n",
    "print(\"Hypercube Recall:\\t\\t\",avg_vc_re_13f,\"\\nHypercube F1 Score:\\t\\t\",avg_vc_f1_13f)\n"
   ]
  },
  {
   "cell_type": "code",
   "execution_count": 364,
   "metadata": {},
   "outputs": [
    {
     "data": {
      "text/html": [
       "<div>\n",
       "<style scoped>\n",
       "    .dataframe tbody tr th:only-of-type {\n",
       "        vertical-align: middle;\n",
       "    }\n",
       "\n",
       "    .dataframe tbody tr th {\n",
       "        vertical-align: top;\n",
       "    }\n",
       "\n",
       "    .dataframe thead th {\n",
       "        text-align: right;\n",
       "    }\n",
       "</style>\n",
       "<table border=\"1\" class=\"dataframe\">\n",
       "  <thead>\n",
       "    <tr style=\"text-align: right;\">\n",
       "      <th></th>\n",
       "      <th>pred:Leasional</th>\n",
       "      <th>pred:Nonleasional</th>\n",
       "    </tr>\n",
       "  </thead>\n",
       "  <tbody>\n",
       "    <tr>\n",
       "      <th>true:Leasional</th>\n",
       "      <td>1.9</td>\n",
       "      <td>3.1</td>\n",
       "    </tr>\n",
       "    <tr>\n",
       "      <th>true:Nonleasional</th>\n",
       "      <td>2.0</td>\n",
       "      <td>4.0</td>\n",
       "    </tr>\n",
       "  </tbody>\n",
       "</table>\n",
       "</div>"
      ],
      "text/plain": [
       "                   pred:Leasional  pred:Nonleasional\n",
       "true:Leasional                1.9                3.1\n",
       "true:Nonleasional             2.0                4.0"
      ]
     },
     "execution_count": 364,
     "metadata": {},
     "output_type": "execute_result"
    }
   ],
   "source": [
    "avgvalid_cm_cube_13f =  avg_vc_cm_13f.groupby(avg_vc_cm_13f.index)\n",
    "\n",
    "avgvalid_cm_cube_13f.mean()"
   ]
  },
  {
   "cell_type": "code",
   "execution_count": 365,
   "metadata": {
    "scrolled": true
   },
   "outputs": [
    {
     "data": {
      "image/png": "[encoded data removed]",
      "text/plain": [
       "<Figure size 432x288 with 1 Axes>"
      ]
     },
     "metadata": {
      "needs_background": "light"
     },
     "output_type": "display_data"
    }
   ],
   "source": [
    "# Plot of Epochs vs Training Accuracy\n",
    "\n",
    "plt.plot(np.arange(1,epoch+2),np.array(acc_train_mat_13f), '-v')\n",
    "plt.xlabel('Number of Epochs Run')\n",
    "plt.ylabel('Accuracy')\n",
    "plt.title('Fold 13 Training Accuracy vs. Number of Epochs')\n",
    "plt.xlim(left=-1);\n",
    "plt.ylim(top=1);\n",
    "plt.ylim(bottom=0);"
   ]
  },
  {
   "cell_type": "code",
   "execution_count": 366,
   "metadata": {
    "scrolled": false
   },
   "outputs": [
    {
     "data": {
      "image/png": "[encoded data removed]",
      "text/plain": [
       "<Figure size 432x288 with 1 Axes>"
      ]
     },
     "metadata": {
      "needs_background": "light"
     },
     "output_type": "display_data"
    }
   ],
   "source": [
    "# Plot of Epochs vs Validation Accuracy\n",
    "\n",
    "plt.plot(np.arange(1,epoch+2),np.array(acc_valid_mat_13f), '-v')\n",
    "plt.xlabel('Number of Epochs Run')\n",
    "plt.ylabel('Accuracy')\n",
    "plt.title('Patient Fold 13 (Patient #13) Validation Accuracy vs. Number of Epochs')\n",
    "plt.xlim(left=-1);\n",
    "plt.ylim(top=1);\n",
    "plt.ylim(bottom=0);"
   ]
  },
  {
   "cell_type": "code",
   "execution_count": 367,
   "metadata": {},
   "outputs": [
    {
     "name": "stdout",
     "output_type": "stream",
     "text": [
      "_________________________________________________________________________________________\n"
     ]
    }
   ],
   "source": [
    "print('_________________________________________________________________________________________')"
   ]
  },
  {
   "cell_type": "code",
   "execution_count": 368,
   "metadata": {},
   "outputs": [
    {
     "name": "stdout",
     "output_type": "stream",
     "text": [
      "Validation Segment Statistics:\n",
      "Segment Accuracy:\n",
      "Patient 7:\t 0.676692 \tPatient 4:\t 0.458647\n",
      "Patient 12:\t 0.720222 \tPatient 8:\t 0.215789\n",
      "Patient 5:\t 0.685673 \tPatient 14:\t 0.768421\n",
      "Patient 2:\t 0.555556 \tPatient 3:\t 0.776316\n",
      "Patient 6:\t 0.394737 \tPatient 9:\t 0.484211\n",
      "Patient 1:\t 0.726316 \tPatient 10:\t 0.396053\n",
      "Patient 13:\t 0.633971\n",
      "Average Segment Accuracy:\t 0.5763539553705758\n"
     ]
    }
   ],
   "source": [
    "# CV Summary - Validation Segment Statistics\n",
    "print(\"Validation Segment Statistics:\")\n",
    "print(\"Segment Accuracy:\")\n",
    "print(\"Patient 7:\\t\", \"{0:.6f}\".format(valid_accuracy_1f), \"\\tPatient 4:\\t\", \"{0:.6f}\".format(valid_accuracy_2f))\n",
    "print(\"Patient 12:\\t\", \"{0:.6f}\".format(valid_accuracy_3f), \"\\tPatient 8:\\t\", \"{0:.6f}\".format(valid_accuracy_4f))\n",
    "print(\"Patient 5:\\t\", \"{0:.6f}\".format(valid_accuracy_5f), \"\\tPatient 14:\\t\", \"{0:.6f}\".format(valid_accuracy_6f))\n",
    "print(\"Patient 2:\\t\", \"{0:.6f}\".format(valid_accuracy_7f), \"\\tPatient 3:\\t\", \"{0:.6f}\".format(valid_accuracy_8f))\n",
    "print(\"Patient 6:\\t\", \"{0:.6f}\".format(valid_accuracy_9f), \"\\tPatient 9:\\t\", \"{0:.6f}\".format(valid_accuracy_10f))\n",
    "print(\"Patient 1:\\t\", \"{0:.6f}\".format(valid_accuracy_11f), \"\\tPatient 10:\\t\", \"{0:.6f}\".format(valid_accuracy_12f))\n",
    "print(\"Patient 13:\\t\", \"{0:.6f}\".format(valid_accuracy_13f))\n",
    "\n",
    "val_accuracy_total = (valid_accuracy_1f+valid_accuracy_2f+valid_accuracy_3f+valid_accuracy_4f+valid_accuracy_5f+\n",
    "                      valid_accuracy_6f+valid_accuracy_7f+valid_accuracy_8f+valid_accuracy_9f+valid_accuracy_10f+\n",
    "                      valid_accuracy_11f+valid_accuracy_12f+valid_accuracy_13f)\n",
    "val_accuracy_average = val_accuracy_total/13\n",
    "\n",
    "print(\"Average Segment Accuracy:\\t\", val_accuracy_average)"
   ]
  },
  {
   "cell_type": "code",
   "execution_count": 369,
   "metadata": {},
   "outputs": [
    {
     "name": "stdout",
     "output_type": "stream",
     "text": [
      "Segment Precision:\n",
      "Patient 7:\t 0.468487 \tPatient 4:\t 0.432127\n",
      "Patient 12:\t 0.685185 \tPatient 8:\t 0.000000\n",
      "Patient 5:\t 0.725979 \tPatient 14:\t 0.793478\n",
      "Patient 2:\t 0.000000 \tPatient 3:\t 0.984127\n",
      "Patient 6:\t 0.495575 \tPatient 9:\t 0.589286\n",
      "Patient 1:\t 0.593750 \tPatient 10:\t 0.496689\n",
      "Patient 13:\t 0.666667\n",
      "Average Segment Precision:\t 0.5331807318132541\n"
     ]
    }
   ],
   "source": [
    "print(\"Segment Precision:\")\n",
    "print(\"Patient 7:\\t\", \"{0:.6f}\".format(valid_precision_1f), \"\\tPatient 4:\\t\", \"{0:.6f}\".format(valid_precision_2f))\n",
    "print(\"Patient 12:\\t\", \"{0:.6f}\".format(valid_precision_3f), \"\\tPatient 8:\\t\", \"{0:.6f}\".format(valid_precision_4f))\n",
    "print(\"Patient 5:\\t\", \"{0:.6f}\".format(valid_precision_5f), \"\\tPatient 14:\\t\", \"{0:.6f}\".format(valid_precision_6f))\n",
    "print(\"Patient 2:\\t\", \"{0:.6f}\".format(valid_precision_7f), \"\\tPatient 3:\\t\", \"{0:.6f}\".format(valid_precision_8f))\n",
    "print(\"Patient 6:\\t\", \"{0:.6f}\".format(valid_precision_9f), \"\\tPatient 9:\\t\", \"{0:.6f}\".format(valid_precision_10f))\n",
    "print(\"Patient 1:\\t\", \"{0:.6f}\".format(valid_precision_11f), \"\\tPatient 10:\\t\", \"{0:.6f}\".format(valid_precision_12f))\n",
    "print(\"Patient 13:\\t\", \"{0:.6f}\".format(valid_precision_13f))\n",
    "\n",
    "val_precision_total = (valid_precision_1f+valid_precision_2f+valid_precision_3f+valid_precision_4f+valid_precision_5f+\n",
    "                       valid_precision_6f+valid_precision_7f+valid_precision_8f+valid_precision_9f+valid_precision_10f+\n",
    "                       valid_precision_11f+valid_precision_12f+valid_precision_13f)\n",
    "val_precision_average = val_precision_total/13\n",
    "\n",
    "print(\"Average Segment Precision:\\t\", val_precision_average)"
   ]
  },
  {
   "cell_type": "code",
   "execution_count": 370,
   "metadata": {},
   "outputs": [
    {
     "name": "stdout",
     "output_type": "stream",
     "text": [
      "Segment Recall:\n",
      "Patient 7:\t 0.978070 \tPatient 4:\t 0.837719\n",
      "Patient 12:\t 0.757310 \tPatient 8:\t 0.000000\n",
      "Patient 5:\t 0.596491 \tPatient 14:\t 0.960526\n",
      "Patient 2:\t 0.000000 \tPatient 3:\t 0.652632\n",
      "Patient 6:\t 0.491228 \tPatient 9:\t 0.108553\n",
      "Patient 1:\t 1.000000 \tPatient 10:\t 0.493421\n",
      "Patient 13:\t 0.657895\n",
      "Average Segment Recall:\t 0.5795265407107513\n"
     ]
    }
   ],
   "source": [
    "print(\"Segment Recall:\")\n",
    "print(\"Patient 7:\\t\", \"{0:.6f}\".format(valid_recall_1f), \"\\tPatient 4:\\t\", \"{0:.6f}\".format(valid_recall_2f))\n",
    "print(\"Patient 12:\\t\", \"{0:.6f}\".format(valid_recall_3f), \"\\tPatient 8:\\t\", \"{0:.6f}\".format(valid_recall_4f))\n",
    "print(\"Patient 5:\\t\", \"{0:.6f}\".format(valid_recall_5f), \"\\tPatient 14:\\t\", \"{0:.6f}\".format(valid_recall_6f))\n",
    "print(\"Patient 2:\\t\", \"{0:.6f}\".format(valid_recall_7f), \"\\tPatient 3:\\t\", \"{0:.6f}\".format(valid_recall_8f))\n",
    "print(\"Patient 6:\\t\", \"{0:.6f}\".format(valid_recall_9f), \"\\tPatient 9:\\t\", \"{0:.6f}\".format(valid_recall_10f))\n",
    "print(\"Patient 1:\\t\", \"{0:.6f}\".format(valid_recall_11f), \"\\tPatient 10:\\t\", \"{0:.6f}\".format(valid_recall_12f))\n",
    "print(\"Patient 13:\\t\", \"{0:.6f}\".format(valid_recall_13f))\n",
    "\n",
    "val_recall_total = (valid_recall_1f+valid_recall_2f+valid_recall_3f+valid_recall_4f+valid_recall_5f+\n",
    "                    valid_recall_6f+valid_recall_7f+valid_recall_8f+valid_recall_9f+valid_recall_10f+\n",
    "                    valid_recall_11f+valid_recall_12f+valid_recall_13f)\n",
    "val_recall_average = val_recall_total/13\n",
    "\n",
    "print(\"Average Segment Recall:\\t\", val_recall_average)"
   ]
  },
  {
   "cell_type": "code",
   "execution_count": 371,
   "metadata": {},
   "outputs": [
    {
     "name": "stdout",
     "output_type": "stream",
     "text": [
      "Segment F1 Score:\n",
      "Patient 7:\t 0.633523 \tPatient 4:\t 0.570149\n",
      "Patient 12:\t 0.719444 \tPatient 8:\t 0.000000\n",
      "Patient 5:\t 0.654896 \tPatient 14:\t 0.869048\n",
      "Patient 2:\t 0.000000 \tPatient 3:\t 0.784810\n",
      "Patient 6:\t 0.493392 \tPatient 9:\t 0.183333\n",
      "Patient 1:\t 0.745098 \tPatient 10:\t 0.495050\n",
      "Patient 13:\t 0.662252\n",
      "Average Segment F1 Score:\t 0.5239226492940976\n"
     ]
    }
   ],
   "source": [
    "print(\"Segment F1 Score:\")\n",
    "print(\"Patient 7:\\t\", \"{0:.6f}\".format(valid_f1_1f), \"\\tPatient 4:\\t\", \"{0:.6f}\".format(valid_f1_2f))\n",
    "print(\"Patient 12:\\t\", \"{0:.6f}\".format(valid_f1_3f), \"\\tPatient 8:\\t\", \"{0:.6f}\".format(valid_f1_4f))\n",
    "print(\"Patient 5:\\t\", \"{0:.6f}\".format(valid_f1_5f), \"\\tPatient 14:\\t\", \"{0:.6f}\".format(valid_f1_6f))\n",
    "print(\"Patient 2:\\t\", \"{0:.6f}\".format(valid_f1_7f), \"\\tPatient 3:\\t\", \"{0:.6f}\".format(valid_f1_8f))\n",
    "print(\"Patient 6:\\t\", \"{0:.6f}\".format(valid_f1_9f), \"\\tPatient 9:\\t\", \"{0:.6f}\".format(valid_f1_10f))\n",
    "print(\"Patient 1:\\t\", \"{0:.6f}\".format(valid_f1_11f), \"\\tPatient 10:\\t\", \"{0:.6f}\".format(valid_f1_12f))\n",
    "print(\"Patient 13:\\t\", \"{0:.6f}\".format(valid_f1_13f))\n",
    "\n",
    "val_f1_total = (valid_f1_1f+valid_f1_2f+valid_f1_3f+valid_f1_4f+valid_f1_5f+valid_f1_6f+valid_f1_7f+\n",
    "                valid_f1_8f+valid_f1_9f+valid_f1_10f+valid_f1_11f+valid_f1_12f+valid_f1_13f)\n",
    "val_f1_average = val_f1_total/13\n",
    "\n",
    "print(\"Average Segment F1 Score:\\t\", val_f1_average)"
   ]
  },
  {
   "cell_type": "code",
   "execution_count": 372,
   "metadata": {},
   "outputs": [],
   "source": [
    "valid_pd_cm_1f = pd.DataFrame(validation_cm_1f, index=['true:Leasional', 'true:Nonleasional'], \n",
    "                              columns=['pred:Leasional', 'pred:Nonleasional'])\n",
    "valid_pd_cm_2f = pd.DataFrame(validation_cm_2f, index=['true:Leasional', 'true:Nonleasional'], \n",
    "                              columns=['pred:Leasional', 'pred:Nonleasional'])\n",
    "valid_pd_cm_3f = pd.DataFrame(validation_cm_3f, index=['true:Leasional', 'true:Nonleasional'], \n",
    "                              columns=['pred:Leasional', 'pred:Nonleasional'])\n",
    "valid_pd_cm_4f = pd.DataFrame(validation_cm_4f, index=['true:Leasional', 'true:Nonleasional'], \n",
    "                              columns=['pred:Leasional', 'pred:Nonleasional'])\n",
    "valid_pd_cm_5f = pd.DataFrame(validation_cm_5f, index=['true:Leasional', 'true:Nonleasional'], \n",
    "                              columns=['pred:Leasional', 'pred:Nonleasional'])\n",
    "valid_pd_cm_6f = pd.DataFrame(validation_cm_6f, index=['true:Leasional', 'true:Nonleasional'], \n",
    "                              columns=['pred:Leasional', 'pred:Nonleasional'])\n",
    "valid_pd_cm_7f = pd.DataFrame(validation_cm_7f, index=['true:Leasional', 'true:Nonleasional'], \n",
    "                              columns=['pred:Leasional', 'pred:Nonleasional'])\n",
    "valid_pd_cm_8f = pd.DataFrame(validation_cm_8f, index=['true:Leasional', 'true:Nonleasional'], \n",
    "                              columns=['pred:Leasional', 'pred:Nonleasional'])\n",
    "valid_pd_cm_9f = pd.DataFrame(validation_cm_9f, index=['true:Leasional', 'true:Nonleasional'], \n",
    "                              columns=['pred:Leasional', 'pred:Nonleasional'])\n",
    "valid_pd_cm_10f = pd.DataFrame(validation_cm_10f, index=['true:Leasional', 'true:Nonleasional'], \n",
    "                               columns=['pred:Leasional', 'pred:Nonleasional'])\n",
    "valid_pd_cm_11f = pd.DataFrame(validation_cm_11f, index=['true:Leasional', 'true:Nonleasional'], \n",
    "                               columns=['pred:Leasional', 'pred:Nonleasional'])\n",
    "valid_pd_cm_12f = pd.DataFrame(validation_cm_12f, index=['true:Leasional', 'true:Nonleasional'], \n",
    "                               columns=['pred:Leasional', 'pred:Nonleasional'])\n",
    "valid_pd_cm_13f = pd.DataFrame(validation_cm_13f, index=['true:Leasional', 'true:Nonleasional'], \n",
    "                               columns=['pred:Leasional', 'pred:Nonleasional'])"
   ]
  },
  {
   "cell_type": "code",
   "execution_count": 373,
   "metadata": {},
   "outputs": [
    {
     "data": {
      "text/html": [
       "<div>\n",
       "<style scoped>\n",
       "    .dataframe tbody tr th:only-of-type {\n",
       "        vertical-align: middle;\n",
       "    }\n",
       "\n",
       "    .dataframe tbody tr th {\n",
       "        vertical-align: top;\n",
       "    }\n",
       "\n",
       "    .dataframe thead th {\n",
       "        text-align: right;\n",
       "    }\n",
       "</style>\n",
       "<table border=\"1\" class=\"dataframe\">\n",
       "  <thead>\n",
       "    <tr style=\"text-align: right;\">\n",
       "      <th></th>\n",
       "      <th>pred:Leasional</th>\n",
       "      <th>pred:Nonleasional</th>\n",
       "    </tr>\n",
       "  </thead>\n",
       "  <tbody>\n",
       "    <tr>\n",
       "      <th>true:Leasional</th>\n",
       "      <td>1855</td>\n",
       "      <td>1489</td>\n",
       "    </tr>\n",
       "    <tr>\n",
       "      <th>true:Nonleasional</th>\n",
       "      <td>1417</td>\n",
       "      <td>1889</td>\n",
       "    </tr>\n",
       "  </tbody>\n",
       "</table>\n",
       "</div>"
      ],
      "text/plain": [
       "                   pred:Leasional  pred:Nonleasional\n",
       "true:Leasional               1855               1489\n",
       "true:Nonleasional            1417               1889"
      ]
     },
     "execution_count": 373,
     "metadata": {},
     "output_type": "execute_result"
    }
   ],
   "source": [
    "# Sum Segment Validation Confusion Matrix\n",
    "valid_concat = pd.concat((valid_pd_cm_1f,valid_pd_cm_2f,valid_pd_cm_3f,valid_pd_cm_4f,valid_pd_cm_5f,\n",
    "                          valid_pd_cm_6f,valid_pd_cm_7f,valid_pd_cm_8f,valid_pd_cm_9f,valid_pd_cm_10f,\n",
    "                          valid_pd_cm_11f,valid_pd_cm_12f,valid_pd_cm_13f))\n",
    "validation_cm_group =  valid_concat.groupby(valid_concat.index)\n",
    "\n",
    "validation_cm_group.sum()"
   ]
  },
  {
   "cell_type": "code",
   "execution_count": 374,
   "metadata": {},
   "outputs": [],
   "source": [
    "y_segment_total = np.array([],dtype=np.int16)\n",
    "y_segment_total = np.append(y_segment_total, y_pred_valid_13f)\n",
    "y_segment_total = np.append(y_segment_total, y_pred_valid_12f)\n",
    "y_segment_total = np.append(y_segment_total, y_pred_valid_11f)\n",
    "y_segment_total = np.append(y_segment_total, y_pred_valid_10f)\n",
    "y_segment_total = np.append(y_segment_total, y_pred_valid_9f)\n",
    "y_segment_total = np.append(y_segment_total, y_pred_valid_8f)\n",
    "y_segment_total = np.append(y_segment_total, y_pred_valid_7f)\n",
    "y_segment_total = np.append(y_segment_total, y_pred_valid_6f)\n",
    "y_segment_total = np.append(y_segment_total, y_pred_valid_5f)\n",
    "y_segment_total = np.append(y_segment_total, y_pred_valid_4f)\n",
    "y_segment_total = np.append(y_segment_total, y_pred_valid_3f)\n",
    "y_segment_total = np.append(y_segment_total, y_pred_valid_2f)\n",
    "y_segment_total = np.append(y_segment_total, y_pred_valid_1f)\n"
   ]
  },
  {
   "cell_type": "code",
   "execution_count": 375,
   "metadata": {},
   "outputs": [
    {
     "name": "stdout",
     "output_type": "stream",
     "text": [
      "Segment Validation Statistics, Overall Segment Statistics:\n",
      "Accuracy:\t\t 0.5630075187969925 \n",
      "Precision:\t\t 0.559206631142688\n",
      "Recall:\t\t\t 0.5713853599516031 \n",
      "F1 Score:\t\t 0.5652304009575105\n"
     ]
    }
   ],
   "source": [
    "valid_accuracy_overall = accuracy_score(y_sorted,y_segment_total)\n",
    "valid_precision_overall = precision_score(y_sorted, y_segment_total)\n",
    "valid_recall_overall = recall_score(y_sorted, y_segment_total)\n",
    "valid_f1_overall = f1_score(y_sorted, y_segment_total)\n",
    "\n",
    "print(\"Segment Validation Statistics, Overall Segment Statistics:\\nAccuracy:\\t\\t\",valid_accuracy_overall,\n",
    "      \"\\nPrecision:\\t\\t\",valid_precision_overall)\n",
    "print(\"Recall:\\t\\t\\t\",valid_recall_overall,\"\\nF1 Score:\\t\\t\",valid_f1_overall)"
   ]
  },
  {
   "cell_type": "code",
   "execution_count": 376,
   "metadata": {},
   "outputs": [
    {
     "name": "stdout",
     "output_type": "stream",
     "text": [
      "_________________________________________________________________________________________\n"
     ]
    }
   ],
   "source": [
    "print('_________________________________________________________________________________________')"
   ]
  },
  {
   "cell_type": "code",
   "execution_count": 377,
   "metadata": {},
   "outputs": [
    {
     "name": "stdout",
     "output_type": "stream",
     "text": [
      "Validation Segment Statistics:\n",
      "Segment Accuracy (Averaged over the last 20 epochs):\n",
      "Patient 7:\t 0.617105 \tPatient 4:\t 0.637688\n",
      "Patient 12:\t 0.726316 \tPatient 8:\t 0.183158\n",
      "Patient 5:\t 0.740205 \tPatient 14:\t 0.714605\n",
      "Patient 2:\t 0.499561 \tPatient 3:\t 0.803947\n",
      "Patient 6:\t 0.449605 \tPatient 9:\t 0.502193\n",
      "Patient 1:\t 0.643421 \tPatient 10:\t 0.552237\n",
      "Patient 13:\t 0.557775\n",
      "Average of Segment Accuracy Averages:\t 0.586755145439356\n"
     ]
    }
   ],
   "source": [
    "# CV Summary - Validation Segment Statistics (Averaged over the last 20 epochs)\n",
    "print(\"Validation Segment Statistics:\")\n",
    "print(\"Segment Accuracy (Averaged over the last 20 epochs):\")\n",
    "print(\"Patient 7:\\t\", \"{0:.6f}\".format(avg_v_acc_1f), \"\\tPatient 4:\\t\", \"{0:.6f}\".format(avg_v_acc_2f))\n",
    "print(\"Patient 12:\\t\", \"{0:.6f}\".format(avg_v_acc_3f), \"\\tPatient 8:\\t\", \"{0:.6f}\".format(avg_v_acc_4f))\n",
    "print(\"Patient 5:\\t\", \"{0:.6f}\".format(avg_v_acc_5f), \"\\tPatient 14:\\t\", \"{0:.6f}\".format(avg_v_acc_6f))\n",
    "print(\"Patient 2:\\t\", \"{0:.6f}\".format(avg_v_acc_7f), \"\\tPatient 3:\\t\", \"{0:.6f}\".format(avg_v_acc_8f))\n",
    "print(\"Patient 6:\\t\", \"{0:.6f}\".format(avg_v_acc_9f), \"\\tPatient 9:\\t\", \"{0:.6f}\".format(avg_v_acc_10f))\n",
    "print(\"Patient 1:\\t\", \"{0:.6f}\".format(avg_v_acc_11f), \"\\tPatient 10:\\t\", \"{0:.6f}\".format(avg_v_acc_12f))\n",
    "print(\"Patient 13:\\t\", \"{0:.6f}\".format(avg_v_acc_13f))\n",
    "\n",
    "avg_val_accuracy_total = (avg_v_acc_1f+avg_v_acc_2f+avg_v_acc_3f+avg_v_acc_4f+avg_v_acc_5f+avg_v_acc_6f+\n",
    "                          avg_v_acc_7f+avg_v_acc_8f+avg_v_acc_9f+avg_v_acc_10f+avg_v_acc_11f+avg_v_acc_12f+\n",
    "                          avg_v_acc_13f)\n",
    "avg_val_accuracy_average = avg_val_accuracy_total/13\n",
    "\n",
    "print(\"Average of Segment Accuracy Averages:\\t\", avg_val_accuracy_average)"
   ]
  },
  {
   "cell_type": "code",
   "execution_count": 378,
   "metadata": {},
   "outputs": [
    {
     "name": "stdout",
     "output_type": "stream",
     "text": [
      "Segment Precision (Averaged over the last 20 epochs):\n",
      "Patient 7:\t 0.429041 \tPatient 4:\t 0.582987\n",
      "Patient 12:\t 0.737137 \tPatient 8:\t 0.027134\n",
      "Patient 5:\t 0.782534 \tPatient 14:\t 0.789530\n",
      "Patient 2:\t 0.458311 \tPatient 3:\t 0.938679\n",
      "Patient 6:\t 0.552320 \tPatient 9:\t 0.604041\n",
      "Patient 1:\t 0.541695 \tPatient 10:\t 0.826272\n",
      "Patient 13:\t 0.592424\n",
      "Average of Segment Percision Averages:\t 0.6047771763500507\n"
     ]
    }
   ],
   "source": [
    "print(\"Segment Precision (Averaged over the last 20 epochs):\")\n",
    "print(\"Patient 7:\\t\", \"{0:.6f}\".format(avg_v_prec_1f), \"\\tPatient 4:\\t\", \"{0:.6f}\".format(avg_v_prec_2f))\n",
    "print(\"Patient 12:\\t\", \"{0:.6f}\".format(avg_v_prec_3f), \"\\tPatient 8:\\t\", \"{0:.6f}\".format(avg_v_prec_4f))\n",
    "print(\"Patient 5:\\t\", \"{0:.6f}\".format(avg_v_prec_5f), \"\\tPatient 14:\\t\", \"{0:.6f}\".format(avg_v_prec_6f))\n",
    "print(\"Patient 2:\\t\", \"{0:.6f}\".format(avg_v_prec_7f), \"\\tPatient 3:\\t\", \"{0:.6f}\".format(avg_v_prec_8f))\n",
    "print(\"Patient 6:\\t\", \"{0:.6f}\".format(avg_v_prec_9f), \"\\tPatient 9:\\t\", \"{0:.6f}\".format(avg_v_prec_10f))\n",
    "print(\"Patient 1:\\t\", \"{0:.6f}\".format(avg_v_prec_11f), \"\\tPatient 10:\\t\", \"{0:.6f}\".format(avg_v_prec_12f))\n",
    "print(\"Patient 13:\\t\", \"{0:.6f}\".format(avg_v_prec_13f))\n",
    "\n",
    "avg_val_precision_total = (avg_v_prec_1f+avg_v_prec_2f+avg_v_prec_3f+avg_v_prec_4f+avg_v_prec_5f+\n",
    "                           avg_v_prec_6f+avg_v_prec_7f+avg_v_prec_8f+avg_v_prec_9f+avg_v_prec_10f+\n",
    "                           avg_v_prec_11f+avg_v_prec_12f+avg_v_prec_13f)\n",
    "avg_val_precision_average = avg_val_precision_total/13\n",
    "\n",
    "print(\"Average of Segment Percision Averages:\\t\", avg_val_precision_average)"
   ]
  },
  {
   "cell_type": "code",
   "execution_count": 379,
   "metadata": {},
   "outputs": [
    {
     "name": "stdout",
     "output_type": "stream",
     "text": [
      "Segment Recall (Averaged over the last 20 epochs):\n",
      "Patient 7:\t 0.981798 \tPatient 4:\t 0.525439\n",
      "Patient 12:\t 0.688304 \tPatient 8:\t 0.036623\n",
      "Patient 5:\t 0.660819 \tPatient 14:\t 0.877138\n",
      "Patient 2:\t 0.462829 \tPatient 3:\t 0.732895\n",
      "Patient 6:\t 0.414912 \tPatient 9:\t 0.266283\n",
      "Patient 1:\t 0.990132 \tPatient 10:\t 0.362061\n",
      "Patient 13:\t 0.645395\n",
      "Average of Segment Recall Averages:\t 0.5880482456140351\n"
     ]
    }
   ],
   "source": [
    "print(\"Segment Recall (Averaged over the last 20 epochs):\")\n",
    "print(\"Patient 7:\\t\", \"{0:.6f}\".format(avg_v_re_1f), \"\\tPatient 4:\\t\", \"{0:.6f}\".format(avg_v_re_2f))\n",
    "print(\"Patient 12:\\t\", \"{0:.6f}\".format(avg_v_re_3f), \"\\tPatient 8:\\t\", \"{0:.6f}\".format(avg_v_re_4f))\n",
    "print(\"Patient 5:\\t\", \"{0:.6f}\".format(avg_v_re_5f), \"\\tPatient 14:\\t\", \"{0:.6f}\".format(avg_v_re_6f))\n",
    "print(\"Patient 2:\\t\", \"{0:.6f}\".format(avg_v_re_7f), \"\\tPatient 3:\\t\", \"{0:.6f}\".format(avg_v_re_8f))\n",
    "print(\"Patient 6:\\t\", \"{0:.6f}\".format(avg_v_re_9f), \"\\tPatient 9:\\t\", \"{0:.6f}\".format(avg_v_re_10f))\n",
    "print(\"Patient 1:\\t\", \"{0:.6f}\".format(avg_v_re_11f), \"\\tPatient 10:\\t\", \"{0:.6f}\".format(avg_v_re_12f))\n",
    "print(\"Patient 13:\\t\", \"{0:.6f}\".format(avg_v_re_13f))\n",
    "\n",
    "avg_val_recall_total = (avg_v_re_1f+avg_v_re_2f+avg_v_re_3f+avg_v_re_4f+avg_v_re_5f+avg_v_re_6f+\n",
    "                        avg_v_re_7f+avg_v_re_8f+avg_v_re_9f+avg_v_re_10f+avg_v_re_11f+avg_v_re_12f+\n",
    "                        avg_v_re_13f)\n",
    "avg_val_recall_average = avg_val_recall_total/13\n",
    "\n",
    "print(\"Average of Segment Recall Averages:\\t\", avg_val_recall_average)"
   ]
  },
  {
   "cell_type": "code",
   "execution_count": 380,
   "metadata": {},
   "outputs": [
    {
     "name": "stdout",
     "output_type": "stream",
     "text": [
      "Segment F1 Score (Averaged over the last 20 epochs):\n",
      "Patient 7:\t 0.596036 \tPatient 4:\t 0.548677\n",
      "Patient 12:\t 0.700930 \tPatient 8:\t 0.031089\n",
      "Patient 5:\t 0.711502 \tPatient 14:\t 0.829226\n",
      "Patient 2:\t 0.338780 \tPatient 3:\t 0.819009\n",
      "Patient 6:\t 0.453061 \tPatient 9:\t 0.347520\n",
      "Patient 1:\t 0.696560 \tPatient 10:\t 0.489010\n",
      "Patient 13:\t 0.616129\n",
      "Average of Segment F1 Averages:\t 0.5521176309880651\n"
     ]
    }
   ],
   "source": [
    "print(\"Segment F1 Score (Averaged over the last 20 epochs):\")\n",
    "print(\"Patient 7:\\t\", \"{0:.6f}\".format(avg_v_f1_1f), \"\\tPatient 4:\\t\", \"{0:.6f}\".format(avg_v_f1_2f))\n",
    "print(\"Patient 12:\\t\", \"{0:.6f}\".format(avg_v_f1_3f), \"\\tPatient 8:\\t\", \"{0:.6f}\".format(avg_v_f1_4f))\n",
    "print(\"Patient 5:\\t\", \"{0:.6f}\".format(avg_v_f1_5f), \"\\tPatient 14:\\t\", \"{0:.6f}\".format(avg_v_f1_6f))\n",
    "print(\"Patient 2:\\t\", \"{0:.6f}\".format(avg_v_f1_7f), \"\\tPatient 3:\\t\", \"{0:.6f}\".format(avg_v_f1_8f))\n",
    "print(\"Patient 6:\\t\", \"{0:.6f}\".format(avg_v_f1_9f), \"\\tPatient 9:\\t\", \"{0:.6f}\".format(avg_v_f1_10f))\n",
    "print(\"Patient 1:\\t\", \"{0:.6f}\".format(avg_v_f1_11f), \"\\tPatient 10:\\t\", \"{0:.6f}\".format(avg_v_f1_12f))\n",
    "print(\"Patient 13:\\t\", \"{0:.6f}\".format(avg_v_f1_13f))\n",
    "\n",
    "avg_val_f1_total = (avg_v_f1_1f+avg_v_f1_2f+avg_v_f1_3f+avg_v_f1_4f+avg_v_f1_5f+avg_v_f1_6f+\n",
    "                    avg_v_f1_7f+avg_v_f1_8f+avg_v_f1_9f+avg_v_f1_10f+avg_v_f1_11f+avg_v_f1_12f+\n",
    "                    avg_v_f1_13f)\n",
    "avg_val_f1_average = avg_val_f1_total/13\n",
    "\n",
    "print(\"Average of Segment F1 Averages:\\t\", avg_val_f1_average)"
   ]
  },
  {
   "cell_type": "code",
   "execution_count": 381,
   "metadata": {
    "scrolled": false
   },
   "outputs": [
    {
     "data": {
      "text/html": [
       "<div>\n",
       "<style scoped>\n",
       "    .dataframe tbody tr th:only-of-type {\n",
       "        vertical-align: middle;\n",
       "    }\n",
       "\n",
       "    .dataframe tbody tr th {\n",
       "        vertical-align: top;\n",
       "    }\n",
       "\n",
       "    .dataframe thead th {\n",
       "        text-align: right;\n",
       "    }\n",
       "</style>\n",
       "<table border=\"1\" class=\"dataframe\">\n",
       "  <thead>\n",
       "    <tr style=\"text-align: right;\">\n",
       "      <th></th>\n",
       "      <th>pred:Leasional</th>\n",
       "      <th>pred:Nonleasional</th>\n",
       "    </tr>\n",
       "  </thead>\n",
       "  <tbody>\n",
       "    <tr>\n",
       "      <th>true:Leasional</th>\n",
       "      <td>2033.1</td>\n",
       "      <td>1310.9</td>\n",
       "    </tr>\n",
       "    <tr>\n",
       "      <th>true:Nonleasional</th>\n",
       "      <td>1453.3</td>\n",
       "      <td>1852.7</td>\n",
       "    </tr>\n",
       "  </tbody>\n",
       "</table>\n",
       "</div>"
      ],
      "text/plain": [
       "                   pred:Leasional  pred:Nonleasional\n",
       "true:Leasional             2033.1             1310.9\n",
       "true:Nonleasional          1453.3             1852.7"
      ]
     },
     "execution_count": 381,
     "metadata": {},
     "output_type": "execute_result"
    }
   ],
   "source": [
    "# Average Segment Validation Confusion Matrix (Averaged over the last 20 epochs)\n",
    "avg_valid_concat = pd.concat((avg_v_cm_1f,avg_v_cm_2f,avg_v_cm_3f,avg_v_cm_4f,avg_v_cm_5f,\n",
    "                              avg_v_cm_6f,avg_v_cm_7f,avg_v_cm_8f,avg_v_cm_9f,avg_v_cm_10f,\n",
    "                              avg_v_cm_11f,avg_v_cm_12f,avg_v_cm_13f))\n",
    "avg_validation_cm_group =  avg_valid_concat.groupby(avg_valid_concat.index)\n",
    "\n",
    "avg_validation_cm_group.sum()/20"
   ]
  },
  {
   "cell_type": "code",
   "execution_count": 382,
   "metadata": {},
   "outputs": [],
   "source": [
    "start_avg=epoch-averaged_runs\n",
    "\n",
    "y_avg_seg_total_mat = np.array([],dtype=np.int16)\n",
    "\n",
    "y_avg_seg_total = np.array([],dtype=np.int16)\n",
    "y_avg_seg_total = np.append(y_avg_seg_total, y_pred_valid_mat_13f[start_avg])\n",
    "y_avg_seg_total = np.append(y_avg_seg_total, y_pred_valid_mat_12f[start_avg])\n",
    "y_avg_seg_total = np.append(y_avg_seg_total, y_pred_valid_mat_11f[start_avg])\n",
    "y_avg_seg_total = np.append(y_avg_seg_total, y_pred_valid_mat_10f[start_avg])\n",
    "y_avg_seg_total = np.append(y_avg_seg_total, y_pred_valid_mat_9f[start_avg])\n",
    "y_avg_seg_total = np.append(y_avg_seg_total, y_pred_valid_mat_8f[start_avg])\n",
    "y_avg_seg_total = np.append(y_avg_seg_total, y_pred_valid_mat_7f[start_avg])\n",
    "y_avg_seg_total = np.append(y_avg_seg_total, y_pred_valid_mat_6f[start_avg])\n",
    "y_avg_seg_total = np.append(y_avg_seg_total, y_pred_valid_mat_5f[start_avg])\n",
    "y_avg_seg_total = np.append(y_avg_seg_total, y_pred_valid_mat_4f[start_avg])\n",
    "y_avg_seg_total = np.append(y_avg_seg_total, y_pred_valid_mat_3f[start_avg])\n",
    "y_avg_seg_total = np.append(y_avg_seg_total, y_pred_valid_mat_2f[start_avg])\n",
    "y_avg_seg_total = np.append(y_avg_seg_total, y_pred_valid_mat_1f[start_avg])\n",
    "y_avg_seg_total_mat = np.append(y_avg_seg_total_mat, y_avg_seg_total)\n",
    "\n",
    "for index in range(start_avg+1,epoch):\n",
    "    y_avg_seg_total = np.array([],dtype=np.int16)\n",
    "    y_avg_seg_total = np.append(y_avg_seg_total, y_pred_valid_mat_13f[index])\n",
    "    y_avg_seg_total = np.append(y_avg_seg_total, y_pred_valid_mat_12f[index])\n",
    "    y_avg_seg_total = np.append(y_avg_seg_total, y_pred_valid_mat_11f[index])\n",
    "    y_avg_seg_total = np.append(y_avg_seg_total, y_pred_valid_mat_10f[index])\n",
    "    y_avg_seg_total = np.append(y_avg_seg_total, y_pred_valid_mat_9f[index])\n",
    "    y_avg_seg_total = np.append(y_avg_seg_total, y_pred_valid_mat_8f[index])\n",
    "    y_avg_seg_total = np.append(y_avg_seg_total, y_pred_valid_mat_7f[index])\n",
    "    y_avg_seg_total = np.append(y_avg_seg_total, y_pred_valid_mat_6f[index])\n",
    "    y_avg_seg_total = np.append(y_avg_seg_total, y_pred_valid_mat_5f[index])\n",
    "    y_avg_seg_total = np.append(y_avg_seg_total, y_pred_valid_mat_4f[index])\n",
    "    y_avg_seg_total = np.append(y_avg_seg_total, y_pred_valid_mat_3f[index])\n",
    "    y_avg_seg_total = np.append(y_avg_seg_total, y_pred_valid_mat_2f[index])\n",
    "    y_avg_seg_total = np.append(y_avg_seg_total, y_pred_valid_mat_1f[index])\n",
    "    y_avg_seg_total_mat = np.vstack((y_avg_seg_total_mat, y_avg_seg_total))"
   ]
  },
  {
   "cell_type": "code",
   "execution_count": 383,
   "metadata": {},
   "outputs": [],
   "source": [
    "over_acc_mat = np.array([],dtype=np.int16)\n",
    "over_prec_mat = np.array([],dtype=np.int16)\n",
    "over_recall_mat = np.array([],dtype=np.int16)\n",
    "over_f1_mat = np.array([],dtype=np.int16)\n",
    "over_confuse_mat = []\n",
    "for i in range(20):\n",
    "    index_acc = accuracy_score(y_sorted, y_avg_seg_total_mat[i])\n",
    "    over_acc_mat = np.append(over_acc_mat, index_acc)\n",
    "    index_prec = precision_score(y_sorted, y_avg_seg_total_mat[i])\n",
    "    over_prec_mat = np.append(over_prec_mat, index_prec)        \n",
    "    index_recall = recall_score(y_sorted, y_avg_seg_total_mat[i])\n",
    "    over_recall_mat = np.append(over_recall_mat, index_recall)        \n",
    "    index_f1 = f1_score(y_sorted, y_avg_seg_total_mat[i])\n",
    "    over_f1_mat = np.append(over_f1_mat, index_f1)\n",
    "    cm_label = np.unique(y_sorted)\n",
    "    index_cm = confusion_matrix(y_sorted, y_avg_seg_total_mat[i], labels=cm_label)\n",
    "    pd_cm = pd.DataFrame(index_cm, index=['true:Leasional', 'true:Nonleasional'], \n",
    "                         columns=['pred:Leasional', 'pred:Nonleasional'])\n",
    "    over_confuse_mat.append(pd_cm)\n",
    "over_seg_avg_acc = np.mean(over_acc_mat)\n",
    "over_seg_avg_prec = np.mean(over_prec_mat)\n",
    "over_seg_avg_recall = np.mean(over_recall_mat)\n",
    "over_seg_avg_f1 = np.mean(over_f1_mat)\n",
    "over_seg_avg_cm = pd.concat(over_confuse_mat)"
   ]
  },
  {
   "cell_type": "code",
   "execution_count": 384,
   "metadata": {},
   "outputs": [
    {
     "name": "stdout",
     "output_type": "stream",
     "text": [
      "Average Validation Segment Statistics (Over 20 Epochs), Overall Segment Statistics:\n",
      "Accuracy:\t\t 0.5843308270676693 \n",
      "Precision:\t\t 0.587073723255066\n",
      "Recall:\t\t\t 0.5604053236539625 \n",
      "F1 Score:\t\t 0.5723254183157879\n"
     ]
    }
   ],
   "source": [
    "print(\"Average Validation Segment Statistics (Over 20 Epochs), Overall Segment Statistics:\\nAccuracy:\\t\\t\",over_seg_avg_acc,\n",
    "      \"\\nPrecision:\\t\\t\",over_seg_avg_prec)\n",
    "print(\"Recall:\\t\\t\\t\",over_seg_avg_recall,\"\\nF1 Score:\\t\\t\",over_seg_avg_f1)"
   ]
  },
  {
   "cell_type": "code",
   "execution_count": 385,
   "metadata": {},
   "outputs": [
    {
     "data": {
      "text/html": [
       "<div>\n",
       "<style scoped>\n",
       "    .dataframe tbody tr th:only-of-type {\n",
       "        vertical-align: middle;\n",
       "    }\n",
       "\n",
       "    .dataframe tbody tr th {\n",
       "        vertical-align: top;\n",
       "    }\n",
       "\n",
       "    .dataframe thead th {\n",
       "        text-align: right;\n",
       "    }\n",
       "</style>\n",
       "<table border=\"1\" class=\"dataframe\">\n",
       "  <thead>\n",
       "    <tr style=\"text-align: right;\">\n",
       "      <th></th>\n",
       "      <th>pred:Leasional</th>\n",
       "      <th>pred:Nonleasional</th>\n",
       "    </tr>\n",
       "  </thead>\n",
       "  <tbody>\n",
       "    <tr>\n",
       "      <th>true:Leasional</th>\n",
       "      <td>2033.1</td>\n",
       "      <td>1310.9</td>\n",
       "    </tr>\n",
       "    <tr>\n",
       "      <th>true:Nonleasional</th>\n",
       "      <td>1453.3</td>\n",
       "      <td>1852.7</td>\n",
       "    </tr>\n",
       "  </tbody>\n",
       "</table>\n",
       "</div>"
      ],
      "text/plain": [
       "                   pred:Leasional  pred:Nonleasional\n",
       "true:Leasional             2033.1             1310.9\n",
       "true:Nonleasional          1453.3             1852.7"
      ]
     },
     "execution_count": 385,
     "metadata": {},
     "output_type": "execute_result"
    }
   ],
   "source": [
    "over_seg_avg_cm =  over_seg_avg_cm.groupby(over_seg_avg_cm.index)\n",
    "\n",
    "over_seg_avg_cm.mean()"
   ]
  },
  {
   "cell_type": "code",
   "execution_count": 386,
   "metadata": {},
   "outputs": [
    {
     "name": "stdout",
     "output_type": "stream",
     "text": [
      "_________________________________________________________________________________________\n"
     ]
    }
   ],
   "source": [
    "print('_________________________________________________________________________________________')"
   ]
  },
  {
   "cell_type": "code",
   "execution_count": 387,
   "metadata": {},
   "outputs": [
    {
     "name": "stdout",
     "output_type": "stream",
     "text": [
      "Validation Hypercube Statistics:\n",
      "Hypercube Accuracy:\n",
      "Patient 7:\t 0.666667 \tPatient 4:\t 0.500000\n",
      "Patient 12:\t 0.684211 \tPatient 8:\t 0.133333\n",
      "Patient 5:\t 0.666667 \tPatient 14:\t 0.800000\n",
      "Patient 2:\t 0.555556 \tPatient 3:\t 0.750000\n",
      "Patient 6:\t 0.300000 \tPatient 9:\t 0.466667\n",
      "Patient 1:\t 0.800000 \tPatient 10:\t 0.450000\n",
      "Patient 13:\t 0.545455\n",
      "Average Hypercube Accuracy:\t 0.5629656892814787\n"
     ]
    }
   ],
   "source": [
    "# CV Summary - Validation Hypercube Statistics\n",
    "print(\"Validation Hypercube Statistics:\")\n",
    "print(\"Hypercube Accuracy:\")\n",
    "print(\"Patient 7:\\t\", \"{0:.6f}\".format(valid_accuracy_cube_1f), \"\\tPatient 4:\\t\", \"{0:.6f}\".format(valid_accuracy_cube_2f))\n",
    "print(\"Patient 12:\\t\", \"{0:.6f}\".format(valid_accuracy_cube_3f), \"\\tPatient 8:\\t\", \"{0:.6f}\".format(valid_accuracy_cube_4f))\n",
    "print(\"Patient 5:\\t\", \"{0:.6f}\".format(valid_accuracy_cube_5f), \"\\tPatient 14:\\t\", \"{0:.6f}\".format(valid_accuracy_cube_6f))\n",
    "print(\"Patient 2:\\t\", \"{0:.6f}\".format(valid_accuracy_cube_7f), \"\\tPatient 3:\\t\", \"{0:.6f}\".format(valid_accuracy_cube_8f))\n",
    "print(\"Patient 6:\\t\", \"{0:.6f}\".format(valid_accuracy_cube_9f), \"\\tPatient 9:\\t\", \"{0:.6f}\".format(valid_accuracy_cube_10f))\n",
    "print(\"Patient 1:\\t\", \"{0:.6f}\".format(valid_accuracy_cube_11f), \"\\tPatient 10:\\t\", \"{0:.6f}\".format(valid_accuracy_cube_12f))\n",
    "print(\"Patient 13:\\t\", \"{0:.6f}\".format(valid_accuracy_cube_13f))\n",
    "\n",
    "val_accuracy_cube_total = (valid_accuracy_cube_1f+valid_accuracy_cube_2f+valid_accuracy_cube_3f+\n",
    "                           valid_accuracy_cube_4f+valid_accuracy_cube_5f+valid_accuracy_cube_6f+\n",
    "                           valid_accuracy_cube_7f+valid_accuracy_cube_8f+valid_accuracy_cube_9f+\n",
    "                           valid_accuracy_cube_10f+valid_accuracy_cube_11f+valid_accuracy_cube_12f+\n",
    "                           valid_accuracy_cube_13f)\n",
    "val_accuracy_cube_average = val_accuracy_cube_total/13\n",
    "\n",
    "print(\"Average Hypercube Accuracy:\\t\", val_accuracy_cube_average)"
   ]
  },
  {
   "cell_type": "code",
   "execution_count": 388,
   "metadata": {},
   "outputs": [
    {
     "name": "stdout",
     "output_type": "stream",
     "text": [
      "Hypercube Precision:\n",
      "Patient 7:\t 0.461538 \tPatient 4:\t 0.461538\n",
      "Patient 12:\t 0.636364 \tPatient 8:\t 0.000000\n",
      "Patient 5:\t 0.666667 \tPatient 14:\t 0.800000\n",
      "Patient 2:\t 0.000000 \tPatient 3:\t 1.000000\n",
      "Patient 6:\t 0.400000 \tPatient 9:\t 0.000000\n",
      "Patient 1:\t 0.666667 \tPatient 10:\t 0.538462\n",
      "Patient 13:\t 0.571429\n",
      "Average Hypercube Precision:\t 0.4771280002049233\n"
     ]
    }
   ],
   "source": [
    "print(\"Hypercube Precision:\")\n",
    "print(\"Patient 7:\\t\", \"{0:.6f}\".format(valid_precision_cube_1f), \"\\tPatient 4:\\t\", \"{0:.6f}\".format(valid_precision_cube_2f))\n",
    "print(\"Patient 12:\\t\", \"{0:.6f}\".format(valid_precision_cube_3f), \"\\tPatient 8:\\t\", \"{0:.6f}\".format(valid_precision_cube_4f))\n",
    "print(\"Patient 5:\\t\", \"{0:.6f}\".format(valid_precision_cube_5f), \"\\tPatient 14:\\t\", \"{0:.6f}\".format(valid_precision_cube_6f))\n",
    "print(\"Patient 2:\\t\", \"{0:.6f}\".format(valid_precision_cube_7f), \"\\tPatient 3:\\t\", \"{0:.6f}\".format(valid_precision_cube_8f))\n",
    "print(\"Patient 6:\\t\", \"{0:.6f}\".format(valid_precision_cube_9f), \"\\tPatient 9:\\t\", \"{0:.6f}\".format(valid_precision_cube_10f))\n",
    "print(\"Patient 1:\\t\", \"{0:.6f}\".format(valid_precision_cube_11f), \"\\tPatient 10:\\t\", \"{0:.6f}\".format(valid_precision_cube_12f))\n",
    "print(\"Patient 13:\\t\", \"{0:.6f}\".format(valid_precision_cube_13f))\n",
    "\n",
    "val_precision_cube_total = (valid_precision_cube_1f+valid_precision_cube_2f+valid_precision_cube_3f+\n",
    "                            valid_precision_cube_4f+valid_precision_cube_5f+valid_precision_cube_6f+\n",
    "                            valid_precision_cube_7f+valid_precision_cube_8f+valid_precision_cube_9f+\n",
    "                            valid_precision_cube_10f+valid_precision_cube_11f+valid_precision_cube_12f+\n",
    "                            valid_precision_cube_13f)\n",
    "val_precision_cube_average = val_precision_cube_total/13\n",
    "\n",
    "print(\"Average Hypercube Precision:\\t\", val_precision_cube_average)"
   ]
  },
  {
   "cell_type": "code",
   "execution_count": 389,
   "metadata": {},
   "outputs": [
    {
     "name": "stdout",
     "output_type": "stream",
     "text": [
      "Hypercube Recall:\n",
      "Patient 7:\t 1.000000 \tPatient 4:\t 1.000000\n",
      "Patient 12:\t 0.777778 \tPatient 8:\t 0.000000\n",
      "Patient 5:\t 0.666667 \tPatient 14:\t 1.000000\n",
      "Patient 2:\t 0.000000 \tPatient 3:\t 0.600000\n",
      "Patient 6:\t 0.333333 \tPatient 9:\t 0.000000\n",
      "Patient 1:\t 1.000000 \tPatient 10:\t 0.583333\n",
      "Patient 13:\t 0.666667\n",
      "Average Hypercube Recall:\t 0.5867521367521367\n"
     ]
    }
   ],
   "source": [
    "print(\"Hypercube Recall:\")\n",
    "print(\"Patient 7:\\t\", \"{0:.6f}\".format(valid_recall_cube_1f), \"\\tPatient 4:\\t\", \"{0:.6f}\".format(valid_recall_cube_2f))\n",
    "print(\"Patient 12:\\t\", \"{0:.6f}\".format(valid_recall_cube_3f), \"\\tPatient 8:\\t\", \"{0:.6f}\".format(valid_recall_cube_4f))\n",
    "print(\"Patient 5:\\t\", \"{0:.6f}\".format(valid_recall_cube_5f), \"\\tPatient 14:\\t\", \"{0:.6f}\".format(valid_recall_cube_6f))\n",
    "print(\"Patient 2:\\t\", \"{0:.6f}\".format(valid_recall_cube_7f), \"\\tPatient 3:\\t\", \"{0:.6f}\".format(valid_recall_cube_8f))\n",
    "print(\"Patient 6:\\t\", \"{0:.6f}\".format(valid_recall_cube_9f), \"\\tPatient 9:\\t\", \"{0:.6f}\".format(valid_recall_cube_10f))\n",
    "print(\"Patient 1:\\t\", \"{0:.6f}\".format(valid_recall_cube_11f), \"\\tPatient 10:\\t\", \"{0:.6f}\".format(valid_recall_cube_12f))\n",
    "print(\"Patient 13:\\t\", \"{0:.6f}\".format(valid_recall_cube_13f))\n",
    "\n",
    "val_recall_cube_total = (valid_recall_cube_1f+valid_recall_cube_2f+valid_recall_cube_3f+valid_recall_cube_4f+\n",
    "                         valid_recall_cube_5f+valid_recall_cube_6f+valid_recall_cube_7f+valid_recall_cube_8f+\n",
    "                         valid_recall_cube_9f+valid_recall_cube_10f+valid_recall_cube_11f+valid_recall_cube_12f+\n",
    "                         valid_recall_cube_13f)\n",
    "val_recall_cube_average = val_recall_cube_total/13\n",
    "\n",
    "print(\"Average Hypercube Recall:\\t\", val_recall_cube_average)"
   ]
  },
  {
   "cell_type": "code",
   "execution_count": 390,
   "metadata": {},
   "outputs": [
    {
     "name": "stdout",
     "output_type": "stream",
     "text": [
      "Hypercube F1 Score:\n",
      "Patient 7:\t 0.631579 \tPatient 4:\t 0.631579\n",
      "Patient 12:\t 0.700000 \tPatient 8:\t 0.000000\n",
      "Patient 5:\t 0.666667 \tPatient 14:\t 0.888889\n",
      "Patient 2:\t 0.000000 \tPatient 3:\t 0.750000\n",
      "Patient 6:\t 0.363636 \tPatient 9:\t 0.000000\n",
      "Patient 1:\t 0.800000 \tPatient 10:\t 0.560000\n",
      "Patient 13:\t 0.615385\n",
      "Average Hypercube F1 Score:\t 0.5239226492940976\n"
     ]
    }
   ],
   "source": [
    "print(\"Hypercube F1 Score:\")\n",
    "print(\"Patient 7:\\t\", \"{0:.6f}\".format(valid_f1_cube_1f), \"\\tPatient 4:\\t\", \"{0:.6f}\".format(valid_f1_cube_2f))\n",
    "print(\"Patient 12:\\t\", \"{0:.6f}\".format(valid_f1_cube_3f), \"\\tPatient 8:\\t\", \"{0:.6f}\".format(valid_f1_cube_4f))\n",
    "print(\"Patient 5:\\t\", \"{0:.6f}\".format(valid_f1_cube_5f), \"\\tPatient 14:\\t\", \"{0:.6f}\".format(valid_f1_cube_6f))\n",
    "print(\"Patient 2:\\t\", \"{0:.6f}\".format(valid_f1_cube_7f), \"\\tPatient 3:\\t\", \"{0:.6f}\".format(valid_f1_cube_8f))\n",
    "print(\"Patient 6:\\t\", \"{0:.6f}\".format(valid_f1_cube_9f), \"\\tPatient 9:\\t\", \"{0:.6f}\".format(valid_f1_cube_10f))\n",
    "print(\"Patient 1:\\t\", \"{0:.6f}\".format(valid_f1_cube_11f), \"\\tPatient 10:\\t\", \"{0:.6f}\".format(valid_f1_cube_12f))\n",
    "print(\"Patient 13:\\t\", \"{0:.6f}\".format(valid_f1_cube_13f))\n",
    "\n",
    "val_f1_cube_total = (valid_f1_cube_1f+valid_f1_cube_2f+valid_f1_cube_3f+valid_f1_cube_4f+valid_f1_cube_5f+\n",
    "                     valid_f1_cube_6f+valid_f1_cube_7f+valid_f1_cube_8f+valid_f1_cube_9f+valid_f1_cube_10f+\n",
    "                     valid_f1_cube_11f+valid_f1_cube_12f+valid_f1_cube_13f)\n",
    "val_f1_cube_average = val_f1_total/13\n",
    "\n",
    "print(\"Average Hypercube F1 Score:\\t\", val_f1_average)"
   ]
  },
  {
   "cell_type": "code",
   "execution_count": 391,
   "metadata": {},
   "outputs": [],
   "source": [
    "\n",
    "valid_pd_cm_cube_1f = pd.DataFrame(validation_cm_cube_1f, index=['true:Leasional', 'true:Nonleasional'], \n",
    "                                   columns=['pred:Leasional', 'pred:Nonleasional'])\n",
    "valid_pd_cm_cube_2f = pd.DataFrame(validation_cm_cube_2f, index=['true:Leasional', 'true:Nonleasional'], \n",
    "                                   columns=['pred:Leasional', 'pred:Nonleasional'])\n",
    "valid_pd_cm_cube_3f = pd.DataFrame(validation_cm_cube_3f, index=['true:Leasional', 'true:Nonleasional'], \n",
    "                                   columns=['pred:Leasional', 'pred:Nonleasional'])\n",
    "valid_pd_cm_cube_4f = pd.DataFrame(validation_cm_cube_4f, index=['true:Leasional', 'true:Nonleasional'], \n",
    "                                   columns=['pred:Leasional', 'pred:Nonleasional'])\n",
    "valid_pd_cm_cube_5f = pd.DataFrame(validation_cm_cube_5f, index=['true:Leasional', 'true:Nonleasional'], \n",
    "                                   columns=['pred:Leasional', 'pred:Nonleasional'])\n",
    "valid_pd_cm_cube_6f = pd.DataFrame(validation_cm_cube_6f, index=['true:Leasional', 'true:Nonleasional'], \n",
    "                                   columns=['pred:Leasional', 'pred:Nonleasional'])\n",
    "valid_pd_cm_cube_7f = pd.DataFrame(validation_cm_cube_7f, index=['true:Leasional', 'true:Nonleasional'], \n",
    "                                   columns=['pred:Leasional', 'pred:Nonleasional'])\n",
    "valid_pd_cm_cube_8f = pd.DataFrame(validation_cm_cube_8f, index=['true:Leasional', 'true:Nonleasional'], \n",
    "                                   columns=['pred:Leasional', 'pred:Nonleasional'])\n",
    "valid_pd_cm_cube_9f = pd.DataFrame(validation_cm_cube_9f, index=['true:Leasional', 'true:Nonleasional'], \n",
    "                                   columns=['pred:Leasional', 'pred:Nonleasional'])\n",
    "valid_pd_cm_cube_10f = pd.DataFrame(validation_cm_cube_10f, index=['true:Leasional', 'true:Nonleasional'], \n",
    "                                    columns=['pred:Leasional', 'pred:Nonleasional'])\n",
    "valid_pd_cm_cube_11f = pd.DataFrame(validation_cm_cube_11f, index=['true:Leasional', 'true:Nonleasional'], \n",
    "                                    columns=['pred:Leasional', 'pred:Nonleasional'])\n",
    "valid_pd_cm_cube_12f = pd.DataFrame(validation_cm_cube_12f, index=['true:Leasional', 'true:Nonleasional'], \n",
    "                                    columns=['pred:Leasional', 'pred:Nonleasional'])\n",
    "valid_pd_cm_cube_13f = pd.DataFrame(validation_cm_cube_13f, index=['true:Leasional', 'true:Nonleasional'], \n",
    "                                    columns=['pred:Leasional', 'pred:Nonleasional'])"
   ]
  },
  {
   "cell_type": "code",
   "execution_count": 392,
   "metadata": {
    "scrolled": false
   },
   "outputs": [
    {
     "name": "stdout",
     "output_type": "stream",
     "text": [
      "Sum of Hypercube Confusion Matrices:\n"
     ]
    },
    {
     "data": {
      "text/html": [
       "<div>\n",
       "<style scoped>\n",
       "    .dataframe tbody tr th:only-of-type {\n",
       "        vertical-align: middle;\n",
       "    }\n",
       "\n",
       "    .dataframe tbody tr th {\n",
       "        vertical-align: top;\n",
       "    }\n",
       "\n",
       "    .dataframe thead th {\n",
       "        text-align: right;\n",
       "    }\n",
       "</style>\n",
       "<table border=\"1\" class=\"dataframe\">\n",
       "  <thead>\n",
       "    <tr style=\"text-align: right;\">\n",
       "      <th></th>\n",
       "      <th>pred:Leasional</th>\n",
       "      <th>pred:Nonleasional</th>\n",
       "    </tr>\n",
       "  </thead>\n",
       "  <tbody>\n",
       "    <tr>\n",
       "      <th>true:Leasional</th>\n",
       "      <td>45</td>\n",
       "      <td>43</td>\n",
       "    </tr>\n",
       "    <tr>\n",
       "      <th>true:Nonleasional</th>\n",
       "      <td>36</td>\n",
       "      <td>51</td>\n",
       "    </tr>\n",
       "  </tbody>\n",
       "</table>\n",
       "</div>"
      ],
      "text/plain": [
       "                   pred:Leasional  pred:Nonleasional\n",
       "true:Leasional                 45                 43\n",
       "true:Nonleasional              36                 51"
      ]
     },
     "execution_count": 392,
     "metadata": {},
     "output_type": "execute_result"
    }
   ],
   "source": [
    "# Hypercube Validation Confusion Matrix \n",
    "print(\"Sum of Hypercube Confusion Matrices:\")\n",
    "valid_concat_cube = pd.concat((valid_pd_cm_cube_1f,valid_pd_cm_cube_2f,valid_pd_cm_cube_3f,valid_pd_cm_cube_4f,\n",
    "                               valid_pd_cm_cube_5f,valid_pd_cm_cube_6f,valid_pd_cm_cube_7f,valid_pd_cm_cube_8f,\n",
    "                               valid_pd_cm_cube_9f,valid_pd_cm_cube_10f,valid_pd_cm_cube_11f,valid_pd_cm_cube_12f,\n",
    "                               valid_pd_cm_cube_13f))\n",
    "validation_cm_group_cube =  valid_concat_cube.groupby(valid_concat_cube.index)\n",
    "\n",
    "validation_cm_group_cube.sum()"
   ]
  },
  {
   "cell_type": "code",
   "execution_count": 393,
   "metadata": {},
   "outputs": [],
   "source": [
    "# Overall Validation Cube\n",
    "y_overall_cube = np.array([],dtype=np.int16)\n",
    "for cube in hypercube_key_sorted:\n",
    "    if cube.endswith('N'):\n",
    "        cube_class = 1\n",
    "    else:\n",
    "        cube_class = 0\n",
    "    y_overall_cube = np.append(y_overall_cube,cube_class)"
   ]
  },
  {
   "cell_type": "code",
   "execution_count": 395,
   "metadata": {},
   "outputs": [],
   "source": [
    "y_overall_pred_cube = group_hypercube(y_segment_total, cube_threshold, hypercube_key_sorted, total_bands)"
   ]
  },
  {
   "cell_type": "code",
   "execution_count": 396,
   "metadata": {},
   "outputs": [
    {
     "name": "stdout",
     "output_type": "stream",
     "text": [
      "Validation Statistics, Overall Hypercube Statistics:\n",
      "Accuracy:\t\t 0.5485714285714286 \n",
      "Precision:\t\t 0.5425531914893617\n",
      "Recall:\t\t\t 0.5862068965517241 \n",
      "F1 Score:\t\t 0.56353591160221\n"
     ]
    }
   ],
   "source": [
    "valid_accuracy_overall_cube = accuracy_score(y_overall_cube,y_overall_pred_cube)\n",
    "valid_precision_overall_cube = precision_score(y_overall_cube, y_overall_pred_cube)\n",
    "valid_recall_overall_cube = recall_score(y_overall_cube, y_overall_pred_cube)\n",
    "valid_f1_overall_cube = f1_score(y_overall_cube, y_overall_pred_cube)\n",
    "\n",
    "print(\"Validation Statistics, Overall Hypercube Statistics:\\nAccuracy:\\t\\t\",valid_accuracy_overall_cube,\n",
    "      \"\\nPrecision:\\t\\t\",valid_precision_overall_cube)\n",
    "print(\"Recall:\\t\\t\\t\",valid_recall_overall_cube,\"\\nF1 Score:\\t\\t\",valid_f1_overall_cube)"
   ]
  },
  {
   "cell_type": "code",
   "execution_count": 397,
   "metadata": {},
   "outputs": [
    {
     "name": "stdout",
     "output_type": "stream",
     "text": [
      "_________________________________________________________________________________________\n"
     ]
    }
   ],
   "source": [
    "print('_________________________________________________________________________________________')"
   ]
  },
  {
   "cell_type": "code",
   "execution_count": 398,
   "metadata": {},
   "outputs": [
    {
     "name": "stdout",
     "output_type": "stream",
     "text": [
      "Validation Hypercube Statistics:\n",
      "Hypercube Accuracy (Averaged over the last 20 epochs):\n",
      "Patient 7:\t 0.642857 \tPatient 4:\t 0.721429\n",
      "Patient 12:\t 0.718421 \tPatient 8:\t 0.136667\n",
      "Patient 5:\t 0.769444 \tPatient 14:\t 0.780000\n",
      "Patient 2:\t 0.511111 \tPatient 3:\t 0.843750\n",
      "Patient 6:\t 0.450000 \tPatient 9:\t 0.546667\n",
      "Patient 1:\t 0.670000 \tPatient 10:\t 0.567500\n",
      "Patient 13:\t 0.536364\n",
      "Average of Hypercube Accuracy Averages:\t 0.6072468686284476\n"
     ]
    }
   ],
   "source": [
    "# CV Summary - Validation Hypercube Statistics (Averaged over the last 20 epochs)\n",
    "print(\"Validation Hypercube Statistics:\")\n",
    "print(\"Hypercube Accuracy (Averaged over the last 20 epochs):\")\n",
    "print(\"Patient 7:\\t\", \"{0:.6f}\".format(avg_vc_acc_1f), \"\\tPatient 4:\\t\", \"{0:.6f}\".format(avg_vc_acc_2f))\n",
    "print(\"Patient 12:\\t\", \"{0:.6f}\".format(avg_vc_acc_3f), \"\\tPatient 8:\\t\", \"{0:.6f}\".format(avg_vc_acc_4f))\n",
    "print(\"Patient 5:\\t\", \"{0:.6f}\".format(avg_vc_acc_5f), \"\\tPatient 14:\\t\", \"{0:.6f}\".format(avg_vc_acc_6f))\n",
    "print(\"Patient 2:\\t\", \"{0:.6f}\".format(avg_vc_acc_7f), \"\\tPatient 3:\\t\", \"{0:.6f}\".format(avg_vc_acc_8f))\n",
    "print(\"Patient 6:\\t\", \"{0:.6f}\".format(avg_vc_acc_9f), \"\\tPatient 9:\\t\", \"{0:.6f}\".format(avg_vc_acc_10f))\n",
    "print(\"Patient 1:\\t\", \"{0:.6f}\".format(avg_vc_acc_11f), \"\\tPatient 10:\\t\", \"{0:.6f}\".format(avg_vc_acc_12f))\n",
    "print(\"Patient 13:\\t\", \"{0:.6f}\".format(avg_vc_acc_13f))\n",
    "\n",
    "avg_val_accuracy_cube_total = (avg_vc_acc_1f+avg_vc_acc_2f+avg_vc_acc_3f+avg_vc_acc_4f+avg_vc_acc_5f+\n",
    "                               avg_vc_acc_6f+avg_vc_acc_7f+avg_vc_acc_8f+avg_vc_acc_9f+avg_vc_acc_10f+\n",
    "                               avg_vc_acc_11f+avg_vc_acc_12f+avg_vc_acc_13f)\n",
    "avg_val_accuracy_cube_average = avg_val_accuracy_cube_total/13\n",
    "\n",
    "print(\"Average of Hypercube Accuracy Averages:\\t\", avg_val_accuracy_cube_average)"
   ]
  },
  {
   "cell_type": "code",
   "execution_count": 399,
   "metadata": {},
   "outputs": [
    {
     "name": "stdout",
     "output_type": "stream",
     "text": [
      "Hypercube Precision (Averaged over the last 20 epochs):\n",
      "Patient 7:\t 0.448775 \tPatient 4:\t 0.739881\n",
      "Patient 12:\t 0.736977 \tPatient 8:\t 0.017361\n",
      "Patient 5:\t 0.840317 \tPatient 14:\t 0.798750\n",
      "Patient 2:\t 0.304067 \tPatient 3:\t 1.000000\n",
      "Patient 6:\t 0.509048 \tPatient 9:\t 0.615794\n",
      "Patient 1:\t 0.588333 \tPatient 10:\t 0.892778\n",
      "Patient 13:\t 0.579603\n",
      "Average of Hypercube Precision Averages:\t 0.6208987700333854\n"
     ]
    }
   ],
   "source": [
    "print(\"Hypercube Precision (Averaged over the last 20 epochs):\")\n",
    "print(\"Patient 7:\\t\", \"{0:.6f}\".format(avg_vc_prec_1f), \"\\tPatient 4:\\t\", \"{0:.6f}\".format(avg_vc_prec_2f))\n",
    "print(\"Patient 12:\\t\", \"{0:.6f}\".format(avg_vc_prec_3f), \"\\tPatient 8:\\t\", \"{0:.6f}\".format(avg_vc_prec_4f))\n",
    "print(\"Patient 5:\\t\", \"{0:.6f}\".format(avg_vc_prec_5f), \"\\tPatient 14:\\t\", \"{0:.6f}\".format(avg_vc_prec_6f))\n",
    "print(\"Patient 2:\\t\", \"{0:.6f}\".format(avg_vc_prec_7f), \"\\tPatient 3:\\t\", \"{0:.6f}\".format(avg_vc_prec_8f))\n",
    "print(\"Patient 6:\\t\", \"{0:.6f}\".format(avg_vc_prec_9f), \"\\tPatient 9:\\t\", \"{0:.6f}\".format(avg_vc_prec_10f))\n",
    "print(\"Patient 1:\\t\", \"{0:.6f}\".format(avg_vc_prec_11f), \"\\tPatient 10:\\t\", \"{0:.6f}\".format(avg_vc_prec_12f))\n",
    "print(\"Patient 13:\\t\", \"{0:.6f}\".format(avg_vc_prec_13f))\n",
    "\n",
    "avg_val_precision_cube_total = (avg_vc_prec_1f+avg_vc_prec_2f+avg_vc_prec_3f+avg_vc_prec_4f+avg_vc_prec_5f+\n",
    "                                avg_vc_prec_6f+avg_vc_prec_7f+avg_vc_prec_8f+avg_vc_prec_9f+avg_vc_prec_10f+\n",
    "                                avg_vc_prec_11f+avg_vc_prec_12f+avg_vc_prec_13f)\n",
    "avg_val_precision_cube_average = avg_val_precision_cube_total/13\n",
    "\n",
    "print(\"Average of Hypercube Precision Averages:\\t\", avg_val_precision_cube_average)"
   ]
  },
  {
   "cell_type": "code",
   "execution_count": 400,
   "metadata": {},
   "outputs": [
    {
     "name": "stdout",
     "output_type": "stream",
     "text": [
      "Hypercube Recall (Averaged over the last 20 epochs):\n",
      "Patient 7:\t 0.991667 \tPatient 4:\t 0.541667\n",
      "Patient 12:\t 0.688889 \tPatient 8:\t 0.025000\n",
      "Patient 5:\t 0.666667 \tPatient 14:\t 0.968750\n",
      "Patient 2:\t 0.487500 \tPatient 3:\t 0.750000\n",
      "Patient 6:\t 0.450000 \tPatient 9:\t 0.262500\n",
      "Patient 1:\t 1.000000 \tPatient 10:\t 0.354167\n",
      "Patient 13:\t 0.666667\n",
      "Average of Hypercube Recall Averages:\t 0.6041132478632479\n"
     ]
    }
   ],
   "source": [
    "print(\"Hypercube Recall (Averaged over the last 20 epochs):\")\n",
    "print(\"Patient 7:\\t\", \"{0:.6f}\".format(avg_vc_re_1f), \"\\tPatient 4:\\t\", \"{0:.6f}\".format(avg_vc_re_2f))\n",
    "print(\"Patient 12:\\t\", \"{0:.6f}\".format(avg_vc_re_3f), \"\\tPatient 8:\\t\", \"{0:.6f}\".format(avg_vc_re_4f))\n",
    "print(\"Patient 5:\\t\", \"{0:.6f}\".format(avg_vc_re_5f), \"\\tPatient 14:\\t\", \"{0:.6f}\".format(avg_vc_re_6f))\n",
    "print(\"Patient 2:\\t\", \"{0:.6f}\".format(avg_vc_re_7f), \"\\tPatient 3:\\t\", \"{0:.6f}\".format(avg_vc_re_8f))\n",
    "print(\"Patient 6:\\t\", \"{0:.6f}\".format(avg_vc_re_9f), \"\\tPatient 9:\\t\", \"{0:.6f}\".format(avg_vc_re_10f))\n",
    "print(\"Patient 1:\\t\", \"{0:.6f}\".format(avg_vc_re_11f), \"\\tPatient 10:\\t\", \"{0:.6f}\".format(avg_vc_re_12f))\n",
    "print(\"Patient 13:\\t\", \"{0:.6f}\".format(avg_vc_re_13f))\n",
    "\n",
    "avg_val_recall_cube_total = (avg_vc_re_1f+avg_vc_re_2f+avg_vc_re_3f+avg_vc_re_4f+avg_vc_re_5f+\n",
    "                             avg_vc_re_6f+avg_vc_re_7f+avg_vc_re_8f+avg_vc_re_9f+avg_vc_re_10f+\n",
    "                             avg_vc_re_11f+avg_vc_re_12f+avg_vc_re_13f)\n",
    "avg_val_recall_cube_average = avg_val_recall_cube_total/13\n",
    "\n",
    "print(\"Average of Hypercube Recall Averages:\\t\", avg_val_recall_cube_average)"
   ]
  },
  {
   "cell_type": "code",
   "execution_count": 401,
   "metadata": {},
   "outputs": [
    {
     "name": "stdout",
     "output_type": "stream",
     "text": [
      "Hypercube F1 Score (Averaged over the last 20 epochs):\n",
      "Patient 7:\t 0.616560 \tPatient 4:\t 0.620381\n",
      "Patient 12:\t 0.695835 \tPatient 8:\t 0.020476\n",
      "Patient 5:\t 0.736456 \tPatient 14:\t 0.874306\n",
      "Patient 2:\t 0.346229 \tPatient 3:\t 0.852778\n",
      "Patient 6:\t 0.462686 \tPatient 9:\t 0.342625\n",
      "Patient 1:\t 0.727619 \tPatient 10:\t 0.493557\n",
      "Patient 13:\t 0.615511\n",
      "Average of Hypercube F1 Averages:\t 0.5521176309880651\n"
     ]
    }
   ],
   "source": [
    "print(\"Hypercube F1 Score (Averaged over the last 20 epochs):\")\n",
    "print(\"Patient 7:\\t\", \"{0:.6f}\".format(avg_vc_f1_1f), \"\\tPatient 4:\\t\", \"{0:.6f}\".format(avg_vc_f1_2f))\n",
    "print(\"Patient 12:\\t\", \"{0:.6f}\".format(avg_vc_f1_3f), \"\\tPatient 8:\\t\", \"{0:.6f}\".format(avg_vc_f1_4f))\n",
    "print(\"Patient 5:\\t\", \"{0:.6f}\".format(avg_vc_f1_5f), \"\\tPatient 14:\\t\", \"{0:.6f}\".format(avg_vc_f1_6f))\n",
    "print(\"Patient 2:\\t\", \"{0:.6f}\".format(avg_vc_f1_7f), \"\\tPatient 3:\\t\", \"{0:.6f}\".format(avg_vc_f1_8f))\n",
    "print(\"Patient 6:\\t\", \"{0:.6f}\".format(avg_vc_f1_9f), \"\\tPatient 9:\\t\", \"{0:.6f}\".format(avg_vc_f1_10f))\n",
    "print(\"Patient 1:\\t\", \"{0:.6f}\".format(avg_vc_f1_11f), \"\\tPatient 10:\\t\", \"{0:.6f}\".format(avg_vc_f1_12f))\n",
    "print(\"Patient 13:\\t\", \"{0:.6f}\".format(avg_vc_f1_13f))\n",
    "\n",
    "avg_val_f1_cube_total = (avg_vc_f1_1f+avg_vc_f1_2f+avg_vc_f1_3f+avg_vc_f1_4f+avg_vc_f1_5f+\n",
    "                         avg_vc_f1_6f+avg_vc_f1_7f+avg_vc_f1_8f+avg_vc_f1_9f+avg_vc_f1_10f+\n",
    "                         avg_vc_f1_11f+avg_vc_f1_12f+avg_vc_f1_13f)\n",
    "avg_val_f1_cube_average = avg_val_f1_total/13\n",
    "\n",
    "print(\"Average of Hypercube F1 Averages:\\t\", avg_val_f1_average)"
   ]
  },
  {
   "cell_type": "code",
   "execution_count": 402,
   "metadata": {
    "scrolled": true
   },
   "outputs": [
    {
     "name": "stdout",
     "output_type": "stream",
     "text": [
      "Sum of Averages of Hypercube Confusion Matrices:\n"
     ]
    },
    {
     "data": {
      "text/html": [
       "<div>\n",
       "<style scoped>\n",
       "    .dataframe tbody tr th:only-of-type {\n",
       "        vertical-align: middle;\n",
       "    }\n",
       "\n",
       "    .dataframe tbody tr th {\n",
       "        vertical-align: top;\n",
       "    }\n",
       "\n",
       "    .dataframe thead th {\n",
       "        text-align: right;\n",
       "    }\n",
       "</style>\n",
       "<table border=\"1\" class=\"dataframe\">\n",
       "  <thead>\n",
       "    <tr style=\"text-align: right;\">\n",
       "      <th></th>\n",
       "      <th>pred:Leasional</th>\n",
       "      <th>pred:Nonleasional</th>\n",
       "    </tr>\n",
       "  </thead>\n",
       "  <tbody>\n",
       "    <tr>\n",
       "      <th>true:Leasional</th>\n",
       "      <td>55.55</td>\n",
       "      <td>32.45</td>\n",
       "    </tr>\n",
       "    <tr>\n",
       "      <th>true:Nonleasional</th>\n",
       "      <td>36.95</td>\n",
       "      <td>50.05</td>\n",
       "    </tr>\n",
       "  </tbody>\n",
       "</table>\n",
       "</div>"
      ],
      "text/plain": [
       "                   pred:Leasional  pred:Nonleasional\n",
       "true:Leasional              55.55              32.45\n",
       "true:Nonleasional           36.95              50.05"
      ]
     },
     "execution_count": 402,
     "metadata": {},
     "output_type": "execute_result"
    }
   ],
   "source": [
    "# Average Hypercube Validation Confusion Matrix\n",
    "print(\"Sum of Averages of Hypercube Confusion Matrices:\")\n",
    "avg_valid_concat_cube = pd.concat((avg_vc_cm_1f,avg_vc_cm_2f,avg_vc_cm_3f,avg_vc_cm_4f,avg_vc_cm_5f,\n",
    "                                   avg_vc_cm_6f,avg_vc_cm_7f,avg_vc_cm_8f,avg_vc_cm_9f,avg_vc_cm_10f,\n",
    "                                   avg_vc_cm_11f,avg_vc_cm_12f,avg_vc_cm_13f))\n",
    "avg_validation_cm_group_cube =  avg_valid_concat_cube.groupby(avg_valid_concat_cube.index)\n",
    "\n",
    "avg_validation_cm_group_cube.sum()/20"
   ]
  },
  {
   "cell_type": "code",
   "execution_count": 403,
   "metadata": {},
   "outputs": [],
   "source": [
    "over_acc_mat = np.array([],dtype=np.int16)\n",
    "over_prec_mat = np.array([],dtype=np.int16)\n",
    "over_recall_mat = np.array([],dtype=np.int16)\n",
    "over_f1_mat = np.array([],dtype=np.int16)\n",
    "over_confuse_mat = []\n",
    "for i in range(20):\n",
    "    y_overall_avg_cube = group_hypercube(y_avg_seg_total_mat[i], cube_threshold, hypercube_key_sorted, total_bands)\n",
    "    index_acc = accuracy_score(y_overall_cube, y_overall_avg_cube)\n",
    "    over_acc_mat = np.append(over_acc_mat, index_acc)\n",
    "    index_prec = precision_score(y_overall_cube, y_overall_avg_cube)\n",
    "    over_prec_mat = np.append(over_prec_mat, index_prec)        \n",
    "    index_recall = recall_score(y_overall_cube, y_overall_avg_cube)\n",
    "    over_recall_mat = np.append(over_recall_mat, index_recall)        \n",
    "    index_f1 = f1_score(y_overall_cube, y_overall_avg_cube)\n",
    "    over_f1_mat = np.append(over_f1_mat, index_f1)\n",
    "    cm_label = np.unique(y_overall_cube)\n",
    "    index_cm = confusion_matrix(y_overall_cube, y_overall_avg_cube, labels=cm_label)\n",
    "    pd_cm = pd.DataFrame(index_cm, index=['true:Leasional', 'true:Nonleasional'], \n",
    "                         columns=['pred:Leasional', 'pred:Nonleasional'])\n",
    "    over_confuse_mat.append(pd_cm)\n",
    "over_cube_avg_acc = np.mean(over_acc_mat)\n",
    "over_cube_avg_prec = np.mean(over_prec_mat)\n",
    "over_cube_avg_recall = np.mean(over_recall_mat)\n",
    "over_cube_avg_f1 = np.mean(over_f1_mat)\n",
    "over_cube_avg_cm = pd.concat(over_confuse_mat)"
   ]
  },
  {
   "cell_type": "code",
   "execution_count": 404,
   "metadata": {},
   "outputs": [
    {
     "name": "stdout",
     "output_type": "stream",
     "text": [
      "Average Validation Segment Statistics (Over 20 Epochs), Overall Segment Statistics:\n",
      "Accuracy:\t\t 0.6034285714285714 \n",
      "Precision:\t\t 0.6090331228541552\n",
      "Recall:\t\t\t 0.5752873563218391 \n",
      "F1 Score:\t\t 0.5903489314699786\n"
     ]
    }
   ],
   "source": [
    "print(\"Average Validation Segment Statistics (Over 20 Epochs), Overall Segment Statistics:\\nAccuracy:\\t\\t\",over_cube_avg_acc,\n",
    "      \"\\nPrecision:\\t\\t\",over_cube_avg_prec)\n",
    "print(\"Recall:\\t\\t\\t\",over_cube_avg_recall,\"\\nF1 Score:\\t\\t\",over_cube_avg_f1)"
   ]
  },
  {
   "cell_type": "code",
   "execution_count": 405,
   "metadata": {},
   "outputs": [
    {
     "data": {
      "text/html": [
       "<div>\n",
       "<style scoped>\n",
       "    .dataframe tbody tr th:only-of-type {\n",
       "        vertical-align: middle;\n",
       "    }\n",
       "\n",
       "    .dataframe tbody tr th {\n",
       "        vertical-align: top;\n",
       "    }\n",
       "\n",
       "    .dataframe thead th {\n",
       "        text-align: right;\n",
       "    }\n",
       "</style>\n",
       "<table border=\"1\" class=\"dataframe\">\n",
       "  <thead>\n",
       "    <tr style=\"text-align: right;\">\n",
       "      <th></th>\n",
       "      <th>pred:Leasional</th>\n",
       "      <th>pred:Nonleasional</th>\n",
       "    </tr>\n",
       "  </thead>\n",
       "  <tbody>\n",
       "    <tr>\n",
       "      <th>true:Leasional</th>\n",
       "      <td>55.55</td>\n",
       "      <td>32.45</td>\n",
       "    </tr>\n",
       "    <tr>\n",
       "      <th>true:Nonleasional</th>\n",
       "      <td>36.95</td>\n",
       "      <td>50.05</td>\n",
       "    </tr>\n",
       "  </tbody>\n",
       "</table>\n",
       "</div>"
      ],
      "text/plain": [
       "                   pred:Leasional  pred:Nonleasional\n",
       "true:Leasional              55.55              32.45\n",
       "true:Nonleasional           36.95              50.05"
      ]
     },
     "execution_count": 405,
     "metadata": {},
     "output_type": "execute_result"
    }
   ],
   "source": [
    "over_cube_avg_cm =  over_cube_avg_cm.groupby(over_cube_avg_cm.index)\n",
    "\n",
    "over_cube_avg_cm.mean()"
   ]
  },
  {
   "cell_type": "code",
   "execution_count": 406,
   "metadata": {},
   "outputs": [
    {
     "name": "stdout",
     "output_type": "stream",
     "text": [
      "_________________________________________________________________________________________\n"
     ]
    }
   ],
   "source": [
    "print('_________________________________________________________________________________________')"
   ]
  },
  {
   "cell_type": "code",
   "execution_count": 407,
   "metadata": {},
   "outputs": [
    {
     "name": "stdout",
     "output_type": "stream",
     "text": [
      "Validation Run:\n",
      "Segment Summary (Averaged by Patient):\n",
      "Accuracy:\t\t 0.5763539553705758 \n",
      "Precision:\t\t 0.5331807318132541\n",
      "Recall:\t\t\t 0.5795265407107513 \n",
      "F1 Score:\t\t 0.5239226492940976\n",
      "Segment Summary  (Averaged by Patient), Averaged over the last 20 epochs:\n",
      "Accuracy:\t\t 0.586755145439356 \n",
      "Precision:\t\t 0.6047771763500507\n",
      "Recall:\t\t\t 0.5880482456140351 \n",
      "F1 Score:\t\t 0.5521176309880651\n",
      "Hypercube Summary  (Averaged by Patient):\n",
      "Accuracy:\t\t 0.5629656892814787 \n",
      "Precision:\t\t 0.4771280002049233\n",
      "Recall:\t\t\t 0.5867521367521367 \n",
      "F1 Score:\t\t 0.5239226492940976\n",
      "Hypercube Summary  (Averaged by Patient), Averaged over the last 20 epochs:\n",
      "Accuracy:\t\t 0.6072468686284476 \n",
      "Precision:\t\t 0.6208987700333854\n",
      "Recall:\t\t\t 0.6041132478632479 \n",
      "F1 Score:\t\t 0.5521176309880651\n"
     ]
    }
   ],
   "source": [
    "print(\"Validation Run:\\nSegment Summary (Averaged by Patient):\\nAccuracy:\\t\\t\",val_accuracy_average,\n",
    "      \"\\nPrecision:\\t\\t\",val_precision_average)\n",
    "print(\"Recall:\\t\\t\\t\",val_recall_average,\"\\nF1 Score:\\t\\t\",val_f1_average)\n",
    "\n",
    "print(\"Segment Summary  (Averaged by Patient), Averaged over the last 20 epochs:\\nAccuracy:\\t\\t\",avg_val_accuracy_average,\n",
    "      \"\\nPrecision:\\t\\t\",avg_val_precision_average)\n",
    "print(\"Recall:\\t\\t\\t\",avg_val_recall_average,\"\\nF1 Score:\\t\\t\",avg_val_f1_average)\n",
    "\n",
    "print(\"Hypercube Summary  (Averaged by Patient):\\nAccuracy:\\t\\t\",val_accuracy_cube_average,\n",
    "      \"\\nPrecision:\\t\\t\",val_precision_cube_average)\n",
    "print(\"Recall:\\t\\t\\t\",val_recall_cube_average,\"\\nF1 Score:\\t\\t\",val_f1_cube_average)\n",
    "\n",
    "print(\"Hypercube Summary  (Averaged by Patient), Averaged over the last 20 epochs:\\nAccuracy:\\t\\t\",avg_val_accuracy_cube_average,\n",
    "      \"\\nPrecision:\\t\\t\",avg_val_precision_cube_average)\n",
    "print(\"Recall:\\t\\t\\t\",avg_val_recall_cube_average,\"\\nF1 Score:\\t\\t\",avg_val_f1_cube_average)"
   ]
  },
  {
   "cell_type": "code",
   "execution_count": 408,
   "metadata": {},
   "outputs": [
    {
     "name": "stdout",
     "output_type": "stream",
     "text": [
      "Validation Run:\n",
      "Segment Summary (Overall):\n",
      "Accuracy:\t\t 0.5630075187969925 \n",
      "Precision:\t\t 0.559206631142688\n",
      "Recall:\t\t\t 0.5713853599516031 \n",
      "F1 Score:\t\t 0.5652304009575105\n",
      "Segment Summary  (Overall), Averaged over the last 20 epochs:\n",
      "Accuracy:\t\t 0.5843308270676693 \n",
      "Precision:\t\t 0.587073723255066\n",
      "Recall:\t\t\t 0.5604053236539625 \n",
      "F1 Score:\t\t 0.5723254183157879\n",
      "Hypercube Summary  (Overall):\n",
      "Accuracy:\t\t 0.5485714285714286 \n",
      "Precision:\t\t 0.5425531914893617\n",
      "Recall:\t\t\t 0.5862068965517241 \n",
      "F1 Score:\t\t 0.56353591160221\n",
      "Hypercube Summary  (Overall), Averaged over the last 20 epochs:\n",
      "Accuracy:\t\t 0.6034285714285714 \n",
      "Precision:\t\t 0.6090331228541552\n",
      "Recall:\t\t\t 0.5752873563218391 \n",
      "F1 Score:\t\t 0.5903489314699786\n"
     ]
    }
   ],
   "source": [
    "print(\"Validation Run:\\nSegment Summary (Overall):\\nAccuracy:\\t\\t\",valid_accuracy_overall,\n",
    "      \"\\nPrecision:\\t\\t\",valid_precision_overall)\n",
    "print(\"Recall:\\t\\t\\t\",valid_recall_overall,\"\\nF1 Score:\\t\\t\",valid_f1_overall)\n",
    "\n",
    "print(\"Segment Summary  (Overall), Averaged over the last 20 epochs:\\nAccuracy:\\t\\t\",over_seg_avg_acc,\n",
    "      \"\\nPrecision:\\t\\t\",over_seg_avg_prec)\n",
    "print(\"Recall:\\t\\t\\t\",over_seg_avg_recall,\"\\nF1 Score:\\t\\t\",over_seg_avg_f1)\n",
    "\n",
    "print(\"Hypercube Summary  (Overall):\\nAccuracy:\\t\\t\",valid_accuracy_overall_cube,\n",
    "      \"\\nPrecision:\\t\\t\",valid_precision_overall_cube)\n",
    "print(\"Recall:\\t\\t\\t\",valid_recall_overall_cube,\"\\nF1 Score:\\t\\t\",valid_f1_overall_cube)\n",
    "\n",
    "print(\"Hypercube Summary  (Overall), Averaged over the last 20 epochs:\\nAccuracy:\\t\\t\",over_cube_avg_acc,\n",
    "      \"\\nPrecision:\\t\\t\",over_cube_avg_prec)\n",
    "print(\"Recall:\\t\\t\\t\",over_cube_avg_recall,\"\\nF1 Score:\\t\\t\",over_cube_avg_f1)"
   ]
  },
  {
   "cell_type": "code",
   "execution_count": 409,
   "metadata": {},
   "outputs": [],
   "source": [
    "hdf5_file.close()"
   ]
  },
  {
   "cell_type": "code",
   "execution_count": null,
   "metadata": {},
   "outputs": [],
   "source": []
  }
 ],
 "metadata": {
  "kernelspec": {
   "display_name": "Python 3",
   "language": "python",
   "name": "python3"
  },
  "language_info": {
   "codemirror_mode": {
    "name": "ipython",
    "version": 3
   },
   "file_extension": ".py",
   "mimetype": "text/x-python",
   "name": "python",
   "nbconvert_exporter": "python",
   "pygments_lexer": "ipython3",
   "version": "3.6.10"
  }
 },
 "nbformat": 4,
 "nbformat_minor": 2
}
