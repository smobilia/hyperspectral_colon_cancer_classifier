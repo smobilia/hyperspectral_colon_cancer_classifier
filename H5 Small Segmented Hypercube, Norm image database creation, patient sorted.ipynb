{
 "cells": [
  {
   "cell_type": "code",
   "execution_count": 1,
   "metadata": {},
   "outputs": [],
   "source": [
    "import h5py\n",
    "import imageio\n",
    "import numpy as np\n",
    "import pandas as pd\n",
    "import os\n",
    "import datetime\n",
    "\n",
    "from collections import defaultdict\n",
    "from random import sample"
   ]
  },
  {
   "cell_type": "code",
   "execution_count": 2,
   "metadata": {},
   "outputs": [],
   "source": [
    "np.random.seed(42)"
   ]
  },
  {
   "cell_type": "code",
   "execution_count": 3,
   "metadata": {},
   "outputs": [],
   "source": [
    "hypercube_key = ['FOV2__1L','FOV3__1L','FOV4__1L','FOV2__1N','FOV3__1N',\n",
    "                 'FOV2__2L','FOV3__2L','FOV4a__2L','FOV4b__2L','FOV5__2L','FOV2__2N','FOV3__2N',\n",
    "                 'FOV4__2N','FOV5__2N','FOV2__3L','FOV3__3L','FOV4__3L','FOV2__3N','FOV3__3N',\n",
    "                 'FOV4__3N','FOV5__3N','FOV6__3N','FOV2__4L','FOV3__4L','FOV4__4L','FOV5__4L',\n",
    "                 'FOV6__4L','FOV7__4L','FOV8__4L','FOV9__4L','FOV2__4N','FOV3__4N','FOV4__4N',\n",
    "                 'FOV5__4N','FOV6__4N','FOV7__4N','FOV2__5L','FOV3__5L','FOV4__5L','FOV5__5L',\n",
    "                 'FOV6__5L','FOV7__5L','FOV8__5L','FOV9__5L','FOV10__5L','FOV2__5N','FOV3__5N',\n",
    "                 'FOV4__5N','FOV5__5N','FOV6__5N','FOV7__5N','FOV8__5N','FOV9__5N','FOV10__5N',\n",
    "                 'FOV2__6L','FOV3__6L','FOV4__6L','FOV5__6L','FOV2__6N','FOV3__6N','FOV4__6N',\n",
    "                 'FOV5__6N','FOV6__6N','FOV7__6N','FOV2__7L','FOV3__7L','FOV4a__7L','FOV4b__7L', 'FOV5__7L',\n",
    "                 'FOV6__7L','FOV7__7L','FOV8__7L','FOV9__7L','FOV10__7L','FOV11__7L','FOV12__7L',\n",
    "                 'FOV13__7L','FOV14__7L','FOV15__7L','FOV2__7N','FOV3__7N','FOV4__7N','FOV5a__7N',\n",
    "                 'FOV5b__7N','FOV6__7N','FOV2__8L','FOV3__8L','FOV4__8L','FOV5__8L','FOV6__8L',\n",
    "                 'FOV7__8L','FOV8__8L','FOV9__8L','FOV10__8L','FOV2__8N','FOV3__8N','FOV4__8N',\n",
    "                 'FOV5__8N','FOV6__8N','FOV7__8N','FOV2__9L','FOV3__9L','FOV4__9L','FOV5__9L',\n",
    "                 'FOV6__9L','FOV7__9L','FOV8__9L','FOV2__9N','FOV3__9N','FOV4__9N','FOV5__9N',\n",
    "                 'FOV6__9N','FOV7__9N','FOV8__9N','FOV9__9N','FOV2__10L','FOV3__10L','FOV4__10L',\n",
    "                 'FOV5__10L','FOV6__10L','FOV7__10L','FOV8__10L','FOV9__10L','FOV2__10N','FOV3__10N',\n",
    "                 'FOV4__10N','FOV5__10N','FOV6__10N','FOV7__10N','FOV8__10N','FOV9__10N','FOV10__10N',\n",
    "                 'FOV11__10N','FOV12__10N','FOV13__10N','FOV2__12L','FOV3__12L','FOV4__12L','FOV5__12L',\n",
    "                 'FOV6__12L','FOV7__12L','FOV8__12L','FOV9__12L','FOV10__12L','FOV11__12L','FOV2__12N',\n",
    "                 'FOV3__12N','FOV4__12N','FOV5__12N','FOV6__12N','FOV7__12N','FOV8__12N','FOV9__12N','FOV10__12N',\n",
    "                 'FOV2__13L','FOV3__13L','FOV4__13L','FOV5__13L','FOV6__13L','FOV2__13N','FOV3__13N','FOV4__13N',\n",
    "                 'FOV5__13N','FOV6__13N','FOV7__13N','FOV4__14L','FOV5__14L','FOV2__14N','FOV3__14N','FOV4__14N',\n",
    "                 'FOV5__14N','FOV6__14N','FOV7__14N','FOV8__14N','FOV9__14N']"
   ]
  },
  {
   "cell_type": "code",
   "execution_count": 4,
   "metadata": {},
   "outputs": [
    {
     "name": "stdout",
     "output_type": "stream",
     "text": [
      "[['1' '5']\n",
      " ['2' '9']\n",
      " ['3' '8']\n",
      " ['4' '14']\n",
      " ['5' '18']\n",
      " ['6' '10']\n",
      " ['7' '21']\n",
      " ['8' '15']\n",
      " ['9' '15']\n",
      " ['10' '20']\n",
      " ['12' '19']\n",
      " ['13' '11']\n",
      " ['14' '10']]\n"
     ]
    }
   ],
   "source": [
    "patient_ID = np.array(['1','2','3','4','5','6','7','8','9','10','12','13','14'])\n",
    "patient_images = np.array(['5','9','8','14','18','10','21','15','15','20','19','11', '10'])\n",
    "patient_index = np.c_[patient_ID.reshape(len(patient_ID), -1), patient_images.reshape(len(patient_images), -1)]\n",
    "print(patient_index)"
   ]
  },
  {
   "cell_type": "code",
   "execution_count": 5,
   "metadata": {},
   "outputs": [
    {
     "name": "stdout",
     "output_type": "stream",
     "text": [
      "[['13' '11']\n",
      " ['10' '20']\n",
      " ['1' '5']\n",
      " ['9' '15']\n",
      " ['6' '10']\n",
      " ['3' '8']\n",
      " ['2' '9']\n",
      " ['14' '10']\n",
      " ['5' '18']\n",
      " ['8' '15']\n",
      " ['12' '19']\n",
      " ['4' '14']\n",
      " ['7' '21']]\n"
     ]
    }
   ],
   "source": [
    "np.random.shuffle(patient_index)\n",
    "print(patient_index)"
   ]
  },
  {
   "cell_type": "code",
   "execution_count": 6,
   "metadata": {},
   "outputs": [
    {
     "name": "stdout",
     "output_type": "stream",
     "text": [
      "35.0\n"
     ]
    }
   ],
   "source": [
    "test_ratio = 0.2\n",
    "test_images = np.ceil(test_ratio*len(hypercube_key))\n",
    "print(test_images)"
   ]
  },
  {
   "cell_type": "code",
   "execution_count": 7,
   "metadata": {},
   "outputs": [],
   "source": [
    "hypercube_key_sorted = ['FOV2__13L','FOV3__13L','FOV4__13L','FOV5__13L','FOV6__13L','FOV2__13N','FOV3__13N',\n",
    "                        'FOV4__13N','FOV5__13N','FOV6__13N','FOV7__13N', 'FOV2__10L','FOV3__10L','FOV4__10L',\n",
    "                        'FOV5__10L','FOV6__10L','FOV7__10L','FOV8__10L','FOV9__10L','FOV2__10N','FOV3__10N',\n",
    "                        'FOV4__10N','FOV5__10N','FOV6__10N','FOV7__10N','FOV8__10N','FOV9__10N','FOV10__10N',\n",
    "                        'FOV11__10N','FOV12__10N','FOV13__10N','FOV2__1L','FOV3__1L','FOV4__1L','FOV2__1N',\n",
    "                        'FOV3__1N','FOV2__9L','FOV3__9L','FOV4__9L','FOV5__9L','FOV6__9L','FOV7__9L','FOV8__9L',\n",
    "                        'FOV2__9N','FOV3__9N','FOV4__9N','FOV5__9N','FOV6__9N','FOV7__9N','FOV8__9N','FOV9__9N',\n",
    "                        'FOV2__6L','FOV3__6L','FOV4__6L','FOV5__6L','FOV2__6N','FOV3__6N','FOV4__6N','FOV5__6N',\n",
    "                        'FOV6__6N','FOV7__6N', 'FOV2__3L','FOV3__3L','FOV4__3L','FOV2__3N','FOV3__3N','FOV4__3N',\n",
    "                        'FOV5__3N','FOV6__3N','FOV2__2L','FOV3__2L','FOV4a__2L','FOV4b__2L','FOV5__2L','FOV2__2N',\n",
    "                        'FOV3__2N','FOV4__2N','FOV5__2N','FOV4__14L','FOV5__14L','FOV2__14N','FOV3__14N','FOV4__14N',\n",
    "                        'FOV5__14N','FOV6__14N','FOV7__14N','FOV8__14N','FOV9__14N','FOV2__5L','FOV3__5L','FOV4__5L',\n",
    "                        'FOV5__5L','FOV6__5L','FOV7__5L','FOV8__5L','FOV9__5L','FOV10__5L','FOV2__5N','FOV3__5N',\n",
    "                        'FOV4__5N','FOV5__5N','FOV6__5N','FOV7__5N','FOV8__5N','FOV9__5N','FOV10__5N','FOV2__8L',\n",
    "                        'FOV3__8L','FOV4__8L','FOV5__8L','FOV6__8L','FOV7__8L','FOV8__8L','FOV9__8L','FOV10__8L',\n",
    "                        'FOV2__8N','FOV3__8N','FOV4__8N','FOV5__8N','FOV6__8N','FOV7__8N','FOV2__12L','FOV3__12L',\n",
    "                        'FOV4__12L','FOV5__12L','FOV6__12L','FOV7__12L','FOV8__12L','FOV9__12L','FOV10__12L','FOV11__12L',\n",
    "                        'FOV2__12N','FOV3__12N','FOV4__12N','FOV5__12N','FOV6__12N','FOV7__12N','FOV8__12N','FOV9__12N',\n",
    "                        'FOV10__12N','FOV2__4L','FOV3__4L','FOV4__4L','FOV5__4L','FOV6__4L','FOV7__4L','FOV8__4L',\n",
    "                        'FOV9__4L','FOV2__4N','FOV3__4N','FOV4__4N','FOV5__4N','FOV6__4N','FOV7__4N','FOV2__7L','FOV3__7L',\n",
    "                        'FOV4a__7L','FOV4b__7L', 'FOV5__7L','FOV6__7L','FOV7__7L','FOV8__7L','FOV9__7L','FOV10__7L',\n",
    "                        'FOV11__7L','FOV12__7L','FOV13__7L','FOV14__7L','FOV15__7L','FOV2__7N','FOV3__7N','FOV4__7N',\n",
    "                        'FOV5a__7N','FOV5b__7N','FOV6__7N']"
   ]
  },
  {
   "cell_type": "code",
   "execution_count": 8,
   "metadata": {},
   "outputs": [
    {
     "name": "stdout",
     "output_type": "stream",
     "text": [
      "Total Hypercubes:  175\n"
     ]
    }
   ],
   "source": [
    "print('Total Hypercubes: ', len(hypercube_key_sorted))"
   ]
  },
  {
   "cell_type": "code",
   "execution_count": 9,
   "metadata": {},
   "outputs": [
    {
     "name": "stdout",
     "output_type": "stream",
     "text": [
      "['FOV2__13L', 'FOV3__13L', 'FOV4__13L', 'FOV5__13L', 'FOV6__13L', 'FOV2__13N', 'FOV3__13N', 'FOV4__13N', 'FOV5__13N', 'FOV6__13N', 'FOV7__13N', 'FOV2__10L', 'FOV3__10L', 'FOV4__10L', 'FOV5__10L', 'FOV6__10L', 'FOV7__10L', 'FOV8__10L', 'FOV9__10L', 'FOV2__10N', 'FOV3__10N', 'FOV4__10N', 'FOV5__10N', 'FOV6__10N', 'FOV7__10N', 'FOV8__10N', 'FOV9__10N', 'FOV10__10N', 'FOV11__10N', 'FOV12__10N', 'FOV13__10N', 'FOV2__1L', 'FOV3__1L', 'FOV4__1L', 'FOV2__1N', 'FOV3__1N', 'FOV2__9L', 'FOV3__9L', 'FOV4__9L', 'FOV5__9L', 'FOV6__9L', 'FOV7__9L', 'FOV8__9L', 'FOV2__9N', 'FOV3__9N', 'FOV4__9N', 'FOV5__9N', 'FOV6__9N', 'FOV7__9N', 'FOV8__9N', 'FOV9__9N', 'FOV2__6L', 'FOV3__6L', 'FOV4__6L', 'FOV5__6L', 'FOV2__6N', 'FOV3__6N', 'FOV4__6N', 'FOV5__6N', 'FOV6__6N', 'FOV7__6N', 'FOV2__3L', 'FOV3__3L', 'FOV4__3L', 'FOV2__3N', 'FOV3__3N', 'FOV4__3N', 'FOV5__3N', 'FOV6__3N', 'FOV2__2L', 'FOV3__2L', 'FOV4a__2L', 'FOV4b__2L', 'FOV5__2L', 'FOV2__2N', 'FOV3__2N', 'FOV4__2N', 'FOV5__2N', 'FOV4__14L', 'FOV5__14L', 'FOV2__14N', 'FOV3__14N', 'FOV4__14N', 'FOV5__14N', 'FOV6__14N', 'FOV7__14N', 'FOV8__14N', 'FOV9__14N', 'FOV2__5L', 'FOV3__5L', 'FOV4__5L', 'FOV5__5L', 'FOV6__5L', 'FOV7__5L', 'FOV8__5L', 'FOV9__5L', 'FOV10__5L', 'FOV2__5N', 'FOV3__5N', 'FOV4__5N', 'FOV5__5N', 'FOV6__5N', 'FOV7__5N', 'FOV8__5N', 'FOV9__5N', 'FOV10__5N', 'FOV2__8L', 'FOV3__8L', 'FOV4__8L', 'FOV5__8L', 'FOV6__8L', 'FOV7__8L', 'FOV8__8L', 'FOV9__8L', 'FOV10__8L', 'FOV2__8N', 'FOV3__8N', 'FOV4__8N', 'FOV5__8N', 'FOV6__8N', 'FOV7__8N', 'FOV2__12L', 'FOV3__12L', 'FOV4__12L', 'FOV5__12L', 'FOV6__12L', 'FOV7__12L', 'FOV8__12L', 'FOV9__12L', 'FOV10__12L', 'FOV11__12L', 'FOV2__12N', 'FOV3__12N', 'FOV4__12N', 'FOV5__12N', 'FOV6__12N', 'FOV7__12N', 'FOV8__12N', 'FOV9__12N', 'FOV10__12N', 'FOV2__4L', 'FOV3__4L', 'FOV4__4L', 'FOV5__4L', 'FOV6__4L', 'FOV7__4L', 'FOV8__4L', 'FOV9__4L', 'FOV2__4N', 'FOV3__4N', 'FOV4__4N', 'FOV5__4N', 'FOV6__4N', 'FOV7__4N', 'FOV2__7L', 'FOV3__7L', 'FOV4a__7L', 'FOV4b__7L', 'FOV5__7L', 'FOV6__7L', 'FOV7__7L', 'FOV8__7L', 'FOV9__7L', 'FOV10__7L', 'FOV11__7L', 'FOV12__7L', 'FOV13__7L', 'FOV14__7L', 'FOV15__7L', 'FOV2__7N', 'FOV3__7N', 'FOV4__7N', 'FOV5a__7N', 'FOV5b__7N', 'FOV6__7N']\n"
     ]
    }
   ],
   "source": [
    "print(hypercube_key_sorted)"
   ]
  },
  {
   "cell_type": "code",
   "execution_count": 10,
   "metadata": {},
   "outputs": [
    {
     "name": "stdout",
     "output_type": "stream",
     "text": [
      "Total Segmented Images:\t 17500\n"
     ]
    }
   ],
   "source": [
    "print('Total Segmented Images:\\t', len(hypercube_key_sorted)*100)"
   ]
  },
  {
   "cell_type": "code",
   "execution_count": 11,
   "metadata": {},
   "outputs": [
    {
     "data": {
      "text/plain": [
       "['Lesional', 'Nonlesional']"
      ]
     },
     "execution_count": 11,
     "metadata": {},
     "output_type": "execute_result"
    }
   ],
   "source": [
    "bands_root_path = \"Smaller Segmented Hypercubes\"\n",
    "bands_classes = sorted([dirname for dirname in os.listdir(bands_root_path)\n",
    "                  if os.path.isdir(os.path.join(bands_root_path, dirname))])\n",
    "bands_classes"
   ]
  },
  {
   "cell_type": "code",
   "execution_count": 12,
   "metadata": {},
   "outputs": [],
   "source": [
    "image_paths = defaultdict(list)\n",
    "\n",
    "for bands_class in bands_classes:\n",
    "    image_dir = os.path.join(bands_root_path, bands_class)\n",
    "    for filepath in os.listdir(image_dir):\n",
    "        if filepath.endswith(\".tif\"):\n",
    "            image_paths[bands_class].append(os.path.join(image_dir, filepath))"
   ]
  },
  {
   "cell_type": "code",
   "execution_count": 13,
   "metadata": {},
   "outputs": [],
   "source": [
    "for paths in image_paths.values():\n",
    "    paths.sort()"
   ]
  },
  {
   "cell_type": "code",
   "execution_count": 14,
   "metadata": {},
   "outputs": [
    {
     "data": {
      "text/plain": [
       "{'Lesional': 0, 'Nonlesional': 1}"
      ]
     },
     "execution_count": 14,
     "metadata": {},
     "output_type": "execute_result"
    }
   ],
   "source": [
    "bands_class_ids = {bands_class: index for index, bands_class in enumerate(bands_classes)}\n",
    "bands_class_ids"
   ]
  },
  {
   "cell_type": "code",
   "execution_count": 15,
   "metadata": {},
   "outputs": [],
   "source": [
    "bands_paths_and_classes_sorted = []\n",
    "for hypercube in hypercube_key_sorted:\n",
    "    for bands_class, paths in image_paths.items():\n",
    "        for path in paths:\n",
    "            if hypercube in path:\n",
    "                bands_paths_and_classes_sorted.append((path, bands_class_ids[bands_class]))"
   ]
  },
  {
   "cell_type": "code",
   "execution_count": 16,
   "metadata": {},
   "outputs": [
    {
     "data": {
      "text/plain": [
       "('Smaller Segmented Hypercubes\\\\Lesional\\\\Lesional_50_10_10_FOV2__13L__multi_out.tif',\n",
       " 0)"
      ]
     },
     "execution_count": 16,
     "metadata": {},
     "output_type": "execute_result"
    }
   ],
   "source": [
    "bands_paths_and_classes_sorted[0]"
   ]
  },
  {
   "cell_type": "code",
   "execution_count": 17,
   "metadata": {},
   "outputs": [
    {
     "data": {
      "text/plain": [
       "('Smaller Segmented Hypercubes\\\\Lesional\\\\Lesional_50_10_1_FOV2__13L__multi_out.tif',\n",
       " 0)"
      ]
     },
     "execution_count": 17,
     "metadata": {},
     "output_type": "execute_result"
    }
   ],
   "source": [
    "bands_paths_and_classes_sorted[1]"
   ]
  },
  {
   "cell_type": "code",
   "execution_count": 18,
   "metadata": {},
   "outputs": [],
   "source": [
    "fileName = 'Small_Segmented_Hypercubes_imageminmax_rseed42.hdf5'\n",
    "SSHSamples = len(hypercube_key_sorted)*100\n",
    "with h5py.File(fileName, \"w\") as hdf5_file:\n",
    "    hdf5_file.create_dataset(\"X_SSH\",(SSHSamples,95000),np.float32)\n",
    "    hdf5_file.create_dataset(\"y_SSH\",(SSHSamples,),np.int16)        "
   ]
  },
  {
   "cell_type": "code",
   "execution_count": 19,
   "metadata": {},
   "outputs": [
    {
     "name": "stdout",
     "output_type": "stream",
     "text": [
      "Start Time:  2019-03-14 21:23:00.471239 \n",
      "\n"
     ]
    },
    {
     "name": "stderr",
     "output_type": "stream",
     "text": [
      "C:\\Users\\005375049\\AppData\\Roaming\\Python\\Python35\\site-packages\\imageio\\plugins\\_tifffile.py:7285: UserWarning: module 'imageio.plugins._tifffile' has no attribute 'decode_packbits'\n",
      "  Functionality might be degraded or be slow.\n",
      "\n",
      "  warnings.warn(\"%s%s\" % (e, warn))\n",
      "C:\\Users\\005375049\\AppData\\Roaming\\Python\\Python35\\site-packages\\imageio\\plugins\\_tifffile.py:7285: UserWarning: module 'imageio.plugins._tifffile' has no attribute 'decode_lzw'\n",
      "  Functionality might be degraded or be slow.\n",
      "\n",
      "  warnings.warn(\"%s%s\" % (e, warn))\n",
      "C:\\Users\\005375049\\AppData\\Roaming\\Python\\Python35\\site-packages\\imageio\\plugins\\_tifffile.py:7285: UserWarning: module 'imageio.plugins._tifffile' has no attribute 'unpack_ints'\n",
      "  Functionality might be degraded or be slow.\n",
      "\n",
      "  warnings.warn(\"%s%s\" % (e, warn))\n",
      "C:\\Users\\005375049\\AppData\\Roaming\\Python\\Python35\\site-packages\\imageio\\plugins\\_tifffile.py:7285: UserWarning: module 'imageio.plugins._tifffile' has no attribute 'reverse_bitorder'\n",
      "  Functionality might be degraded or be slow.\n",
      "\n",
      "  warnings.warn(\"%s%s\" % (e, warn))\n"
     ]
    },
    {
     "name": "stdout",
     "output_type": "stream",
     "text": [
      "SSH data: 100/17500\n",
      "SSH data: 200/17500\n",
      "SSH data: 300/17500\n",
      "SSH data: 400/17500\n",
      "SSH data: 500/17500\n",
      "SSH data: 600/17500\n",
      "SSH data: 700/17500\n",
      "SSH data: 800/17500\n",
      "SSH data: 900/17500\n",
      "SSH data: 1000/17500\n",
      "SSH data: 1100/17500\n",
      "SSH data: 1200/17500\n",
      "SSH data: 1300/17500\n",
      "SSH data: 1400/17500\n",
      "SSH data: 1500/17500\n",
      "SSH data: 1600/17500\n",
      "SSH data: 1700/17500\n",
      "SSH data: 1800/17500\n",
      "SSH data: 1900/17500\n",
      "SSH data: 2000/17500\n",
      "SSH data: 2100/17500\n",
      "SSH data: 2200/17500\n",
      "SSH data: 2300/17500\n",
      "SSH data: 2400/17500\n",
      "SSH data: 2500/17500\n",
      "SSH data: 2600/17500\n",
      "SSH data: 2700/17500\n",
      "SSH data: 2800/17500\n",
      "SSH data: 2900/17500\n",
      "SSH data: 3000/17500\n",
      "SSH data: 3100/17500\n",
      "SSH data: 3200/17500\n",
      "SSH data: 3300/17500\n",
      "SSH data: 3400/17500\n",
      "SSH data: 3500/17500\n",
      "SSH data: 3600/17500\n",
      "SSH data: 3700/17500\n",
      "SSH data: 3800/17500\n",
      "SSH data: 3900/17500\n",
      "SSH data: 4000/17500\n",
      "SSH data: 4100/17500\n",
      "SSH data: 4200/17500\n",
      "SSH data: 4300/17500\n",
      "SSH data: 4400/17500\n",
      "SSH data: 4500/17500\n",
      "SSH data: 4600/17500\n",
      "SSH data: 4700/17500\n",
      "SSH data: 4800/17500\n",
      "SSH data: 4900/17500\n",
      "SSH data: 5000/17500\n",
      "SSH data: 5100/17500\n",
      "SSH data: 5200/17500\n",
      "SSH data: 5300/17500\n",
      "SSH data: 5400/17500\n",
      "SSH data: 5500/17500\n",
      "SSH data: 5600/17500\n",
      "SSH data: 5700/17500\n",
      "SSH data: 5800/17500\n",
      "SSH data: 5900/17500\n",
      "SSH data: 6000/17500\n",
      "SSH data: 6100/17500\n",
      "SSH data: 6200/17500\n",
      "SSH data: 6300/17500\n",
      "SSH data: 6400/17500\n",
      "SSH data: 6500/17500\n",
      "SSH data: 6600/17500\n",
      "SSH data: 6700/17500\n",
      "SSH data: 6800/17500\n",
      "SSH data: 6900/17500\n",
      "SSH data: 7000/17500\n",
      "SSH data: 7100/17500\n",
      "SSH data: 7200/17500\n",
      "SSH data: 7300/17500\n",
      "SSH data: 7400/17500\n",
      "SSH data: 7500/17500\n",
      "SSH data: 7600/17500\n",
      "SSH data: 7700/17500\n",
      "SSH data: 7800/17500\n",
      "SSH data: 7900/17500\n",
      "SSH data: 8000/17500\n",
      "SSH data: 8100/17500\n",
      "SSH data: 8200/17500\n",
      "SSH data: 8300/17500\n",
      "SSH data: 8400/17500\n",
      "SSH data: 8500/17500\n",
      "SSH data: 8600/17500\n",
      "SSH data: 8700/17500\n",
      "SSH data: 8800/17500\n",
      "SSH data: 8900/17500\n",
      "SSH data: 9000/17500\n",
      "SSH data: 9100/17500\n",
      "SSH data: 9200/17500\n",
      "SSH data: 9300/17500\n",
      "SSH data: 9400/17500\n",
      "SSH data: 9500/17500\n",
      "SSH data: 9600/17500\n",
      "SSH data: 9700/17500\n",
      "SSH data: 9800/17500\n",
      "SSH data: 9900/17500\n",
      "SSH data: 10000/17500\n",
      "SSH data: 10100/17500\n",
      "SSH data: 10200/17500\n",
      "SSH data: 10300/17500\n",
      "SSH data: 10400/17500\n",
      "SSH data: 10500/17500\n",
      "SSH data: 10600/17500\n",
      "SSH data: 10700/17500\n",
      "SSH data: 10800/17500\n",
      "SSH data: 10900/17500\n",
      "SSH data: 11000/17500\n",
      "SSH data: 11100/17500\n",
      "SSH data: 11200/17500\n",
      "SSH data: 11300/17500\n",
      "SSH data: 11400/17500\n",
      "SSH data: 11500/17500\n",
      "SSH data: 11600/17500\n",
      "SSH data: 11700/17500\n",
      "SSH data: 11800/17500\n",
      "SSH data: 11900/17500\n",
      "SSH data: 12000/17500\n",
      "SSH data: 12100/17500\n",
      "SSH data: 12200/17500\n",
      "SSH data: 12300/17500\n",
      "SSH data: 12400/17500\n",
      "SSH data: 12500/17500\n",
      "SSH data: 12600/17500\n",
      "SSH data: 12700/17500\n",
      "SSH data: 12800/17500\n",
      "SSH data: 12900/17500\n",
      "SSH data: 13000/17500\n",
      "SSH data: 13100/17500\n",
      "SSH data: 13200/17500\n",
      "SSH data: 13300/17500\n",
      "SSH data: 13400/17500\n",
      "SSH data: 13500/17500\n",
      "SSH data: 13600/17500\n",
      "SSH data: 13700/17500\n",
      "SSH data: 13800/17500\n",
      "SSH data: 13900/17500\n",
      "SSH data: 14000/17500\n",
      "SSH data: 14100/17500\n",
      "SSH data: 14200/17500\n",
      "SSH data: 14300/17500\n",
      "SSH data: 14400/17500\n",
      "SSH data: 14500/17500\n",
      "SSH data: 14600/17500\n",
      "SSH data: 14700/17500\n",
      "SSH data: 14800/17500\n",
      "SSH data: 14900/17500\n",
      "SSH data: 15000/17500\n",
      "SSH data: 15100/17500\n",
      "SSH data: 15200/17500\n",
      "SSH data: 15300/17500\n",
      "SSH data: 15400/17500\n",
      "SSH data: 15500/17500\n",
      "SSH data: 15600/17500\n",
      "SSH data: 15700/17500\n",
      "SSH data: 15800/17500\n",
      "SSH data: 15900/17500\n",
      "SSH data: 16000/17500\n",
      "SSH data: 16100/17500\n",
      "SSH data: 16200/17500\n",
      "SSH data: 16300/17500\n",
      "SSH data: 16400/17500\n",
      "SSH data: 16500/17500\n",
      "SSH data: 16600/17500\n",
      "SSH data: 16700/17500\n",
      "SSH data: 16800/17500\n",
      "SSH data: 16900/17500\n",
      "SSH data: 17000/17500\n",
      "SSH data: 17100/17500\n",
      "SSH data: 17200/17500\n",
      "SSH data: 17300/17500\n",
      "SSH data: 17400/17500\n",
      "\n",
      "Compiling Complete: 2019-03-14 21:39:56.288335 \n",
      " Total time taken: 0  hours,  16  minutes, and  55  seconds.\n",
      "\n"
     ]
    }
   ],
   "source": [
    "i=0\n",
    "compiling_start_time = datetime.datetime.now()\n",
    "print(\"Start Time: \", compiling_start_time, \"\\n\")\n",
    "with h5py.File(fileName, \"a\") as hdf5_file:\n",
    "    for path, label in bands_paths_and_classes_sorted:\n",
    "        img = imageio.volread(path)\n",
    "        hypimage = np.asarray(img)\n",
    "        hypimage = (hypimage-np.min(hypimage))/(np.max(hypimage)-np.min(hypimage))\n",
    "        hypimage = hypimage.flatten()\n",
    "        img_label = label\n",
    "        hdf5_file[\"X_SSH\"][i] = np.asarray(hypimage)\n",
    "        hdf5_file[\"y_SSH\"][i] = np.asarray(img_label)\n",
    "        if i % 100 == 0 and i > 1:\n",
    "            print('SSH data: {}/{}'.format(i, len(bands_paths_and_classes_sorted)))\n",
    "        i=i+1\n",
    "compiling_end_time = datetime.datetime.now()\n",
    "compiling_duration = compiling_end_time-compiling_start_time\n",
    "compiling_hours, compiling_remainder = divmod(compiling_duration.seconds, 3600)\n",
    "compiling_minutes, compiling_seconds = divmod(compiling_remainder,60)\n",
    "print('\\nCompiling Complete:', compiling_end_time, '\\n Total time taken:', compiling_hours,\" hours, \", compiling_minutes,\n",
    "      \" minutes, and \", compiling_seconds, \" seconds.\\n\")"
   ]
  },
  {
   "cell_type": "code",
   "execution_count": 20,
   "metadata": {},
   "outputs": [],
   "source": [
    "hdf5_file.close()"
   ]
  },
  {
   "cell_type": "code",
   "execution_count": null,
   "metadata": {},
   "outputs": [],
   "source": []
  }
 ],
 "metadata": {
  "kernelspec": {
   "display_name": "Python 3",
   "language": "python",
   "name": "python3"
  },
  "language_info": {
   "codemirror_mode": {
    "name": "ipython",
    "version": 3
   },
   "file_extension": ".py",
   "mimetype": "text/x-python",
   "name": "python",
   "nbconvert_exporter": "python",
   "pygments_lexer": "ipython3",
   "version": "3.5.0"
  }
 },
 "nbformat": 4,
 "nbformat_minor": 2
}
